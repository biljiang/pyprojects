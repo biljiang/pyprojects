{
 "cells": [
  {
   "cell_type": "code",
   "execution_count": 3,
   "metadata": {},
   "outputs": [
    {
     "name": "stdout",
     "output_type": "stream",
     "text": [
      "[PRODUCER] Producing 1...\n",
      "[CONSUMER] Consuming 1...\n",
      "[PRODUCER] Consumer return: 200 OK\n",
      "[PRODUCER] Producing 2...\n",
      "[CONSUMER] Consuming 2...\n",
      "[PRODUCER] Consumer return: 200 OK\n",
      "[PRODUCER] Producing 3...\n",
      "[CONSUMER] Consuming 3...\n",
      "[PRODUCER] Consumer return: 200 OK\n",
      "[PRODUCER] Producing 4...\n",
      "[CONSUMER] Consuming 4...\n",
      "[PRODUCER] Consumer return: 200 OK\n",
      "[PRODUCER] Producing 5...\n",
      "[CONSUMER] Consuming 5...\n",
      "[PRODUCER] Consumer return: 200 OK\n"
     ]
    }
   ],
   "source": [
    "### 协程实例\n",
    "\n",
    "def consumer():\n",
    "    r = ''\n",
    "    while True:\n",
    "        n = yield r\n",
    "        if not n:   # return nothing when first start the generator\n",
    "            return\n",
    "        print('[CONSUMER] Consuming %s...' % n)\n",
    "        r = '200 OK'\n",
    "\n",
    "def produce(c):\n",
    "    c.send(None)  # 必须有这一步用于产生generator\n",
    "    n = 0\n",
    "    while n < 5:\n",
    "        n = n + 1\n",
    "        print('[PRODUCER] Producing %s...' % n)\n",
    "        r = c.send(n)\n",
    "        print('[PRODUCER] Consumer return: %s' % r)\n",
    "    c.close()\n",
    "\n",
    "c = consumer()\n",
    "produce(c)"
   ]
  },
  {
   "cell_type": "code",
   "execution_count": 4,
   "metadata": {},
   "outputs": [
    {
     "name": "stdout",
     "output_type": "stream",
     "text": [
      "子进程 10462 ['+++', 1, 2, 3]\n",
      "主进程 10407 ['+++', 'a', 'b', 'c']\n"
     ]
    }
   ],
   "source": [
    "### interprocess experiments 1 子进程不能改变主进程中全局变量的值\n",
    "\n",
    "import multiprocessing\n",
    "import time\n",
    "import os\n",
    " \n",
    "datalist=['+++'] #全局变量，主进程与子进程是并发执行的，他们不能共享全局变量(子进程不能改变主进程中全局变量的值)\n",
    " \n",
    "def adddata():\n",
    "    global datalist\n",
    "    datalist.append(1)\n",
    "    datalist.append(2)\n",
    "    datalist.append(3)\n",
    "    print(\"子进程\",os.getpid(),datalist)\n",
    " \n",
    " \n",
    "if __name__==\"__main__\":\n",
    " \n",
    "    p=multiprocessing.Process(target=adddata,args=())\n",
    "    p.start()\n",
    "    p.join()\n",
    "    datalist.append(\"a\")\n",
    "    datalist.append(\"b\")\n",
    "    datalist.append(\"c\")\n",
    "    print(\"主进程\",os.getpid(),datalist)\n"
   ]
  },
  {
   "cell_type": "code",
   "execution_count": 2,
   "metadata": {},
   "outputs": [
    {
     "name": "stdout",
     "output_type": "stream",
     "text": [
      "10.0\n",
      "10.78\n"
     ]
    }
   ],
   "source": [
    "### 子进程修改全局变量数值\n",
    "import multiprocessing\n",
    " \n",
    "def  func(num):\n",
    "    num.value=10.78  #子进程改变数值的值，主进程跟着改变\n",
    " \n",
    "if  __name__==\"__main__\":\n",
    "    num=multiprocessing.Value(\"d\",10.0) # d表示数值,主进程与子进程共享这个value。（主进程与子进程都是用的同一个value）\n",
    "    print(num.value)\n",
    " \n",
    "    p=multiprocessing.Process(target=func,args=(num,))\n",
    "    p.start()\n",
    "    p.join()\n",
    " \n",
    "    print(num.value)\n"
   ]
  },
  {
   "cell_type": "code",
   "execution_count": 10,
   "metadata": {},
   "outputs": [
    {
     "name": "stdout",
     "output_type": "stream",
     "text": [
      "[1, 2, 3, 4, 5, 6]\n",
      "[1, 2, 3, 4, 5, 9999]\n"
     ]
    }
   ],
   "source": [
    "### 子进程修改全局变量   数组\n",
    "import multiprocessing\n",
    " \n",
    "def  func(num):\n",
    "    num[5]=9999   #子进程改变数组，主进程跟着改变\n",
    " \n",
    "if  __name__==\"__main__\":\n",
    "    num=multiprocessing.Array(\"i\",[1,2,3,4,5,6])   #主进程与子进程共享这个数组\n",
    "    print(num[:])\n",
    " \n",
    "    p=multiprocessing.Process(target=func,args=(num,))\n",
    "    p.start() \n",
    "    p.join()\n",
    " \n",
    "    print(num[:])\n"
   ]
  },
  {
   "cell_type": "code",
   "execution_count": 1,
   "metadata": {},
   "outputs": [
    {
     "name": "stdout",
     "output_type": "stream",
     "text": [
      "[]\n",
      "{}\n",
      "[11, 22, 33]\n",
      "{'index1': 'aaaaaa'}\n"
     ]
    }
   ],
   "source": [
    "### 子进程修改全局变量   list and dict\n",
    "\n",
    "import multiprocessing\n",
    " \n",
    "def func(mydict,mylist):\n",
    "    mydict[\"index1\"]=\"aaaaaa\"   #子进程改变dict,主进程跟着改变\n",
    "    J={\"idx1\":3,\"idx2\":\"bbbb\"} # not available\n",
    "    mylist.append(11)        #子进程改变List,主进程跟着改变\n",
    "    mylist.append(22)\n",
    "    mylist.append(33)\n",
    "    \n",
    "if __name__==\"__main__\":\n",
    "#    with multiprocessing.Manager() as MG:   #重命名\n",
    "        MG=multiprocessing.Manager()\n",
    "        mydict=MG.dict()   #主进程与子进程共享这个字典\n",
    "        mylist=MG.list()   #主进程与子进程共享这个List\n",
    "\n",
    "        print(mylist)\n",
    "        print(mydict)\n",
    "        p=multiprocessing.Process(target=func,args=(mydict,mylist))\n",
    "        p.start()\n",
    "        p.join()\n",
    " \n",
    "        print(mylist)\n",
    "        print(mydict)\n"
   ]
  },
  {
   "cell_type": "code",
   "execution_count": 1,
   "metadata": {},
   "outputs": [],
   "source": [
    "import socket"
   ]
  },
  {
   "cell_type": "code",
   "execution_count": 7,
   "metadata": {},
   "outputs": [
    {
     "data": {
      "text/plain": [
       "['aaaaaa']"
      ]
     },
     "execution_count": 7,
     "metadata": {},
     "output_type": "execute_result"
    }
   ],
   "source": [
    "mydict.values()"
   ]
  },
  {
   "cell_type": "code",
   "execution_count": 5,
   "metadata": {},
   "outputs": [],
   "source": [
    "import multiprocessing\n",
    "mg = multiprocessing.Manager().dict()"
   ]
  },
  {
   "cell_type": "code",
   "execution_count": 12,
   "metadata": {},
   "outputs": [],
   "source": [
    "J=mydict.copy()"
   ]
  },
  {
   "cell_type": "code",
   "execution_count": 31,
   "metadata": {},
   "outputs": [
    {
     "name": "stdout",
     "output_type": "stream",
     "text": [
      "['aaaaaa']\n"
     ]
    }
   ],
   "source": [
    "print(mydict.values())"
   ]
  },
  {
   "cell_type": "code",
   "execution_count": 3,
   "metadata": {},
   "outputs": [
    {
     "data": {
      "text/plain": [
       "10.78"
      ]
     },
     "execution_count": 3,
     "metadata": {},
     "output_type": "execute_result"
    }
   ],
   "source": [
    "num.value"
   ]
  },
  {
   "cell_type": "code",
   "execution_count": 20,
   "metadata": {},
   "outputs": [
    {
     "data": {
      "text/plain": [
       "dict_values(['aaaaaa'])"
      ]
     },
     "execution_count": 20,
     "metadata": {},
     "output_type": "execute_result"
    }
   ],
   "source": [
    "J.values()"
   ]
  },
  {
   "cell_type": "code",
   "execution_count": 8,
   "metadata": {},
   "outputs": [],
   "source": [
    "J={\"a\":1,\"b\":2}"
   ]
  },
  {
   "cell_type": "code",
   "execution_count": 9,
   "metadata": {},
   "outputs": [],
   "source": [
    "J1=dict()"
   ]
  },
  {
   "cell_type": "code",
   "execution_count": 14,
   "metadata": {},
   "outputs": [],
   "source": [
    "for s in J:\n",
    "    J1[s]=J[s]"
   ]
  },
  {
   "cell_type": "code",
   "execution_count": 15,
   "metadata": {},
   "outputs": [
    {
     "data": {
      "text/plain": [
       "{'a': 1, 'b': 2}"
      ]
     },
     "execution_count": 15,
     "metadata": {},
     "output_type": "execute_result"
    }
   ],
   "source": [
    "J1"
   ]
  },
  {
   "cell_type": "code",
   "execution_count": 17,
   "metadata": {},
   "outputs": [
    {
     "name": "stdout",
     "output_type": "stream",
     "text": [
      "{2725: 2725}\n",
      "{2725: 2725, 2728: 2728}\n",
      "{2725: 2725, 2728: 2728, 2733: 2733}\n",
      "{2725: 2725, 2728: 2728, 2733: 2733, 2741: 2741}\n",
      "{2725: 2725, 2728: 2728, 2733: 2733, 2741: 2741, 2754: 2754}\n",
      "{2725: 2725, 2728: 2728, 2733: 2733, 2741: 2741, 2754: 2754, 2751: 2751, 2748: 2748}\n",
      "{2725: 2725, 2728: 2728, 2733: 2733, 2741: 2741, 2754: 2754, 2751: 2751, 2748: 2748}\n",
      "{2725: 2725, 2728: 2728, 2733: 2733, 2741: 2741, 2754: 2754, 2751: 2751, 2748: 2748, 2757: 2757}\n",
      "{2725: 2725, 2728: 2728, 2733: 2733, 2741: 2741, 2754: 2754, 2751: 2751, 2748: 2748, 2757: 2757, 2769: 2769}\n",
      "{2725: 2725, 2728: 2728, 2733: 2733, 2741: 2741, 2754: 2754, 2751: 2751, 2748: 2748, 2757: 2757, 2769: 2769, 2781: 2781}\n",
      "{2725: 2725, 2728: 2728, 2733: 2733, 2741: 2741, 2754: 2754, 2751: 2751, 2748: 2748, 2757: 2757, 2769: 2769, 2781: 2781}\n",
      "[0, 1, 2, 3, 4, 2725, 2728, 2733, 2741, 2754, 2751, 2748, 2757, 2769, 2781]\n"
     ]
    }
   ],
   "source": [
    "from multiprocessing import Process, Manager\n",
    "import os\n",
    " \n",
    " \n",
    "def f(d, l):\n",
    "    d[os.getpid()] = os.getpid()\n",
    "    l.append(os.getpid())\n",
    "    print(d)\n",
    " \n",
    "if __name__ == '__main__':\n",
    "    with Manager() as manager:\n",
    "        d = manager.dict()   # 声明一个字典，这个字典是用manger声明的，不是用dict()声明的\n",
    "        # manger.dict()是用专门的语法生产一个可在多进程之间进行传递和共享的一个字典\n",
    "        l = manager.list(range(5))  # 同样声明一个列表\n",
    "        p_list = []\n",
    "        for i in range(10):\n",
    "            p = Process(target=f, args=(d, l))\n",
    "            p.start()\n",
    "            p_list.append(p)\n",
    "        for res in p_list:\n",
    "            res.join()\n",
    "        print(d)\n",
    "        print(l)"
   ]
  },
  {
   "cell_type": "code",
   "execution_count": null,
   "metadata": {},
   "outputs": [],
   "source": []
  }
 ],
 "metadata": {
  "kernelspec": {
   "display_name": "Python 3",
   "language": "python",
   "name": "python3"
  },
  "language_info": {
   "codemirror_mode": {
    "name": "ipython",
    "version": 3
   },
   "file_extension": ".py",
   "mimetype": "text/x-python",
   "name": "python",
   "nbconvert_exporter": "python",
   "pygments_lexer": "ipython3",
   "version": "3.6.5"
  }
 },
 "nbformat": 4,
 "nbformat_minor": 2
}
