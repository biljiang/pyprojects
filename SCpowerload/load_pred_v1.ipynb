{
 "cells": [
  {
   "cell_type": "code",
   "execution_count": 1,
   "metadata": {},
   "outputs": [
    {
     "name": "stderr",
     "output_type": "stream",
     "text": [
      "/home/techstar/anaconda3/lib/python3.6/site-packages/h5py/__init__.py:36: FutureWarning: Conversion of the second argument of issubdtype from `float` to `np.floating` is deprecated. In future, it will be treated as `np.float64 == np.dtype(float).type`.\n",
      "  from ._conv import register_converters as _register_converters\n",
      "Using TensorFlow backend.\n"
     ]
    }
   ],
   "source": [
    "from datetime import datetime,date,time\n",
    "import pandas as pd\n",
    "import numpy as np\n",
    "import keras\n",
    "from keras.models import Sequential\n",
    "from keras.layers import Dense, Activation\n",
    "from keras.layers import LSTM\n",
    "from keras.optimizers import RMSprop\n",
    "from sklearn.model_selection import train_test_split"
   ]
  },
  {
   "cell_type": "code",
   "execution_count": 2,
   "metadata": {},
   "outputs": [],
   "source": [
    "df = pd.read_csv(\"四川台区日负荷.csv\")\n",
    "df.序列 = df.序列.apply(lambda x: datetime.strptime(x,\"%Y-%m-%d %H:%M:%S\"))\n",
    "df=df.set_index(\"序列\")"
   ]
  },
  {
   "cell_type": "code",
   "execution_count": 3,
   "metadata": {},
   "outputs": [],
   "source": [
    "TIMESTEPS = 672\n"
   ]
  },
  {
   "cell_type": "code",
   "execution_count": 4,
   "metadata": {},
   "outputs": [],
   "source": [
    "#df[\"date\"]=df.序列.apply(lambda x: x.date())"
   ]
  },
  {
   "cell_type": "code",
   "execution_count": 5,
   "metadata": {},
   "outputs": [],
   "source": [
    "#df[\"time\"]=df.序列.apply(lambda x: x.time())"
   ]
  },
  {
   "cell_type": "code",
   "execution_count": 6,
   "metadata": {},
   "outputs": [],
   "source": [
    "#df_reshaped=df.pivot(\"date\",\"time\",\"值\")\n",
    "#df_reshaped = df_reshaped.dropna()"
   ]
  },
  {
   "cell_type": "code",
   "execution_count": 7,
   "metadata": {},
   "outputs": [],
   "source": [
    "tr=df[df.index<datetime(2017,12,15)]\n",
    "te=df[df.index>=datetime(2017,12,15)]"
   ]
  },
  {
   "cell_type": "code",
   "execution_count": 62,
   "metadata": {},
   "outputs": [],
   "source": [
    "Max= df.max()\n",
    "Min= df.min()"
   ]
  },
  {
   "cell_type": "code",
   "execution_count": 18,
   "metadata": {},
   "outputs": [],
   "source": [
    "train = (df-Min)/(Max-Min); test = (df-Min)/(Max-Min)"
   ]
  },
  {
   "cell_type": "code",
   "execution_count": 19,
   "metadata": {},
   "outputs": [],
   "source": [
    "TIMESTEPS = 96\n",
    "STEP =1\n",
    "\n",
    "serieses=[]\n",
    "nextday=[]\n",
    "\n",
    "for i in range(0,len(train)-TIMESTEPS,STEP):\n",
    "    serieses.append(np.array(train.iloc[i: i + TIMESTEPS]))\n",
    "    nextday.append(np.array(train.iloc[i + TIMESTEPS])) "
   ]
  },
  {
   "cell_type": "code",
   "execution_count": 43,
   "metadata": {},
   "outputs": [],
   "source": [
    "X_train=np.array(serieses[:-1440]);Y_train=np.array(nextday[:-1440])\n",
    "X_test=np.array(serieses[-1440:]);Y_test=np.array(nextday[-1440:])"
   ]
  },
  {
   "cell_type": "code",
   "execution_count": 13,
   "metadata": {},
   "outputs": [
    {
     "name": "stderr",
     "output_type": "stream",
     "text": [
      "/home/techstar/anaconda3/lib/python3.6/site-packages/ipykernel_launcher.py:2: UserWarning: Update your `LSTM` call to the Keras 2 API: `LSTM(96, input_shape=(96, 1), kernel_initializer=\"normal\")`\n",
      "  \n",
      "/home/techstar/anaconda3/lib/python3.6/site-packages/ipykernel_launcher.py:3: UserWarning: Update your `Dense` call to the Keras 2 API: `Dense(1, kernel_initializer=\"normal\")`\n",
      "  This is separate from the ipykernel package so we can avoid doing imports until\n"
     ]
    }
   ],
   "source": [
    "model = Sequential()\n",
    "model.add(LSTM(96, input_shape=(TIMESTEPS,1), init=\"normal\"))\n",
    "model.add(Dense(1,init=\"normal\"))\n"
   ]
  },
  {
   "cell_type": "code",
   "execution_count": 39,
   "metadata": {},
   "outputs": [],
   "source": [
    "#model.compile(loss='mae', optimizer='adam')"
   ]
  },
  {
   "cell_type": "code",
   "execution_count": 14,
   "metadata": {},
   "outputs": [],
   "source": [
    "model.compile(loss='mean_squared_error', \n",
    "              optimizer=keras.optimizers.SGD(lr=0.1))"
   ]
  },
  {
   "cell_type": "code",
   "execution_count": 23,
   "metadata": {},
   "outputs": [
    {
     "name": "stdout",
     "output_type": "stream",
     "text": [
      "Train on 10291 samples, validate on 2573 samples\n",
      "Epoch 1/10\n",
      " - 14s - loss: 0.0010 - val_loss: 0.0016\n",
      "Epoch 2/10\n",
      " - 14s - loss: 0.0010 - val_loss: 0.0016\n",
      "Epoch 3/10\n",
      " - 14s - loss: 0.0010 - val_loss: 0.0016\n",
      "Epoch 4/10\n",
      " - 14s - loss: 0.0010 - val_loss: 0.0016\n",
      "Epoch 5/10\n",
      " - 14s - loss: 0.0010 - val_loss: 0.0016\n",
      "Epoch 6/10\n",
      " - 14s - loss: 0.0010 - val_loss: 0.0016\n",
      "Epoch 7/10\n",
      " - 14s - loss: 0.0010 - val_loss: 0.0016\n",
      "Epoch 8/10\n",
      " - 14s - loss: 0.0010 - val_loss: 0.0016\n",
      "Epoch 9/10\n",
      " - 14s - loss: 0.0010 - val_loss: 0.0016\n",
      "Epoch 10/10\n",
      " - 14s - loss: 0.0010 - val_loss: 0.0016\n"
     ]
    },
    {
     "data": {
      "text/plain": [
       "<keras.callbacks.History at 0x7fe40e21d2e8>"
      ]
     },
     "execution_count": 23,
     "metadata": {},
     "output_type": "execute_result"
    }
   ],
   "source": [
    "model.fit(X_train, Y_train, epochs=10,batch_size=50, shuffle=False,verbose=2,validation_split=0.2)"
   ]
  },
  {
   "cell_type": "code",
   "execution_count": 24,
   "metadata": {},
   "outputs": [],
   "source": [
    "model.save(\"model_1.h5\")"
   ]
  },
  {
   "cell_type": "code",
   "execution_count": 15,
   "metadata": {},
   "outputs": [],
   "source": [
    "from keras.models import load_model\n",
    "model = load_model('model_1.h5')"
   ]
  },
  {
   "cell_type": "code",
   "execution_count": 46,
   "metadata": {},
   "outputs": [],
   "source": [
    "y=model.predict(X_test)"
   ]
  },
  {
   "cell_type": "code",
   "execution_count": 33,
   "metadata": {},
   "outputs": [],
   "source": [
    "import matplotlib.pyplot as plt"
   ]
  },
  {
   "cell_type": "code",
   "execution_count": 28,
   "metadata": {},
   "outputs": [],
   "source": [
    "import pylab\n",
    "pylab.rcParams['figure.figsize'] = (12.0, 4.0)"
   ]
  },
  {
   "cell_type": "code",
   "execution_count": 103,
   "metadata": {},
   "outputs": [
    {
     "data": {
      "text/plain": [
       "<matplotlib.axes._subplots.AxesSubplot at 0x7fe36d4d10b8>"
      ]
     },
     "execution_count": 103,
     "metadata": {},
     "output_type": "execute_result"
    },
    {
     "data": {
      "image/png": "[encoded data removed]",
      "text/plain": [
       "<Figure size 864x288 with 1 Axes>"
      ]
     },
     "metadata": {},
     "output_type": "display_data"
    }
   ],
   "source": [
    "result[:50].plot(alpha =0.5,figsize = (12,4))"
   ]
  },
  {
   "cell_type": "code",
   "execution_count": 97,
   "metadata": {},
   "outputs": [],
   "source": [
    "a=y.reshape(1440)"
   ]
  },
  {
   "cell_type": "code",
   "execution_count": 96,
   "metadata": {},
   "outputs": [],
   "source": [
    "result=df.iloc[-1440:]"
   ]
  },
  {
   "cell_type": "code",
   "execution_count": 100,
   "metadata": {},
   "outputs": [
    {
     "name": "stderr",
     "output_type": "stream",
     "text": [
      "/home/techstar/anaconda3/lib/python3.6/site-packages/ipykernel_launcher.py:1: SettingWithCopyWarning: \n",
      "A value is trying to be set on a copy of a slice from a DataFrame.\n",
      "Try using .loc[row_indexer,col_indexer] = value instead\n",
      "\n",
      "See the caveats in the documentation: http://pandas.pydata.org/pandas-docs/stable/indexing.html#indexing-view-versus-copy\n",
      "  \"\"\"Entry point for launching an IPython kernel.\n"
     ]
    }
   ],
   "source": [
    "result[\"pred\"]=a*(Max-Min).values+Min.values"
   ]
  },
  {
   "cell_type": "code",
   "execution_count": 82,
   "metadata": {},
   "outputs": [
    {
     "name": "stderr",
     "output_type": "stream",
     "text": [
      "/home/techstar/anaconda3/lib/python3.6/site-packages/ipykernel_launcher.py:1: SettingWithCopyWarning: \n",
      "A value is trying to be set on a copy of a slice from a DataFrame\n",
      "\n",
      "See the caveats in the documentation: http://pandas.pydata.org/pandas-docs/stable/indexing.html#indexing-view-versus-copy\n",
      "  \"\"\"Entry point for launching an IPython kernel.\n"
     ]
    }
   ],
   "source": [
    "result.loc[\"pred\"]=result.pred*(Max.values-Min.values)+Min.values"
   ]
  },
  {
   "cell_type": "code",
   "execution_count": 104,
   "metadata": {},
   "outputs": [
    {
     "data": {
      "text/html": [
       "<div>\n",
       "<style scoped>\n",
       "    .dataframe tbody tr th:only-of-type {\n",
       "        vertical-align: middle;\n",
       "    }\n",
       "\n",
       "    .dataframe tbody tr th {\n",
       "        vertical-align: top;\n",
       "    }\n",
       "\n",
       "    .dataframe thead th {\n",
       "        text-align: right;\n",
       "    }\n",
       "</style>\n",
       "<table border=\"1\" class=\"dataframe\">\n",
       "  <thead>\n",
       "    <tr style=\"text-align: right;\">\n",
       "      <th></th>\n",
       "      <th>值</th>\n",
       "      <th>pred</th>\n",
       "    </tr>\n",
       "    <tr>\n",
       "      <th>序列</th>\n",
       "      <th></th>\n",
       "      <th></th>\n",
       "    </tr>\n",
       "  </thead>\n",
       "  <tbody>\n",
       "    <tr>\n",
       "      <th>2017-12-17 02:45:00</th>\n",
       "      <td>1.9446</td>\n",
       "      <td>2.619534</td>\n",
       "    </tr>\n",
       "    <tr>\n",
       "      <th>2017-12-17 03:00:00</th>\n",
       "      <td>2.1909</td>\n",
       "      <td>2.409545</td>\n",
       "    </tr>\n",
       "    <tr>\n",
       "      <th>2017-12-17 03:15:00</th>\n",
       "      <td>2.2726</td>\n",
       "      <td>2.402391</td>\n",
       "    </tr>\n",
       "    <tr>\n",
       "      <th>2017-12-17 03:30:00</th>\n",
       "      <td>2.1879</td>\n",
       "      <td>2.440498</td>\n",
       "    </tr>\n",
       "    <tr>\n",
       "      <th>2017-12-17 03:45:00</th>\n",
       "      <td>2.3731</td>\n",
       "      <td>2.421886</td>\n",
       "    </tr>\n",
       "    <tr>\n",
       "      <th>2017-12-17 04:00:00</th>\n",
       "      <td>2.1781</td>\n",
       "      <td>2.503651</td>\n",
       "    </tr>\n",
       "    <tr>\n",
       "      <th>2017-12-17 04:15:00</th>\n",
       "      <td>2.1306</td>\n",
       "      <td>2.454529</td>\n",
       "    </tr>\n",
       "    <tr>\n",
       "      <th>2017-12-17 04:30:00</th>\n",
       "      <td>2.2826</td>\n",
       "      <td>2.399416</td>\n",
       "    </tr>\n",
       "    <tr>\n",
       "      <th>2017-12-17 04:45:00</th>\n",
       "      <td>2.4268</td>\n",
       "      <td>2.442887</td>\n",
       "    </tr>\n",
       "    <tr>\n",
       "      <th>2017-12-17 05:00:00</th>\n",
       "      <td>2.2806</td>\n",
       "      <td>2.542484</td>\n",
       "    </tr>\n",
       "    <tr>\n",
       "      <th>2017-12-17 05:15:00</th>\n",
       "      <td>2.2326</td>\n",
       "      <td>2.527765</td>\n",
       "    </tr>\n",
       "    <tr>\n",
       "      <th>2017-12-17 05:30:00</th>\n",
       "      <td>2.0973</td>\n",
       "      <td>2.491588</td>\n",
       "    </tr>\n",
       "    <tr>\n",
       "      <th>2017-12-17 05:45:00</th>\n",
       "      <td>2.1810</td>\n",
       "      <td>2.400108</td>\n",
       "    </tr>\n",
       "    <tr>\n",
       "      <th>2017-12-17 06:00:00</th>\n",
       "      <td>3.0168</td>\n",
       "      <td>2.387536</td>\n",
       "    </tr>\n",
       "    <tr>\n",
       "      <th>2017-12-17 06:15:00</th>\n",
       "      <td>2.7135</td>\n",
       "      <td>2.801938</td>\n",
       "    </tr>\n",
       "    <tr>\n",
       "      <th>2017-12-17 06:30:00</th>\n",
       "      <td>2.7809</td>\n",
       "      <td>2.896589</td>\n",
       "    </tr>\n",
       "    <tr>\n",
       "      <th>2017-12-17 06:45:00</th>\n",
       "      <td>2.0649</td>\n",
       "      <td>2.974382</td>\n",
       "    </tr>\n",
       "    <tr>\n",
       "      <th>2017-12-17 07:00:00</th>\n",
       "      <td>2.4439</td>\n",
       "      <td>2.648257</td>\n",
       "    </tr>\n",
       "    <tr>\n",
       "      <th>2017-12-17 07:15:00</th>\n",
       "      <td>3.9250</td>\n",
       "      <td>2.633186</td>\n",
       "    </tr>\n",
       "    <tr>\n",
       "      <th>2017-12-17 07:30:00</th>\n",
       "      <td>4.9934</td>\n",
       "      <td>3.367869</td>\n",
       "    </tr>\n",
       "    <tr>\n",
       "      <th>2017-12-17 07:45:00</th>\n",
       "      <td>7.6765</td>\n",
       "      <td>4.338260</td>\n",
       "    </tr>\n",
       "    <tr>\n",
       "      <th>2017-12-17 08:00:00</th>\n",
       "      <td>7.5353</td>\n",
       "      <td>6.233838</td>\n",
       "    </tr>\n",
       "    <tr>\n",
       "      <th>2017-12-17 08:15:00</th>\n",
       "      <td>9.9841</td>\n",
       "      <td>7.227449</td>\n",
       "    </tr>\n",
       "    <tr>\n",
       "      <th>2017-12-17 08:30:00</th>\n",
       "      <td>13.5560</td>\n",
       "      <td>8.936916</td>\n",
       "    </tr>\n",
       "    <tr>\n",
       "      <th>2017-12-17 08:45:00</th>\n",
       "      <td>23.1229</td>\n",
       "      <td>11.617056</td>\n",
       "    </tr>\n",
       "    <tr>\n",
       "      <th>2017-12-17 09:00:00</th>\n",
       "      <td>20.0403</td>\n",
       "      <td>17.830182</td>\n",
       "    </tr>\n",
       "    <tr>\n",
       "      <th>2017-12-17 09:15:00</th>\n",
       "      <td>19.3426</td>\n",
       "      <td>19.719111</td>\n",
       "    </tr>\n",
       "    <tr>\n",
       "      <th>2017-12-17 09:30:00</th>\n",
       "      <td>17.2316</td>\n",
       "      <td>20.101485</td>\n",
       "    </tr>\n",
       "    <tr>\n",
       "      <th>2017-12-17 09:45:00</th>\n",
       "      <td>16.2904</td>\n",
       "      <td>18.901037</td>\n",
       "    </tr>\n",
       "    <tr>\n",
       "      <th>2017-12-17 10:00:00</th>\n",
       "      <td>16.1266</td>\n",
       "      <td>17.414596</td>\n",
       "    </tr>\n",
       "    <tr>\n",
       "      <th>2017-12-17 10:15:00</th>\n",
       "      <td>14.2495</td>\n",
       "      <td>16.249837</td>\n",
       "    </tr>\n",
       "    <tr>\n",
       "      <th>2017-12-17 10:30:00</th>\n",
       "      <td>13.5904</td>\n",
       "      <td>14.511334</td>\n",
       "    </tr>\n",
       "    <tr>\n",
       "      <th>2017-12-17 10:45:00</th>\n",
       "      <td>15.8033</td>\n",
       "      <td>13.108966</td>\n",
       "    </tr>\n",
       "    <tr>\n",
       "      <th>2017-12-17 11:00:00</th>\n",
       "      <td>18.4640</td>\n",
       "      <td>13.411392</td>\n",
       "    </tr>\n",
       "    <tr>\n",
       "      <th>2017-12-17 11:15:00</th>\n",
       "      <td>18.0245</td>\n",
       "      <td>14.985554</td>\n",
       "    </tr>\n",
       "    <tr>\n",
       "      <th>2017-12-17 11:30:00</th>\n",
       "      <td>11.9773</td>\n",
       "      <td>15.736431</td>\n",
       "    </tr>\n",
       "    <tr>\n",
       "      <th>2017-12-17 11:45:00</th>\n",
       "      <td>8.9019</td>\n",
       "      <td>13.140528</td>\n",
       "    </tr>\n",
       "    <tr>\n",
       "      <th>2017-12-17 12:00:00</th>\n",
       "      <td>8.0754</td>\n",
       "      <td>10.038462</td>\n",
       "    </tr>\n",
       "    <tr>\n",
       "      <th>2017-12-17 12:15:00</th>\n",
       "      <td>5.8220</td>\n",
       "      <td>7.854813</td>\n",
       "    </tr>\n",
       "    <tr>\n",
       "      <th>2017-12-17 12:30:00</th>\n",
       "      <td>6.0910</td>\n",
       "      <td>5.591674</td>\n",
       "    </tr>\n",
       "    <tr>\n",
       "      <th>2017-12-17 12:45:00</th>\n",
       "      <td>5.5925</td>\n",
       "      <td>4.590052</td>\n",
       "    </tr>\n",
       "    <tr>\n",
       "      <th>2017-12-17 13:00:00</th>\n",
       "      <td>5.4874</td>\n",
       "      <td>3.985003</td>\n",
       "    </tr>\n",
       "    <tr>\n",
       "      <th>2017-12-17 13:15:00</th>\n",
       "      <td>6.3765</td>\n",
       "      <td>3.798750</td>\n",
       "    </tr>\n",
       "    <tr>\n",
       "      <th>2017-12-17 13:30:00</th>\n",
       "      <td>5.9040</td>\n",
       "      <td>4.333661</td>\n",
       "    </tr>\n",
       "    <tr>\n",
       "      <th>2017-12-17 13:45:00</th>\n",
       "      <td>5.5151</td>\n",
       "      <td>4.576763</td>\n",
       "    </tr>\n",
       "    <tr>\n",
       "      <th>2017-12-17 14:00:00</th>\n",
       "      <td>6.0288</td>\n",
       "      <td>4.638206</td>\n",
       "    </tr>\n",
       "    <tr>\n",
       "      <th>2017-12-17 14:15:00</th>\n",
       "      <td>10.6108</td>\n",
       "      <td>5.013154</td>\n",
       "    </tr>\n",
       "    <tr>\n",
       "      <th>2017-12-17 14:30:00</th>\n",
       "      <td>6.1973</td>\n",
       "      <td>7.595436</td>\n",
       "    </tr>\n",
       "    <tr>\n",
       "      <th>2017-12-17 14:45:00</th>\n",
       "      <td>5.6464</td>\n",
       "      <td>6.934719</td>\n",
       "    </tr>\n",
       "    <tr>\n",
       "      <th>2017-12-17 15:00:00</th>\n",
       "      <td>4.4648</td>\n",
       "      <td>6.210394</td>\n",
       "    </tr>\n",
       "  </tbody>\n",
       "</table>\n",
       "</div>"
      ],
      "text/plain": [
       "                           值       pred\n",
       "序列                                     \n",
       "2017-12-17 02:45:00   1.9446   2.619534\n",
       "2017-12-17 03:00:00   2.1909   2.409545\n",
       "2017-12-17 03:15:00   2.2726   2.402391\n",
       "2017-12-17 03:30:00   2.1879   2.440498\n",
       "2017-12-17 03:45:00   2.3731   2.421886\n",
       "2017-12-17 04:00:00   2.1781   2.503651\n",
       "2017-12-17 04:15:00   2.1306   2.454529\n",
       "2017-12-17 04:30:00   2.2826   2.399416\n",
       "2017-12-17 04:45:00   2.4268   2.442887\n",
       "2017-12-17 05:00:00   2.2806   2.542484\n",
       "2017-12-17 05:15:00   2.2326   2.527765\n",
       "2017-12-17 05:30:00   2.0973   2.491588\n",
       "2017-12-17 05:45:00   2.1810   2.400108\n",
       "2017-12-17 06:00:00   3.0168   2.387536\n",
       "2017-12-17 06:15:00   2.7135   2.801938\n",
       "2017-12-17 06:30:00   2.7809   2.896589\n",
       "2017-12-17 06:45:00   2.0649   2.974382\n",
       "2017-12-17 07:00:00   2.4439   2.648257\n",
       "2017-12-17 07:15:00   3.9250   2.633186\n",
       "2017-12-17 07:30:00   4.9934   3.367869\n",
       "2017-12-17 07:45:00   7.6765   4.338260\n",
       "2017-12-17 08:00:00   7.5353   6.233838\n",
       "2017-12-17 08:15:00   9.9841   7.227449\n",
       "2017-12-17 08:30:00  13.5560   8.936916\n",
       "2017-12-17 08:45:00  23.1229  11.617056\n",
       "2017-12-17 09:00:00  20.0403  17.830182\n",
       "2017-12-17 09:15:00  19.3426  19.719111\n",
       "2017-12-17 09:30:00  17.2316  20.101485\n",
       "2017-12-17 09:45:00  16.2904  18.901037\n",
       "2017-12-17 10:00:00  16.1266  17.414596\n",
       "2017-12-17 10:15:00  14.2495  16.249837\n",
       "2017-12-17 10:30:00  13.5904  14.511334\n",
       "2017-12-17 10:45:00  15.8033  13.108966\n",
       "2017-12-17 11:00:00  18.4640  13.411392\n",
       "2017-12-17 11:15:00  18.0245  14.985554\n",
       "2017-12-17 11:30:00  11.9773  15.736431\n",
       "2017-12-17 11:45:00   8.9019  13.140528\n",
       "2017-12-17 12:00:00   8.0754  10.038462\n",
       "2017-12-17 12:15:00   5.8220   7.854813\n",
       "2017-12-17 12:30:00   6.0910   5.591674\n",
       "2017-12-17 12:45:00   5.5925   4.590052\n",
       "2017-12-17 13:00:00   5.4874   3.985003\n",
       "2017-12-17 13:15:00   6.3765   3.798750\n",
       "2017-12-17 13:30:00   5.9040   4.333661\n",
       "2017-12-17 13:45:00   5.5151   4.576763\n",
       "2017-12-17 14:00:00   6.0288   4.638206\n",
       "2017-12-17 14:15:00  10.6108   5.013154\n",
       "2017-12-17 14:30:00   6.1973   7.595436\n",
       "2017-12-17 14:45:00   5.6464   6.934719\n",
       "2017-12-17 15:00:00   4.4648   6.210394"
      ]
     },
     "execution_count": 104,
     "metadata": {},
     "output_type": "execute_result"
    }
   ],
   "source": [
    "result[10:60]"
   ]
  },
  {
   "cell_type": "code",
   "execution_count": 98,
   "metadata": {},
   "outputs": [
    {
     "data": {
      "text/plain": [
       "(1440,)"
      ]
     },
     "execution_count": 98,
     "metadata": {},
     "output_type": "execute_result"
    }
   ],
   "source": [
    "(a*(Max-Min).values+Min.values).shape"
   ]
  },
  {
   "cell_type": "code",
   "execution_count": null,
   "metadata": {},
   "outputs": [],
   "source": []
  }
 ],
 "metadata": {
  "kernelspec": {
   "display_name": "Python 3",
   "language": "python",
   "name": "python3"
  },
  "language_info": {
   "codemirror_mode": {
    "name": "ipython",
    "version": 3
   },
   "file_extension": ".py",
   "mimetype": "text/x-python",
   "name": "python",
   "nbconvert_exporter": "python",
   "pygments_lexer": "ipython3",
   "version": "3.6.5"
  }
 },
 "nbformat": 4,
 "nbformat_minor": 2
}
