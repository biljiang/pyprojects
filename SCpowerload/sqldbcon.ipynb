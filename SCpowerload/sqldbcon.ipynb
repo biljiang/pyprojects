{
 "cells": [
  {
   "cell_type": "code",
   "execution_count": 1,
   "metadata": {},
   "outputs": [],
   "source": [
    "import pymssql\n",
    "import pandas as pd"
   ]
  },
  {
   "cell_type": "code",
   "execution_count": 2,
   "metadata": {},
   "outputs": [],
   "source": [
    "#con= psycopg2.connect(database=\"metro\",user=\"gpadmin\",password=\"gpadmin\",host=\"192.168.0.93\",port=\"5432\")\n",
    "con= pymssql.connect(host='192.168.0.3',user='sa',password='tech@123',database='scdc_tms')"
   ]
  },
  {
   "cell_type": "code",
   "execution_count": 3,
   "metadata": {},
   "outputs": [
    {
     "name": "stdout",
     "output_type": "stream",
     "text": [
      "[('BUREAU_LOAD_PUBLISH',), ('SYSTEM_LOAD',), ('SYSTEM_POWER',)]\n"
     ]
    }
   ],
   "source": [
    "cur = con.cursor()\n",
    "cur.execute(\"select name from sysobjects where xtype='u'\")\n",
    "print (cur.fetchall())"
   ]
  },
  {
   "cell_type": "code",
   "execution_count": 4,
   "metadata": {},
   "outputs": [
    {
     "name": "stdout",
     "output_type": "stream",
     "text": [
      "[('BUREAU_LOAD_PUBLISH', 2105058535, None, 1, 0, 'U ', 'USER_TABLE', datetime.datetime(2018, 11, 29, 15, 13, 35, 237000), datetime.datetime(2018, 11, 29, 15, 16, 4, 897000), False, False, False, 0, None, 4, False, True, False, False, False, False, False, 0, False, False, 0, 'TABLE'), ('SYSTEM_LOAD', 2121058592, None, 1, 0, 'U ', 'USER_TABLE', datetime.datetime(2018, 11, 29, 15, 13, 35, 247000), datetime.datetime(2018, 11, 29, 16, 39, 38, 203000), False, False, False, 0, None, 4, False, True, False, False, False, False, False, 0, False, False, 0, 'TABLE'), ('SYSTEM_POWER', 2137058649, None, 1, 0, 'U ', 'USER_TABLE', datetime.datetime(2018, 11, 29, 15, 13, 35, 250000), datetime.datetime(2018, 11, 29, 15, 15, 57, 253000), False, False, False, 0, None, 4, False, True, False, False, False, False, False, 0, False, False, 0, 'TABLE')]\n"
     ]
    }
   ],
   "source": [
    "cur.execute(\"select * from sys.tables;\")\n",
    "print (cur.fetchall())"
   ]
  },
  {
   "cell_type": "code",
   "execution_count": 5,
   "metadata": {},
   "outputs": [],
   "source": [
    "df = pd.read_sql(\"select * from SYSTEM_LOAD\", con=con)\n",
    "df1 = pd.read_sql(\"select * from SYSTEM_POWER\", con=con)\n",
    "df2 = pd.read_sql(\"select * from BUREAU_LOAD_PUBLISH\", con=con)\n",
    "con.close()"
   ]
  },
  {
   "cell_type": "code",
   "execution_count": 7,
   "metadata": {},
   "outputs": [
    {
     "data": {
      "text/plain": [
       "(1109073, 843580, 2339543)"
      ]
     },
     "execution_count": 7,
     "metadata": {},
     "output_type": "execute_result"
    }
   ],
   "source": [
    "(len(df),len(df1),len(df2))"
   ]
  },
  {
   "cell_type": "code",
   "execution_count": null,
   "metadata": {},
   "outputs": [],
   "source": []
  }
 ],
 "metadata": {
  "kernelspec": {
   "display_name": "Python 3",
   "language": "python",
   "name": "python3"
  },
  "language_info": {
   "codemirror_mode": {
    "name": "ipython",
    "version": 3
   },
   "file_extension": ".py",
   "mimetype": "text/x-python",
   "name": "python",
   "nbconvert_exporter": "python",
   "pygments_lexer": "ipython3",
   "version": "3.6.5"
  }
 },
 "nbformat": 4,
 "nbformat_minor": 2
}
