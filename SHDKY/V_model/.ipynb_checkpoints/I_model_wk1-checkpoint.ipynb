{
 "cells": [
  {
   "cell_type": "code",
   "execution_count": 1,
   "metadata": {},
   "outputs": [],
   "source": [
    "import numpy as np\n",
    "import pandas as pd\n",
    "import pathlib as pl\n",
    "from datetime import datetime\n",
    "import matplotlib.pyplot as plot\n",
    "from pandas import DataFrame, Series"
   ]
  },
  {
   "cell_type": "code",
   "execution_count": 11,
   "metadata": {},
   "outputs": [
    {
     "name": "stdout",
     "output_type": "stream",
     "text": [
      "Reading kVKunYang3.csv\n",
      "Reading kVWanKe1.csv\n",
      "Reading kVChangLiu3.csv\n",
      "Reading kVJiangChuan1.csv\n",
      "Reading kVChangLiu2.csv\n",
      "Reading kVQinZhou4.csv\n",
      "Reading kVChangLiu1.csv\n",
      "Reading kVJiangChuan4.csv\n",
      "Reading kVJiangChuan5.csv\n",
      "Reading kVQinZhou3.csv\n",
      "Reading kVKunYang1.csv\n",
      "Reading kVJiangChuan3.csv\n",
      "Reading kVJiangChuan2.csv\n",
      "Reading kVChangLiu4.csv\n",
      "Reading kVWanKe2.csv\n"
     ]
    }
   ],
   "source": [
    "# read from csv files\n",
    "\n",
    "datapath=pl.Path(\"../csvdata\")\n",
    "\n",
    "file_list=[]\n",
    "dfs=[]\n",
    "for x in datapath.glob(\"*[0-9].csv\"):\n",
    "    print(\"Reading \"+x.name)\n",
    "    f=pd.read_csv(x,index_col=0,na_values=\" \")\n",
    "    dfs.append(f)\n",
    "    file_list.append(x.name)"
   ]
  },
  {
   "cell_type": "code",
   "execution_count": 12,
   "metadata": {},
   "outputs": [],
   "source": [
    "cols = [\"Avg[V 有效值 AB]\",\n",
    "# \"Avg[V 总谐波畸变率 A]\",\n",
    " \"Avg[V 负序不平衡 Total]\",\n",
    " \"Avg[V SPOS All]\",\n",
    " \"Avg[V SNEG All]\",\n",
    " \"Avg[V SZERO All]\",\n",
    "#\"Pst A\",\n",
    " \"Avg[I 有效值 A]\",\n",
    " \"Avg[I 总谐波畸变率 A]\",\n",
    " \"Avg[I 负序不平衡 Total]\",\n",
    " \"Avg[I SPOS All]\",\n",
    " \"Avg[I SNEG All]\",\n",
    " \"Avg[I ZERO All]\",\n",
    "# \"Avg[P A]\",\n",
    "# \"Avg[Q A]\",\n",
    "# \"Avg[S A]\",\n",
    "# \"Avg[功率因数 A]\"\n",
    " ]"
   ]
  },
  {
   "cell_type": "code",
   "execution_count": 13,
   "metadata": {},
   "outputs": [
    {
     "name": "stdout",
     "output_type": "stream",
     "text": [
      " KunYang3 - Avg[I 有效值 A] (A)\n",
      " WanKe1 - Avg[I 有效值 A] (A)\n",
      " Changliu3 - Avg[I 有效值 A] (A)\n",
      " JiangChuan1 - Avg[I 有效值 A] (A)\n",
      " Changliu2 - Avg[I 有效值 A] (A)\n",
      " QinZhou4 - Avg[I 有效值 A] (A)\n",
      " Changliu1 - Avg[I 有效值 A] (A)\n",
      " JiangChuan4 - Avg[I 有效值 A] (A)\n",
      " JiangChuan5 - Avg[I 有效值 A] (A)\n",
      " QinZhou3 - Avg[I 有效值 A] (A)\n",
      " KunYang1 - Avg[I 有效值 A] (A)\n",
      " JiangChuan3 - Avg[I 有效值 A] (A)\n",
      " JiangChuan2 - Avg[I 有效值 A] (A)\n",
      " WanKe2 - Avg[I 有效值 A] (A)\n",
      "14\n"
     ]
    }
   ],
   "source": [
    "tr_data=DataFrame()\n",
    "i=0\n",
    "for df in dfs:\n",
    "    for c in df.columns:\n",
    "        if c.find(\"Avg[I 有效值 A]\")!=-1:\n",
    "            print (c)\n",
    "            tr_data[c]=df[c]\n",
    "            i+=1\n",
    "print(i)"
   ]
  },
  {
   "cell_type": "code",
   "execution_count": 14,
   "metadata": {},
   "outputs": [],
   "source": [
    "train_data=tr_data.dropna()"
   ]
  },
  {
   "cell_type": "code",
   "execution_count": 15,
   "metadata": {},
   "outputs": [
    {
     "data": {
      "text/plain": [
       "4032"
      ]
     },
     "execution_count": 15,
     "metadata": {},
     "output_type": "execute_result"
    }
   ],
   "source": [
    "len(tr_data)"
   ]
  },
  {
   "cell_type": "code",
   "execution_count": 18,
   "metadata": {},
   "outputs": [],
   "source": [
    "#train_data.dropna(axis=1)"
   ]
  },
  {
   "cell_type": "code",
   "execution_count": 19,
   "metadata": {},
   "outputs": [
    {
     "data": {
      "image/png": "[encoded data removed]",
      "text/plain": [
       "<Figure size 432x288 with 1 Axes>"
      ]
     },
     "metadata": {},
     "output_type": "display_data"
    }
   ],
   "source": [
    "corMat=DataFrame(train_data.corr())\n",
    "plot.pcolor(corMat)\n",
    "plot.show()"
   ]
  },
  {
   "cell_type": "code",
   "execution_count": 90,
   "metadata": {},
   "outputs": [
    {
     "data": {
      "text/html": [
       "<div>\n",
       "<style scoped>\n",
       "    .dataframe tbody tr th:only-of-type {\n",
       "        vertical-align: middle;\n",
       "    }\n",
       "\n",
       "    .dataframe tbody tr th {\n",
       "        vertical-align: top;\n",
       "    }\n",
       "\n",
       "    .dataframe thead th {\n",
       "        text-align: right;\n",
       "    }\n",
       "</style>\n",
       "<table border=\"1\" class=\"dataframe\">\n",
       "  <thead>\n",
       "    <tr style=\"text-align: right;\">\n",
       "      <th></th>\n",
       "      <th>KunYang3 - Avg[I 有效值 A] (A)</th>\n",
       "      <th>WanKe1 - Avg[I 有效值 A] (A)</th>\n",
       "      <th>Changliu3 - Avg[I 有效值 A] (A)</th>\n",
       "      <th>JiangChuan1 - Avg[I 有效值 A] (A)</th>\n",
       "      <th>Changliu2 - Avg[I 有效值 A] (A)</th>\n",
       "      <th>QinZhou4 - Avg[I 有效值 A] (A)</th>\n",
       "      <th>Changliu1 - Avg[I 有效值 A] (A)</th>\n",
       "      <th>JiangChuan4 - Avg[I 有效值 A] (A)</th>\n",
       "      <th>JiangChuan5 - Avg[I 有效值 A] (A)</th>\n",
       "      <th>QinZhou3 - Avg[I 有效值 A] (A)</th>\n",
       "      <th>KunYang1 - Avg[I 有效值 A] (A)</th>\n",
       "      <th>JiangChuan3 - Avg[I 有效值 A] (A)</th>\n",
       "      <th>JiangChuan2 - Avg[I 有效值 A] (A)</th>\n",
       "      <th>WanKe2 - Avg[I 有效值 A] (A)</th>\n",
       "    </tr>\n",
       "  </thead>\n",
       "  <tbody>\n",
       "    <tr>\n",
       "      <th>count</th>\n",
       "      <td>3299.000000</td>\n",
       "      <td>3299.000000</td>\n",
       "      <td>3299.000000</td>\n",
       "      <td>3299.000000</td>\n",
       "      <td>3299.000000</td>\n",
       "      <td>3299.000000</td>\n",
       "      <td>3299.0</td>\n",
       "      <td>3299.000000</td>\n",
       "      <td>3299.000000</td>\n",
       "      <td>3299.000000</td>\n",
       "      <td>3299.000000</td>\n",
       "      <td>3299.000000</td>\n",
       "      <td>3299.0</td>\n",
       "      <td>3299.000000</td>\n",
       "    </tr>\n",
       "    <tr>\n",
       "      <th>mean</th>\n",
       "      <td>1.032562</td>\n",
       "      <td>90.892629</td>\n",
       "      <td>29.935431</td>\n",
       "      <td>89.267906</td>\n",
       "      <td>24.088394</td>\n",
       "      <td>45.106071</td>\n",
       "      <td>0.0</td>\n",
       "      <td>81.547938</td>\n",
       "      <td>81.131566</td>\n",
       "      <td>6.575445</td>\n",
       "      <td>126.253777</td>\n",
       "      <td>74.813466</td>\n",
       "      <td>0.0</td>\n",
       "      <td>124.923105</td>\n",
       "    </tr>\n",
       "    <tr>\n",
       "      <th>std</th>\n",
       "      <td>0.179595</td>\n",
       "      <td>22.918231</td>\n",
       "      <td>3.893968</td>\n",
       "      <td>13.795012</td>\n",
       "      <td>5.221525</td>\n",
       "      <td>0.773307</td>\n",
       "      <td>0.0</td>\n",
       "      <td>19.744732</td>\n",
       "      <td>15.546914</td>\n",
       "      <td>2.820255</td>\n",
       "      <td>16.635769</td>\n",
       "      <td>12.623143</td>\n",
       "      <td>0.0</td>\n",
       "      <td>30.615593</td>\n",
       "    </tr>\n",
       "    <tr>\n",
       "      <th>min</th>\n",
       "      <td>0.855272</td>\n",
       "      <td>51.452885</td>\n",
       "      <td>23.771107</td>\n",
       "      <td>67.244804</td>\n",
       "      <td>13.551037</td>\n",
       "      <td>42.581738</td>\n",
       "      <td>0.0</td>\n",
       "      <td>51.449200</td>\n",
       "      <td>32.576824</td>\n",
       "      <td>2.947424</td>\n",
       "      <td>75.508606</td>\n",
       "      <td>51.874592</td>\n",
       "      <td>0.0</td>\n",
       "      <td>71.147217</td>\n",
       "    </tr>\n",
       "    <tr>\n",
       "      <th>25%</th>\n",
       "      <td>0.872110</td>\n",
       "      <td>69.241276</td>\n",
       "      <td>25.468037</td>\n",
       "      <td>76.768414</td>\n",
       "      <td>21.661292</td>\n",
       "      <td>44.559196</td>\n",
       "      <td>0.0</td>\n",
       "      <td>66.026524</td>\n",
       "      <td>70.914047</td>\n",
       "      <td>3.914190</td>\n",
       "      <td>114.445129</td>\n",
       "      <td>64.187935</td>\n",
       "      <td>0.0</td>\n",
       "      <td>96.735229</td>\n",
       "    </tr>\n",
       "    <tr>\n",
       "      <th>50%</th>\n",
       "      <td>1.017041</td>\n",
       "      <td>93.119537</td>\n",
       "      <td>29.937872</td>\n",
       "      <td>89.030548</td>\n",
       "      <td>24.917458</td>\n",
       "      <td>45.099152</td>\n",
       "      <td>0.0</td>\n",
       "      <td>76.036194</td>\n",
       "      <td>82.766243</td>\n",
       "      <td>5.741942</td>\n",
       "      <td>130.057388</td>\n",
       "      <td>76.422638</td>\n",
       "      <td>0.0</td>\n",
       "      <td>130.378586</td>\n",
       "    </tr>\n",
       "    <tr>\n",
       "      <th>75%</th>\n",
       "      <td>1.033792</td>\n",
       "      <td>108.874180</td>\n",
       "      <td>32.147785</td>\n",
       "      <td>101.507290</td>\n",
       "      <td>27.666650</td>\n",
       "      <td>45.647297</td>\n",
       "      <td>0.0</td>\n",
       "      <td>95.753319</td>\n",
       "      <td>91.865467</td>\n",
       "      <td>9.749167</td>\n",
       "      <td>139.334854</td>\n",
       "      <td>84.523518</td>\n",
       "      <td>0.0</td>\n",
       "      <td>149.046494</td>\n",
       "    </tr>\n",
       "    <tr>\n",
       "      <th>max</th>\n",
       "      <td>1.800192</td>\n",
       "      <td>136.331879</td>\n",
       "      <td>48.235535</td>\n",
       "      <td>122.109016</td>\n",
       "      <td>36.695427</td>\n",
       "      <td>47.344036</td>\n",
       "      <td>0.0</td>\n",
       "      <td>143.336136</td>\n",
       "      <td>122.464012</td>\n",
       "      <td>12.207544</td>\n",
       "      <td>161.224335</td>\n",
       "      <td>110.394753</td>\n",
       "      <td>0.0</td>\n",
       "      <td>182.759644</td>\n",
       "    </tr>\n",
       "  </tbody>\n",
       "</table>\n",
       "</div>"
      ],
      "text/plain": [
       "        KunYang3 - Avg[I 有效值 A] (A)   WanKe1 - Avg[I 有效值 A] (A)  \\\n",
       "count                   3299.000000                 3299.000000   \n",
       "mean                       1.032562                   90.892629   \n",
       "std                        0.179595                   22.918231   \n",
       "min                        0.855272                   51.452885   \n",
       "25%                        0.872110                   69.241276   \n",
       "50%                        1.017041                   93.119537   \n",
       "75%                        1.033792                  108.874180   \n",
       "max                        1.800192                  136.331879   \n",
       "\n",
       "        Changliu3 - Avg[I 有效值 A] (A)   JiangChuan1 - Avg[I 有效值 A] (A)  \\\n",
       "count                    3299.000000                      3299.000000   \n",
       "mean                       29.935431                        89.267906   \n",
       "std                         3.893968                        13.795012   \n",
       "min                        23.771107                        67.244804   \n",
       "25%                        25.468037                        76.768414   \n",
       "50%                        29.937872                        89.030548   \n",
       "75%                        32.147785                       101.507290   \n",
       "max                        48.235535                       122.109016   \n",
       "\n",
       "        Changliu2 - Avg[I 有效值 A] (A)   QinZhou4 - Avg[I 有效值 A] (A)  \\\n",
       "count                    3299.000000                   3299.000000   \n",
       "mean                       24.088394                     45.106071   \n",
       "std                         5.221525                      0.773307   \n",
       "min                        13.551037                     42.581738   \n",
       "25%                        21.661292                     44.559196   \n",
       "50%                        24.917458                     45.099152   \n",
       "75%                        27.666650                     45.647297   \n",
       "max                        36.695427                     47.344036   \n",
       "\n",
       "        Changliu1 - Avg[I 有效值 A] (A)   JiangChuan4 - Avg[I 有效值 A] (A)  \\\n",
       "count                         3299.0                      3299.000000   \n",
       "mean                             0.0                        81.547938   \n",
       "std                              0.0                        19.744732   \n",
       "min                              0.0                        51.449200   \n",
       "25%                              0.0                        66.026524   \n",
       "50%                              0.0                        76.036194   \n",
       "75%                              0.0                        95.753319   \n",
       "max                              0.0                       143.336136   \n",
       "\n",
       "        JiangChuan5 - Avg[I 有效值 A] (A)   QinZhou3 - Avg[I 有效值 A] (A)  \\\n",
       "count                      3299.000000                   3299.000000   \n",
       "mean                         81.131566                      6.575445   \n",
       "std                          15.546914                      2.820255   \n",
       "min                          32.576824                      2.947424   \n",
       "25%                          70.914047                      3.914190   \n",
       "50%                          82.766243                      5.741942   \n",
       "75%                          91.865467                      9.749167   \n",
       "max                         122.464012                     12.207544   \n",
       "\n",
       "        KunYang1 - Avg[I 有效值 A] (A)   JiangChuan3 - Avg[I 有效值 A] (A)  \\\n",
       "count                   3299.000000                      3299.000000   \n",
       "mean                     126.253777                        74.813466   \n",
       "std                       16.635769                        12.623143   \n",
       "min                       75.508606                        51.874592   \n",
       "25%                      114.445129                        64.187935   \n",
       "50%                      130.057388                        76.422638   \n",
       "75%                      139.334854                        84.523518   \n",
       "max                      161.224335                       110.394753   \n",
       "\n",
       "        JiangChuan2 - Avg[I 有效值 A] (A)   WanKe2 - Avg[I 有效值 A] (A)  \n",
       "count                           3299.0                 3299.000000  \n",
       "mean                               0.0                  124.923105  \n",
       "std                                0.0                   30.615593  \n",
       "min                                0.0                   71.147217  \n",
       "25%                                0.0                   96.735229  \n",
       "50%                                0.0                  130.378586  \n",
       "75%                                0.0                  149.046494  \n",
       "max                                0.0                  182.759644  "
      ]
     },
     "execution_count": 90,
     "metadata": {},
     "output_type": "execute_result"
    }
   ],
   "source": [
    "train_data.describe()"
   ]
  },
  {
   "cell_type": "code",
   "execution_count": 25,
   "metadata": {},
   "outputs": [],
   "source": [
    "from sklearn.model_selection import train_test_split\n",
    "train,test= train_test_split(train_data,test_size=0.2,random_state=0)"
   ]
  },
  {
   "cell_type": "code",
   "execution_count": 26,
   "metadata": {},
   "outputs": [],
   "source": [
    "MAX= train.max()\n",
    "MIN = train.min()"
   ]
  },
  {
   "cell_type": "code",
   "execution_count": 27,
   "metadata": {},
   "outputs": [],
   "source": [
    "train_s=(train-MIN)/(MAX-MIN)\n",
    "test_s=(test-MIN)/(MAX-MIN)"
   ]
  },
  {
   "cell_type": "code",
   "execution_count": 28,
   "metadata": {},
   "outputs": [],
   "source": [
    "train_s=train_s.fillna(0)\n",
    "test_s=test_s.fillna(0)"
   ]
  },
  {
   "cell_type": "code",
   "execution_count": 29,
   "metadata": {},
   "outputs": [],
   "source": [
    "#  generate X_train,Y_train,X_test,Y_test for all target features\n",
    "X_train=train_s.copy();Y_train=DataFrame()\n",
    "\n",
    "for c in train_s.columns:\n",
    "    if c.find(\"WanKe1\") !=-1 :\n",
    "        Y_train[c]=train_s[c]\n",
    "        X_train=X_train.drop(c,axis=1)\n",
    "\n",
    "        \n",
    "X_test=test_s.copy();Y_test=DataFrame()\n",
    "\n",
    "for c in test_s.columns:\n",
    "    if c.find(\"WanKe1\") !=-1 :\n",
    "        Y_test[c]=test_s[c]\n",
    "        X_test=X_test.drop(c,axis=1)"
   ]
  },
  {
   "cell_type": "code",
   "execution_count": 31,
   "metadata": {},
   "outputs": [],
   "source": [
    "###### network from keras for SHDKY data simulation ###########\n",
    "from keras.models import Sequential\n",
    "from keras.layers import Dense, Activation,Input\n",
    "import keras\n",
    "\n",
    "\n",
    "model = Sequential()\n",
    "\n",
    "model.add(Dense(13, input_dim=13,kernel_initializer=\"normal\"))\n",
    "model.add(Activation('relu'))\n",
    "model.add(Dense(7, activation='relu',kernel_initializer=\"normal\"))\n",
    "model.add(Dense(1, activation='linear',kernel_initializer=\"normal\"))"
   ]
  },
  {
   "cell_type": "code",
   "execution_count": 33,
   "metadata": {},
   "outputs": [],
   "source": [
    "model.compile(loss='mean_squared_error', \n",
    "              optimizer=keras.optimizers.SGD(lr=0.05))"
   ]
  },
  {
   "cell_type": "code",
   "execution_count": 68,
   "metadata": {},
   "outputs": [
    {
     "name": "stdout",
     "output_type": "stream",
     "text": [
      "Train on 2111 samples, validate on 528 samples\n",
      "Epoch 1/30\n",
      " - 0s - loss: 0.0019 - val_loss: 0.0019\n",
      "Epoch 2/30\n",
      " - 0s - loss: 0.0019 - val_loss: 0.0020\n",
      "Epoch 3/30\n",
      " - 0s - loss: 0.0018 - val_loss: 0.0020\n",
      "Epoch 4/30\n",
      " - 0s - loss: 0.0019 - val_loss: 0.0019\n",
      "Epoch 5/30\n",
      " - 0s - loss: 0.0019 - val_loss: 0.0020\n",
      "Epoch 6/30\n",
      " - 0s - loss: 0.0019 - val_loss: 0.0019\n",
      "Epoch 7/30\n",
      " - 0s - loss: 0.0019 - val_loss: 0.0020\n",
      "Epoch 8/30\n",
      " - 0s - loss: 0.0019 - val_loss: 0.0021\n",
      "Epoch 9/30\n",
      " - 0s - loss: 0.0018 - val_loss: 0.0019\n",
      "Epoch 10/30\n",
      " - 0s - loss: 0.0019 - val_loss: 0.0020\n",
      "Epoch 11/30\n",
      " - 0s - loss: 0.0018 - val_loss: 0.0023\n",
      "Epoch 12/30\n",
      " - 0s - loss: 0.0019 - val_loss: 0.0019\n",
      "Epoch 13/30\n",
      " - 0s - loss: 0.0019 - val_loss: 0.0019\n",
      "Epoch 14/30\n",
      " - 0s - loss: 0.0018 - val_loss: 0.0020\n",
      "Epoch 15/30\n",
      " - 0s - loss: 0.0019 - val_loss: 0.0019\n",
      "Epoch 16/30\n",
      " - 0s - loss: 0.0018 - val_loss: 0.0019\n",
      "Epoch 17/30\n",
      " - 0s - loss: 0.0018 - val_loss: 0.0019\n",
      "Epoch 18/30\n",
      " - 0s - loss: 0.0019 - val_loss: 0.0019\n",
      "Epoch 19/30\n",
      " - 0s - loss: 0.0018 - val_loss: 0.0020\n",
      "Epoch 20/30\n",
      " - 0s - loss: 0.0019 - val_loss: 0.0019\n",
      "Epoch 21/30\n",
      " - 0s - loss: 0.0018 - val_loss: 0.0021\n",
      "Epoch 22/30\n",
      " - 0s - loss: 0.0019 - val_loss: 0.0020\n",
      "Epoch 23/30\n",
      " - 0s - loss: 0.0019 - val_loss: 0.0020\n",
      "Epoch 24/30\n",
      " - 0s - loss: 0.0019 - val_loss: 0.0020\n",
      "Epoch 25/30\n",
      " - 0s - loss: 0.0018 - val_loss: 0.0022\n",
      "Epoch 26/30\n",
      " - 0s - loss: 0.0018 - val_loss: 0.0021\n",
      "Epoch 27/30\n",
      " - 0s - loss: 0.0018 - val_loss: 0.0020\n",
      "Epoch 28/30\n",
      " - 0s - loss: 0.0019 - val_loss: 0.0019\n",
      "Epoch 29/30\n",
      " - 0s - loss: 0.0019 - val_loss: 0.0019\n",
      "Epoch 30/30\n",
      " - 0s - loss: 0.0018 - val_loss: 0.0019\n"
     ]
    },
    {
     "data": {
      "text/plain": [
       "<keras.callbacks.History at 0x7f6330166358>"
      ]
     },
     "execution_count": 68,
     "metadata": {},
     "output_type": "execute_result"
    }
   ],
   "source": [
    "model.fit(X_train, Y_train, epochs=30,batch_size=30,\n",
    "          shuffle=True,verbose=2,validation_split=0.2) "
   ]
  },
  {
   "cell_type": "code",
   "execution_count": 70,
   "metadata": {},
   "outputs": [],
   "source": [
    "#((model.predict(X_test)-Y_test)/Y_test)"
   ]
  },
  {
   "cell_type": "code",
   "execution_count": 71,
   "metadata": {},
   "outputs": [
    {
     "data": {
      "text/html": [
       "<div>\n",
       "<style scoped>\n",
       "    .dataframe tbody tr th:only-of-type {\n",
       "        vertical-align: middle;\n",
       "    }\n",
       "\n",
       "    .dataframe tbody tr th {\n",
       "        vertical-align: top;\n",
       "    }\n",
       "\n",
       "    .dataframe thead th {\n",
       "        text-align: right;\n",
       "    }\n",
       "</style>\n",
       "<table border=\"1\" class=\"dataframe\">\n",
       "  <thead>\n",
       "    <tr style=\"text-align: right;\">\n",
       "      <th></th>\n",
       "      <th>WanKe1 - Avg[I 有效值 A] (A)</th>\n",
       "    </tr>\n",
       "  </thead>\n",
       "  <tbody>\n",
       "    <tr>\n",
       "      <th>count</th>\n",
       "      <td>660.000000</td>\n",
       "    </tr>\n",
       "    <tr>\n",
       "      <th>mean</th>\n",
       "      <td>0.002650</td>\n",
       "    </tr>\n",
       "    <tr>\n",
       "      <th>std</th>\n",
       "      <td>0.046710</td>\n",
       "    </tr>\n",
       "    <tr>\n",
       "      <th>min</th>\n",
       "      <td>-0.158800</td>\n",
       "    </tr>\n",
       "    <tr>\n",
       "      <th>25%</th>\n",
       "      <td>-0.024105</td>\n",
       "    </tr>\n",
       "    <tr>\n",
       "      <th>50%</th>\n",
       "      <td>0.001515</td>\n",
       "    </tr>\n",
       "    <tr>\n",
       "      <th>75%</th>\n",
       "      <td>0.033677</td>\n",
       "    </tr>\n",
       "    <tr>\n",
       "      <th>max</th>\n",
       "      <td>0.148734</td>\n",
       "    </tr>\n",
       "  </tbody>\n",
       "</table>\n",
       "</div>"
      ],
      "text/plain": [
       "        WanKe1 - Avg[I 有效值 A] (A)\n",
       "count                  660.000000\n",
       "mean                     0.002650\n",
       "std                      0.046710\n",
       "min                     -0.158800\n",
       "25%                     -0.024105\n",
       "50%                      0.001515\n",
       "75%                      0.033677\n",
       "max                      0.148734"
      ]
     },
     "execution_count": 71,
     "metadata": {},
     "output_type": "execute_result"
    }
   ],
   "source": [
    "((model.predict(X_test)-Y_test)).describe()"
   ]
  },
  {
   "cell_type": "code",
   "execution_count": 75,
   "metadata": {},
   "outputs": [],
   "source": [
    "c=Y_test.columns\n",
    "R= pd.DataFrame(model.predict(X_test),columns=['V_pred'])\n",
    "R.index = Y_test.index\n",
    "R= R.join(Y_test)\n",
    "#R=  R*((MAX[c]-MIN[c])+MIN[c]).values[0]\n",
    "R=  R*(MAX[c]-MIN[c]).values[0]+MIN[c].values[0]"
   ]
  },
  {
   "cell_type": "code",
   "execution_count": 77,
   "metadata": {},
   "outputs": [
    {
     "data": {
      "text/plain": [
       "<matplotlib.axes._subplots.AxesSubplot at 0x7f633007ae80>"
      ]
     },
     "execution_count": 77,
     "metadata": {},
     "output_type": "execute_result"
    },
    {
     "data": {
      "image/png": "[encoded data removed]",
      "text/plain": [
       "<Figure size 864x288 with 1 Axes>"
      ]
     },
     "metadata": {},
     "output_type": "display_data"
    }
   ],
   "source": [
    "R_show=R.iloc[200:300,:]\n",
    "\n",
    "import pylab\n",
    "pylab.rcParams['figure.figsize'] = (12.0, 4.0)\n",
    "\n",
    "R_show.plot(alpha =0.5,figsize = (12,4))"
   ]
  },
  {
   "cell_type": "code",
   "execution_count": 81,
   "metadata": {},
   "outputs": [],
   "source": [
    "R[\"diff\"]=(R[\"V_pred\"]-R[c[0]])\n",
    "R[\"diff_ptg\"]=(R[\"V_pred\"]-R[c[0]])/R[c[0]]"
   ]
  },
  {
   "cell_type": "code",
   "execution_count": 83,
   "metadata": {},
   "outputs": [
    {
     "data": {
      "text/html": [
       "<div>\n",
       "<style scoped>\n",
       "    .dataframe tbody tr th:only-of-type {\n",
       "        vertical-align: middle;\n",
       "    }\n",
       "\n",
       "    .dataframe tbody tr th {\n",
       "        vertical-align: top;\n",
       "    }\n",
       "\n",
       "    .dataframe thead th {\n",
       "        text-align: right;\n",
       "    }\n",
       "</style>\n",
       "<table border=\"1\" class=\"dataframe\">\n",
       "  <thead>\n",
       "    <tr style=\"text-align: right;\">\n",
       "      <th></th>\n",
       "      <th>V_pred</th>\n",
       "      <th>WanKe1 - Avg[I 有效值 A] (A)</th>\n",
       "      <th>diff</th>\n",
       "      <th>diff_ptg</th>\n",
       "    </tr>\n",
       "  </thead>\n",
       "  <tbody>\n",
       "    <tr>\n",
       "      <th>count</th>\n",
       "      <td>660.000000</td>\n",
       "      <td>660.000000</td>\n",
       "      <td>660.000000</td>\n",
       "      <td>660.000000</td>\n",
       "    </tr>\n",
       "    <tr>\n",
       "      <th>mean</th>\n",
       "      <td>91.039024</td>\n",
       "      <td>90.814906</td>\n",
       "      <td>0.224102</td>\n",
       "      <td>0.004574</td>\n",
       "    </tr>\n",
       "    <tr>\n",
       "      <th>std</th>\n",
       "      <td>22.178959</td>\n",
       "      <td>22.481202</td>\n",
       "      <td>3.950907</td>\n",
       "      <td>0.043256</td>\n",
       "    </tr>\n",
       "    <tr>\n",
       "      <th>min</th>\n",
       "      <td>56.622982</td>\n",
       "      <td>51.452885</td>\n",
       "      <td>-13.431801</td>\n",
       "      <td>-0.112571</td>\n",
       "    </tr>\n",
       "    <tr>\n",
       "      <th>25%</th>\n",
       "      <td>70.847954</td>\n",
       "      <td>69.864559</td>\n",
       "      <td>-2.038842</td>\n",
       "      <td>-0.025243</td>\n",
       "    </tr>\n",
       "    <tr>\n",
       "      <th>50%</th>\n",
       "      <td>93.079071</td>\n",
       "      <td>93.023033</td>\n",
       "      <td>0.128162</td>\n",
       "      <td>0.001376</td>\n",
       "    </tr>\n",
       "    <tr>\n",
       "      <th>75%</th>\n",
       "      <td>108.877802</td>\n",
       "      <td>108.850533</td>\n",
       "      <td>2.848474</td>\n",
       "      <td>0.031838</td>\n",
       "    </tr>\n",
       "    <tr>\n",
       "      <th>max</th>\n",
       "      <td>134.778122</td>\n",
       "      <td>134.782776</td>\n",
       "      <td>12.580353</td>\n",
       "      <td>0.138405</td>\n",
       "    </tr>\n",
       "  </tbody>\n",
       "</table>\n",
       "</div>"
      ],
      "text/plain": [
       "           V_pred   WanKe1 - Avg[I 有效值 A] (A)        diff    diff_ptg\n",
       "count  660.000000                  660.000000  660.000000  660.000000\n",
       "mean    91.039024                   90.814906    0.224102    0.004574\n",
       "std     22.178959                   22.481202    3.950907    0.043256\n",
       "min     56.622982                   51.452885  -13.431801   -0.112571\n",
       "25%     70.847954                   69.864559   -2.038842   -0.025243\n",
       "50%     93.079071                   93.023033    0.128162    0.001376\n",
       "75%    108.877802                  108.850533    2.848474    0.031838\n",
       "max    134.778122                  134.782776   12.580353    0.138405"
      ]
     },
     "execution_count": 83,
     "metadata": {},
     "output_type": "execute_result"
    }
   ],
   "source": [
    "R.describe()"
   ]
  },
  {
   "cell_type": "code",
   "execution_count": 92,
   "metadata": {},
   "outputs": [
    {
     "data": {
      "text/plain": [
       "(-0.07320677505174805, 0.09386221812849346)"
      ]
     },
     "execution_count": 92,
     "metadata": {},
     "output_type": "execute_result"
    }
   ],
   "source": [
    "(R.diff_ptg.quantile(0.025),R.diff_ptg.quantile(0.975))"
   ]
  },
  {
   "cell_type": "code",
   "execution_count": 84,
   "metadata": {},
   "outputs": [
    {
     "data": {
      "text/html": [
       "<div>\n",
       "<style scoped>\n",
       "    .dataframe tbody tr th:only-of-type {\n",
       "        vertical-align: middle;\n",
       "    }\n",
       "\n",
       "    .dataframe tbody tr th {\n",
       "        vertical-align: top;\n",
       "    }\n",
       "\n",
       "    .dataframe thead th {\n",
       "        text-align: right;\n",
       "    }\n",
       "</style>\n",
       "<table border=\"1\" class=\"dataframe\">\n",
       "  <thead>\n",
       "    <tr style=\"text-align: right;\">\n",
       "      <th></th>\n",
       "      <th>V_pred</th>\n",
       "      <th>WanKe1 - Avg[I 有效值 A] (A)</th>\n",
       "      <th>diff</th>\n",
       "      <th>diff_ptg</th>\n",
       "    </tr>\n",
       "  </thead>\n",
       "  <tbody>\n",
       "    <tr>\n",
       "      <th>V_pred</th>\n",
       "      <td>1.000000</td>\n",
       "      <td>0.984438</td>\n",
       "      <td>0.012048</td>\n",
       "      <td>-0.027254</td>\n",
       "    </tr>\n",
       "    <tr>\n",
       "      <th>WanKe1 - Avg[I 有效值 A] (A)</th>\n",
       "      <td>0.984438</td>\n",
       "      <td>1.000000</td>\n",
       "      <td>-0.163857</td>\n",
       "      <td>-0.197005</td>\n",
       "    </tr>\n",
       "    <tr>\n",
       "      <th>diff</th>\n",
       "      <td>0.012048</td>\n",
       "      <td>-0.163857</td>\n",
       "      <td>1.000000</td>\n",
       "      <td>0.967990</td>\n",
       "    </tr>\n",
       "    <tr>\n",
       "      <th>diff_ptg</th>\n",
       "      <td>-0.027254</td>\n",
       "      <td>-0.197005</td>\n",
       "      <td>0.967990</td>\n",
       "      <td>1.000000</td>\n",
       "    </tr>\n",
       "  </tbody>\n",
       "</table>\n",
       "</div>"
      ],
      "text/plain": [
       "                              V_pred   WanKe1 - Avg[I 有效值 A] (A)      diff  \\\n",
       "V_pred                      1.000000                    0.984438  0.012048   \n",
       " WanKe1 - Avg[I 有效值 A] (A)  0.984438                    1.000000 -0.163857   \n",
       "diff                        0.012048                   -0.163857  1.000000   \n",
       "diff_ptg                   -0.027254                   -0.197005  0.967990   \n",
       "\n",
       "                            diff_ptg  \n",
       "V_pred                     -0.027254  \n",
       " WanKe1 - Avg[I 有效值 A] (A) -0.197005  \n",
       "diff                        0.967990  \n",
       "diff_ptg                    1.000000  "
      ]
     },
     "execution_count": 84,
     "metadata": {},
     "output_type": "execute_result"
    }
   ],
   "source": [
    "R.corr()"
   ]
  },
  {
   "cell_type": "code",
   "execution_count": 85,
   "metadata": {},
   "outputs": [
    {
     "data": {
      "text/plain": [
       " JiangChuan5 - Avg[I 有效值 A] (A)   -0.021256\n",
       " QinZhou4 - Avg[I 有效值 A] (A)       0.011036\n",
       " KunYang3 - Avg[I 有效值 A] (A)       0.117655\n",
       " JiangChuan4 - Avg[I 有效值 A] (A)    0.129051\n",
       " KunYang1 - Avg[I 有效值 A] (A)       0.211764\n",
       " Changliu2 - Avg[I 有效值 A] (A)      0.449006\n",
       " JiangChuan1 - Avg[I 有效值 A] (A)    0.464766\n",
       " QinZhou3 - Avg[I 有效值 A] (A)       0.471779\n",
       " Changliu3 - Avg[I 有效值 A] (A)      0.538785\n",
       " JiangChuan3 - Avg[I 有效值 A] (A)    0.769021\n",
       " WanKe2 - Avg[I 有效值 A] (A)         0.979156\n",
       " WanKe1 - Avg[I 有效值 A] (A)         1.000000\n",
       " Changliu1 - Avg[I 有效值 A] (A)           NaN\n",
       " JiangChuan2 - Avg[I 有效值 A] (A)         NaN\n",
       "Name:  WanKe1 - Avg[I 有效值 A] (A), dtype: float64"
      ]
     },
     "execution_count": 85,
     "metadata": {},
     "output_type": "execute_result"
    }
   ],
   "source": [
    "train_data.corr()[c[0]].sort_values()"
   ]
  },
  {
   "cell_type": "code",
   "execution_count": 89,
   "metadata": {},
   "outputs": [],
   "source": [
    "model.save(\"model_h5/M_I.h5\")"
   ]
  },
  {
   "cell_type": "code",
   "execution_count": 86,
   "metadata": {},
   "outputs": [
    {
     "data": {
      "text/html": [
       "<div>\n",
       "<style scoped>\n",
       "    .dataframe tbody tr th:only-of-type {\n",
       "        vertical-align: middle;\n",
       "    }\n",
       "\n",
       "    .dataframe tbody tr th {\n",
       "        vertical-align: top;\n",
       "    }\n",
       "\n",
       "    .dataframe thead th {\n",
       "        text-align: right;\n",
       "    }\n",
       "</style>\n",
       "<table border=\"1\" class=\"dataframe\">\n",
       "  <thead>\n",
       "    <tr style=\"text-align: right;\">\n",
       "      <th></th>\n",
       "      <th>WanKe1 - Avg[I 有效值 A] (A)</th>\n",
       "    </tr>\n",
       "    <tr>\n",
       "      <th>时间</th>\n",
       "      <th></th>\n",
       "    </tr>\n",
       "  </thead>\n",
       "  <tbody>\n",
       "    <tr>\n",
       "      <th>2018-02-02 05:24:00</th>\n",
       "      <td>51.452885</td>\n",
       "    </tr>\n",
       "    <tr>\n",
       "      <th>2018-02-01 01:42:00</th>\n",
       "      <td>60.619427</td>\n",
       "    </tr>\n",
       "    <tr>\n",
       "      <th>2018-02-02 20:36:00</th>\n",
       "      <td>124.057327</td>\n",
       "    </tr>\n",
       "    <tr>\n",
       "      <th>2018-02-07 13:15:00</th>\n",
       "      <td>94.474915</td>\n",
       "    </tr>\n",
       "    <tr>\n",
       "      <th>2018-02-03 09:27:00</th>\n",
       "      <td>101.578209</td>\n",
       "    </tr>\n",
       "    <tr>\n",
       "      <th>2018-02-05 09:48:00</th>\n",
       "      <td>93.604034</td>\n",
       "    </tr>\n",
       "  </tbody>\n",
       "</table>\n",
       "</div>"
      ],
      "text/plain": [
       "                      WanKe1 - Avg[I 有效值 A] (A)\n",
       "时间                                             \n",
       "2018-02-02 05:24:00                   51.452885\n",
       "2018-02-01 01:42:00                   60.619427\n",
       "2018-02-02 20:36:00                  124.057327\n",
       "2018-02-07 13:15:00                   94.474915\n",
       "2018-02-03 09:27:00                  101.578209\n",
       "2018-02-05 09:48:00                   93.604034"
      ]
     },
     "execution_count": 86,
     "metadata": {},
     "output_type": "execute_result"
    }
   ],
   "source": [
    "test[c][:6]"
   ]
  },
  {
   "cell_type": "code",
   "execution_count": 87,
   "metadata": {},
   "outputs": [
    {
     "data": {
      "text/html": [
       "<div>\n",
       "<style scoped>\n",
       "    .dataframe tbody tr th:only-of-type {\n",
       "        vertical-align: middle;\n",
       "    }\n",
       "\n",
       "    .dataframe tbody tr th {\n",
       "        vertical-align: top;\n",
       "    }\n",
       "\n",
       "    .dataframe thead th {\n",
       "        text-align: right;\n",
       "    }\n",
       "</style>\n",
       "<table border=\"1\" class=\"dataframe\">\n",
       "  <thead>\n",
       "    <tr style=\"text-align: right;\">\n",
       "      <th></th>\n",
       "      <th>WanKe1 - Avg[I 有效值 A] (A)</th>\n",
       "    </tr>\n",
       "    <tr>\n",
       "      <th>时间</th>\n",
       "      <th></th>\n",
       "    </tr>\n",
       "  </thead>\n",
       "  <tbody>\n",
       "    <tr>\n",
       "      <th>2018-02-02 05:24:00</th>\n",
       "      <td>51.452885</td>\n",
       "    </tr>\n",
       "    <tr>\n",
       "      <th>2018-02-01 01:42:00</th>\n",
       "      <td>60.619427</td>\n",
       "    </tr>\n",
       "    <tr>\n",
       "      <th>2018-02-02 20:36:00</th>\n",
       "      <td>124.057327</td>\n",
       "    </tr>\n",
       "    <tr>\n",
       "      <th>2018-02-07 13:15:00</th>\n",
       "      <td>94.474915</td>\n",
       "    </tr>\n",
       "    <tr>\n",
       "      <th>2018-02-03 09:27:00</th>\n",
       "      <td>101.578209</td>\n",
       "    </tr>\n",
       "    <tr>\n",
       "      <th>2018-02-05 09:48:00</th>\n",
       "      <td>93.604034</td>\n",
       "    </tr>\n",
       "  </tbody>\n",
       "</table>\n",
       "</div>"
      ],
      "text/plain": [
       "                      WanKe1 - Avg[I 有效值 A] (A)\n",
       "时间                                             \n",
       "2018-02-02 05:24:00                   51.452885\n",
       "2018-02-01 01:42:00                   60.619427\n",
       "2018-02-02 20:36:00                  124.057327\n",
       "2018-02-07 13:15:00                   94.474915\n",
       "2018-02-03 09:27:00                  101.578209\n",
       "2018-02-05 09:48:00                   93.604034"
      ]
     },
     "execution_count": 87,
     "metadata": {},
     "output_type": "execute_result"
    }
   ],
   "source": [
    "R[c][:6]"
   ]
  },
  {
   "cell_type": "code",
   "execution_count": 93,
   "metadata": {},
   "outputs": [
    {
     "data": {
      "text/plain": [
       "<matplotlib.axes._subplots.AxesSubplot at 0x7f6328752da0>"
      ]
     },
     "execution_count": 93,
     "metadata": {},
     "output_type": "execute_result"
    },
    {
     "data": {
      "image/png": "[encoded data removed]",
      "text/plain": [
       "<Figure size 864x288 with 1 Axes>"
      ]
     },
     "metadata": {},
     "output_type": "display_data"
    }
   ],
   "source": [
    "R.diff_ptg.hist(bins=100)"
   ]
  },
  {
   "cell_type": "code",
   "execution_count": null,
   "metadata": {},
   "outputs": [],
   "source": []
  }
 ],
 "metadata": {
  "kernelspec": {
   "display_name": "Python 3",
   "language": "python",
   "name": "python3"
  },
  "language_info": {
   "codemirror_mode": {
    "name": "ipython",
    "version": 3
   },
   "file_extension": ".py",
   "mimetype": "text/x-python",
   "name": "python",
   "nbconvert_exporter": "python",
   "pygments_lexer": "ipython3",
   "version": "3.6.5"
  }
 },
 "nbformat": 4,
 "nbformat_minor": 2
}
