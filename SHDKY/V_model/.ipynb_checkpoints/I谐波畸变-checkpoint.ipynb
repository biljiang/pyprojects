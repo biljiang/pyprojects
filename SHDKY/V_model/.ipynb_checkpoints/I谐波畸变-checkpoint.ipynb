{
 "cells": [
  {
   "cell_type": "code",
   "execution_count": 1,
   "metadata": {},
   "outputs": [],
   "source": [
    "import numpy as np\n",
    "import pandas as pd\n",
    "import pathlib as pl\n",
    "from datetime import datetime\n",
    "import matplotlib.pyplot as plot\n",
    "from pandas import DataFrame, Series"
   ]
  },
  {
   "cell_type": "code",
   "execution_count": 2,
   "metadata": {},
   "outputs": [
    {
     "name": "stdout",
     "output_type": "stream",
     "text": [
      "Reading kVKunYang3.csv\n",
      "Reading kVWanKe1.csv\n",
      "Reading kVChangLiu3.csv\n",
      "Reading kVJiangChuan1.csv\n",
      "Reading kVChangLiu2.csv\n",
      "Reading kVQinZhou4.csv\n",
      "Reading kVChangLiu1.csv\n",
      "Reading kVJiangChuan4.csv\n",
      "Reading kVJiangChuan5.csv\n",
      "Reading kVQinZhou3.csv\n",
      "Reading kVKunYang1.csv\n",
      "Reading kVJiangChuan3.csv\n",
      "Reading kVJiangChuan2.csv\n",
      "Reading kVChangLiu4.csv\n",
      "Reading kVWanKe2.csv\n"
     ]
    }
   ],
   "source": [
    "# read from csv files\n",
    "\n",
    "datapath=pl.Path(\"../csvdata\")\n",
    "\n",
    "file_list=[]\n",
    "dfs=[]\n",
    "for x in datapath.glob(\"*[0-9].csv\"):\n",
    "    print(\"Reading \"+x.name)\n",
    "    f=pd.read_csv(x,index_col=0,na_values=\" \")\n",
    "    dfs.append(f)\n",
    "    file_list.append(x.name)"
   ]
  },
  {
   "cell_type": "code",
   "execution_count": 3,
   "metadata": {},
   "outputs": [],
   "source": [
    "cols = [\"Avg[V 有效值 AB]\",\n",
    "# \"Avg[V 总谐波畸变率 A]\",\n",
    " \"Avg[V 负序不平衡 Total]\",\n",
    " \"Avg[V SPOS All]\",\n",
    " \"Avg[V SNEG All]\",\n",
    " \"Avg[V SZERO All]\",\n",
    "#\"Pst A\",\n",
    " \"Avg[I 有效值 A]\",\n",
    " \"Avg[I 总谐波畸变率 A]\",\n",
    " \"Avg[I 负序不平衡 Total]\",\n",
    " \"Avg[I SPOS All]\",\n",
    " \"Avg[I SNEG All]\",\n",
    " \"Avg[I ZERO All]\",\n",
    "# \"Avg[P A]\",\n",
    "# \"Avg[Q A]\",\n",
    "# \"Avg[S A]\",\n",
    "# \"Avg[功率因数 A]\"\n",
    " ]"
   ]
  },
  {
   "cell_type": "code",
   "execution_count": 4,
   "metadata": {},
   "outputs": [
    {
     "name": "stdout",
     "output_type": "stream",
     "text": [
      " KunYang3 - Avg[I 总谐波畸变率 A] (%)\n",
      " WanKe1 - Avg[I 总谐波畸变率 A] (%)\n",
      " Changliu3 - Avg[I 总谐波畸变率 A] (%)\n",
      " JiangChuan1 - Avg[I 总谐波畸变率 A] (%)\n",
      " Changliu2 - Avg[I 总谐波畸变率 A] (%)\n",
      " QinZhou4 - Avg[I 总谐波畸变率 A] (%)\n",
      " Changliu1 - Avg[I 总谐波畸变率 A] (%)\n",
      " JiangChuan4 - Avg[I 总谐波畸变率 A] (%)\n",
      " JiangChuan5 - Avg[I 总谐波畸变率 A] (%)\n",
      " QinZhou3 - Avg[I 总谐波畸变率 A] (%)\n",
      " KunYang1 - Avg[I 总谐波畸变率 A] (%)\n",
      " JiangChuan3 - Avg[I 总谐波畸变率 A] (%)\n",
      " JiangChuan2 - Avg[I 总谐波畸变率 A] (%)\n",
      " WanKe2 - Avg[I 总谐波畸变率 A] (%)\n",
      "14\n"
     ]
    }
   ],
   "source": [
    "tr_data=DataFrame()\n",
    "i=0\n",
    "for df in dfs:\n",
    "    for c in df.columns:\n",
    "        if c.find(\"Avg[I 总谐波畸变率 A]\")!=-1:\n",
    "            print (c)\n",
    "            tr_data[c]=df[c]\n",
    "            i+=1\n",
    "print(i)"
   ]
  },
  {
   "cell_type": "code",
   "execution_count": 5,
   "metadata": {},
   "outputs": [],
   "source": [
    "train_data=tr_data.dropna()"
   ]
  },
  {
   "cell_type": "code",
   "execution_count": 6,
   "metadata": {},
   "outputs": [
    {
     "data": {
      "text/plain": [
       "3299"
      ]
     },
     "execution_count": 6,
     "metadata": {},
     "output_type": "execute_result"
    }
   ],
   "source": [
    "len(train_data)"
   ]
  },
  {
   "cell_type": "code",
   "execution_count": 7,
   "metadata": {},
   "outputs": [],
   "source": [
    "train_data=train_data.dropna(axis=1)"
   ]
  },
  {
   "cell_type": "code",
   "execution_count": 8,
   "metadata": {},
   "outputs": [
    {
     "data": {
      "image/png": "[encoded data removed]",
      "text/plain": [
       "<Figure size 432x288 with 1 Axes>"
      ]
     },
     "metadata": {},
     "output_type": "display_data"
    }
   ],
   "source": [
    "corMat=DataFrame(train_data.corr())\n",
    "plot.pcolor(corMat)\n",
    "plot.show()"
   ]
  },
  {
   "cell_type": "code",
   "execution_count": 9,
   "metadata": {},
   "outputs": [
    {
     "data": {
      "text/html": [
       "<div>\n",
       "<style scoped>\n",
       "    .dataframe tbody tr th:only-of-type {\n",
       "        vertical-align: middle;\n",
       "    }\n",
       "\n",
       "    .dataframe tbody tr th {\n",
       "        vertical-align: top;\n",
       "    }\n",
       "\n",
       "    .dataframe thead th {\n",
       "        text-align: right;\n",
       "    }\n",
       "</style>\n",
       "<table border=\"1\" class=\"dataframe\">\n",
       "  <thead>\n",
       "    <tr style=\"text-align: right;\">\n",
       "      <th></th>\n",
       "      <th>KunYang3 - Avg[I 总谐波畸变率 A] (%)</th>\n",
       "      <th>WanKe1 - Avg[I 总谐波畸变率 A] (%)</th>\n",
       "      <th>Changliu3 - Avg[I 总谐波畸变率 A] (%)</th>\n",
       "      <th>JiangChuan1 - Avg[I 总谐波畸变率 A] (%)</th>\n",
       "      <th>Changliu2 - Avg[I 总谐波畸变率 A] (%)</th>\n",
       "      <th>QinZhou4 - Avg[I 总谐波畸变率 A] (%)</th>\n",
       "      <th>Changliu1 - Avg[I 总谐波畸变率 A] (%)</th>\n",
       "      <th>JiangChuan4 - Avg[I 总谐波畸变率 A] (%)</th>\n",
       "      <th>JiangChuan5 - Avg[I 总谐波畸变率 A] (%)</th>\n",
       "      <th>QinZhou3 - Avg[I 总谐波畸变率 A] (%)</th>\n",
       "      <th>KunYang1 - Avg[I 总谐波畸变率 A] (%)</th>\n",
       "      <th>JiangChuan3 - Avg[I 总谐波畸变率 A] (%)</th>\n",
       "      <th>JiangChuan2 - Avg[I 总谐波畸变率 A] (%)</th>\n",
       "      <th>WanKe2 - Avg[I 总谐波畸变率 A] (%)</th>\n",
       "    </tr>\n",
       "  </thead>\n",
       "  <tbody>\n",
       "    <tr>\n",
       "      <th>count</th>\n",
       "      <td>3299.000000</td>\n",
       "      <td>3299.000000</td>\n",
       "      <td>3299.000000</td>\n",
       "      <td>3299.000000</td>\n",
       "      <td>3299.000000</td>\n",
       "      <td>3299.000000</td>\n",
       "      <td>3299.0</td>\n",
       "      <td>3299.000000</td>\n",
       "      <td>3299.000000</td>\n",
       "      <td>3299.000000</td>\n",
       "      <td>3299.000000</td>\n",
       "      <td>3299.000000</td>\n",
       "      <td>3299.0</td>\n",
       "      <td>3299.000000</td>\n",
       "    </tr>\n",
       "    <tr>\n",
       "      <th>mean</th>\n",
       "      <td>16.818016</td>\n",
       "      <td>5.659051</td>\n",
       "      <td>4.779472</td>\n",
       "      <td>5.146255</td>\n",
       "      <td>5.406520</td>\n",
       "      <td>6.442635</td>\n",
       "      <td>0.0</td>\n",
       "      <td>2.943714</td>\n",
       "      <td>5.051560</td>\n",
       "      <td>12.931463</td>\n",
       "      <td>3.303089</td>\n",
       "      <td>2.100911</td>\n",
       "      <td>0.0</td>\n",
       "      <td>2.234104</td>\n",
       "    </tr>\n",
       "    <tr>\n",
       "      <th>std</th>\n",
       "      <td>2.604045</td>\n",
       "      <td>0.726696</td>\n",
       "      <td>0.856565</td>\n",
       "      <td>0.623609</td>\n",
       "      <td>2.296623</td>\n",
       "      <td>0.980733</td>\n",
       "      <td>0.0</td>\n",
       "      <td>0.912813</td>\n",
       "      <td>0.799308</td>\n",
       "      <td>7.612146</td>\n",
       "      <td>0.539118</td>\n",
       "      <td>0.735528</td>\n",
       "      <td>0.0</td>\n",
       "      <td>0.466024</td>\n",
       "    </tr>\n",
       "    <tr>\n",
       "      <th>min</th>\n",
       "      <td>8.623406</td>\n",
       "      <td>3.093312</td>\n",
       "      <td>2.892884</td>\n",
       "      <td>3.651004</td>\n",
       "      <td>2.001216</td>\n",
       "      <td>4.420679</td>\n",
       "      <td>0.0</td>\n",
       "      <td>1.209519</td>\n",
       "      <td>3.084638</td>\n",
       "      <td>0.000000</td>\n",
       "      <td>1.362612</td>\n",
       "      <td>0.644430</td>\n",
       "      <td>0.0</td>\n",
       "      <td>0.935815</td>\n",
       "    </tr>\n",
       "    <tr>\n",
       "      <th>25%</th>\n",
       "      <td>15.627271</td>\n",
       "      <td>5.261978</td>\n",
       "      <td>4.124409</td>\n",
       "      <td>4.688230</td>\n",
       "      <td>3.583682</td>\n",
       "      <td>5.859827</td>\n",
       "      <td>0.0</td>\n",
       "      <td>2.366158</td>\n",
       "      <td>4.579481</td>\n",
       "      <td>9.894316</td>\n",
       "      <td>2.975653</td>\n",
       "      <td>1.538746</td>\n",
       "      <td>0.0</td>\n",
       "      <td>1.924854</td>\n",
       "    </tr>\n",
       "    <tr>\n",
       "      <th>50%</th>\n",
       "      <td>17.065214</td>\n",
       "      <td>5.740324</td>\n",
       "      <td>4.755160</td>\n",
       "      <td>5.090663</td>\n",
       "      <td>4.796956</td>\n",
       "      <td>6.260199</td>\n",
       "      <td>0.0</td>\n",
       "      <td>2.834670</td>\n",
       "      <td>4.969506</td>\n",
       "      <td>13.961610</td>\n",
       "      <td>3.293417</td>\n",
       "      <td>1.964752</td>\n",
       "      <td>0.0</td>\n",
       "      <td>2.254883</td>\n",
       "    </tr>\n",
       "    <tr>\n",
       "      <th>75%</th>\n",
       "      <td>18.433609</td>\n",
       "      <td>6.158217</td>\n",
       "      <td>5.477915</td>\n",
       "      <td>5.578883</td>\n",
       "      <td>6.719194</td>\n",
       "      <td>6.983440</td>\n",
       "      <td>0.0</td>\n",
       "      <td>3.304986</td>\n",
       "      <td>5.371322</td>\n",
       "      <td>17.830499</td>\n",
       "      <td>3.627734</td>\n",
       "      <td>2.693332</td>\n",
       "      <td>0.0</td>\n",
       "      <td>2.553599</td>\n",
       "    </tr>\n",
       "    <tr>\n",
       "      <th>max</th>\n",
       "      <td>39.359561</td>\n",
       "      <td>7.539804</td>\n",
       "      <td>6.820919</td>\n",
       "      <td>6.979694</td>\n",
       "      <td>12.802744</td>\n",
       "      <td>9.298066</td>\n",
       "      <td>0.0</td>\n",
       "      <td>5.890634</td>\n",
       "      <td>9.787890</td>\n",
       "      <td>34.254235</td>\n",
       "      <td>5.309550</td>\n",
       "      <td>4.398526</td>\n",
       "      <td>0.0</td>\n",
       "      <td>4.014860</td>\n",
       "    </tr>\n",
       "  </tbody>\n",
       "</table>\n",
       "</div>"
      ],
      "text/plain": [
       "        KunYang3 - Avg[I 总谐波畸变率 A] (%)   WanKe1 - Avg[I 总谐波畸变率 A] (%)  \\\n",
       "count                      3299.000000                    3299.000000   \n",
       "mean                         16.818016                       5.659051   \n",
       "std                           2.604045                       0.726696   \n",
       "min                           8.623406                       3.093312   \n",
       "25%                          15.627271                       5.261978   \n",
       "50%                          17.065214                       5.740324   \n",
       "75%                          18.433609                       6.158217   \n",
       "max                          39.359561                       7.539804   \n",
       "\n",
       "        Changliu3 - Avg[I 总谐波畸变率 A] (%)   JiangChuan1 - Avg[I 总谐波畸变率 A] (%)  \\\n",
       "count                       3299.000000                         3299.000000   \n",
       "mean                           4.779472                            5.146255   \n",
       "std                            0.856565                            0.623609   \n",
       "min                            2.892884                            3.651004   \n",
       "25%                            4.124409                            4.688230   \n",
       "50%                            4.755160                            5.090663   \n",
       "75%                            5.477915                            5.578883   \n",
       "max                            6.820919                            6.979694   \n",
       "\n",
       "        Changliu2 - Avg[I 总谐波畸变率 A] (%)   QinZhou4 - Avg[I 总谐波畸变率 A] (%)  \\\n",
       "count                       3299.000000                      3299.000000   \n",
       "mean                           5.406520                         6.442635   \n",
       "std                            2.296623                         0.980733   \n",
       "min                            2.001216                         4.420679   \n",
       "25%                            3.583682                         5.859827   \n",
       "50%                            4.796956                         6.260199   \n",
       "75%                            6.719194                         6.983440   \n",
       "max                           12.802744                         9.298066   \n",
       "\n",
       "        Changliu1 - Avg[I 总谐波畸变率 A] (%)   JiangChuan4 - Avg[I 总谐波畸变率 A] (%)  \\\n",
       "count                            3299.0                         3299.000000   \n",
       "mean                                0.0                            2.943714   \n",
       "std                                 0.0                            0.912813   \n",
       "min                                 0.0                            1.209519   \n",
       "25%                                 0.0                            2.366158   \n",
       "50%                                 0.0                            2.834670   \n",
       "75%                                 0.0                            3.304986   \n",
       "max                                 0.0                            5.890634   \n",
       "\n",
       "        JiangChuan5 - Avg[I 总谐波畸变率 A] (%)   QinZhou3 - Avg[I 总谐波畸变率 A] (%)  \\\n",
       "count                         3299.000000                      3299.000000   \n",
       "mean                             5.051560                        12.931463   \n",
       "std                              0.799308                         7.612146   \n",
       "min                              3.084638                         0.000000   \n",
       "25%                              4.579481                         9.894316   \n",
       "50%                              4.969506                        13.961610   \n",
       "75%                              5.371322                        17.830499   \n",
       "max                              9.787890                        34.254235   \n",
       "\n",
       "        KunYang1 - Avg[I 总谐波畸变率 A] (%)   JiangChuan3 - Avg[I 总谐波畸变率 A] (%)  \\\n",
       "count                      3299.000000                         3299.000000   \n",
       "mean                          3.303089                            2.100911   \n",
       "std                           0.539118                            0.735528   \n",
       "min                           1.362612                            0.644430   \n",
       "25%                           2.975653                            1.538746   \n",
       "50%                           3.293417                            1.964752   \n",
       "75%                           3.627734                            2.693332   \n",
       "max                           5.309550                            4.398526   \n",
       "\n",
       "        JiangChuan2 - Avg[I 总谐波畸变率 A] (%)   WanKe2 - Avg[I 总谐波畸变率 A] (%)  \n",
       "count                              3299.0                    3299.000000  \n",
       "mean                                  0.0                       2.234104  \n",
       "std                                   0.0                       0.466024  \n",
       "min                                   0.0                       0.935815  \n",
       "25%                                   0.0                       1.924854  \n",
       "50%                                   0.0                       2.254883  \n",
       "75%                                   0.0                       2.553599  \n",
       "max                                   0.0                       4.014860  "
      ]
     },
     "execution_count": 9,
     "metadata": {},
     "output_type": "execute_result"
    }
   ],
   "source": [
    "train_data.describe()"
   ]
  },
  {
   "cell_type": "code",
   "execution_count": 10,
   "metadata": {},
   "outputs": [],
   "source": [
    "from sklearn.model_selection import train_test_split\n",
    "train,test= train_test_split(train_data,test_size=0.2,random_state=0)"
   ]
  },
  {
   "cell_type": "code",
   "execution_count": 11,
   "metadata": {},
   "outputs": [],
   "source": [
    "MAX= train.max()\n",
    "MIN = train.min()"
   ]
  },
  {
   "cell_type": "code",
   "execution_count": 12,
   "metadata": {},
   "outputs": [],
   "source": [
    "train_s=(train-MIN)/(MAX-MIN)\n",
    "test_s=(test-MIN)/(MAX-MIN)"
   ]
  },
  {
   "cell_type": "code",
   "execution_count": 13,
   "metadata": {},
   "outputs": [],
   "source": [
    "train_s=train_s.fillna(0)\n",
    "test_s=test_s.fillna(0)"
   ]
  },
  {
   "cell_type": "code",
   "execution_count": 14,
   "metadata": {},
   "outputs": [],
   "source": [
    "#  generate X_train,Y_train,X_test,Y_test for all target features\n",
    "X_train=train_s.copy();Y_train=DataFrame()\n",
    "\n",
    "for c in train_s.columns:\n",
    "    if c.find(\"WanKe1\") !=-1 :\n",
    "        Y_train[c]=train_s[c]\n",
    "        X_train=X_train.drop(c,axis=1)\n",
    "\n",
    "        \n",
    "X_test=test_s.copy();Y_test=DataFrame()\n",
    "\n",
    "for c in test_s.columns:\n",
    "    if c.find(\"WanKe1\") !=-1 :\n",
    "        Y_test[c]=test_s[c]\n",
    "        X_test=X_test.drop(c,axis=1)"
   ]
  },
  {
   "cell_type": "code",
   "execution_count": 15,
   "metadata": {},
   "outputs": [
    {
     "data": {
      "text/plain": [
       "'\\nfrom keras.models import Sequential\\nfrom keras.layers import Dense, Activation,Input\\nimport keras\\n\\n\\nmodel = Sequential()\\n\\nmodel.add(Dense(13, input_dim=13,kernel_initializer=\"normal\"))\\nmodel.add(Activation(\\'relu\\'))\\nmodel.add(Dense(7, activation=\\'relu\\',kernel_initializer=\"normal\"))\\nmodel.add(Dense(1, activation=\\'linear\\',kernel_initializer=\"normal\"))\\n'"
      ]
     },
     "execution_count": 15,
     "metadata": {},
     "output_type": "execute_result"
    }
   ],
   "source": [
    "###### network from keras for SHDKY data simulation ###########\n",
    "'''\n",
    "from keras.models import Sequential\n",
    "from keras.layers import Dense, Activation,Input\n",
    "import keras\n",
    "\n",
    "\n",
    "model = Sequential()\n",
    "\n",
    "model.add(Dense(13, input_dim=13,kernel_initializer=\"normal\"))\n",
    "model.add(Activation('relu'))\n",
    "model.add(Dense(7, activation='relu',kernel_initializer=\"normal\"))\n",
    "model.add(Dense(1, activation='linear',kernel_initializer=\"normal\"))\n",
    "'''"
   ]
  },
  {
   "cell_type": "code",
   "execution_count": 73,
   "metadata": {},
   "outputs": [],
   "source": [
    "###### network from keras for SHDKY data simulation ###########\n",
    "from keras.models import Sequential\n",
    "from keras.layers import Dense, Activation,Input\n",
    "import keras\n",
    "from keras import regularizers\n",
    "\n",
    "model = Sequential()\n",
    "\n",
    "#model.add(Dense(14, input_dim=14,kernel_initializer=\"normal\",kernel_regularizer=regularizers.l2(0.02)))\n",
    "#model.add(Activation('tanh'))\n",
    "#model.add(Dense(7,activation='tanh',kernel_initializer=\"normal\",kernel_regularizer=regularizers.l2(0.02)))\n",
    "#model.add(Dense(1, activation='linear',kernel_initializer=\"normal\",kernel_regularizer=regularizers.l2(0.01)))\n",
    "\n",
    "model.add(Dense(13, input_dim=13,kernel_initializer=\"normal\"))\n",
    "model.add(Activation('relu'))\n",
    "model.add(Dense(7,activation='relu',kernel_initializer=\"normal\"))\n",
    "model.add(Dense(1, activation='linear',kernel_initializer=\"normal\"))"
   ]
  },
  {
   "cell_type": "code",
   "execution_count": 74,
   "metadata": {},
   "outputs": [],
   "source": [
    "#model.compile(loss='mse', \n",
    "#              optimizer='adam',\n",
    "#              metrics=['mse'])"
   ]
  },
  {
   "cell_type": "code",
   "execution_count": 79,
   "metadata": {},
   "outputs": [],
   "source": [
    "model.compile(loss='mean_squared_error', \n",
    "              optimizer=keras.optimizers.SGD(lr=0.02),\n",
    "              metrics=['mse'])"
   ]
  },
  {
   "cell_type": "code",
   "execution_count": 80,
   "metadata": {},
   "outputs": [
    {
     "name": "stdout",
     "output_type": "stream",
     "text": [
      "Train on 2111 samples, validate on 528 samples\n",
      "Epoch 1/30\n",
      " - 0s - loss: 0.0292 - mean_squared_error: 0.0292 - val_loss: 0.0297 - val_mean_squared_error: 0.0297\n",
      "Epoch 2/30\n",
      " - 0s - loss: 0.0292 - mean_squared_error: 0.0292 - val_loss: 0.0296 - val_mean_squared_error: 0.0296\n",
      "Epoch 3/30\n",
      " - 0s - loss: 0.0292 - mean_squared_error: 0.0292 - val_loss: 0.0297 - val_mean_squared_error: 0.0297\n",
      "Epoch 4/30\n",
      " - 0s - loss: 0.0292 - mean_squared_error: 0.0292 - val_loss: 0.0297 - val_mean_squared_error: 0.0297\n",
      "Epoch 5/30\n",
      " - 0s - loss: 0.0292 - mean_squared_error: 0.0292 - val_loss: 0.0296 - val_mean_squared_error: 0.0296\n",
      "Epoch 6/30\n",
      " - 0s - loss: 0.0292 - mean_squared_error: 0.0292 - val_loss: 0.0297 - val_mean_squared_error: 0.0297\n",
      "Epoch 7/30\n",
      " - 0s - loss: 0.0292 - mean_squared_error: 0.0292 - val_loss: 0.0295 - val_mean_squared_error: 0.0295\n",
      "Epoch 8/30\n",
      " - 0s - loss: 0.0291 - mean_squared_error: 0.0291 - val_loss: 0.0296 - val_mean_squared_error: 0.0296\n",
      "Epoch 9/30\n",
      " - 0s - loss: 0.0291 - mean_squared_error: 0.0291 - val_loss: 0.0295 - val_mean_squared_error: 0.0295\n",
      "Epoch 10/30\n",
      " - 0s - loss: 0.0291 - mean_squared_error: 0.0291 - val_loss: 0.0295 - val_mean_squared_error: 0.0295\n",
      "Epoch 11/30\n",
      " - 0s - loss: 0.0291 - mean_squared_error: 0.0291 - val_loss: 0.0296 - val_mean_squared_error: 0.0296\n",
      "Epoch 12/30\n",
      " - 0s - loss: 0.0291 - mean_squared_error: 0.0291 - val_loss: 0.0295 - val_mean_squared_error: 0.0295\n",
      "Epoch 13/30\n",
      " - 0s - loss: 0.0291 - mean_squared_error: 0.0291 - val_loss: 0.0295 - val_mean_squared_error: 0.0295\n",
      "Epoch 14/30\n",
      " - 0s - loss: 0.0290 - mean_squared_error: 0.0290 - val_loss: 0.0295 - val_mean_squared_error: 0.0295\n",
      "Epoch 15/30\n",
      " - 0s - loss: 0.0290 - mean_squared_error: 0.0290 - val_loss: 0.0294 - val_mean_squared_error: 0.0294\n",
      "Epoch 16/30\n",
      " - 0s - loss: 0.0290 - mean_squared_error: 0.0290 - val_loss: 0.0294 - val_mean_squared_error: 0.0294\n",
      "Epoch 17/30\n",
      " - 0s - loss: 0.0290 - mean_squared_error: 0.0290 - val_loss: 0.0294 - val_mean_squared_error: 0.0294\n",
      "Epoch 18/30\n",
      " - 0s - loss: 0.0289 - mean_squared_error: 0.0289 - val_loss: 0.0294 - val_mean_squared_error: 0.0294\n",
      "Epoch 19/30\n",
      " - 0s - loss: 0.0289 - mean_squared_error: 0.0289 - val_loss: 0.0294 - val_mean_squared_error: 0.0294\n",
      "Epoch 20/30\n",
      " - 0s - loss: 0.0289 - mean_squared_error: 0.0289 - val_loss: 0.0293 - val_mean_squared_error: 0.0293\n",
      "Epoch 21/30\n",
      " - 0s - loss: 0.0289 - mean_squared_error: 0.0289 - val_loss: 0.0293 - val_mean_squared_error: 0.0293\n",
      "Epoch 22/30\n",
      " - 0s - loss: 0.0288 - mean_squared_error: 0.0288 - val_loss: 0.0293 - val_mean_squared_error: 0.0293\n",
      "Epoch 23/30\n",
      " - 0s - loss: 0.0288 - mean_squared_error: 0.0288 - val_loss: 0.0293 - val_mean_squared_error: 0.0293\n",
      "Epoch 24/30\n",
      " - 0s - loss: 0.0288 - mean_squared_error: 0.0288 - val_loss: 0.0292 - val_mean_squared_error: 0.0292\n",
      "Epoch 25/30\n",
      " - 0s - loss: 0.0288 - mean_squared_error: 0.0288 - val_loss: 0.0292 - val_mean_squared_error: 0.0292\n",
      "Epoch 26/30\n",
      " - 0s - loss: 0.0287 - mean_squared_error: 0.0287 - val_loss: 0.0292 - val_mean_squared_error: 0.0292\n",
      "Epoch 27/30\n",
      " - 0s - loss: 0.0287 - mean_squared_error: 0.0287 - val_loss: 0.0291 - val_mean_squared_error: 0.0291\n",
      "Epoch 28/30\n",
      " - 0s - loss: 0.0287 - mean_squared_error: 0.0287 - val_loss: 0.0291 - val_mean_squared_error: 0.0291\n",
      "Epoch 29/30\n",
      " - 0s - loss: 0.0287 - mean_squared_error: 0.0287 - val_loss: 0.0290 - val_mean_squared_error: 0.0290\n",
      "Epoch 30/30\n",
      " - 0s - loss: 0.0286 - mean_squared_error: 0.0286 - val_loss: 0.0290 - val_mean_squared_error: 0.0290\n"
     ]
    },
    {
     "data": {
      "text/plain": [
       "<keras.callbacks.History at 0x7f1d88ef2c88>"
      ]
     },
     "execution_count": 80,
     "metadata": {},
     "output_type": "execute_result"
    }
   ],
   "source": [
    "model.fit(X_train, Y_train, epochs=30,batch_size=30,\n",
    "          shuffle=True,verbose=2,validation_split=0.2) "
   ]
  },
  {
   "cell_type": "code",
   "execution_count": 87,
   "metadata": {},
   "outputs": [],
   "source": [
    "history= model.fit(X_train, Y_train, epochs=500,batch_size=50,\n",
    "                   shuffle=True,verbose=0,validation_split=0.2) "
   ]
  },
  {
   "cell_type": "code",
   "execution_count": 88,
   "metadata": {},
   "outputs": [
    {
     "data": {
      "image/png": "[encoded data removed]",
      "text/plain": [
       "<Figure size 864x288 with 1 Axes>"
      ]
     },
     "metadata": {},
     "output_type": "display_data"
    }
   ],
   "source": [
    "import matplotlib.pyplot as plt\n",
    "\n",
    "import pylab\n",
    "pylab.rcParams['figure.figsize'] = (12.0, 4.0)\n",
    "\n",
    "plt.plot(history.history['mean_squared_error'])\n",
    "plt.plot(history.history['val_mean_squared_error'])\n",
    "plt.title('Model loss')\n",
    "plt.ylabel('Loss')\n",
    "plt.xlabel('Epoch')\n",
    "plt.legend(['Train', 'Test'], loc='best')\n",
    "plt.show()"
   ]
  },
  {
   "cell_type": "code",
   "execution_count": 65,
   "metadata": {},
   "outputs": [],
   "source": [
    "#((model.predict(X_test)-Y_test)/Y_test)"
   ]
  },
  {
   "cell_type": "code",
   "execution_count": 89,
   "metadata": {},
   "outputs": [
    {
     "data": {
      "text/html": [
       "<div>\n",
       "<style scoped>\n",
       "    .dataframe tbody tr th:only-of-type {\n",
       "        vertical-align: middle;\n",
       "    }\n",
       "\n",
       "    .dataframe tbody tr th {\n",
       "        vertical-align: top;\n",
       "    }\n",
       "\n",
       "    .dataframe thead th {\n",
       "        text-align: right;\n",
       "    }\n",
       "</style>\n",
       "<table border=\"1\" class=\"dataframe\">\n",
       "  <thead>\n",
       "    <tr style=\"text-align: right;\">\n",
       "      <th></th>\n",
       "      <th>WanKe1 - Avg[I 总谐波畸变率 A] (%)</th>\n",
       "    </tr>\n",
       "  </thead>\n",
       "  <tbody>\n",
       "    <tr>\n",
       "      <th>count</th>\n",
       "      <td>660.000000</td>\n",
       "    </tr>\n",
       "    <tr>\n",
       "      <th>mean</th>\n",
       "      <td>-0.000660</td>\n",
       "    </tr>\n",
       "    <tr>\n",
       "      <th>std</th>\n",
       "      <td>0.109404</td>\n",
       "    </tr>\n",
       "    <tr>\n",
       "      <th>min</th>\n",
       "      <td>-0.409974</td>\n",
       "    </tr>\n",
       "    <tr>\n",
       "      <th>25%</th>\n",
       "      <td>-0.070228</td>\n",
       "    </tr>\n",
       "    <tr>\n",
       "      <th>50%</th>\n",
       "      <td>-0.006227</td>\n",
       "    </tr>\n",
       "    <tr>\n",
       "      <th>75%</th>\n",
       "      <td>0.064445</td>\n",
       "    </tr>\n",
       "    <tr>\n",
       "      <th>max</th>\n",
       "      <td>0.435320</td>\n",
       "    </tr>\n",
       "  </tbody>\n",
       "</table>\n",
       "</div>"
      ],
      "text/plain": [
       "        WanKe1 - Avg[I 总谐波畸变率 A] (%)\n",
       "count                     660.000000\n",
       "mean                       -0.000660\n",
       "std                         0.109404\n",
       "min                        -0.409974\n",
       "25%                        -0.070228\n",
       "50%                        -0.006227\n",
       "75%                         0.064445\n",
       "max                         0.435320"
      ]
     },
     "execution_count": 89,
     "metadata": {},
     "output_type": "execute_result"
    }
   ],
   "source": [
    "((model.predict(X_test)-Y_test)).describe()"
   ]
  },
  {
   "cell_type": "code",
   "execution_count": 90,
   "metadata": {},
   "outputs": [],
   "source": [
    "c=Y_test.columns\n",
    "R= pd.DataFrame(model.predict(X_test),columns=['V_pred'])\n",
    "R.index = Y_test.index\n",
    "R= R.join(Y_test)\n",
    "#R=  R*((MAX[c]-MIN[c])+MIN[c]).values[0]\n",
    "R=  R*(MAX[c]-MIN[c]).values[0]+MIN[c].values[0]"
   ]
  },
  {
   "cell_type": "code",
   "execution_count": 91,
   "metadata": {},
   "outputs": [
    {
     "data": {
      "text/plain": [
       "<matplotlib.axes._subplots.AxesSubplot at 0x7f1d8a31b470>"
      ]
     },
     "execution_count": 91,
     "metadata": {},
     "output_type": "execute_result"
    },
    {
     "data": {
      "image/png": "[encoded data removed]",
      "text/plain": [
       "<Figure size 864x288 with 1 Axes>"
      ]
     },
     "metadata": {},
     "output_type": "display_data"
    }
   ],
   "source": [
    "R_show=R.iloc[200:300,:]\n",
    "\n",
    "import pylab\n",
    "pylab.rcParams['figure.figsize'] = (12.0, 4.0)\n",
    "\n",
    "R_show.plot(alpha =0.5,figsize = (12,4))"
   ]
  },
  {
   "cell_type": "code",
   "execution_count": 69,
   "metadata": {},
   "outputs": [],
   "source": [
    "R[\"diff\"]=(R[\"V_pred\"]-R[c[0]])\n",
    "R[\"diff_ptg\"]=(R[\"V_pred\"]-R[c[0]])/R[c[0]]"
   ]
  },
  {
   "cell_type": "code",
   "execution_count": 70,
   "metadata": {},
   "outputs": [
    {
     "data": {
      "text/html": [
       "<div>\n",
       "<style scoped>\n",
       "    .dataframe tbody tr th:only-of-type {\n",
       "        vertical-align: middle;\n",
       "    }\n",
       "\n",
       "    .dataframe tbody tr th {\n",
       "        vertical-align: top;\n",
       "    }\n",
       "\n",
       "    .dataframe thead th {\n",
       "        text-align: right;\n",
       "    }\n",
       "</style>\n",
       "<table border=\"1\" class=\"dataframe\">\n",
       "  <thead>\n",
       "    <tr style=\"text-align: right;\">\n",
       "      <th></th>\n",
       "      <th>V_pred</th>\n",
       "      <th>WanKe1 - Avg[I 总谐波畸变率 A] (%)</th>\n",
       "      <th>diff</th>\n",
       "      <th>diff_ptg</th>\n",
       "    </tr>\n",
       "  </thead>\n",
       "  <tbody>\n",
       "    <tr>\n",
       "      <th>count</th>\n",
       "      <td>660.000000</td>\n",
       "      <td>660.000000</td>\n",
       "      <td>660.000000</td>\n",
       "      <td>660.000000</td>\n",
       "    </tr>\n",
       "    <tr>\n",
       "      <th>mean</th>\n",
       "      <td>5.620169</td>\n",
       "      <td>5.633392</td>\n",
       "      <td>-0.013222</td>\n",
       "      <td>0.004059</td>\n",
       "    </tr>\n",
       "    <tr>\n",
       "      <th>std</th>\n",
       "      <td>0.612248</td>\n",
       "      <td>0.723213</td>\n",
       "      <td>0.461225</td>\n",
       "      <td>0.090905</td>\n",
       "    </tr>\n",
       "    <tr>\n",
       "      <th>min</th>\n",
       "      <td>3.307371</td>\n",
       "      <td>3.242608</td>\n",
       "      <td>-1.564290</td>\n",
       "      <td>-0.277331</td>\n",
       "    </tr>\n",
       "    <tr>\n",
       "      <th>25%</th>\n",
       "      <td>5.262037</td>\n",
       "      <td>5.239049</td>\n",
       "      <td>-0.295712</td>\n",
       "      <td>-0.048730</td>\n",
       "    </tr>\n",
       "    <tr>\n",
       "      <th>50%</th>\n",
       "      <td>5.721596</td>\n",
       "      <td>5.721329</td>\n",
       "      <td>-0.024056</td>\n",
       "      <td>-0.004006</td>\n",
       "    </tr>\n",
       "    <tr>\n",
       "      <th>75%</th>\n",
       "      <td>6.014009</td>\n",
       "      <td>6.105629</td>\n",
       "      <td>0.251595</td>\n",
       "      <td>0.046956</td>\n",
       "    </tr>\n",
       "    <tr>\n",
       "      <th>max</th>\n",
       "      <td>7.307699</td>\n",
       "      <td>7.539804</td>\n",
       "      <td>2.071183</td>\n",
       "      <td>0.551612</td>\n",
       "    </tr>\n",
       "  </tbody>\n",
       "</table>\n",
       "</div>"
      ],
      "text/plain": [
       "           V_pred   WanKe1 - Avg[I 总谐波畸变率 A] (%)        diff    diff_ptg\n",
       "count  660.000000                     660.000000  660.000000  660.000000\n",
       "mean     5.620169                       5.633392   -0.013222    0.004059\n",
       "std      0.612248                       0.723213    0.461225    0.090905\n",
       "min      3.307371                       3.242608   -1.564290   -0.277331\n",
       "25%      5.262037                       5.239049   -0.295712   -0.048730\n",
       "50%      5.721596                       5.721329   -0.024056   -0.004006\n",
       "75%      6.014009                       6.105629    0.251595    0.046956\n",
       "max      7.307699                       7.539804    2.071183    0.551612"
      ]
     },
     "execution_count": 70,
     "metadata": {},
     "output_type": "execute_result"
    }
   ],
   "source": [
    "R.describe()"
   ]
  },
  {
   "cell_type": "code",
   "execution_count": 108,
   "metadata": {},
   "outputs": [
    {
     "name": "stdout",
     "output_type": "stream",
     "text": [
      "-0.12309871928291063\n",
      "0.21718795085021364\n"
     ]
    }
   ],
   "source": [
    "print(R.diff_ptg.quantile(0.025))\n",
    "print(R.diff_ptg.quantile(0.975))"
   ]
  },
  {
   "cell_type": "code",
   "execution_count": 99,
   "metadata": {},
   "outputs": [
    {
     "data": {
      "text/html": [
       "<div>\n",
       "<style scoped>\n",
       "    .dataframe tbody tr th:only-of-type {\n",
       "        vertical-align: middle;\n",
       "    }\n",
       "\n",
       "    .dataframe tbody tr th {\n",
       "        vertical-align: top;\n",
       "    }\n",
       "\n",
       "    .dataframe thead th {\n",
       "        text-align: right;\n",
       "    }\n",
       "</style>\n",
       "<table border=\"1\" class=\"dataframe\">\n",
       "  <thead>\n",
       "    <tr style=\"text-align: right;\">\n",
       "      <th></th>\n",
       "      <th>V_pred</th>\n",
       "      <th>WanKe1 - Avg[I 总谐波畸变率 A] (%)</th>\n",
       "      <th>diff</th>\n",
       "      <th>diff_ptg</th>\n",
       "    </tr>\n",
       "    <tr>\n",
       "      <th>时间</th>\n",
       "      <th></th>\n",
       "      <th></th>\n",
       "      <th></th>\n",
       "      <th></th>\n",
       "    </tr>\n",
       "  </thead>\n",
       "  <tbody>\n",
       "    <tr>\n",
       "      <th>2018-02-07 08:15:00</th>\n",
       "      <td>5.437734</td>\n",
       "      <td>4.023443</td>\n",
       "      <td>1.414291</td>\n",
       "      <td>0.351513</td>\n",
       "    </tr>\n",
       "    <tr>\n",
       "      <th>2018-02-07 10:45:00</th>\n",
       "      <td>7.291836</td>\n",
       "      <td>5.346597</td>\n",
       "      <td>1.945239</td>\n",
       "      <td>0.363827</td>\n",
       "    </tr>\n",
       "    <tr>\n",
       "      <th>2018-02-02 10:27:00</th>\n",
       "      <td>5.575353</td>\n",
       "      <td>3.930085</td>\n",
       "      <td>1.645268</td>\n",
       "      <td>0.418634</td>\n",
       "    </tr>\n",
       "    <tr>\n",
       "      <th>2018-02-05 07:00:00</th>\n",
       "      <td>5.370502</td>\n",
       "      <td>3.754783</td>\n",
       "      <td>1.615719</td>\n",
       "      <td>0.430310</td>\n",
       "    </tr>\n",
       "    <tr>\n",
       "      <th>2018-02-06 07:42:00</th>\n",
       "      <td>5.198274</td>\n",
       "      <td>3.575403</td>\n",
       "      <td>1.622870</td>\n",
       "      <td>0.453899</td>\n",
       "    </tr>\n",
       "    <tr>\n",
       "      <th>2018-02-02 07:48:00</th>\n",
       "      <td>4.765547</td>\n",
       "      <td>3.242608</td>\n",
       "      <td>1.522939</td>\n",
       "      <td>0.469665</td>\n",
       "    </tr>\n",
       "  </tbody>\n",
       "</table>\n",
       "</div>"
      ],
      "text/plain": [
       "                       V_pred   WanKe1 - Avg[I 总谐波畸变率 A] (%)      diff  \\\n",
       "时间                                                                       \n",
       "2018-02-07 08:15:00  5.437734                       4.023443  1.414291   \n",
       "2018-02-07 10:45:00  7.291836                       5.346597  1.945239   \n",
       "2018-02-02 10:27:00  5.575353                       3.930085  1.645268   \n",
       "2018-02-05 07:00:00  5.370502                       3.754783  1.615719   \n",
       "2018-02-06 07:42:00  5.198274                       3.575403  1.622870   \n",
       "2018-02-02 07:48:00  4.765547                       3.242608  1.522939   \n",
       "\n",
       "                     diff_ptg  \n",
       "时间                             \n",
       "2018-02-07 08:15:00  0.351513  \n",
       "2018-02-07 10:45:00  0.363827  \n",
       "2018-02-02 10:27:00  0.418634  \n",
       "2018-02-05 07:00:00  0.430310  \n",
       "2018-02-06 07:42:00  0.453899  \n",
       "2018-02-02 07:48:00  0.469665  "
      ]
     },
     "execution_count": 99,
     "metadata": {},
     "output_type": "execute_result"
    }
   ],
   "source": [
    "R.sort_values(\"diff_ptg\")[-6:]"
   ]
  },
  {
   "cell_type": "code",
   "execution_count": 72,
   "metadata": {},
   "outputs": [
    {
     "data": {
      "text/html": [
       "<div>\n",
       "<style scoped>\n",
       "    .dataframe tbody tr th:only-of-type {\n",
       "        vertical-align: middle;\n",
       "    }\n",
       "\n",
       "    .dataframe tbody tr th {\n",
       "        vertical-align: top;\n",
       "    }\n",
       "\n",
       "    .dataframe thead th {\n",
       "        text-align: right;\n",
       "    }\n",
       "</style>\n",
       "<table border=\"1\" class=\"dataframe\">\n",
       "  <thead>\n",
       "    <tr style=\"text-align: right;\">\n",
       "      <th></th>\n",
       "      <th>V_pred</th>\n",
       "      <th>WanKe1 - Avg[I 总谐波畸变率 A] (%)</th>\n",
       "      <th>diff</th>\n",
       "      <th>diff_ptg</th>\n",
       "    </tr>\n",
       "  </thead>\n",
       "  <tbody>\n",
       "    <tr>\n",
       "      <th>V_pred</th>\n",
       "      <td>1.000000</td>\n",
       "      <td>0.773689</td>\n",
       "      <td>0.114275</td>\n",
       "      <td>0.089506</td>\n",
       "    </tr>\n",
       "    <tr>\n",
       "      <th>WanKe1 - Avg[I 总谐波畸变率 A] (%)</th>\n",
       "      <td>0.773689</td>\n",
       "      <td>1.000000</td>\n",
       "      <td>-0.541002</td>\n",
       "      <td>-0.549793</td>\n",
       "    </tr>\n",
       "    <tr>\n",
       "      <th>diff</th>\n",
       "      <td>0.114275</td>\n",
       "      <td>-0.541002</td>\n",
       "      <td>1.000000</td>\n",
       "      <td>0.980905</td>\n",
       "    </tr>\n",
       "    <tr>\n",
       "      <th>diff_ptg</th>\n",
       "      <td>0.089506</td>\n",
       "      <td>-0.549793</td>\n",
       "      <td>0.980905</td>\n",
       "      <td>1.000000</td>\n",
       "    </tr>\n",
       "  </tbody>\n",
       "</table>\n",
       "</div>"
      ],
      "text/plain": [
       "                                 V_pred   WanKe1 - Avg[I 总谐波畸变率 A] (%)  \\\n",
       "V_pred                         1.000000                       0.773689   \n",
       " WanKe1 - Avg[I 总谐波畸变率 A] (%)  0.773689                       1.000000   \n",
       "diff                           0.114275                      -0.541002   \n",
       "diff_ptg                       0.089506                      -0.549793   \n",
       "\n",
       "                                   diff  diff_ptg  \n",
       "V_pred                         0.114275  0.089506  \n",
       " WanKe1 - Avg[I 总谐波畸变率 A] (%) -0.541002 -0.549793  \n",
       "diff                           1.000000  0.980905  \n",
       "diff_ptg                       0.980905  1.000000  "
      ]
     },
     "execution_count": 72,
     "metadata": {},
     "output_type": "execute_result"
    }
   ],
   "source": [
    "R.corr()"
   ]
  },
  {
   "cell_type": "code",
   "execution_count": 97,
   "metadata": {},
   "outputs": [
    {
     "data": {
      "text/plain": [
       " QinZhou4 - Avg[I 总谐波畸变率 A] (%)      -0.087676\n",
       " QinZhou3 - Avg[I 总谐波畸变率 A] (%)      -0.064897\n",
       " KunYang3 - Avg[I 总谐波畸变率 A] (%)      -0.056392\n",
       " JiangChuan4 - Avg[I 总谐波畸变率 A] (%)   -0.021110\n",
       " KunYang1 - Avg[I 总谐波畸变率 A] (%)       0.014628\n",
       " JiangChuan1 - Avg[I 总谐波畸变率 A] (%)    0.032542\n",
       " Changliu2 - Avg[I 总谐波畸变率 A] (%)      0.035155\n",
       " JiangChuan3 - Avg[I 总谐波畸变率 A] (%)    0.047642\n",
       " Changliu3 - Avg[I 总谐波畸变率 A] (%)      0.093683\n",
       " JiangChuan5 - Avg[I 总谐波畸变率 A] (%)    0.100360\n",
       " WanKe2 - Avg[I 总谐波畸变率 A] (%)         0.340460\n",
       " WanKe1 - Avg[I 总谐波畸变率 A] (%)         1.000000\n",
       " Changliu1 - Avg[I 总谐波畸变率 A] (%)           NaN\n",
       " JiangChuan2 - Avg[I 总谐波畸变率 A] (%)         NaN\n",
       "Name:  WanKe1 - Avg[I 总谐波畸变率 A] (%), dtype: float64"
      ]
     },
     "execution_count": 97,
     "metadata": {},
     "output_type": "execute_result"
    }
   ],
   "source": [
    "train_data.corr()[c[0]].sort_values()"
   ]
  },
  {
   "cell_type": "code",
   "execution_count": 100,
   "metadata": {},
   "outputs": [
    {
     "data": {
      "text/html": [
       "<div>\n",
       "<style scoped>\n",
       "    .dataframe tbody tr th:only-of-type {\n",
       "        vertical-align: middle;\n",
       "    }\n",
       "\n",
       "    .dataframe tbody tr th {\n",
       "        vertical-align: top;\n",
       "    }\n",
       "\n",
       "    .dataframe thead th {\n",
       "        text-align: right;\n",
       "    }\n",
       "</style>\n",
       "<table border=\"1\" class=\"dataframe\">\n",
       "  <thead>\n",
       "    <tr style=\"text-align: right;\">\n",
       "      <th></th>\n",
       "      <th>WanKe1 - Avg[I 总谐波畸变率 A] (%)</th>\n",
       "    </tr>\n",
       "    <tr>\n",
       "      <th>时间</th>\n",
       "      <th></th>\n",
       "    </tr>\n",
       "  </thead>\n",
       "  <tbody>\n",
       "    <tr>\n",
       "      <th>2018-02-02 05:24:00</th>\n",
       "      <td>5.759893</td>\n",
       "    </tr>\n",
       "    <tr>\n",
       "      <th>2018-02-01 01:42:00</th>\n",
       "      <td>5.967027</td>\n",
       "    </tr>\n",
       "    <tr>\n",
       "      <th>2018-02-02 20:36:00</th>\n",
       "      <td>5.603711</td>\n",
       "    </tr>\n",
       "    <tr>\n",
       "      <th>2018-02-07 13:15:00</th>\n",
       "      <td>6.472240</td>\n",
       "    </tr>\n",
       "    <tr>\n",
       "      <th>2018-02-03 09:27:00</th>\n",
       "      <td>5.658613</td>\n",
       "    </tr>\n",
       "    <tr>\n",
       "      <th>2018-02-05 09:48:00</th>\n",
       "      <td>4.778352</td>\n",
       "    </tr>\n",
       "  </tbody>\n",
       "</table>\n",
       "</div>"
      ],
      "text/plain": [
       "                      WanKe1 - Avg[I 总谐波畸变率 A] (%)\n",
       "时间                                                \n",
       "2018-02-02 05:24:00                       5.759893\n",
       "2018-02-01 01:42:00                       5.967027\n",
       "2018-02-02 20:36:00                       5.603711\n",
       "2018-02-07 13:15:00                       6.472240\n",
       "2018-02-03 09:27:00                       5.658613\n",
       "2018-02-05 09:48:00                       4.778352"
      ]
     },
     "execution_count": 100,
     "metadata": {},
     "output_type": "execute_result"
    }
   ],
   "source": [
    "test[c][:6]"
   ]
  },
  {
   "cell_type": "code",
   "execution_count": 109,
   "metadata": {},
   "outputs": [],
   "source": [
    "model.save(\"model_h5/M_I谐波畸变.h5\")"
   ]
  },
  {
   "cell_type": "code",
   "execution_count": 101,
   "metadata": {},
   "outputs": [
    {
     "data": {
      "text/html": [
       "<div>\n",
       "<style scoped>\n",
       "    .dataframe tbody tr th:only-of-type {\n",
       "        vertical-align: middle;\n",
       "    }\n",
       "\n",
       "    .dataframe tbody tr th {\n",
       "        vertical-align: top;\n",
       "    }\n",
       "\n",
       "    .dataframe thead th {\n",
       "        text-align: right;\n",
       "    }\n",
       "</style>\n",
       "<table border=\"1\" class=\"dataframe\">\n",
       "  <thead>\n",
       "    <tr style=\"text-align: right;\">\n",
       "      <th></th>\n",
       "      <th>WanKe1 - Avg[I 总谐波畸变率 A] (%)</th>\n",
       "    </tr>\n",
       "    <tr>\n",
       "      <th>时间</th>\n",
       "      <th></th>\n",
       "    </tr>\n",
       "  </thead>\n",
       "  <tbody>\n",
       "    <tr>\n",
       "      <th>2018-02-02 05:24:00</th>\n",
       "      <td>5.759893</td>\n",
       "    </tr>\n",
       "    <tr>\n",
       "      <th>2018-02-01 01:42:00</th>\n",
       "      <td>5.967027</td>\n",
       "    </tr>\n",
       "    <tr>\n",
       "      <th>2018-02-02 20:36:00</th>\n",
       "      <td>5.603711</td>\n",
       "    </tr>\n",
       "    <tr>\n",
       "      <th>2018-02-07 13:15:00</th>\n",
       "      <td>6.472240</td>\n",
       "    </tr>\n",
       "    <tr>\n",
       "      <th>2018-02-03 09:27:00</th>\n",
       "      <td>5.658613</td>\n",
       "    </tr>\n",
       "    <tr>\n",
       "      <th>2018-02-05 09:48:00</th>\n",
       "      <td>4.778352</td>\n",
       "    </tr>\n",
       "  </tbody>\n",
       "</table>\n",
       "</div>"
      ],
      "text/plain": [
       "                      WanKe1 - Avg[I 总谐波畸变率 A] (%)\n",
       "时间                                                \n",
       "2018-02-02 05:24:00                       5.759893\n",
       "2018-02-01 01:42:00                       5.967027\n",
       "2018-02-02 20:36:00                       5.603711\n",
       "2018-02-07 13:15:00                       6.472240\n",
       "2018-02-03 09:27:00                       5.658613\n",
       "2018-02-05 09:48:00                       4.778352"
      ]
     },
     "execution_count": 101,
     "metadata": {},
     "output_type": "execute_result"
    }
   ],
   "source": [
    "R[c][:6]"
   ]
  },
  {
   "cell_type": "code",
   "execution_count": 71,
   "metadata": {},
   "outputs": [
    {
     "data": {
      "text/plain": [
       "<matplotlib.axes._subplots.AxesSubplot at 0x7f1d8965a9e8>"
      ]
     },
     "execution_count": 71,
     "metadata": {},
     "output_type": "execute_result"
    },
    {
     "data": {
      "image/png": "[encoded data removed]",
      "text/plain": [
       "<Figure size 864x288 with 1 Axes>"
      ]
     },
     "metadata": {},
     "output_type": "display_data"
    }
   ],
   "source": [
    "R.diff_ptg.hist(bins=100)"
   ]
  },
  {
   "cell_type": "code",
   "execution_count": null,
   "metadata": {},
   "outputs": [],
   "source": []
  }
 ],
 "metadata": {
  "kernelspec": {
   "display_name": "Python 3",
   "language": "python",
   "name": "python3"
  },
  "language_info": {
   "codemirror_mode": {
    "name": "ipython",
    "version": 3
   },
   "file_extension": ".py",
   "mimetype": "text/x-python",
   "name": "python",
   "nbconvert_exporter": "python",
   "pygments_lexer": "ipython3",
   "version": "3.6.5"
  }
 },
 "nbformat": 4,
 "nbformat_minor": 2
}
