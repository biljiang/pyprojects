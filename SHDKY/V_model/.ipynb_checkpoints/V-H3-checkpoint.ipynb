{
 "cells": [
  {
   "cell_type": "code",
   "execution_count": 1,
   "metadata": {},
   "outputs": [],
   "source": [
    "import numpy as np\n",
    "import pandas as pd\n",
    "import pathlib as pl\n",
    "from datetime import datetime\n",
    "import matplotlib.pyplot as plot\n",
    "from pandas import DataFrame, Series"
   ]
  },
  {
   "cell_type": "code",
   "execution_count": 2,
   "metadata": {},
   "outputs": [
    {
     "name": "stdout",
     "output_type": "stream",
     "text": [
      "Reading 110kVChangLiu1-H.csv\n",
      "Reading 110kVChangLiu3-H.csv\n",
      "Reading 35kVJiangChuan4-H.csv\n",
      "Reading 110kVChangLiu4-H.csv\n",
      "Reading 110kVJiangChuan3-H.csv\n",
      "Reading 110kVJiangChuan2-H.csv\n",
      "Reading 10kVWanKe2-H.csv\n",
      "Reading 110kVChangLiu2-H.csv\n",
      "Reading 110kVJiangChuan1-H.csv\n",
      "Reading 35kVJiangChuan5-H.csv\n",
      "Reading 10kVQinZhou4-H.csv\n",
      "Reading 10kVQinZhou3-H.csv\n",
      "Reading 35kVKunYang1-H.csv\n",
      "Reading 10kVWanKe1-H.csv\n",
      "Reading 10kVKunYang3-H.csv\n"
     ]
    }
   ],
   "source": [
    "# read from csv files\n",
    "\n",
    "datapath=pl.Path(\"../csvdata\")\n",
    "\n",
    "file_list=[]\n",
    "dfs=[]\n",
    "for x in datapath.glob(\"*H.csv\"):\n",
    "    print(\"Reading \"+x.name)\n",
    "    f=pd.read_csv(x,index_col=0,na_values=\" \")\n",
    "    dfs.append(f)\n",
    "    file_list.append(x.name)"
   ]
  },
  {
   "cell_type": "code",
   "execution_count": 3,
   "metadata": {},
   "outputs": [
    {
     "data": {
      "text/plain": [
       "Index([' KunYang3 - Min[Va H1] (V)', ' KunYang3 - Avg[Va H1] (V)',\n",
       "       ' KunYang3 - Max[Va H1] (V)', ' KunYang3 - Min[Vb H1] (V)',\n",
       "       ' KunYang3 - Avg[Vb H1] (V)', ' KunYang3 - Max[Vb H1] (V)',\n",
       "       ' KunYang3 - Min[Vc H1] (V)', ' KunYang3 - Avg[Vc H1] (V)',\n",
       "       ' KunYang3 - Max[Vc H1] (V)', ' KunYang3 - Min[Ia H1] (A)',\n",
       "       ...\n",
       "       ' KunYang3 - Max[Vc H25] (V)', ' KunYang3 - Min[Ia H25] (A)',\n",
       "       ' KunYang3 - Avg[Ia H25] (A)', ' KunYang3 - Max[Ia H25] (A)',\n",
       "       ' KunYang3 - Min[Ib H25] (A)', ' KunYang3 - Avg[Ib H25] (A)',\n",
       "       ' KunYang3 - Max[Ib H25] (A)', ' KunYang3 - Min[Ic H25] (A)',\n",
       "       ' KunYang3 - Avg[Ic H25] (A)', ' KunYang3 - Max[Ic H25] (A)'],\n",
       "      dtype='object', length=450)"
      ]
     },
     "execution_count": 3,
     "metadata": {},
     "output_type": "execute_result"
    }
   ],
   "source": [
    "f.columns"
   ]
  },
  {
   "cell_type": "code",
   "execution_count": 4,
   "metadata": {},
   "outputs": [
    {
     "name": "stdout",
     "output_type": "stream",
     "text": [
      " Changliu1 - Avg[Va H3] (V)\n",
      " Changliu3 - Avg[Va H3] (V)\n",
      " JiangChuan4 - Avg[Va H3] (V)\n",
      " Changliu4 - Avg[Va H3] (V)\n",
      " JiangChuan3 - Avg[Va H3] (V)\n",
      " JiangChuan2 - Avg[Va H3] (V)\n",
      " WanKe2 - Avg[Va H3] (V)\n",
      " Changliu2 - Avg[Va H3] (V)\n",
      " JiangChuan1 - Avg[Va H3] (V)\n",
      " JiangChuan5 - Avg[Va H3] (V)\n",
      " QinZhou4 - Avg[Va H3] (V)\n",
      " QinZhou3 - Avg[Va H3] (V)\n",
      " KunYang1 - Avg[Va H3] (V)\n",
      " WanKe1 - Avg[Va H3] (V)\n",
      " KunYang3 - Avg[Va H3] (V)\n",
      "15\n"
     ]
    }
   ],
   "source": [
    "tr_data=DataFrame()\n",
    "i=0\n",
    "for df in dfs:\n",
    "    for c in df.columns:\n",
    "        if c.find(\"Avg[Va H3]\")!=-1:\n",
    "            print (c)\n",
    "            tr_data[c]=df[c]\n",
    "            i+=1\n",
    "print(i)"
   ]
  },
  {
   "cell_type": "code",
   "execution_count": 5,
   "metadata": {},
   "outputs": [],
   "source": [
    "train_data=tr_data.dropna()"
   ]
  },
  {
   "cell_type": "code",
   "execution_count": 6,
   "metadata": {},
   "outputs": [
    {
     "data": {
      "text/plain": [
       "3299"
      ]
     },
     "execution_count": 6,
     "metadata": {},
     "output_type": "execute_result"
    }
   ],
   "source": [
    "len(train_data)"
   ]
  },
  {
   "cell_type": "code",
   "execution_count": 7,
   "metadata": {},
   "outputs": [],
   "source": [
    "train_data=train_data.dropna(axis=1)"
   ]
  },
  {
   "cell_type": "code",
   "execution_count": 8,
   "metadata": {},
   "outputs": [
    {
     "data": {
      "image/png": "[encoded data removed]",
      "text/plain": [
       "<Figure size 432x288 with 1 Axes>"
      ]
     },
     "metadata": {},
     "output_type": "display_data"
    }
   ],
   "source": [
    "corMat=DataFrame(train_data.corr())\n",
    "plot.pcolor(corMat)\n",
    "plot.show()"
   ]
  },
  {
   "cell_type": "code",
   "execution_count": 9,
   "metadata": {},
   "outputs": [
    {
     "data": {
      "text/html": [
       "<div>\n",
       "<style scoped>\n",
       "    .dataframe tbody tr th:only-of-type {\n",
       "        vertical-align: middle;\n",
       "    }\n",
       "\n",
       "    .dataframe tbody tr th {\n",
       "        vertical-align: top;\n",
       "    }\n",
       "\n",
       "    .dataframe thead th {\n",
       "        text-align: right;\n",
       "    }\n",
       "</style>\n",
       "<table border=\"1\" class=\"dataframe\">\n",
       "  <thead>\n",
       "    <tr style=\"text-align: right;\">\n",
       "      <th></th>\n",
       "      <th>Changliu1 - Avg[Va H3] (V)</th>\n",
       "      <th>Changliu3 - Avg[Va H3] (V)</th>\n",
       "      <th>JiangChuan4 - Avg[Va H3] (V)</th>\n",
       "      <th>Changliu4 - Avg[Va H3] (V)</th>\n",
       "      <th>JiangChuan3 - Avg[Va H3] (V)</th>\n",
       "      <th>JiangChuan2 - Avg[Va H3] (V)</th>\n",
       "      <th>WanKe2 - Avg[Va H3] (V)</th>\n",
       "      <th>Changliu2 - Avg[Va H3] (V)</th>\n",
       "      <th>JiangChuan1 - Avg[Va H3] (V)</th>\n",
       "      <th>JiangChuan5 - Avg[Va H3] (V)</th>\n",
       "      <th>QinZhou4 - Avg[Va H3] (V)</th>\n",
       "      <th>QinZhou3 - Avg[Va H3] (V)</th>\n",
       "      <th>KunYang1 - Avg[Va H3] (V)</th>\n",
       "      <th>WanKe1 - Avg[Va H3] (V)</th>\n",
       "      <th>KunYang3 - Avg[Va H3] (V)</th>\n",
       "    </tr>\n",
       "  </thead>\n",
       "  <tbody>\n",
       "    <tr>\n",
       "      <th>count</th>\n",
       "      <td>3299.000000</td>\n",
       "      <td>3299.000000</td>\n",
       "      <td>3299.000000</td>\n",
       "      <td>3299.000000</td>\n",
       "      <td>3299.000000</td>\n",
       "      <td>3299.000000</td>\n",
       "      <td>3299.000000</td>\n",
       "      <td>3299.000000</td>\n",
       "      <td>3299.000000</td>\n",
       "      <td>3299.000000</td>\n",
       "      <td>3299.000000</td>\n",
       "      <td>3299.000000</td>\n",
       "      <td>3299.000000</td>\n",
       "      <td>3299.000000</td>\n",
       "      <td>3299.000000</td>\n",
       "    </tr>\n",
       "    <tr>\n",
       "      <th>mean</th>\n",
       "      <td>46.433290</td>\n",
       "      <td>41.270690</td>\n",
       "      <td>26.029830</td>\n",
       "      <td>46.616451</td>\n",
       "      <td>57.763487</td>\n",
       "      <td>71.804985</td>\n",
       "      <td>9.179380</td>\n",
       "      <td>51.561151</td>\n",
       "      <td>69.958332</td>\n",
       "      <td>16.093489</td>\n",
       "      <td>10.894883</td>\n",
       "      <td>10.703246</td>\n",
       "      <td>20.140973</td>\n",
       "      <td>8.101914</td>\n",
       "      <td>11.048508</td>\n",
       "    </tr>\n",
       "    <tr>\n",
       "      <th>std</th>\n",
       "      <td>17.205120</td>\n",
       "      <td>18.288598</td>\n",
       "      <td>19.963262</td>\n",
       "      <td>18.190312</td>\n",
       "      <td>27.578694</td>\n",
       "      <td>18.006364</td>\n",
       "      <td>4.152513</td>\n",
       "      <td>14.217452</td>\n",
       "      <td>55.281121</td>\n",
       "      <td>4.908761</td>\n",
       "      <td>4.091967</td>\n",
       "      <td>3.000456</td>\n",
       "      <td>8.583879</td>\n",
       "      <td>3.416894</td>\n",
       "      <td>2.354653</td>\n",
       "    </tr>\n",
       "    <tr>\n",
       "      <th>min</th>\n",
       "      <td>6.494638</td>\n",
       "      <td>2.714374</td>\n",
       "      <td>1.658077</td>\n",
       "      <td>7.201819</td>\n",
       "      <td>5.192605</td>\n",
       "      <td>24.164274</td>\n",
       "      <td>1.593265</td>\n",
       "      <td>15.772482</td>\n",
       "      <td>4.080633</td>\n",
       "      <td>3.689660</td>\n",
       "      <td>1.551557</td>\n",
       "      <td>1.787854</td>\n",
       "      <td>4.615591</td>\n",
       "      <td>1.547993</td>\n",
       "      <td>5.165754</td>\n",
       "    </tr>\n",
       "    <tr>\n",
       "      <th>25%</th>\n",
       "      <td>33.947510</td>\n",
       "      <td>27.468232</td>\n",
       "      <td>15.272182</td>\n",
       "      <td>32.616882</td>\n",
       "      <td>38.417458</td>\n",
       "      <td>59.828953</td>\n",
       "      <td>5.923898</td>\n",
       "      <td>41.863611</td>\n",
       "      <td>34.133839</td>\n",
       "      <td>12.664459</td>\n",
       "      <td>7.712622</td>\n",
       "      <td>8.535328</td>\n",
       "      <td>13.912220</td>\n",
       "      <td>5.339250</td>\n",
       "      <td>9.565337</td>\n",
       "    </tr>\n",
       "    <tr>\n",
       "      <th>50%</th>\n",
       "      <td>46.015984</td>\n",
       "      <td>39.678368</td>\n",
       "      <td>20.344063</td>\n",
       "      <td>44.849205</td>\n",
       "      <td>52.506844</td>\n",
       "      <td>68.595085</td>\n",
       "      <td>8.278029</td>\n",
       "      <td>50.604393</td>\n",
       "      <td>51.441067</td>\n",
       "      <td>16.387505</td>\n",
       "      <td>10.318714</td>\n",
       "      <td>10.483410</td>\n",
       "      <td>19.060085</td>\n",
       "      <td>7.397362</td>\n",
       "      <td>10.720626</td>\n",
       "    </tr>\n",
       "    <tr>\n",
       "      <th>75%</th>\n",
       "      <td>58.257740</td>\n",
       "      <td>53.134056</td>\n",
       "      <td>27.353436</td>\n",
       "      <td>58.031200</td>\n",
       "      <td>68.953323</td>\n",
       "      <td>84.778084</td>\n",
       "      <td>12.241568</td>\n",
       "      <td>59.846865</td>\n",
       "      <td>86.705025</td>\n",
       "      <td>19.336660</td>\n",
       "      <td>14.011926</td>\n",
       "      <td>12.943670</td>\n",
       "      <td>24.438532</td>\n",
       "      <td>10.633447</td>\n",
       "      <td>12.672326</td>\n",
       "    </tr>\n",
       "    <tr>\n",
       "      <th>max</th>\n",
       "      <td>103.680977</td>\n",
       "      <td>99.992325</td>\n",
       "      <td>95.360336</td>\n",
       "      <td>107.038445</td>\n",
       "      <td>138.177231</td>\n",
       "      <td>124.027405</td>\n",
       "      <td>20.931952</td>\n",
       "      <td>100.712166</td>\n",
       "      <td>250.481308</td>\n",
       "      <td>32.469051</td>\n",
       "      <td>23.325956</td>\n",
       "      <td>20.067720</td>\n",
       "      <td>45.598892</td>\n",
       "      <td>18.284916</td>\n",
       "      <td>17.709082</td>\n",
       "    </tr>\n",
       "  </tbody>\n",
       "</table>\n",
       "</div>"
      ],
      "text/plain": [
       "        Changliu1 - Avg[Va H3] (V)   Changliu3 - Avg[Va H3] (V)  \\\n",
       "count                  3299.000000                  3299.000000   \n",
       "mean                     46.433290                    41.270690   \n",
       "std                      17.205120                    18.288598   \n",
       "min                       6.494638                     2.714374   \n",
       "25%                      33.947510                    27.468232   \n",
       "50%                      46.015984                    39.678368   \n",
       "75%                      58.257740                    53.134056   \n",
       "max                     103.680977                    99.992325   \n",
       "\n",
       "        JiangChuan4 - Avg[Va H3] (V)   Changliu4 - Avg[Va H3] (V)  \\\n",
       "count                    3299.000000                  3299.000000   \n",
       "mean                       26.029830                    46.616451   \n",
       "std                        19.963262                    18.190312   \n",
       "min                         1.658077                     7.201819   \n",
       "25%                        15.272182                    32.616882   \n",
       "50%                        20.344063                    44.849205   \n",
       "75%                        27.353436                    58.031200   \n",
       "max                        95.360336                   107.038445   \n",
       "\n",
       "        JiangChuan3 - Avg[Va H3] (V)   JiangChuan2 - Avg[Va H3] (V)  \\\n",
       "count                    3299.000000                    3299.000000   \n",
       "mean                       57.763487                      71.804985   \n",
       "std                        27.578694                      18.006364   \n",
       "min                         5.192605                      24.164274   \n",
       "25%                        38.417458                      59.828953   \n",
       "50%                        52.506844                      68.595085   \n",
       "75%                        68.953323                      84.778084   \n",
       "max                       138.177231                     124.027405   \n",
       "\n",
       "        WanKe2 - Avg[Va H3] (V)   Changliu2 - Avg[Va H3] (V)  \\\n",
       "count               3299.000000                  3299.000000   \n",
       "mean                   9.179380                    51.561151   \n",
       "std                    4.152513                    14.217452   \n",
       "min                    1.593265                    15.772482   \n",
       "25%                    5.923898                    41.863611   \n",
       "50%                    8.278029                    50.604393   \n",
       "75%                   12.241568                    59.846865   \n",
       "max                   20.931952                   100.712166   \n",
       "\n",
       "        JiangChuan1 - Avg[Va H3] (V)   JiangChuan5 - Avg[Va H3] (V)  \\\n",
       "count                    3299.000000                    3299.000000   \n",
       "mean                       69.958332                      16.093489   \n",
       "std                        55.281121                       4.908761   \n",
       "min                         4.080633                       3.689660   \n",
       "25%                        34.133839                      12.664459   \n",
       "50%                        51.441067                      16.387505   \n",
       "75%                        86.705025                      19.336660   \n",
       "max                       250.481308                      32.469051   \n",
       "\n",
       "        QinZhou4 - Avg[Va H3] (V)   QinZhou3 - Avg[Va H3] (V)  \\\n",
       "count                 3299.000000                 3299.000000   \n",
       "mean                    10.894883                   10.703246   \n",
       "std                      4.091967                    3.000456   \n",
       "min                      1.551557                    1.787854   \n",
       "25%                      7.712622                    8.535328   \n",
       "50%                     10.318714                   10.483410   \n",
       "75%                     14.011926                   12.943670   \n",
       "max                     23.325956                   20.067720   \n",
       "\n",
       "        KunYang1 - Avg[Va H3] (V)   WanKe1 - Avg[Va H3] (V)  \\\n",
       "count                 3299.000000               3299.000000   \n",
       "mean                    20.140973                  8.101914   \n",
       "std                      8.583879                  3.416894   \n",
       "min                      4.615591                  1.547993   \n",
       "25%                     13.912220                  5.339250   \n",
       "50%                     19.060085                  7.397362   \n",
       "75%                     24.438532                 10.633447   \n",
       "max                     45.598892                 18.284916   \n",
       "\n",
       "        KunYang3 - Avg[Va H3] (V)  \n",
       "count                 3299.000000  \n",
       "mean                    11.048508  \n",
       "std                      2.354653  \n",
       "min                      5.165754  \n",
       "25%                      9.565337  \n",
       "50%                     10.720626  \n",
       "75%                     12.672326  \n",
       "max                     17.709082  "
      ]
     },
     "execution_count": 9,
     "metadata": {},
     "output_type": "execute_result"
    }
   ],
   "source": [
    "train_data.describe()"
   ]
  },
  {
   "cell_type": "code",
   "execution_count": 12,
   "metadata": {},
   "outputs": [],
   "source": [
    "from sklearn.model_selection import train_test_split\n",
    "train,test= train_test_split(train_data,test_size=0.2,random_state=0)"
   ]
  },
  {
   "cell_type": "code",
   "execution_count": 13,
   "metadata": {},
   "outputs": [],
   "source": [
    "MAX= train.max()\n",
    "MIN = train.min()"
   ]
  },
  {
   "cell_type": "code",
   "execution_count": 14,
   "metadata": {},
   "outputs": [],
   "source": [
    "train_s=(train-MIN)/(MAX-MIN)\n",
    "test_s=(test-MIN)/(MAX-MIN)"
   ]
  },
  {
   "cell_type": "code",
   "execution_count": 15,
   "metadata": {},
   "outputs": [],
   "source": [
    "train_s=train_s.fillna(0)\n",
    "test_s=test_s.fillna(0)"
   ]
  },
  {
   "cell_type": "code",
   "execution_count": 16,
   "metadata": {},
   "outputs": [],
   "source": [
    "#  generate X_train,Y_train,X_test,Y_test for all target features\n",
    "X_train=train_s.copy();Y_train=DataFrame()\n",
    "\n",
    "for c in train_s.columns:\n",
    "    if c.find(\"WanKe1\") !=-1 :\n",
    "        Y_train[c]=train_s[c]\n",
    "        X_train=X_train.drop(c,axis=1)\n",
    "\n",
    "        \n",
    "X_test=test_s.copy();Y_test=DataFrame()\n",
    "\n",
    "for c in test_s.columns:\n",
    "    if c.find(\"WanKe1\") !=-1 :\n",
    "        Y_test[c]=test_s[c]\n",
    "        X_test=X_test.drop(c,axis=1)"
   ]
  },
  {
   "cell_type": "code",
   "execution_count": 17,
   "metadata": {},
   "outputs": [
    {
     "name": "stderr",
     "output_type": "stream",
     "text": [
      "/home/techstar/anaconda3/lib/python3.6/site-packages/h5py/__init__.py:36: FutureWarning: Conversion of the second argument of issubdtype from `float` to `np.floating` is deprecated. In future, it will be treated as `np.float64 == np.dtype(float).type`.\n",
      "  from ._conv import register_converters as _register_converters\n",
      "Using TensorFlow backend.\n"
     ]
    }
   ],
   "source": [
    "###### network from keras for SHDKY data simulation ###########\n",
    "from keras.models import Sequential\n",
    "from keras.layers import Dense, Activation,Input\n",
    "import keras\n",
    "\n",
    "\n",
    "model = Sequential()\n",
    "\n",
    "model.add(Dense(28, input_dim=14,kernel_initializer=\"normal\"))\n",
    "model.add(Activation('relu'))\n",
    "model.add(Dense(7, activation='relu',kernel_initializer=\"normal\"))\n",
    "model.add(Dense(1, activation='linear',kernel_initializer=\"normal\"))"
   ]
  },
  {
   "cell_type": "code",
   "execution_count": 18,
   "metadata": {},
   "outputs": [],
   "source": [
    "model.compile(loss='mean_squared_error', \n",
    "              optimizer=keras.optimizers.SGD(lr=0.02))"
   ]
  },
  {
   "cell_type": "code",
   "execution_count": 109,
   "metadata": {},
   "outputs": [
    {
     "name": "stdout",
     "output_type": "stream",
     "text": [
      "Train on 2111 samples, validate on 528 samples\n",
      "Epoch 1/30\n",
      " - 0s - loss: 0.0021 - val_loss: 0.0024\n",
      "Epoch 2/30\n",
      " - 0s - loss: 0.0021 - val_loss: 0.0024\n",
      "Epoch 3/30\n",
      " - 0s - loss: 0.0020 - val_loss: 0.0024\n",
      "Epoch 4/30\n",
      " - 0s - loss: 0.0021 - val_loss: 0.0024\n",
      "Epoch 5/30\n",
      " - 0s - loss: 0.0021 - val_loss: 0.0024\n",
      "Epoch 6/30\n",
      " - 0s - loss: 0.0021 - val_loss: 0.0024\n",
      "Epoch 7/30\n",
      " - 0s - loss: 0.0021 - val_loss: 0.0024\n",
      "Epoch 8/30\n",
      " - 0s - loss: 0.0020 - val_loss: 0.0025\n",
      "Epoch 9/30\n",
      " - 0s - loss: 0.0020 - val_loss: 0.0024\n",
      "Epoch 10/30\n",
      " - 0s - loss: 0.0020 - val_loss: 0.0024\n",
      "Epoch 11/30\n",
      " - 0s - loss: 0.0021 - val_loss: 0.0024\n",
      "Epoch 12/30\n",
      " - 0s - loss: 0.0020 - val_loss: 0.0024\n",
      "Epoch 13/30\n",
      " - 0s - loss: 0.0020 - val_loss: 0.0024\n",
      "Epoch 14/30\n",
      " - 0s - loss: 0.0021 - val_loss: 0.0024\n",
      "Epoch 15/30\n",
      " - 0s - loss: 0.0020 - val_loss: 0.0024\n",
      "Epoch 16/30\n",
      " - 0s - loss: 0.0021 - val_loss: 0.0024\n",
      "Epoch 17/30\n",
      " - 0s - loss: 0.0020 - val_loss: 0.0024\n",
      "Epoch 18/30\n",
      " - 0s - loss: 0.0020 - val_loss: 0.0024\n",
      "Epoch 19/30\n",
      " - 0s - loss: 0.0021 - val_loss: 0.0025\n",
      "Epoch 20/30\n",
      " - 0s - loss: 0.0020 - val_loss: 0.0025\n",
      "Epoch 21/30\n",
      " - 0s - loss: 0.0020 - val_loss: 0.0024\n",
      "Epoch 22/30\n",
      " - 0s - loss: 0.0020 - val_loss: 0.0024\n",
      "Epoch 23/30\n",
      " - 0s - loss: 0.0020 - val_loss: 0.0024\n",
      "Epoch 24/30\n",
      " - 0s - loss: 0.0020 - val_loss: 0.0024\n",
      "Epoch 25/30\n",
      " - 0s - loss: 0.0020 - val_loss: 0.0024\n",
      "Epoch 26/30\n",
      " - 0s - loss: 0.0021 - val_loss: 0.0024\n",
      "Epoch 27/30\n",
      " - 0s - loss: 0.0020 - val_loss: 0.0024\n",
      "Epoch 28/30\n",
      " - 0s - loss: 0.0021 - val_loss: 0.0025\n",
      "Epoch 29/30\n",
      " - 0s - loss: 0.0020 - val_loss: 0.0024\n",
      "Epoch 30/30\n",
      " - 0s - loss: 0.0020 - val_loss: 0.0024\n"
     ]
    },
    {
     "data": {
      "text/plain": [
       "<keras.callbacks.History at 0x7f803c2e8160>"
      ]
     },
     "execution_count": 109,
     "metadata": {},
     "output_type": "execute_result"
    }
   ],
   "source": [
    "model.fit(X_train, Y_train, epochs=30,batch_size=30,\n",
    "          shuffle=True,verbose=2,validation_split=0.2) "
   ]
  },
  {
   "cell_type": "code",
   "execution_count": 110,
   "metadata": {},
   "outputs": [],
   "source": [
    "#((model.predict(X_test)-Y_test)/Y_test)"
   ]
  },
  {
   "cell_type": "code",
   "execution_count": 111,
   "metadata": {},
   "outputs": [
    {
     "data": {
      "text/html": [
       "<div>\n",
       "<style scoped>\n",
       "    .dataframe tbody tr th:only-of-type {\n",
       "        vertical-align: middle;\n",
       "    }\n",
       "\n",
       "    .dataframe tbody tr th {\n",
       "        vertical-align: top;\n",
       "    }\n",
       "\n",
       "    .dataframe thead th {\n",
       "        text-align: right;\n",
       "    }\n",
       "</style>\n",
       "<table border=\"1\" class=\"dataframe\">\n",
       "  <thead>\n",
       "    <tr style=\"text-align: right;\">\n",
       "      <th></th>\n",
       "      <th>WanKe1 - Avg[Va H3] (V)</th>\n",
       "    </tr>\n",
       "  </thead>\n",
       "  <tbody>\n",
       "    <tr>\n",
       "      <th>count</th>\n",
       "      <td>660.000000</td>\n",
       "    </tr>\n",
       "    <tr>\n",
       "      <th>mean</th>\n",
       "      <td>0.004365</td>\n",
       "    </tr>\n",
       "    <tr>\n",
       "      <th>std</th>\n",
       "      <td>0.047662</td>\n",
       "    </tr>\n",
       "    <tr>\n",
       "      <th>min</th>\n",
       "      <td>-0.154416</td>\n",
       "    </tr>\n",
       "    <tr>\n",
       "      <th>25%</th>\n",
       "      <td>-0.027088</td>\n",
       "    </tr>\n",
       "    <tr>\n",
       "      <th>50%</th>\n",
       "      <td>0.005878</td>\n",
       "    </tr>\n",
       "    <tr>\n",
       "      <th>75%</th>\n",
       "      <td>0.036440</td>\n",
       "    </tr>\n",
       "    <tr>\n",
       "      <th>max</th>\n",
       "      <td>0.134067</td>\n",
       "    </tr>\n",
       "  </tbody>\n",
       "</table>\n",
       "</div>"
      ],
      "text/plain": [
       "        WanKe1 - Avg[Va H3] (V)\n",
       "count                660.000000\n",
       "mean                   0.004365\n",
       "std                    0.047662\n",
       "min                   -0.154416\n",
       "25%                   -0.027088\n",
       "50%                    0.005878\n",
       "75%                    0.036440\n",
       "max                    0.134067"
      ]
     },
     "execution_count": 111,
     "metadata": {},
     "output_type": "execute_result"
    }
   ],
   "source": [
    "((model.predict(X_test)-Y_test)).describe()"
   ]
  },
  {
   "cell_type": "code",
   "execution_count": 112,
   "metadata": {},
   "outputs": [],
   "source": [
    "c=Y_test.columns\n",
    "R= pd.DataFrame(model.predict(X_test),columns=['V_pred'])\n",
    "R.index = Y_test.index\n",
    "R= R.join(Y_test)\n",
    "R=  R*(MAX[c]-MIN[c]).values[0]+MIN[c].values[0]\n"
   ]
  },
  {
   "cell_type": "code",
   "execution_count": 113,
   "metadata": {},
   "outputs": [
    {
     "data": {
      "text/plain": [
       "<matplotlib.axes._subplots.AxesSubplot at 0x7f803c292fd0>"
      ]
     },
     "execution_count": 113,
     "metadata": {},
     "output_type": "execute_result"
    },
    {
     "data": {
      "image/png": "[encoded data removed]",
      "text/plain": [
       "<Figure size 864x288 with 1 Axes>"
      ]
     },
     "metadata": {},
     "output_type": "display_data"
    }
   ],
   "source": [
    "R_show=R.iloc[200:300,:]\n",
    "\n",
    "import pylab\n",
    "pylab.rcParams['figure.figsize'] = (12.0, 4.0)\n",
    "\n",
    "R_show.plot(alpha =0.5,figsize = (12,4))"
   ]
  },
  {
   "cell_type": "code",
   "execution_count": 116,
   "metadata": {},
   "outputs": [],
   "source": [
    "R[\"diff\"]=(R[\"V_pred\"]-R[c[0]])\n",
    "R[\"diff_ptg\"]=(R[\"V_pred\"]-R[c[0]])/R[c[0]]"
   ]
  },
  {
   "cell_type": "code",
   "execution_count": 117,
   "metadata": {},
   "outputs": [
    {
     "data": {
      "text/html": [
       "<div>\n",
       "<style scoped>\n",
       "    .dataframe tbody tr th:only-of-type {\n",
       "        vertical-align: middle;\n",
       "    }\n",
       "\n",
       "    .dataframe tbody tr th {\n",
       "        vertical-align: top;\n",
       "    }\n",
       "\n",
       "    .dataframe thead th {\n",
       "        text-align: right;\n",
       "    }\n",
       "</style>\n",
       "<table border=\"1\" class=\"dataframe\">\n",
       "  <thead>\n",
       "    <tr style=\"text-align: right;\">\n",
       "      <th></th>\n",
       "      <th>V_pred</th>\n",
       "      <th>WanKe1 - Avg[Va H3] (V)</th>\n",
       "      <th>diff</th>\n",
       "      <th>diff_ptg</th>\n",
       "    </tr>\n",
       "  </thead>\n",
       "  <tbody>\n",
       "    <tr>\n",
       "      <th>count</th>\n",
       "      <td>660.000000</td>\n",
       "      <td>660.000000</td>\n",
       "      <td>660.000000</td>\n",
       "      <td>660.000000</td>\n",
       "    </tr>\n",
       "    <tr>\n",
       "      <th>mean</th>\n",
       "      <td>8.159778</td>\n",
       "      <td>8.086730</td>\n",
       "      <td>0.073050</td>\n",
       "      <td>0.027140</td>\n",
       "    </tr>\n",
       "    <tr>\n",
       "      <th>std</th>\n",
       "      <td>3.359703</td>\n",
       "      <td>3.420094</td>\n",
       "      <td>0.797708</td>\n",
       "      <td>0.149476</td>\n",
       "    </tr>\n",
       "    <tr>\n",
       "      <th>min</th>\n",
       "      <td>3.071855</td>\n",
       "      <td>2.049639</td>\n",
       "      <td>-2.584443</td>\n",
       "      <td>-0.362251</td>\n",
       "    </tr>\n",
       "    <tr>\n",
       "      <th>25%</th>\n",
       "      <td>5.503675</td>\n",
       "      <td>5.259024</td>\n",
       "      <td>-0.453375</td>\n",
       "      <td>-0.056051</td>\n",
       "    </tr>\n",
       "    <tr>\n",
       "      <th>50%</th>\n",
       "      <td>7.291238</td>\n",
       "      <td>7.261664</td>\n",
       "      <td>0.098382</td>\n",
       "      <td>0.010767</td>\n",
       "    </tr>\n",
       "    <tr>\n",
       "      <th>75%</th>\n",
       "      <td>10.852704</td>\n",
       "      <td>10.923208</td>\n",
       "      <td>0.609898</td>\n",
       "      <td>0.084945</td>\n",
       "    </tr>\n",
       "    <tr>\n",
       "      <th>max</th>\n",
       "      <td>17.516537</td>\n",
       "      <td>18.121792</td>\n",
       "      <td>2.243876</td>\n",
       "      <td>0.897765</td>\n",
       "    </tr>\n",
       "  </tbody>\n",
       "</table>\n",
       "</div>"
      ],
      "text/plain": [
       "           V_pred   WanKe1 - Avg[Va H3] (V)        diff    diff_ptg\n",
       "count  660.000000                660.000000  660.000000  660.000000\n",
       "mean     8.159778                  8.086730    0.073050    0.027140\n",
       "std      3.359703                  3.420094    0.797708    0.149476\n",
       "min      3.071855                  2.049639   -2.584443   -0.362251\n",
       "25%      5.503675                  5.259024   -0.453375   -0.056051\n",
       "50%      7.291238                  7.261664    0.098382    0.010767\n",
       "75%     10.852704                 10.923208    0.609898    0.084945\n",
       "max     17.516537                 18.121792    2.243876    0.897765"
      ]
     },
     "execution_count": 117,
     "metadata": {},
     "output_type": "execute_result"
    }
   ],
   "source": [
    "R.describe()"
   ]
  },
  {
   "cell_type": "code",
   "execution_count": 118,
   "metadata": {},
   "outputs": [
    {
     "data": {
      "text/plain": [
       "(-0.17324932032344928, 0.28578145360210033)"
      ]
     },
     "execution_count": 118,
     "metadata": {},
     "output_type": "execute_result"
    }
   ],
   "source": [
    "(R.diff_ptg.quantile(0.05),R.diff_ptg.quantile(0.95))"
   ]
  },
  {
   "cell_type": "code",
   "execution_count": 119,
   "metadata": {},
   "outputs": [
    {
     "data": {
      "text/html": [
       "<div>\n",
       "<style scoped>\n",
       "    .dataframe tbody tr th:only-of-type {\n",
       "        vertical-align: middle;\n",
       "    }\n",
       "\n",
       "    .dataframe tbody tr th {\n",
       "        vertical-align: top;\n",
       "    }\n",
       "\n",
       "    .dataframe thead th {\n",
       "        text-align: right;\n",
       "    }\n",
       "</style>\n",
       "<table border=\"1\" class=\"dataframe\">\n",
       "  <thead>\n",
       "    <tr style=\"text-align: right;\">\n",
       "      <th></th>\n",
       "      <th>V_pred</th>\n",
       "      <th>WanKe1 - Avg[Va H3] (V)</th>\n",
       "      <th>diff</th>\n",
       "      <th>diff_ptg</th>\n",
       "    </tr>\n",
       "    <tr>\n",
       "      <th>时间</th>\n",
       "      <th></th>\n",
       "      <th></th>\n",
       "      <th></th>\n",
       "      <th></th>\n",
       "    </tr>\n",
       "  </thead>\n",
       "  <tbody>\n",
       "    <tr>\n",
       "      <th>2018-02-02 05:24:00</th>\n",
       "      <td>17.396671</td>\n",
       "      <td>17.429249</td>\n",
       "      <td>-0.032578</td>\n",
       "      <td>-0.001869</td>\n",
       "    </tr>\n",
       "    <tr>\n",
       "      <th>2018-02-01 01:42:00</th>\n",
       "      <td>12.469651</td>\n",
       "      <td>12.143599</td>\n",
       "      <td>0.326053</td>\n",
       "      <td>0.026850</td>\n",
       "    </tr>\n",
       "    <tr>\n",
       "      <th>2018-02-02 20:36:00</th>\n",
       "      <td>5.575743</td>\n",
       "      <td>3.990097</td>\n",
       "      <td>1.585646</td>\n",
       "      <td>0.397395</td>\n",
       "    </tr>\n",
       "    <tr>\n",
       "      <th>2018-02-07 13:15:00</th>\n",
       "      <td>4.615371</td>\n",
       "      <td>4.891519</td>\n",
       "      <td>-0.276147</td>\n",
       "      <td>-0.056454</td>\n",
       "    </tr>\n",
       "    <tr>\n",
       "      <th>2018-02-03 09:27:00</th>\n",
       "      <td>8.023999</td>\n",
       "      <td>8.185981</td>\n",
       "      <td>-0.161982</td>\n",
       "      <td>-0.019788</td>\n",
       "    </tr>\n",
       "    <tr>\n",
       "      <th>2018-02-05 09:48:00</th>\n",
       "      <td>5.653460</td>\n",
       "      <td>5.843438</td>\n",
       "      <td>-0.189978</td>\n",
       "      <td>-0.032511</td>\n",
       "    </tr>\n",
       "  </tbody>\n",
       "</table>\n",
       "</div>"
      ],
      "text/plain": [
       "                        V_pred   WanKe1 - Avg[Va H3] (V)      diff  diff_ptg\n",
       "时间                                                                          \n",
       "2018-02-02 05:24:00  17.396671                 17.429249 -0.032578 -0.001869\n",
       "2018-02-01 01:42:00  12.469651                 12.143599  0.326053  0.026850\n",
       "2018-02-02 20:36:00   5.575743                  3.990097  1.585646  0.397395\n",
       "2018-02-07 13:15:00   4.615371                  4.891519 -0.276147 -0.056454\n",
       "2018-02-03 09:27:00   8.023999                  8.185981 -0.161982 -0.019788\n",
       "2018-02-05 09:48:00   5.653460                  5.843438 -0.189978 -0.032511"
      ]
     },
     "execution_count": 119,
     "metadata": {},
     "output_type": "execute_result"
    }
   ],
   "source": [
    "R[:6]"
   ]
  },
  {
   "cell_type": "code",
   "execution_count": 120,
   "metadata": {},
   "outputs": [
    {
     "data": {
      "text/html": [
       "<div>\n",
       "<style scoped>\n",
       "    .dataframe tbody tr th:only-of-type {\n",
       "        vertical-align: middle;\n",
       "    }\n",
       "\n",
       "    .dataframe tbody tr th {\n",
       "        vertical-align: top;\n",
       "    }\n",
       "\n",
       "    .dataframe thead th {\n",
       "        text-align: right;\n",
       "    }\n",
       "</style>\n",
       "<table border=\"1\" class=\"dataframe\">\n",
       "  <thead>\n",
       "    <tr style=\"text-align: right;\">\n",
       "      <th></th>\n",
       "      <th>V_pred</th>\n",
       "      <th>WanKe1 - Avg[Va H3] (V)</th>\n",
       "      <th>diff</th>\n",
       "      <th>diff_ptg</th>\n",
       "    </tr>\n",
       "  </thead>\n",
       "  <tbody>\n",
       "    <tr>\n",
       "      <th>V_pred</th>\n",
       "      <td>1.000000</td>\n",
       "      <td>0.972469</td>\n",
       "      <td>0.042330</td>\n",
       "      <td>-0.078595</td>\n",
       "    </tr>\n",
       "    <tr>\n",
       "      <th>WanKe1 - Avg[Va H3] (V)</th>\n",
       "      <td>0.972469</td>\n",
       "      <td>1.000000</td>\n",
       "      <td>-0.191659</td>\n",
       "      <td>-0.286853</td>\n",
       "    </tr>\n",
       "    <tr>\n",
       "      <th>diff</th>\n",
       "      <td>0.042330</td>\n",
       "      <td>-0.191659</td>\n",
       "      <td>1.000000</td>\n",
       "      <td>0.898836</td>\n",
       "    </tr>\n",
       "    <tr>\n",
       "      <th>diff_ptg</th>\n",
       "      <td>-0.078595</td>\n",
       "      <td>-0.286853</td>\n",
       "      <td>0.898836</td>\n",
       "      <td>1.000000</td>\n",
       "    </tr>\n",
       "  </tbody>\n",
       "</table>\n",
       "</div>"
      ],
      "text/plain": [
       "                            V_pred   WanKe1 - Avg[Va H3] (V)      diff  \\\n",
       "V_pred                    1.000000                  0.972469  0.042330   \n",
       " WanKe1 - Avg[Va H3] (V)  0.972469                  1.000000 -0.191659   \n",
       "diff                      0.042330                 -0.191659  1.000000   \n",
       "diff_ptg                 -0.078595                 -0.286853  0.898836   \n",
       "\n",
       "                          diff_ptg  \n",
       "V_pred                   -0.078595  \n",
       " WanKe1 - Avg[Va H3] (V) -0.286853  \n",
       "diff                      0.898836  \n",
       "diff_ptg                  1.000000  "
      ]
     },
     "execution_count": 120,
     "metadata": {},
     "output_type": "execute_result"
    }
   ],
   "source": [
    "R.corr()"
   ]
  },
  {
   "cell_type": "code",
   "execution_count": 121,
   "metadata": {},
   "outputs": [
    {
     "data": {
      "text/plain": [
       " JiangChuan2 - Avg[Va H3] (V)   -0.304433\n",
       " KunYang3 - Avg[Va H3] (V)      -0.107495\n",
       " KunYang1 - Avg[Va H3] (V)      -0.035731\n",
       " JiangChuan3 - Avg[Va H3] (V)   -0.030237\n",
       " JiangChuan4 - Avg[Va H3] (V)    0.033242\n",
       " JiangChuan1 - Avg[Va H3] (V)    0.060616\n",
       " Changliu1 - Avg[Va H3] (V)      0.222970\n",
       " Changliu2 - Avg[Va H3] (V)      0.267236\n",
       " JiangChuan5 - Avg[Va H3] (V)    0.285556\n",
       " Changliu4 - Avg[Va H3] (V)      0.491149\n",
       " Changliu3 - Avg[Va H3] (V)      0.551992\n",
       " QinZhou3 - Avg[Va H3] (V)       0.813332\n",
       " QinZhou4 - Avg[Va H3] (V)       0.852510\n",
       " WanKe2 - Avg[Va H3] (V)         0.956145\n",
       " WanKe1 - Avg[Va H3] (V)         1.000000\n",
       "Name:  WanKe1 - Avg[Va H3] (V), dtype: float64"
      ]
     },
     "execution_count": 121,
     "metadata": {},
     "output_type": "execute_result"
    }
   ],
   "source": [
    "train_data.corr()[c[0]].sort_values()"
   ]
  },
  {
   "cell_type": "code",
   "execution_count": 122,
   "metadata": {},
   "outputs": [],
   "source": [
    "model.save(\"model_h5/M_VH3.h5\")"
   ]
  },
  {
   "cell_type": "code",
   "execution_count": 123,
   "metadata": {},
   "outputs": [
    {
     "data": {
      "text/html": [
       "<div>\n",
       "<style scoped>\n",
       "    .dataframe tbody tr th:only-of-type {\n",
       "        vertical-align: middle;\n",
       "    }\n",
       "\n",
       "    .dataframe tbody tr th {\n",
       "        vertical-align: top;\n",
       "    }\n",
       "\n",
       "    .dataframe thead th {\n",
       "        text-align: right;\n",
       "    }\n",
       "</style>\n",
       "<table border=\"1\" class=\"dataframe\">\n",
       "  <thead>\n",
       "    <tr style=\"text-align: right;\">\n",
       "      <th></th>\n",
       "      <th>WanKe1 - Avg[Va H3] (V)</th>\n",
       "    </tr>\n",
       "    <tr>\n",
       "      <th>时间</th>\n",
       "      <th></th>\n",
       "    </tr>\n",
       "  </thead>\n",
       "  <tbody>\n",
       "    <tr>\n",
       "      <th>2018-02-02 05:24:00</th>\n",
       "      <td>17.429249</td>\n",
       "    </tr>\n",
       "    <tr>\n",
       "      <th>2018-02-01 01:42:00</th>\n",
       "      <td>12.143599</td>\n",
       "    </tr>\n",
       "    <tr>\n",
       "      <th>2018-02-02 20:36:00</th>\n",
       "      <td>3.990097</td>\n",
       "    </tr>\n",
       "    <tr>\n",
       "      <th>2018-02-07 13:15:00</th>\n",
       "      <td>4.891519</td>\n",
       "    </tr>\n",
       "    <tr>\n",
       "      <th>2018-02-03 09:27:00</th>\n",
       "      <td>8.185981</td>\n",
       "    </tr>\n",
       "    <tr>\n",
       "      <th>2018-02-05 09:48:00</th>\n",
       "      <td>5.843438</td>\n",
       "    </tr>\n",
       "  </tbody>\n",
       "</table>\n",
       "</div>"
      ],
      "text/plain": [
       "                      WanKe1 - Avg[Va H3] (V)\n",
       "时间                                           \n",
       "2018-02-02 05:24:00                 17.429249\n",
       "2018-02-01 01:42:00                 12.143599\n",
       "2018-02-02 20:36:00                  3.990097\n",
       "2018-02-07 13:15:00                  4.891519\n",
       "2018-02-03 09:27:00                  8.185981\n",
       "2018-02-05 09:48:00                  5.843438"
      ]
     },
     "execution_count": 123,
     "metadata": {},
     "output_type": "execute_result"
    }
   ],
   "source": [
    "test[c][:6]"
   ]
  },
  {
   "cell_type": "code",
   "execution_count": 124,
   "metadata": {},
   "outputs": [
    {
     "data": {
      "text/html": [
       "<div>\n",
       "<style scoped>\n",
       "    .dataframe tbody tr th:only-of-type {\n",
       "        vertical-align: middle;\n",
       "    }\n",
       "\n",
       "    .dataframe tbody tr th {\n",
       "        vertical-align: top;\n",
       "    }\n",
       "\n",
       "    .dataframe thead th {\n",
       "        text-align: right;\n",
       "    }\n",
       "</style>\n",
       "<table border=\"1\" class=\"dataframe\">\n",
       "  <thead>\n",
       "    <tr style=\"text-align: right;\">\n",
       "      <th></th>\n",
       "      <th>WanKe1 - Avg[Va H3] (V)</th>\n",
       "    </tr>\n",
       "    <tr>\n",
       "      <th>时间</th>\n",
       "      <th></th>\n",
       "    </tr>\n",
       "  </thead>\n",
       "  <tbody>\n",
       "    <tr>\n",
       "      <th>2018-02-02 05:24:00</th>\n",
       "      <td>17.429249</td>\n",
       "    </tr>\n",
       "    <tr>\n",
       "      <th>2018-02-01 01:42:00</th>\n",
       "      <td>12.143599</td>\n",
       "    </tr>\n",
       "    <tr>\n",
       "      <th>2018-02-02 20:36:00</th>\n",
       "      <td>3.990097</td>\n",
       "    </tr>\n",
       "    <tr>\n",
       "      <th>2018-02-07 13:15:00</th>\n",
       "      <td>4.891519</td>\n",
       "    </tr>\n",
       "    <tr>\n",
       "      <th>2018-02-03 09:27:00</th>\n",
       "      <td>8.185981</td>\n",
       "    </tr>\n",
       "    <tr>\n",
       "      <th>2018-02-05 09:48:00</th>\n",
       "      <td>5.843438</td>\n",
       "    </tr>\n",
       "  </tbody>\n",
       "</table>\n",
       "</div>"
      ],
      "text/plain": [
       "                      WanKe1 - Avg[Va H3] (V)\n",
       "时间                                           \n",
       "2018-02-02 05:24:00                 17.429249\n",
       "2018-02-01 01:42:00                 12.143599\n",
       "2018-02-02 20:36:00                  3.990097\n",
       "2018-02-07 13:15:00                  4.891519\n",
       "2018-02-03 09:27:00                  8.185981\n",
       "2018-02-05 09:48:00                  5.843438"
      ]
     },
     "execution_count": 124,
     "metadata": {},
     "output_type": "execute_result"
    }
   ],
   "source": [
    "R[c][:6]"
   ]
  },
  {
   "cell_type": "code",
   "execution_count": 128,
   "metadata": {},
   "outputs": [
    {
     "data": {
      "text/plain": [
       "array([[<matplotlib.axes._subplots.AxesSubplot object at 0x7f803c069588>]],\n",
       "      dtype=object)"
      ]
     },
     "execution_count": 128,
     "metadata": {},
     "output_type": "execute_result"
    },
    {
     "data": {
      "image/png": "[encoded data removed]",
      "text/plain": [
       "<Figure size 864x288 with 1 Axes>"
      ]
     },
     "metadata": {},
     "output_type": "display_data"
    }
   ],
   "source": [
    "R[c].hist(bins=100)"
   ]
  },
  {
   "cell_type": "code",
   "execution_count": 129,
   "metadata": {},
   "outputs": [
    {
     "data": {
      "text/plain": [
       "<matplotlib.axes._subplots.AxesSubplot at 0x7f802c748cc0>"
      ]
     },
     "execution_count": 129,
     "metadata": {},
     "output_type": "execute_result"
    },
    {
     "data": {
      "image/png": "[encoded data removed]",
      "text/plain": [
       "<Figure size 864x288 with 1 Axes>"
      ]
     },
     "metadata": {},
     "output_type": "display_data"
    }
   ],
   "source": [
    "R['V_pred'].hist(bins=100)"
   ]
  },
  {
   "cell_type": "code",
   "execution_count": 125,
   "metadata": {},
   "outputs": [
    {
     "data": {
      "text/plain": [
       "<matplotlib.axes._subplots.AxesSubplot at 0x7f803c2ceb70>"
      ]
     },
     "execution_count": 125,
     "metadata": {},
     "output_type": "execute_result"
    },
    {
     "data": {
      "image/png": "[encoded data removed]",
      "text/plain": [
       "<Figure size 864x288 with 1 Axes>"
      ]
     },
     "metadata": {},
     "output_type": "display_data"
    }
   ],
   "source": [
    "R.diff_ptg.hist(bins=100)"
   ]
  },
  {
   "cell_type": "code",
   "execution_count": null,
   "metadata": {},
   "outputs": [],
   "source": []
  }
 ],
 "metadata": {
  "kernelspec": {
   "display_name": "Python 3",
   "language": "python",
   "name": "python3"
  },
  "language_info": {
   "codemirror_mode": {
    "name": "ipython",
    "version": 3
   },
   "file_extension": ".py",
   "mimetype": "text/x-python",
   "name": "python",
   "nbconvert_exporter": "python",
   "pygments_lexer": "ipython3",
   "version": "3.6.5"
  }
 },
 "nbformat": 4,
 "nbformat_minor": 2
}
