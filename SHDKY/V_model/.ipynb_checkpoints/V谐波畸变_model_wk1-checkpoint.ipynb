{
 "cells": [
  {
   "cell_type": "code",
   "execution_count": 1,
   "metadata": {},
   "outputs": [],
   "source": [
    "import numpy as np\n",
    "import pandas as pd\n",
    "import pathlib as pl\n",
    "from datetime import datetime\n",
    "import matplotlib.pyplot as plot\n",
    "from pandas import DataFrame, Series"
   ]
  },
  {
   "cell_type": "code",
   "execution_count": 2,
   "metadata": {},
   "outputs": [
    {
     "name": "stdout",
     "output_type": "stream",
     "text": [
      "Reading kVKunYang3.csv\n",
      "Reading kVWanKe1.csv\n",
      "Reading kVChangLiu3.csv\n",
      "Reading kVJiangChuan1.csv\n",
      "Reading kVChangLiu2.csv\n",
      "Reading kVQinZhou4.csv\n",
      "Reading kVChangLiu1.csv\n",
      "Reading kVJiangChuan4.csv\n",
      "Reading kVJiangChuan5.csv\n",
      "Reading kVQinZhou3.csv\n",
      "Reading kVKunYang1.csv\n",
      "Reading kVJiangChuan3.csv\n",
      "Reading kVJiangChuan2.csv\n",
      "Reading kVChangLiu4.csv\n",
      "Reading kVWanKe2.csv\n"
     ]
    }
   ],
   "source": [
    "# read from csv files\n",
    "\n",
    "datapath=pl.Path(\"../csvdata\")\n",
    "\n",
    "file_list=[]\n",
    "dfs=[]\n",
    "for x in datapath.glob(\"*[0-9].csv\"):\n",
    "    print(\"Reading \"+x.name)\n",
    "    f=pd.read_csv(x,index_col=0,na_values=\" \")\n",
    "    dfs.append(f)\n",
    "    file_list.append(x.name)"
   ]
  },
  {
   "cell_type": "code",
   "execution_count": 3,
   "metadata": {},
   "outputs": [],
   "source": [
    "cols = [\"Avg[V 有效值 AB]\",\n",
    "# \"Avg[V 总谐波畸变率 A]\",\n",
    " \"Avg[V 负序不平衡 Total]\",\n",
    " \"Avg[V SPOS All]\",\n",
    " \"Avg[V SNEG All]\",\n",
    " \"Avg[V SZERO All]\",\n",
    "#\"Pst A\",\n",
    " \"Avg[I 有效值 A]\",\n",
    " \"Avg[I 总谐波畸变率 A]\",\n",
    " \"Avg[I 负序不平衡 Total]\",\n",
    " \"Avg[I SPOS All]\",\n",
    " \"Avg[I SNEG All]\",\n",
    " \"Avg[I ZERO All]\",\n",
    "# \"Avg[P A]\",\n",
    "# \"Avg[Q A]\",\n",
    "# \"Avg[S A]\",\n",
    "# \"Avg[功率因数 A]\"\n",
    " ]"
   ]
  },
  {
   "cell_type": "code",
   "execution_count": 4,
   "metadata": {},
   "outputs": [
    {
     "name": "stdout",
     "output_type": "stream",
     "text": [
      " KunYang3 - Avg[V 总谐波畸变率 A] (%)\n",
      " WanKe1 - Avg[V 总谐波畸变率 A] (%)\n",
      " Changliu3 - Avg[V 总谐波畸变率 A] (%)\n",
      " JiangChuan1 - Avg[V 总谐波畸变率 A] (%)\n",
      " Changliu2 - Avg[V 总谐波畸变率 A] (%)\n",
      " QinZhou4 - Avg[V 总谐波畸变率 A] (%)\n",
      " Changliu1 - Avg[V 总谐波畸变率 A] (%)\n",
      " JiangChuan4 - Avg[V 总谐波畸变率 A] (%)\n",
      " JiangChuan5 - Avg[V 总谐波畸变率 A] (%)\n",
      " QinZhou3 - Avg[V 总谐波畸变率 A] (%)\n",
      " KunYang1 - Avg[V 总谐波畸变率 A] (%)\n",
      " JiangChuan3 - Avg[V 总谐波畸变率 A] (%)\n",
      " JiangChuan2 - Avg[V 总谐波畸变率 A] (%)\n",
      " WanKe2 - Avg[V 总谐波畸变率 A] (%)\n",
      "14\n"
     ]
    }
   ],
   "source": [
    "tr_data=DataFrame()\n",
    "i=0\n",
    "for df in dfs:\n",
    "    for c in df.columns:\n",
    "        if c.find(\"Avg[V 总谐波畸变率 A]\")!=-1:\n",
    "            print (c)\n",
    "            tr_data[c]=df[c]\n",
    "            i+=1\n",
    "print(i)"
   ]
  },
  {
   "cell_type": "code",
   "execution_count": 5,
   "metadata": {},
   "outputs": [],
   "source": [
    "train_data=tr_data.dropna()"
   ]
  },
  {
   "cell_type": "code",
   "execution_count": 6,
   "metadata": {},
   "outputs": [
    {
     "data": {
      "text/plain": [
       "4032"
      ]
     },
     "execution_count": 6,
     "metadata": {},
     "output_type": "execute_result"
    }
   ],
   "source": [
    "len(tr_data)"
   ]
  },
  {
   "cell_type": "code",
   "execution_count": 7,
   "metadata": {},
   "outputs": [],
   "source": [
    "train_data=train_data.dropna(axis=1)"
   ]
  },
  {
   "cell_type": "code",
   "execution_count": 8,
   "metadata": {},
   "outputs": [
    {
     "data": {
      "image/png": "[encoded data removed]",
      "text/plain": [
       "<Figure size 432x288 with 1 Axes>"
      ]
     },
     "metadata": {},
     "output_type": "display_data"
    }
   ],
   "source": [
    "corMat=DataFrame(train_data.corr())\n",
    "plot.pcolor(corMat)\n",
    "plot.show()"
   ]
  },
  {
   "cell_type": "code",
   "execution_count": 10,
   "metadata": {},
   "outputs": [
    {
     "data": {
      "text/html": [
       "<div>\n",
       "<style scoped>\n",
       "    .dataframe tbody tr th:only-of-type {\n",
       "        vertical-align: middle;\n",
       "    }\n",
       "\n",
       "    .dataframe tbody tr th {\n",
       "        vertical-align: top;\n",
       "    }\n",
       "\n",
       "    .dataframe thead th {\n",
       "        text-align: right;\n",
       "    }\n",
       "</style>\n",
       "<table border=\"1\" class=\"dataframe\">\n",
       "  <thead>\n",
       "    <tr style=\"text-align: right;\">\n",
       "      <th></th>\n",
       "      <th>KunYang3 - Avg[V 总谐波畸变率 A] (%)</th>\n",
       "      <th>WanKe1 - Avg[V 总谐波畸变率 A] (%)</th>\n",
       "      <th>Changliu3 - Avg[V 总谐波畸变率 A] (%)</th>\n",
       "      <th>JiangChuan1 - Avg[V 总谐波畸变率 A] (%)</th>\n",
       "      <th>Changliu2 - Avg[V 总谐波畸变率 A] (%)</th>\n",
       "      <th>QinZhou4 - Avg[V 总谐波畸变率 A] (%)</th>\n",
       "      <th>Changliu1 - Avg[V 总谐波畸变率 A] (%)</th>\n",
       "      <th>JiangChuan4 - Avg[V 总谐波畸变率 A] (%)</th>\n",
       "      <th>JiangChuan5 - Avg[V 总谐波畸变率 A] (%)</th>\n",
       "      <th>QinZhou3 - Avg[V 总谐波畸变率 A] (%)</th>\n",
       "      <th>KunYang1 - Avg[V 总谐波畸变率 A] (%)</th>\n",
       "      <th>JiangChuan3 - Avg[V 总谐波畸变率 A] (%)</th>\n",
       "      <th>JiangChuan2 - Avg[V 总谐波畸变率 A] (%)</th>\n",
       "      <th>WanKe2 - Avg[V 总谐波畸变率 A] (%)</th>\n",
       "    </tr>\n",
       "  </thead>\n",
       "  <tbody>\n",
       "    <tr>\n",
       "      <th>count</th>\n",
       "      <td>3299.000000</td>\n",
       "      <td>3299.000000</td>\n",
       "      <td>3299.000000</td>\n",
       "      <td>3299.000000</td>\n",
       "      <td>3299.000000</td>\n",
       "      <td>3299.000000</td>\n",
       "      <td>3299.000000</td>\n",
       "      <td>3299.000000</td>\n",
       "      <td>3299.000000</td>\n",
       "      <td>3299.000000</td>\n",
       "      <td>3299.000000</td>\n",
       "      <td>3299.000000</td>\n",
       "      <td>3299.000000</td>\n",
       "      <td>3299.000000</td>\n",
       "    </tr>\n",
       "    <tr>\n",
       "      <th>mean</th>\n",
       "      <td>0.892444</td>\n",
       "      <td>1.440342</td>\n",
       "      <td>0.806383</td>\n",
       "      <td>0.961565</td>\n",
       "      <td>0.919556</td>\n",
       "      <td>1.797232</td>\n",
       "      <td>0.921458</td>\n",
       "      <td>0.915652</td>\n",
       "      <td>0.676997</td>\n",
       "      <td>1.444429</td>\n",
       "      <td>0.745756</td>\n",
       "      <td>0.712410</td>\n",
       "      <td>0.810553</td>\n",
       "      <td>1.540623</td>\n",
       "    </tr>\n",
       "    <tr>\n",
       "      <th>std</th>\n",
       "      <td>0.072450</td>\n",
       "      <td>0.140281</td>\n",
       "      <td>0.193633</td>\n",
       "      <td>0.169080</td>\n",
       "      <td>0.167424</td>\n",
       "      <td>0.466398</td>\n",
       "      <td>0.167739</td>\n",
       "      <td>0.156043</td>\n",
       "      <td>0.068862</td>\n",
       "      <td>0.445716</td>\n",
       "      <td>0.076281</td>\n",
       "      <td>0.099221</td>\n",
       "      <td>0.136183</td>\n",
       "      <td>0.187815</td>\n",
       "    </tr>\n",
       "    <tr>\n",
       "      <th>min</th>\n",
       "      <td>0.694111</td>\n",
       "      <td>1.127325</td>\n",
       "      <td>0.449642</td>\n",
       "      <td>0.643205</td>\n",
       "      <td>0.553928</td>\n",
       "      <td>0.845402</td>\n",
       "      <td>0.547756</td>\n",
       "      <td>0.621153</td>\n",
       "      <td>0.483865</td>\n",
       "      <td>0.669118</td>\n",
       "      <td>0.568919</td>\n",
       "      <td>0.464321</td>\n",
       "      <td>0.512479</td>\n",
       "      <td>1.169350</td>\n",
       "    </tr>\n",
       "    <tr>\n",
       "      <th>25%</th>\n",
       "      <td>0.843122</td>\n",
       "      <td>1.324748</td>\n",
       "      <td>0.669167</td>\n",
       "      <td>0.806557</td>\n",
       "      <td>0.805777</td>\n",
       "      <td>1.528017</td>\n",
       "      <td>0.810629</td>\n",
       "      <td>0.773473</td>\n",
       "      <td>0.628675</td>\n",
       "      <td>1.161547</td>\n",
       "      <td>0.694870</td>\n",
       "      <td>0.635263</td>\n",
       "      <td>0.702920</td>\n",
       "      <td>1.397702</td>\n",
       "    </tr>\n",
       "    <tr>\n",
       "      <th>50%</th>\n",
       "      <td>0.889978</td>\n",
       "      <td>1.417416</td>\n",
       "      <td>0.778599</td>\n",
       "      <td>0.986711</td>\n",
       "      <td>0.917062</td>\n",
       "      <td>1.721700</td>\n",
       "      <td>0.919027</td>\n",
       "      <td>0.922392</td>\n",
       "      <td>0.678043</td>\n",
       "      <td>1.375490</td>\n",
       "      <td>0.742874</td>\n",
       "      <td>0.716121</td>\n",
       "      <td>0.826607</td>\n",
       "      <td>1.502216</td>\n",
       "    </tr>\n",
       "    <tr>\n",
       "      <th>75%</th>\n",
       "      <td>0.933539</td>\n",
       "      <td>1.575303</td>\n",
       "      <td>0.911071</td>\n",
       "      <td>1.094136</td>\n",
       "      <td>1.011439</td>\n",
       "      <td>2.089097</td>\n",
       "      <td>1.013085</td>\n",
       "      <td>1.034516</td>\n",
       "      <td>0.730386</td>\n",
       "      <td>1.669606</td>\n",
       "      <td>0.795170</td>\n",
       "      <td>0.781975</td>\n",
       "      <td>0.920120</td>\n",
       "      <td>1.675010</td>\n",
       "    </tr>\n",
       "    <tr>\n",
       "      <th>max</th>\n",
       "      <td>1.170735</td>\n",
       "      <td>1.737765</td>\n",
       "      <td>1.274663</td>\n",
       "      <td>1.388459</td>\n",
       "      <td>1.331690</td>\n",
       "      <td>3.095267</td>\n",
       "      <td>1.331810</td>\n",
       "      <td>1.342172</td>\n",
       "      <td>0.882063</td>\n",
       "      <td>2.824620</td>\n",
       "      <td>1.008225</td>\n",
       "      <td>1.004082</td>\n",
       "      <td>1.129448</td>\n",
       "      <td>2.041250</td>\n",
       "    </tr>\n",
       "  </tbody>\n",
       "</table>\n",
       "</div>"
      ],
      "text/plain": [
       "        KunYang3 - Avg[V 总谐波畸变率 A] (%)   WanKe1 - Avg[V 总谐波畸变率 A] (%)  \\\n",
       "count                      3299.000000                    3299.000000   \n",
       "mean                          0.892444                       1.440342   \n",
       "std                           0.072450                       0.140281   \n",
       "min                           0.694111                       1.127325   \n",
       "25%                           0.843122                       1.324748   \n",
       "50%                           0.889978                       1.417416   \n",
       "75%                           0.933539                       1.575303   \n",
       "max                           1.170735                       1.737765   \n",
       "\n",
       "        Changliu3 - Avg[V 总谐波畸变率 A] (%)   JiangChuan1 - Avg[V 总谐波畸变率 A] (%)  \\\n",
       "count                       3299.000000                         3299.000000   \n",
       "mean                           0.806383                            0.961565   \n",
       "std                            0.193633                            0.169080   \n",
       "min                            0.449642                            0.643205   \n",
       "25%                            0.669167                            0.806557   \n",
       "50%                            0.778599                            0.986711   \n",
       "75%                            0.911071                            1.094136   \n",
       "max                            1.274663                            1.388459   \n",
       "\n",
       "        Changliu2 - Avg[V 总谐波畸变率 A] (%)   QinZhou4 - Avg[V 总谐波畸变率 A] (%)  \\\n",
       "count                       3299.000000                      3299.000000   \n",
       "mean                           0.919556                         1.797232   \n",
       "std                            0.167424                         0.466398   \n",
       "min                            0.553928                         0.845402   \n",
       "25%                            0.805777                         1.528017   \n",
       "50%                            0.917062                         1.721700   \n",
       "75%                            1.011439                         2.089097   \n",
       "max                            1.331690                         3.095267   \n",
       "\n",
       "        Changliu1 - Avg[V 总谐波畸变率 A] (%)   JiangChuan4 - Avg[V 总谐波畸变率 A] (%)  \\\n",
       "count                       3299.000000                         3299.000000   \n",
       "mean                           0.921458                            0.915652   \n",
       "std                            0.167739                            0.156043   \n",
       "min                            0.547756                            0.621153   \n",
       "25%                            0.810629                            0.773473   \n",
       "50%                            0.919027                            0.922392   \n",
       "75%                            1.013085                            1.034516   \n",
       "max                            1.331810                            1.342172   \n",
       "\n",
       "        JiangChuan5 - Avg[V 总谐波畸变率 A] (%)   QinZhou3 - Avg[V 总谐波畸变率 A] (%)  \\\n",
       "count                         3299.000000                      3299.000000   \n",
       "mean                             0.676997                         1.444429   \n",
       "std                              0.068862                         0.445716   \n",
       "min                              0.483865                         0.669118   \n",
       "25%                              0.628675                         1.161547   \n",
       "50%                              0.678043                         1.375490   \n",
       "75%                              0.730386                         1.669606   \n",
       "max                              0.882063                         2.824620   \n",
       "\n",
       "        KunYang1 - Avg[V 总谐波畸变率 A] (%)   JiangChuan3 - Avg[V 总谐波畸变率 A] (%)  \\\n",
       "count                      3299.000000                         3299.000000   \n",
       "mean                          0.745756                            0.712410   \n",
       "std                           0.076281                            0.099221   \n",
       "min                           0.568919                            0.464321   \n",
       "25%                           0.694870                            0.635263   \n",
       "50%                           0.742874                            0.716121   \n",
       "75%                           0.795170                            0.781975   \n",
       "max                           1.008225                            1.004082   \n",
       "\n",
       "        JiangChuan2 - Avg[V 总谐波畸变率 A] (%)   WanKe2 - Avg[V 总谐波畸变率 A] (%)  \n",
       "count                         3299.000000                    3299.000000  \n",
       "mean                             0.810553                       1.540623  \n",
       "std                              0.136183                       0.187815  \n",
       "min                              0.512479                       1.169350  \n",
       "25%                              0.702920                       1.397702  \n",
       "50%                              0.826607                       1.502216  \n",
       "75%                              0.920120                       1.675010  \n",
       "max                              1.129448                       2.041250  "
      ]
     },
     "execution_count": 10,
     "metadata": {},
     "output_type": "execute_result"
    }
   ],
   "source": [
    "train_data.describe()"
   ]
  },
  {
   "cell_type": "code",
   "execution_count": 11,
   "metadata": {},
   "outputs": [],
   "source": [
    "from sklearn.model_selection import train_test_split\n",
    "train,test= train_test_split(train_data,test_size=0.2,random_state=0)"
   ]
  },
  {
   "cell_type": "code",
   "execution_count": 12,
   "metadata": {},
   "outputs": [],
   "source": [
    "MAX= train.max()\n",
    "MIN = train.min()"
   ]
  },
  {
   "cell_type": "code",
   "execution_count": 13,
   "metadata": {},
   "outputs": [],
   "source": [
    "train_s=(train-MIN)/(MAX-MIN)\n",
    "test_s=(test-MIN)/(MAX-MIN)"
   ]
  },
  {
   "cell_type": "code",
   "execution_count": 14,
   "metadata": {},
   "outputs": [],
   "source": [
    "train_s=train_s.fillna(0)\n",
    "test_s=test_s.fillna(0)"
   ]
  },
  {
   "cell_type": "code",
   "execution_count": 15,
   "metadata": {},
   "outputs": [],
   "source": [
    "#  generate X_train,Y_train,X_test,Y_test for all target features\n",
    "X_train=train_s.copy();Y_train=DataFrame()\n",
    "\n",
    "for c in train_s.columns:\n",
    "    if c.find(\"WanKe1\") !=-1 :\n",
    "        Y_train[c]=train_s[c]\n",
    "        X_train=X_train.drop(c,axis=1)\n",
    "\n",
    "        \n",
    "X_test=test_s.copy();Y_test=DataFrame()\n",
    "\n",
    "for c in test_s.columns:\n",
    "    if c.find(\"WanKe1\") !=-1 :\n",
    "        Y_test[c]=test_s[c]\n",
    "        X_test=X_test.drop(c,axis=1)"
   ]
  },
  {
   "cell_type": "code",
   "execution_count": 16,
   "metadata": {},
   "outputs": [
    {
     "name": "stderr",
     "output_type": "stream",
     "text": [
      "/home/techstar/anaconda3/lib/python3.6/site-packages/h5py/__init__.py:36: FutureWarning: Conversion of the second argument of issubdtype from `float` to `np.floating` is deprecated. In future, it will be treated as `np.float64 == np.dtype(float).type`.\n",
      "  from ._conv import register_converters as _register_converters\n",
      "Using TensorFlow backend.\n"
     ]
    }
   ],
   "source": [
    "###### network from keras for SHDKY data simulation ###########\n",
    "from keras.models import Sequential\n",
    "from keras.layers import Dense, Activation,Input\n",
    "import keras\n",
    "\n",
    "\n",
    "model = Sequential()\n",
    "\n",
    "model.add(Dense(13, input_dim=13,kernel_initializer=\"normal\"))\n",
    "model.add(Activation('relu'))\n",
    "model.add(Dense(7, activation='relu',kernel_initializer=\"normal\"))\n",
    "model.add(Dense(1, activation='linear',kernel_initializer=\"normal\"))"
   ]
  },
  {
   "cell_type": "code",
   "execution_count": 17,
   "metadata": {},
   "outputs": [],
   "source": [
    "model.compile(loss='mean_squared_error', \n",
    "              optimizer=keras.optimizers.SGD(lr=0.02))"
   ]
  },
  {
   "cell_type": "code",
   "execution_count": 68,
   "metadata": {},
   "outputs": [
    {
     "name": "stdout",
     "output_type": "stream",
     "text": [
      "Train on 2111 samples, validate on 528 samples\n",
      "Epoch 1/30\n",
      " - 0s - loss: 0.0038 - val_loss: 0.0038\n",
      "Epoch 2/30\n",
      " - 0s - loss: 0.0038 - val_loss: 0.0038\n",
      "Epoch 3/30\n",
      " - 0s - loss: 0.0038 - val_loss: 0.0038\n",
      "Epoch 4/30\n",
      " - 0s - loss: 0.0038 - val_loss: 0.0038\n",
      "Epoch 5/30\n",
      " - 0s - loss: 0.0038 - val_loss: 0.0038\n",
      "Epoch 6/30\n",
      " - 0s - loss: 0.0038 - val_loss: 0.0039\n",
      "Epoch 7/30\n",
      " - 0s - loss: 0.0038 - val_loss: 0.0038\n",
      "Epoch 8/30\n",
      " - 0s - loss: 0.0038 - val_loss: 0.0040\n",
      "Epoch 9/30\n",
      " - 0s - loss: 0.0038 - val_loss: 0.0038\n",
      "Epoch 10/30\n",
      " - 0s - loss: 0.0038 - val_loss: 0.0039\n",
      "Epoch 11/30\n",
      " - 0s - loss: 0.0038 - val_loss: 0.0038\n",
      "Epoch 12/30\n",
      " - 0s - loss: 0.0038 - val_loss: 0.0038\n",
      "Epoch 13/30\n",
      " - 0s - loss: 0.0038 - val_loss: 0.0038\n",
      "Epoch 14/30\n",
      " - 0s - loss: 0.0038 - val_loss: 0.0039\n",
      "Epoch 15/30\n",
      " - 0s - loss: 0.0038 - val_loss: 0.0040\n",
      "Epoch 16/30\n",
      " - 0s - loss: 0.0038 - val_loss: 0.0038\n",
      "Epoch 17/30\n",
      " - 0s - loss: 0.0038 - val_loss: 0.0038\n",
      "Epoch 18/30\n",
      " - 0s - loss: 0.0038 - val_loss: 0.0038\n",
      "Epoch 19/30\n",
      " - 0s - loss: 0.0038 - val_loss: 0.0038\n",
      "Epoch 20/30\n",
      " - 0s - loss: 0.0038 - val_loss: 0.0038\n",
      "Epoch 21/30\n",
      " - 0s - loss: 0.0038 - val_loss: 0.0038\n",
      "Epoch 22/30\n",
      " - 0s - loss: 0.0038 - val_loss: 0.0038\n",
      "Epoch 23/30\n",
      " - 0s - loss: 0.0038 - val_loss: 0.0038\n",
      "Epoch 24/30\n",
      " - 0s - loss: 0.0038 - val_loss: 0.0038\n",
      "Epoch 25/30\n",
      " - 0s - loss: 0.0038 - val_loss: 0.0038\n",
      "Epoch 26/30\n",
      " - 0s - loss: 0.0038 - val_loss: 0.0038\n",
      "Epoch 27/30\n",
      " - 0s - loss: 0.0038 - val_loss: 0.0039\n",
      "Epoch 28/30\n",
      " - 0s - loss: 0.0038 - val_loss: 0.0038\n",
      "Epoch 29/30\n",
      " - 0s - loss: 0.0038 - val_loss: 0.0038\n",
      "Epoch 30/30\n",
      " - 0s - loss: 0.0038 - val_loss: 0.0039\n"
     ]
    },
    {
     "data": {
      "text/plain": [
       "<keras.callbacks.History at 0x7fc10858b630>"
      ]
     },
     "execution_count": 68,
     "metadata": {},
     "output_type": "execute_result"
    }
   ],
   "source": [
    "model.fit(X_train, Y_train, epochs=30,batch_size=30,\n",
    "          shuffle=True,verbose=2,validation_split=0.2) "
   ]
  },
  {
   "cell_type": "code",
   "execution_count": 70,
   "metadata": {},
   "outputs": [],
   "source": [
    "#((model.predict(X_test)-Y_test)/Y_test)"
   ]
  },
  {
   "cell_type": "code",
   "execution_count": 71,
   "metadata": {},
   "outputs": [
    {
     "data": {
      "text/html": [
       "<div>\n",
       "<style scoped>\n",
       "    .dataframe tbody tr th:only-of-type {\n",
       "        vertical-align: middle;\n",
       "    }\n",
       "\n",
       "    .dataframe tbody tr th {\n",
       "        vertical-align: top;\n",
       "    }\n",
       "\n",
       "    .dataframe thead th {\n",
       "        text-align: right;\n",
       "    }\n",
       "</style>\n",
       "<table border=\"1\" class=\"dataframe\">\n",
       "  <thead>\n",
       "    <tr style=\"text-align: right;\">\n",
       "      <th></th>\n",
       "      <th>WanKe1 - Avg[V 总谐波畸变率 A] (%)</th>\n",
       "    </tr>\n",
       "  </thead>\n",
       "  <tbody>\n",
       "    <tr>\n",
       "      <th>count</th>\n",
       "      <td>660.000000</td>\n",
       "    </tr>\n",
       "    <tr>\n",
       "      <th>mean</th>\n",
       "      <td>-0.006505</td>\n",
       "    </tr>\n",
       "    <tr>\n",
       "      <th>std</th>\n",
       "      <td>0.064948</td>\n",
       "    </tr>\n",
       "    <tr>\n",
       "      <th>min</th>\n",
       "      <td>-0.206767</td>\n",
       "    </tr>\n",
       "    <tr>\n",
       "      <th>25%</th>\n",
       "      <td>-0.049267</td>\n",
       "    </tr>\n",
       "    <tr>\n",
       "      <th>50%</th>\n",
       "      <td>-0.006120</td>\n",
       "    </tr>\n",
       "    <tr>\n",
       "      <th>75%</th>\n",
       "      <td>0.033574</td>\n",
       "    </tr>\n",
       "    <tr>\n",
       "      <th>max</th>\n",
       "      <td>0.205674</td>\n",
       "    </tr>\n",
       "  </tbody>\n",
       "</table>\n",
       "</div>"
      ],
      "text/plain": [
       "        WanKe1 - Avg[V 总谐波畸变率 A] (%)\n",
       "count                     660.000000\n",
       "mean                       -0.006505\n",
       "std                         0.064948\n",
       "min                        -0.206767\n",
       "25%                        -0.049267\n",
       "50%                        -0.006120\n",
       "75%                         0.033574\n",
       "max                         0.205674"
      ]
     },
     "execution_count": 71,
     "metadata": {},
     "output_type": "execute_result"
    }
   ],
   "source": [
    "((model.predict(X_test)-Y_test)).describe()"
   ]
  },
  {
   "cell_type": "code",
   "execution_count": 72,
   "metadata": {},
   "outputs": [],
   "source": [
    "c=Y_test.columns\n",
    "R= pd.DataFrame(model.predict(X_test),columns=['V_pred'])\n",
    "R.index = Y_test.index\n",
    "R= R.join(Y_test)\n",
    "#R=  R*((MAX[c]-MIN[c])+MIN[c]).values[0]\n",
    "R=  R*(MAX[c]-MIN[c]).values[0]+MIN[c].values[0]"
   ]
  },
  {
   "cell_type": "code",
   "execution_count": 73,
   "metadata": {},
   "outputs": [
    {
     "data": {
      "text/plain": [
       "<matplotlib.axes._subplots.AxesSubplot at 0x7fc108544198>"
      ]
     },
     "execution_count": 73,
     "metadata": {},
     "output_type": "execute_result"
    },
    {
     "data": {
      "image/png": "[encoded data removed]",
      "text/plain": [
       "<Figure size 864x288 with 1 Axes>"
      ]
     },
     "metadata": {},
     "output_type": "display_data"
    }
   ],
   "source": [
    "R_show=R.iloc[200:300,:]\n",
    "\n",
    "import pylab\n",
    "pylab.rcParams['figure.figsize'] = (12.0, 4.0)\n",
    "\n",
    "R_show.plot(alpha =0.5,figsize = (12,4))"
   ]
  },
  {
   "cell_type": "code",
   "execution_count": 74,
   "metadata": {},
   "outputs": [],
   "source": [
    "R[\"diff\"]=(R[\"V_pred\"]-R[c[0]])\n",
    "R[\"diff_ptg\"]=(R[\"V_pred\"]-R[c[0]])/R[c[0]]"
   ]
  },
  {
   "cell_type": "code",
   "execution_count": 75,
   "metadata": {},
   "outputs": [
    {
     "data": {
      "text/html": [
       "<div>\n",
       "<style scoped>\n",
       "    .dataframe tbody tr th:only-of-type {\n",
       "        vertical-align: middle;\n",
       "    }\n",
       "\n",
       "    .dataframe tbody tr th {\n",
       "        vertical-align: top;\n",
       "    }\n",
       "\n",
       "    .dataframe thead th {\n",
       "        text-align: right;\n",
       "    }\n",
       "</style>\n",
       "<table border=\"1\" class=\"dataframe\">\n",
       "  <thead>\n",
       "    <tr style=\"text-align: right;\">\n",
       "      <th></th>\n",
       "      <th>V_pred</th>\n",
       "      <th>WanKe1 - Avg[V 总谐波畸变率 A] (%)</th>\n",
       "      <th>diff</th>\n",
       "      <th>diff_ptg</th>\n",
       "    </tr>\n",
       "  </thead>\n",
       "  <tbody>\n",
       "    <tr>\n",
       "      <th>count</th>\n",
       "      <td>660.000000</td>\n",
       "      <td>660.000000</td>\n",
       "      <td>660.000000</td>\n",
       "      <td>660.000000</td>\n",
       "    </tr>\n",
       "    <tr>\n",
       "      <th>mean</th>\n",
       "      <td>1.444856</td>\n",
       "      <td>1.448827</td>\n",
       "      <td>-0.003971</td>\n",
       "      <td>-0.002007</td>\n",
       "    </tr>\n",
       "    <tr>\n",
       "      <th>std</th>\n",
       "      <td>0.138162</td>\n",
       "      <td>0.143402</td>\n",
       "      <td>0.039647</td>\n",
       "      <td>0.028174</td>\n",
       "    </tr>\n",
       "    <tr>\n",
       "      <th>min</th>\n",
       "      <td>1.189929</td>\n",
       "      <td>1.133333</td>\n",
       "      <td>-0.126219</td>\n",
       "      <td>-0.086165</td>\n",
       "    </tr>\n",
       "    <tr>\n",
       "      <th>25%</th>\n",
       "      <td>1.325460</td>\n",
       "      <td>1.331287</td>\n",
       "      <td>-0.030074</td>\n",
       "      <td>-0.019921</td>\n",
       "    </tr>\n",
       "    <tr>\n",
       "      <th>50%</th>\n",
       "      <td>1.436199</td>\n",
       "      <td>1.437566</td>\n",
       "      <td>-0.003736</td>\n",
       "      <td>-0.002566</td>\n",
       "    </tr>\n",
       "    <tr>\n",
       "      <th>75%</th>\n",
       "      <td>1.587716</td>\n",
       "      <td>1.585812</td>\n",
       "      <td>0.020495</td>\n",
       "      <td>0.014671</td>\n",
       "    </tr>\n",
       "    <tr>\n",
       "      <th>max</th>\n",
       "      <td>1.656842</td>\n",
       "      <td>1.730206</td>\n",
       "      <td>0.125552</td>\n",
       "      <td>0.101306</td>\n",
       "    </tr>\n",
       "  </tbody>\n",
       "</table>\n",
       "</div>"
      ],
      "text/plain": [
       "           V_pred   WanKe1 - Avg[V 总谐波畸变率 A] (%)        diff    diff_ptg\n",
       "count  660.000000                     660.000000  660.000000  660.000000\n",
       "mean     1.444856                       1.448827   -0.003971   -0.002007\n",
       "std      0.138162                       0.143402    0.039647    0.028174\n",
       "min      1.189929                       1.133333   -0.126219   -0.086165\n",
       "25%      1.325460                       1.331287   -0.030074   -0.019921\n",
       "50%      1.436199                       1.437566   -0.003736   -0.002566\n",
       "75%      1.587716                       1.585812    0.020495    0.014671\n",
       "max      1.656842                       1.730206    0.125552    0.101306"
      ]
     },
     "execution_count": 75,
     "metadata": {},
     "output_type": "execute_result"
    }
   ],
   "source": [
    "R.describe()"
   ]
  },
  {
   "cell_type": "code",
   "execution_count": 89,
   "metadata": {},
   "outputs": [
    {
     "name": "stdout",
     "output_type": "stream",
     "text": [
      "-0.0542369584209751\n",
      "0.05737460443816737\n"
     ]
    }
   ],
   "source": [
    "print(R.diff_ptg.quantile(0.025))\n",
    "print(R.diff_ptg.quantile(0.975))"
   ]
  },
  {
   "cell_type": "code",
   "execution_count": 78,
   "metadata": {},
   "outputs": [
    {
     "data": {
      "text/html": [
       "<div>\n",
       "<style scoped>\n",
       "    .dataframe tbody tr th:only-of-type {\n",
       "        vertical-align: middle;\n",
       "    }\n",
       "\n",
       "    .dataframe tbody tr th {\n",
       "        vertical-align: top;\n",
       "    }\n",
       "\n",
       "    .dataframe thead th {\n",
       "        text-align: right;\n",
       "    }\n",
       "</style>\n",
       "<table border=\"1\" class=\"dataframe\">\n",
       "  <thead>\n",
       "    <tr style=\"text-align: right;\">\n",
       "      <th></th>\n",
       "      <th>V_pred</th>\n",
       "      <th>WanKe1 - Avg[V 总谐波畸变率 A] (%)</th>\n",
       "      <th>diff</th>\n",
       "      <th>diff_ptg</th>\n",
       "    </tr>\n",
       "    <tr>\n",
       "      <th>时间</th>\n",
       "      <th></th>\n",
       "      <th></th>\n",
       "      <th></th>\n",
       "      <th></th>\n",
       "    </tr>\n",
       "  </thead>\n",
       "  <tbody>\n",
       "    <tr>\n",
       "      <th>2018-02-02 05:24:00</th>\n",
       "      <td>1.326545</td>\n",
       "      <td>1.323626</td>\n",
       "      <td>0.002919</td>\n",
       "      <td>0.002206</td>\n",
       "    </tr>\n",
       "    <tr>\n",
       "      <th>2018-02-01 01:42:00</th>\n",
       "      <td>1.370576</td>\n",
       "      <td>1.302001</td>\n",
       "      <td>0.068575</td>\n",
       "      <td>0.052669</td>\n",
       "    </tr>\n",
       "    <tr>\n",
       "      <th>2018-02-02 20:36:00</th>\n",
       "      <td>1.354740</td>\n",
       "      <td>1.372235</td>\n",
       "      <td>-0.017495</td>\n",
       "      <td>-0.012749</td>\n",
       "    </tr>\n",
       "    <tr>\n",
       "      <th>2018-02-07 13:15:00</th>\n",
       "      <td>1.605038</td>\n",
       "      <td>1.536496</td>\n",
       "      <td>0.068542</td>\n",
       "      <td>0.044609</td>\n",
       "    </tr>\n",
       "    <tr>\n",
       "      <th>2018-02-03 09:27:00</th>\n",
       "      <td>1.504921</td>\n",
       "      <td>1.560109</td>\n",
       "      <td>-0.055188</td>\n",
       "      <td>-0.035374</td>\n",
       "    </tr>\n",
       "    <tr>\n",
       "      <th>2018-02-05 09:48:00</th>\n",
       "      <td>1.647549</td>\n",
       "      <td>1.685153</td>\n",
       "      <td>-0.037604</td>\n",
       "      <td>-0.022315</td>\n",
       "    </tr>\n",
       "  </tbody>\n",
       "</table>\n",
       "</div>"
      ],
      "text/plain": [
       "                       V_pred   WanKe1 - Avg[V 总谐波畸变率 A] (%)      diff  \\\n",
       "时间                                                                       \n",
       "2018-02-02 05:24:00  1.326545                       1.323626  0.002919   \n",
       "2018-02-01 01:42:00  1.370576                       1.302001  0.068575   \n",
       "2018-02-02 20:36:00  1.354740                       1.372235 -0.017495   \n",
       "2018-02-07 13:15:00  1.605038                       1.536496  0.068542   \n",
       "2018-02-03 09:27:00  1.504921                       1.560109 -0.055188   \n",
       "2018-02-05 09:48:00  1.647549                       1.685153 -0.037604   \n",
       "\n",
       "                     diff_ptg  \n",
       "时间                             \n",
       "2018-02-02 05:24:00  0.002206  \n",
       "2018-02-01 01:42:00  0.052669  \n",
       "2018-02-02 20:36:00 -0.012749  \n",
       "2018-02-07 13:15:00  0.044609  \n",
       "2018-02-03 09:27:00 -0.035374  \n",
       "2018-02-05 09:48:00 -0.022315  "
      ]
     },
     "execution_count": 78,
     "metadata": {},
     "output_type": "execute_result"
    }
   ],
   "source": [
    "R[:6]"
   ]
  },
  {
   "cell_type": "code",
   "execution_count": 80,
   "metadata": {},
   "outputs": [
    {
     "data": {
      "text/html": [
       "<div>\n",
       "<style scoped>\n",
       "    .dataframe tbody tr th:only-of-type {\n",
       "        vertical-align: middle;\n",
       "    }\n",
       "\n",
       "    .dataframe tbody tr th {\n",
       "        vertical-align: top;\n",
       "    }\n",
       "\n",
       "    .dataframe thead th {\n",
       "        text-align: right;\n",
       "    }\n",
       "</style>\n",
       "<table border=\"1\" class=\"dataframe\">\n",
       "  <thead>\n",
       "    <tr style=\"text-align: right;\">\n",
       "      <th></th>\n",
       "      <th>V_pred</th>\n",
       "      <th>WanKe1 - Avg[V 总谐波畸变率 A] (%)</th>\n",
       "      <th>diff</th>\n",
       "      <th>diff_ptg</th>\n",
       "    </tr>\n",
       "  </thead>\n",
       "  <tbody>\n",
       "    <tr>\n",
       "      <th>V_pred</th>\n",
       "      <td>1.000000</td>\n",
       "      <td>0.961025</td>\n",
       "      <td>0.008807</td>\n",
       "      <td>0.012036</td>\n",
       "    </tr>\n",
       "    <tr>\n",
       "      <th>WanKe1 - Avg[V 总谐波畸变率 A] (%)</th>\n",
       "      <td>0.961025</td>\n",
       "      <td>1.000000</td>\n",
       "      <td>-0.267987</td>\n",
       "      <td>-0.263721</td>\n",
       "    </tr>\n",
       "    <tr>\n",
       "      <th>diff</th>\n",
       "      <td>0.008807</td>\n",
       "      <td>-0.267987</td>\n",
       "      <td>1.000000</td>\n",
       "      <td>0.995822</td>\n",
       "    </tr>\n",
       "    <tr>\n",
       "      <th>diff_ptg</th>\n",
       "      <td>0.012036</td>\n",
       "      <td>-0.263721</td>\n",
       "      <td>0.995822</td>\n",
       "      <td>1.000000</td>\n",
       "    </tr>\n",
       "  </tbody>\n",
       "</table>\n",
       "</div>"
      ],
      "text/plain": [
       "                                 V_pred   WanKe1 - Avg[V 总谐波畸变率 A] (%)  \\\n",
       "V_pred                         1.000000                       0.961025   \n",
       " WanKe1 - Avg[V 总谐波畸变率 A] (%)  0.961025                       1.000000   \n",
       "diff                           0.008807                      -0.267987   \n",
       "diff_ptg                       0.012036                      -0.263721   \n",
       "\n",
       "                                   diff  diff_ptg  \n",
       "V_pred                         0.008807  0.012036  \n",
       " WanKe1 - Avg[V 总谐波畸变率 A] (%) -0.267987 -0.263721  \n",
       "diff                           1.000000  0.995822  \n",
       "diff_ptg                       0.995822  1.000000  "
      ]
     },
     "execution_count": 80,
     "metadata": {},
     "output_type": "execute_result"
    }
   ],
   "source": [
    "R.corr()"
   ]
  },
  {
   "cell_type": "code",
   "execution_count": 81,
   "metadata": {},
   "outputs": [
    {
     "data": {
      "text/plain": [
       " KunYang3 - Avg[V 总谐波畸变率 A] (%)      -0.190359\n",
       " KunYang1 - Avg[V 总谐波畸变率 A] (%)      -0.188235\n",
       " JiangChuan3 - Avg[V 总谐波畸变率 A] (%)    0.276451\n",
       " Changliu1 - Avg[V 总谐波畸变率 A] (%)      0.398428\n",
       " Changliu2 - Avg[V 总谐波畸变率 A] (%)      0.400504\n",
       " JiangChuan5 - Avg[V 总谐波畸变率 A] (%)    0.525899\n",
       " Changliu3 - Avg[V 总谐波畸变率 A] (%)      0.595207\n",
       " QinZhou4 - Avg[V 总谐波畸变率 A] (%)       0.615864\n",
       " QinZhou3 - Avg[V 总谐波畸变率 A] (%)       0.683458\n",
       " JiangChuan2 - Avg[V 总谐波畸变率 A] (%)    0.788374\n",
       " JiangChuan1 - Avg[V 总谐波畸变率 A] (%)    0.798092\n",
       " JiangChuan4 - Avg[V 总谐波畸变率 A] (%)    0.798947\n",
       " WanKe2 - Avg[V 总谐波畸变率 A] (%)         0.854512\n",
       " WanKe1 - Avg[V 总谐波畸变率 A] (%)         1.000000\n",
       "Name:  WanKe1 - Avg[V 总谐波畸变率 A] (%), dtype: float64"
      ]
     },
     "execution_count": 81,
     "metadata": {},
     "output_type": "execute_result"
    }
   ],
   "source": [
    "train_data.corr()[c[0]].sort_values()"
   ]
  },
  {
   "cell_type": "code",
   "execution_count": 82,
   "metadata": {},
   "outputs": [],
   "source": [
    "model.save(\"model_h5/M_V谐波畸变.h5\")"
   ]
  },
  {
   "cell_type": "code",
   "execution_count": 83,
   "metadata": {},
   "outputs": [
    {
     "data": {
      "text/html": [
       "<div>\n",
       "<style scoped>\n",
       "    .dataframe tbody tr th:only-of-type {\n",
       "        vertical-align: middle;\n",
       "    }\n",
       "\n",
       "    .dataframe tbody tr th {\n",
       "        vertical-align: top;\n",
       "    }\n",
       "\n",
       "    .dataframe thead th {\n",
       "        text-align: right;\n",
       "    }\n",
       "</style>\n",
       "<table border=\"1\" class=\"dataframe\">\n",
       "  <thead>\n",
       "    <tr style=\"text-align: right;\">\n",
       "      <th></th>\n",
       "      <th>WanKe1 - Avg[V 总谐波畸变率 A] (%)</th>\n",
       "    </tr>\n",
       "    <tr>\n",
       "      <th>时间</th>\n",
       "      <th></th>\n",
       "    </tr>\n",
       "  </thead>\n",
       "  <tbody>\n",
       "    <tr>\n",
       "      <th>2018-02-02 05:24:00</th>\n",
       "      <td>1.323626</td>\n",
       "    </tr>\n",
       "    <tr>\n",
       "      <th>2018-02-01 01:42:00</th>\n",
       "      <td>1.302001</td>\n",
       "    </tr>\n",
       "    <tr>\n",
       "      <th>2018-02-02 20:36:00</th>\n",
       "      <td>1.372235</td>\n",
       "    </tr>\n",
       "    <tr>\n",
       "      <th>2018-02-07 13:15:00</th>\n",
       "      <td>1.536496</td>\n",
       "    </tr>\n",
       "    <tr>\n",
       "      <th>2018-02-03 09:27:00</th>\n",
       "      <td>1.560109</td>\n",
       "    </tr>\n",
       "    <tr>\n",
       "      <th>2018-02-05 09:48:00</th>\n",
       "      <td>1.685153</td>\n",
       "    </tr>\n",
       "  </tbody>\n",
       "</table>\n",
       "</div>"
      ],
      "text/plain": [
       "                      WanKe1 - Avg[V 总谐波畸变率 A] (%)\n",
       "时间                                                \n",
       "2018-02-02 05:24:00                       1.323626\n",
       "2018-02-01 01:42:00                       1.302001\n",
       "2018-02-02 20:36:00                       1.372235\n",
       "2018-02-07 13:15:00                       1.536496\n",
       "2018-02-03 09:27:00                       1.560109\n",
       "2018-02-05 09:48:00                       1.685153"
      ]
     },
     "execution_count": 83,
     "metadata": {},
     "output_type": "execute_result"
    }
   ],
   "source": [
    "test[c][:6]"
   ]
  },
  {
   "cell_type": "code",
   "execution_count": 84,
   "metadata": {},
   "outputs": [
    {
     "data": {
      "text/html": [
       "<div>\n",
       "<style scoped>\n",
       "    .dataframe tbody tr th:only-of-type {\n",
       "        vertical-align: middle;\n",
       "    }\n",
       "\n",
       "    .dataframe tbody tr th {\n",
       "        vertical-align: top;\n",
       "    }\n",
       "\n",
       "    .dataframe thead th {\n",
       "        text-align: right;\n",
       "    }\n",
       "</style>\n",
       "<table border=\"1\" class=\"dataframe\">\n",
       "  <thead>\n",
       "    <tr style=\"text-align: right;\">\n",
       "      <th></th>\n",
       "      <th>WanKe1 - Avg[V 总谐波畸变率 A] (%)</th>\n",
       "    </tr>\n",
       "    <tr>\n",
       "      <th>时间</th>\n",
       "      <th></th>\n",
       "    </tr>\n",
       "  </thead>\n",
       "  <tbody>\n",
       "    <tr>\n",
       "      <th>2018-02-02 05:24:00</th>\n",
       "      <td>1.323626</td>\n",
       "    </tr>\n",
       "    <tr>\n",
       "      <th>2018-02-01 01:42:00</th>\n",
       "      <td>1.302001</td>\n",
       "    </tr>\n",
       "    <tr>\n",
       "      <th>2018-02-02 20:36:00</th>\n",
       "      <td>1.372235</td>\n",
       "    </tr>\n",
       "    <tr>\n",
       "      <th>2018-02-07 13:15:00</th>\n",
       "      <td>1.536496</td>\n",
       "    </tr>\n",
       "    <tr>\n",
       "      <th>2018-02-03 09:27:00</th>\n",
       "      <td>1.560109</td>\n",
       "    </tr>\n",
       "    <tr>\n",
       "      <th>2018-02-05 09:48:00</th>\n",
       "      <td>1.685153</td>\n",
       "    </tr>\n",
       "  </tbody>\n",
       "</table>\n",
       "</div>"
      ],
      "text/plain": [
       "                      WanKe1 - Avg[V 总谐波畸变率 A] (%)\n",
       "时间                                                \n",
       "2018-02-02 05:24:00                       1.323626\n",
       "2018-02-01 01:42:00                       1.302001\n",
       "2018-02-02 20:36:00                       1.372235\n",
       "2018-02-07 13:15:00                       1.536496\n",
       "2018-02-03 09:27:00                       1.560109\n",
       "2018-02-05 09:48:00                       1.685153"
      ]
     },
     "execution_count": 84,
     "metadata": {},
     "output_type": "execute_result"
    }
   ],
   "source": [
    "R[c][:6]"
   ]
  },
  {
   "cell_type": "code",
   "execution_count": 90,
   "metadata": {},
   "outputs": [
    {
     "data": {
      "text/plain": [
       "<matplotlib.axes._subplots.AxesSubplot at 0x7fc1085eb860>"
      ]
     },
     "execution_count": 90,
     "metadata": {},
     "output_type": "execute_result"
    },
    {
     "data": {
      "image/png": "[encoded data removed]",
      "text/plain": [
       "<Figure size 864x288 with 1 Axes>"
      ]
     },
     "metadata": {},
     "output_type": "display_data"
    }
   ],
   "source": [
    "R.diff_ptg.hist(bins=100)"
   ]
  },
  {
   "cell_type": "code",
   "execution_count": null,
   "metadata": {},
   "outputs": [],
   "source": []
  }
 ],
 "metadata": {
  "kernelspec": {
   "display_name": "Python 3",
   "language": "python",
   "name": "python3"
  },
  "language_info": {
   "codemirror_mode": {
    "name": "ipython",
    "version": 3
   },
   "file_extension": ".py",
   "mimetype": "text/x-python",
   "name": "python",
   "nbconvert_exporter": "python",
   "pygments_lexer": "ipython3",
   "version": "3.6.5"
  }
 },
 "nbformat": 4,
 "nbformat_minor": 2
}
