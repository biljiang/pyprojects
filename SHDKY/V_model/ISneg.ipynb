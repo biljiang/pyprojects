{
 "cells": [
  {
   "cell_type": "code",
   "execution_count": 1,
   "metadata": {},
   "outputs": [],
   "source": [
    "import numpy as np\n",
    "import pandas as pd\n",
    "import pathlib as pl\n",
    "from datetime import datetime\n",
    "import matplotlib.pyplot as plot\n",
    "from pandas import DataFrame, Series"
   ]
  },
  {
   "cell_type": "code",
   "execution_count": 2,
   "metadata": {},
   "outputs": [
    {
     "name": "stdout",
     "output_type": "stream",
     "text": [
      "Reading kVKunYang3.csv\n",
      "Reading kVWanKe1.csv\n",
      "Reading kVChangLiu3.csv\n",
      "Reading kVJiangChuan1.csv\n",
      "Reading kVChangLiu2.csv\n",
      "Reading kVQinZhou4.csv\n",
      "Reading kVChangLiu1.csv\n",
      "Reading kVJiangChuan4.csv\n",
      "Reading kVJiangChuan5.csv\n",
      "Reading kVQinZhou3.csv\n",
      "Reading kVKunYang1.csv\n",
      "Reading kVJiangChuan3.csv\n",
      "Reading kVJiangChuan2.csv\n",
      "Reading kVChangLiu4.csv\n",
      "Reading kVWanKe2.csv\n"
     ]
    }
   ],
   "source": [
    "# read from csv files\n",
    "\n",
    "datapath=pl.Path(\"../csvdata\")\n",
    "\n",
    "file_list=[]\n",
    "dfs=[]\n",
    "for x in datapath.glob(\"*[0-9].csv\"):\n",
    "    print(\"Reading \"+x.name)\n",
    "    f=pd.read_csv(x,index_col=0,na_values=\" \")\n",
    "    dfs.append(f)\n",
    "    file_list.append(x.name)"
   ]
  },
  {
   "cell_type": "code",
   "execution_count": 3,
   "metadata": {},
   "outputs": [],
   "source": [
    "cols = [\"Avg[V 有效值 AB]\",\n",
    "# \"Avg[V 总谐波畸变率 A]\",\n",
    " \"Avg[V 负序不平衡 Total]\",\n",
    " \"Avg[V SPOS All]\",\n",
    " \"Avg[V SNEG All]\",\n",
    " \"Avg[V SZERO All]\",\n",
    "#\"Pst A\",\n",
    " \"Avg[I 有效值 A]\",\n",
    " \"Avg[I 总谐波畸变率 A]\",\n",
    " \"Avg[I 负序不平衡 Total]\",\n",
    " \"Avg[I SPOS All]\",\n",
    " \"Avg[I SNEG All]\",\n",
    " \"Avg[I ZERO All]\",\n",
    "# \"Avg[P A]\",\n",
    "# \"Avg[Q A]\",\n",
    "# \"Avg[S A]\",\n",
    "# \"Avg[功率因数 A]\"\n",
    " ]"
   ]
  },
  {
   "cell_type": "code",
   "execution_count": 8,
   "metadata": {},
   "outputs": [
    {
     "name": "stdout",
     "output_type": "stream",
     "text": [
      " KunYang3 - Avg[I SNEG All] (A)\n",
      " WanKe1 - Avg[I SNEG All] (A)\n",
      " Changliu3 - Avg[I SNEG All] (A)\n",
      " JiangChuan1 - Avg[I SNEG All] (A)\n",
      " Changliu2 - Avg[I SNEG All] (A)\n",
      " QinZhou4 - Avg[I SNEG All] (A)\n",
      " Changliu1 - Avg[I SNEG All] (A)\n",
      " JiangChuan4 - Avg[I SNEG All] (A)\n",
      " JiangChuan5 - Avg[I SNEG All] (A)\n",
      " QinZhou3 - Avg[I SNEG All] (A)\n",
      " KunYang1 - Avg[I SNEG All] (A)\n",
      " JiangChuan3 - Avg[I SNEG All] (A)\n",
      " JiangChuan2 - Avg[I SNEG All] (A)\n",
      " Changliu4 - Avg[I SNEG All] (A)\n",
      " WanKe2 - Avg[I SNEG All] (A)\n",
      "15\n"
     ]
    }
   ],
   "source": [
    "tr_data=DataFrame()\n",
    "i=0\n",
    "for df in dfs:\n",
    "    for c in df.columns:\n",
    "        if c.find(\"Avg[I SNEG All]\")!=-1:\n",
    "            print (c)\n",
    "            tr_data[c]=df[c]\n",
    "            i+=1\n",
    "print(i)"
   ]
  },
  {
   "cell_type": "code",
   "execution_count": 9,
   "metadata": {},
   "outputs": [],
   "source": [
    "train_data=tr_data.dropna()"
   ]
  },
  {
   "cell_type": "code",
   "execution_count": 10,
   "metadata": {},
   "outputs": [
    {
     "data": {
      "text/plain": [
       "3299"
      ]
     },
     "execution_count": 10,
     "metadata": {},
     "output_type": "execute_result"
    }
   ],
   "source": [
    "len(train_data)"
   ]
  },
  {
   "cell_type": "code",
   "execution_count": 11,
   "metadata": {},
   "outputs": [],
   "source": [
    "train_data=train_data.dropna(axis=1)"
   ]
  },
  {
   "cell_type": "code",
   "execution_count": 12,
   "metadata": {},
   "outputs": [
    {
     "data": {
      "image/png": "[encoded data removed]",
      "text/plain": [
       "<Figure size 432x288 with 1 Axes>"
      ]
     },
     "metadata": {},
     "output_type": "display_data"
    }
   ],
   "source": [
    "corMat=DataFrame(train_data.corr())\n",
    "plot.pcolor(corMat)\n",
    "plot.show()"
   ]
  },
  {
   "cell_type": "code",
   "execution_count": 14,
   "metadata": {},
   "outputs": [
    {
     "data": {
      "text/html": [
       "<div>\n",
       "<style scoped>\n",
       "    .dataframe tbody tr th:only-of-type {\n",
       "        vertical-align: middle;\n",
       "    }\n",
       "\n",
       "    .dataframe tbody tr th {\n",
       "        vertical-align: top;\n",
       "    }\n",
       "\n",
       "    .dataframe thead th {\n",
       "        text-align: right;\n",
       "    }\n",
       "</style>\n",
       "<table border=\"1\" class=\"dataframe\">\n",
       "  <thead>\n",
       "    <tr style=\"text-align: right;\">\n",
       "      <th></th>\n",
       "      <th>KunYang3 - Avg[I SNEG All] (A)</th>\n",
       "      <th>WanKe1 - Avg[I SNEG All] (A)</th>\n",
       "      <th>Changliu3 - Avg[I SNEG All] (A)</th>\n",
       "      <th>JiangChuan1 - Avg[I SNEG All] (A)</th>\n",
       "      <th>Changliu2 - Avg[I SNEG All] (A)</th>\n",
       "      <th>QinZhou4 - Avg[I SNEG All] (A)</th>\n",
       "      <th>Changliu1 - Avg[I SNEG All] (A)</th>\n",
       "      <th>JiangChuan4 - Avg[I SNEG All] (A)</th>\n",
       "      <th>JiangChuan5 - Avg[I SNEG All] (A)</th>\n",
       "      <th>QinZhou3 - Avg[I SNEG All] (A)</th>\n",
       "      <th>KunYang1 - Avg[I SNEG All] (A)</th>\n",
       "      <th>JiangChuan3 - Avg[I SNEG All] (A)</th>\n",
       "      <th>JiangChuan2 - Avg[I SNEG All] (A)</th>\n",
       "      <th>Changliu4 - Avg[I SNEG All] (A)</th>\n",
       "      <th>WanKe2 - Avg[I SNEG All] (A)</th>\n",
       "    </tr>\n",
       "  </thead>\n",
       "  <tbody>\n",
       "    <tr>\n",
       "      <th>count</th>\n",
       "      <td>3299.000000</td>\n",
       "      <td>3299.000000</td>\n",
       "      <td>3299.000000</td>\n",
       "      <td>3299.000000</td>\n",
       "      <td>3299.000000</td>\n",
       "      <td>3299.000000</td>\n",
       "      <td>3299.000000</td>\n",
       "      <td>3299.000000</td>\n",
       "      <td>3299.000000</td>\n",
       "      <td>3299.000000</td>\n",
       "      <td>3299.000000</td>\n",
       "      <td>3299.000000</td>\n",
       "      <td>3299.000000</td>\n",
       "      <td>3299.000000</td>\n",
       "      <td>3299.000000</td>\n",
       "    </tr>\n",
       "    <tr>\n",
       "      <th>mean</th>\n",
       "      <td>0.181874</td>\n",
       "      <td>3.209161</td>\n",
       "      <td>0.313109</td>\n",
       "      <td>59.482901</td>\n",
       "      <td>0.363804</td>\n",
       "      <td>0.254570</td>\n",
       "      <td>0.017382</td>\n",
       "      <td>1.357104</td>\n",
       "      <td>1.162232</td>\n",
       "      <td>0.459858</td>\n",
       "      <td>1.871811</td>\n",
       "      <td>24.798242</td>\n",
       "      <td>0.013269</td>\n",
       "      <td>0.017314</td>\n",
       "      <td>1.711763</td>\n",
       "    </tr>\n",
       "    <tr>\n",
       "      <th>std</th>\n",
       "      <td>0.043728</td>\n",
       "      <td>1.371642</td>\n",
       "      <td>0.037432</td>\n",
       "      <td>9.167845</td>\n",
       "      <td>0.060451</td>\n",
       "      <td>0.089117</td>\n",
       "      <td>0.000281</td>\n",
       "      <td>0.438684</td>\n",
       "      <td>0.430088</td>\n",
       "      <td>0.146774</td>\n",
       "      <td>0.288465</td>\n",
       "      <td>4.098448</td>\n",
       "      <td>0.002856</td>\n",
       "      <td>0.000251</td>\n",
       "      <td>0.877790</td>\n",
       "    </tr>\n",
       "    <tr>\n",
       "      <th>min</th>\n",
       "      <td>0.039332</td>\n",
       "      <td>0.345390</td>\n",
       "      <td>0.177255</td>\n",
       "      <td>44.910065</td>\n",
       "      <td>0.167544</td>\n",
       "      <td>0.050382</td>\n",
       "      <td>0.016453</td>\n",
       "      <td>0.439033</td>\n",
       "      <td>0.169844</td>\n",
       "      <td>0.068401</td>\n",
       "      <td>0.726187</td>\n",
       "      <td>17.344202</td>\n",
       "      <td>0.007315</td>\n",
       "      <td>0.016497</td>\n",
       "      <td>0.322399</td>\n",
       "    </tr>\n",
       "    <tr>\n",
       "      <th>25%</th>\n",
       "      <td>0.153981</td>\n",
       "      <td>2.283381</td>\n",
       "      <td>0.286881</td>\n",
       "      <td>51.213820</td>\n",
       "      <td>0.327683</td>\n",
       "      <td>0.187074</td>\n",
       "      <td>0.017186</td>\n",
       "      <td>0.986805</td>\n",
       "      <td>0.808630</td>\n",
       "      <td>0.350486</td>\n",
       "      <td>1.678272</td>\n",
       "      <td>21.380312</td>\n",
       "      <td>0.010612</td>\n",
       "      <td>0.017139</td>\n",
       "      <td>1.035112</td>\n",
       "    </tr>\n",
       "    <tr>\n",
       "      <th>50%</th>\n",
       "      <td>0.186578</td>\n",
       "      <td>3.079269</td>\n",
       "      <td>0.313668</td>\n",
       "      <td>59.216892</td>\n",
       "      <td>0.369856</td>\n",
       "      <td>0.250477</td>\n",
       "      <td>0.017390</td>\n",
       "      <td>1.383880</td>\n",
       "      <td>1.077739</td>\n",
       "      <td>0.462781</td>\n",
       "      <td>1.887582</td>\n",
       "      <td>25.301262</td>\n",
       "      <td>0.013360</td>\n",
       "      <td>0.017317</td>\n",
       "      <td>1.574165</td>\n",
       "    </tr>\n",
       "    <tr>\n",
       "      <th>75%</th>\n",
       "      <td>0.210149</td>\n",
       "      <td>3.936870</td>\n",
       "      <td>0.339114</td>\n",
       "      <td>67.653721</td>\n",
       "      <td>0.407095</td>\n",
       "      <td>0.312364</td>\n",
       "      <td>0.017579</td>\n",
       "      <td>1.667473</td>\n",
       "      <td>1.534881</td>\n",
       "      <td>0.559315</td>\n",
       "      <td>2.069611</td>\n",
       "      <td>27.930292</td>\n",
       "      <td>0.015959</td>\n",
       "      <td>0.017488</td>\n",
       "      <td>2.202981</td>\n",
       "    </tr>\n",
       "    <tr>\n",
       "      <th>max</th>\n",
       "      <td>0.439548</td>\n",
       "      <td>8.805830</td>\n",
       "      <td>0.430168</td>\n",
       "      <td>81.480103</td>\n",
       "      <td>0.525946</td>\n",
       "      <td>0.718374</td>\n",
       "      <td>0.018224</td>\n",
       "      <td>2.949863</td>\n",
       "      <td>2.351747</td>\n",
       "      <td>0.968845</td>\n",
       "      <td>2.665280</td>\n",
       "      <td>36.302013</td>\n",
       "      <td>0.018710</td>\n",
       "      <td>0.018262</td>\n",
       "      <td>6.857071</td>\n",
       "    </tr>\n",
       "  </tbody>\n",
       "</table>\n",
       "</div>"
      ],
      "text/plain": [
       "        KunYang3 - Avg[I SNEG All] (A)   WanKe1 - Avg[I SNEG All] (A)  \\\n",
       "count                      3299.000000                    3299.000000   \n",
       "mean                          0.181874                       3.209161   \n",
       "std                           0.043728                       1.371642   \n",
       "min                           0.039332                       0.345390   \n",
       "25%                           0.153981                       2.283381   \n",
       "50%                           0.186578                       3.079269   \n",
       "75%                           0.210149                       3.936870   \n",
       "max                           0.439548                       8.805830   \n",
       "\n",
       "        Changliu3 - Avg[I SNEG All] (A)   JiangChuan1 - Avg[I SNEG All] (A)  \\\n",
       "count                       3299.000000                         3299.000000   \n",
       "mean                           0.313109                           59.482901   \n",
       "std                            0.037432                            9.167845   \n",
       "min                            0.177255                           44.910065   \n",
       "25%                            0.286881                           51.213820   \n",
       "50%                            0.313668                           59.216892   \n",
       "75%                            0.339114                           67.653721   \n",
       "max                            0.430168                           81.480103   \n",
       "\n",
       "        Changliu2 - Avg[I SNEG All] (A)   QinZhou4 - Avg[I SNEG All] (A)  \\\n",
       "count                       3299.000000                      3299.000000   \n",
       "mean                           0.363804                         0.254570   \n",
       "std                            0.060451                         0.089117   \n",
       "min                            0.167544                         0.050382   \n",
       "25%                            0.327683                         0.187074   \n",
       "50%                            0.369856                         0.250477   \n",
       "75%                            0.407095                         0.312364   \n",
       "max                            0.525946                         0.718374   \n",
       "\n",
       "        Changliu1 - Avg[I SNEG All] (A)   JiangChuan4 - Avg[I SNEG All] (A)  \\\n",
       "count                       3299.000000                         3299.000000   \n",
       "mean                           0.017382                            1.357104   \n",
       "std                            0.000281                            0.438684   \n",
       "min                            0.016453                            0.439033   \n",
       "25%                            0.017186                            0.986805   \n",
       "50%                            0.017390                            1.383880   \n",
       "75%                            0.017579                            1.667473   \n",
       "max                            0.018224                            2.949863   \n",
       "\n",
       "        JiangChuan5 - Avg[I SNEG All] (A)   QinZhou3 - Avg[I SNEG All] (A)  \\\n",
       "count                         3299.000000                      3299.000000   \n",
       "mean                             1.162232                         0.459858   \n",
       "std                              0.430088                         0.146774   \n",
       "min                              0.169844                         0.068401   \n",
       "25%                              0.808630                         0.350486   \n",
       "50%                              1.077739                         0.462781   \n",
       "75%                              1.534881                         0.559315   \n",
       "max                              2.351747                         0.968845   \n",
       "\n",
       "        KunYang1 - Avg[I SNEG All] (A)   JiangChuan3 - Avg[I SNEG All] (A)  \\\n",
       "count                      3299.000000                         3299.000000   \n",
       "mean                          1.871811                           24.798242   \n",
       "std                           0.288465                            4.098448   \n",
       "min                           0.726187                           17.344202   \n",
       "25%                           1.678272                           21.380312   \n",
       "50%                           1.887582                           25.301262   \n",
       "75%                           2.069611                           27.930292   \n",
       "max                           2.665280                           36.302013   \n",
       "\n",
       "        JiangChuan2 - Avg[I SNEG All] (A)   Changliu4 - Avg[I SNEG All] (A)  \\\n",
       "count                         3299.000000                       3299.000000   \n",
       "mean                             0.013269                          0.017314   \n",
       "std                              0.002856                          0.000251   \n",
       "min                              0.007315                          0.016497   \n",
       "25%                              0.010612                          0.017139   \n",
       "50%                              0.013360                          0.017317   \n",
       "75%                              0.015959                          0.017488   \n",
       "max                              0.018710                          0.018262   \n",
       "\n",
       "        WanKe2 - Avg[I SNEG All] (A)  \n",
       "count                    3299.000000  \n",
       "mean                        1.711763  \n",
       "std                         0.877790  \n",
       "min                         0.322399  \n",
       "25%                         1.035112  \n",
       "50%                         1.574165  \n",
       "75%                         2.202981  \n",
       "max                         6.857071  "
      ]
     },
     "execution_count": 14,
     "metadata": {},
     "output_type": "execute_result"
    }
   ],
   "source": [
    "train_data.describe()"
   ]
  },
  {
   "cell_type": "code",
   "execution_count": 15,
   "metadata": {},
   "outputs": [],
   "source": [
    "from sklearn.model_selection import train_test_split\n",
    "train,test= train_test_split(train_data,test_size=0.2,random_state=0)"
   ]
  },
  {
   "cell_type": "code",
   "execution_count": 16,
   "metadata": {},
   "outputs": [],
   "source": [
    "MAX= train.max()\n",
    "MIN = train.min()"
   ]
  },
  {
   "cell_type": "code",
   "execution_count": 17,
   "metadata": {},
   "outputs": [],
   "source": [
    "train_s=(train-MIN)/(MAX-MIN)\n",
    "test_s=(test-MIN)/(MAX-MIN)"
   ]
  },
  {
   "cell_type": "code",
   "execution_count": 18,
   "metadata": {},
   "outputs": [],
   "source": [
    "train_s=train_s.fillna(0)\n",
    "test_s=test_s.fillna(0)"
   ]
  },
  {
   "cell_type": "code",
   "execution_count": 19,
   "metadata": {},
   "outputs": [],
   "source": [
    "#  generate X_train,Y_train,X_test,Y_test for all target features\n",
    "X_train=train_s.copy();Y_train=DataFrame()\n",
    "\n",
    "for c in train_s.columns:\n",
    "    if c.find(\"WanKe1\") !=-1 :\n",
    "        Y_train[c]=train_s[c]\n",
    "        X_train=X_train.drop(c,axis=1)\n",
    "\n",
    "        \n",
    "X_test=test_s.copy();Y_test=DataFrame()\n",
    "\n",
    "for c in test_s.columns:\n",
    "    if c.find(\"WanKe1\") !=-1 :\n",
    "        Y_test[c]=test_s[c]\n",
    "        X_test=X_test.drop(c,axis=1)"
   ]
  },
  {
   "cell_type": "code",
   "execution_count": 20,
   "metadata": {},
   "outputs": [
    {
     "name": "stderr",
     "output_type": "stream",
     "text": [
      "/home/techstar/anaconda3/lib/python3.6/site-packages/h5py/__init__.py:36: FutureWarning: Conversion of the second argument of issubdtype from `float` to `np.floating` is deprecated. In future, it will be treated as `np.float64 == np.dtype(float).type`.\n",
      "  from ._conv import register_converters as _register_converters\n",
      "Using TensorFlow backend.\n"
     ]
    }
   ],
   "source": [
    "###### network from keras for SHDKY data simulation ###########\n",
    "from keras.models import Sequential\n",
    "from keras.layers import Dense, Activation,Input\n",
    "import keras\n",
    "\n",
    "\n",
    "model = Sequential()\n",
    "\n",
    "model.add(Dense(28, input_dim=14,kernel_initializer=\"normal\"))\n",
    "model.add(Activation('relu'))\n",
    "model.add(Dense(7, activation='relu',kernel_initializer=\"normal\"))\n",
    "model.add(Dense(1, activation='linear',kernel_initializer=\"normal\"))"
   ]
  },
  {
   "cell_type": "code",
   "execution_count": 38,
   "metadata": {},
   "outputs": [],
   "source": [
    "model.compile(loss='mean_squared_error', \n",
    "              optimizer=keras.optimizers.SGD(lr=0.02))"
   ]
  },
  {
   "cell_type": "code",
   "execution_count": 84,
   "metadata": {},
   "outputs": [
    {
     "name": "stdout",
     "output_type": "stream",
     "text": [
      "Train on 2111 samples, validate on 528 samples\n",
      "Epoch 1/20\n",
      " - 0s - loss: 0.0088 - val_loss: 0.0114\n",
      "Epoch 2/20\n",
      " - 0s - loss: 0.0088 - val_loss: 0.0113\n",
      "Epoch 3/20\n",
      " - 0s - loss: 0.0088 - val_loss: 0.0111\n",
      "Epoch 4/20\n",
      " - 0s - loss: 0.0088 - val_loss: 0.0111\n",
      "Epoch 5/20\n",
      " - 0s - loss: 0.0087 - val_loss: 0.0110\n",
      "Epoch 6/20\n",
      " - 0s - loss: 0.0088 - val_loss: 0.0116\n",
      "Epoch 7/20\n",
      " - 0s - loss: 0.0088 - val_loss: 0.0120\n",
      "Epoch 8/20\n",
      " - 0s - loss: 0.0087 - val_loss: 0.0114\n",
      "Epoch 9/20\n",
      " - 0s - loss: 0.0087 - val_loss: 0.0115\n",
      "Epoch 10/20\n",
      " - 0s - loss: 0.0088 - val_loss: 0.0111\n",
      "Epoch 11/20\n",
      " - 0s - loss: 0.0088 - val_loss: 0.0110\n",
      "Epoch 12/20\n",
      " - 0s - loss: 0.0087 - val_loss: 0.0114\n",
      "Epoch 13/20\n",
      " - 0s - loss: 0.0088 - val_loss: 0.0115\n",
      "Epoch 14/20\n",
      " - 0s - loss: 0.0087 - val_loss: 0.0110\n",
      "Epoch 15/20\n",
      " - 0s - loss: 0.0088 - val_loss: 0.0127\n",
      "Epoch 16/20\n",
      " - 0s - loss: 0.0088 - val_loss: 0.0113\n",
      "Epoch 17/20\n",
      " - 0s - loss: 0.0087 - val_loss: 0.0114\n",
      "Epoch 18/20\n",
      " - 0s - loss: 0.0088 - val_loss: 0.0117\n",
      "Epoch 19/20\n",
      " - 0s - loss: 0.0088 - val_loss: 0.0114\n",
      "Epoch 20/20\n",
      " - 0s - loss: 0.0087 - val_loss: 0.0110\n"
     ]
    },
    {
     "data": {
      "text/plain": [
       "<keras.callbacks.History at 0x7f89587bab70>"
      ]
     },
     "execution_count": 84,
     "metadata": {},
     "output_type": "execute_result"
    }
   ],
   "source": [
    "model.fit(X_train, Y_train, epochs=20,batch_size=30,\n",
    "          shuffle=True,verbose=2,validation_split=0.2) "
   ]
  },
  {
   "cell_type": "code",
   "execution_count": 86,
   "metadata": {},
   "outputs": [],
   "source": [
    "#((model.predict(X_test)-Y_test)/Y_test)"
   ]
  },
  {
   "cell_type": "code",
   "execution_count": 85,
   "metadata": {},
   "outputs": [
    {
     "data": {
      "text/html": [
       "<div>\n",
       "<style scoped>\n",
       "    .dataframe tbody tr th:only-of-type {\n",
       "        vertical-align: middle;\n",
       "    }\n",
       "\n",
       "    .dataframe tbody tr th {\n",
       "        vertical-align: top;\n",
       "    }\n",
       "\n",
       "    .dataframe thead th {\n",
       "        text-align: right;\n",
       "    }\n",
       "</style>\n",
       "<table border=\"1\" class=\"dataframe\">\n",
       "  <thead>\n",
       "    <tr style=\"text-align: right;\">\n",
       "      <th></th>\n",
       "      <th>WanKe1 - Avg[I SNEG All] (A)</th>\n",
       "    </tr>\n",
       "  </thead>\n",
       "  <tbody>\n",
       "    <tr>\n",
       "      <th>count</th>\n",
       "      <td>660.000000</td>\n",
       "    </tr>\n",
       "    <tr>\n",
       "      <th>mean</th>\n",
       "      <td>0.000050</td>\n",
       "    </tr>\n",
       "    <tr>\n",
       "      <th>std</th>\n",
       "      <td>0.106471</td>\n",
       "    </tr>\n",
       "    <tr>\n",
       "      <th>min</th>\n",
       "      <td>-0.398747</td>\n",
       "    </tr>\n",
       "    <tr>\n",
       "      <th>25%</th>\n",
       "      <td>-0.063252</td>\n",
       "    </tr>\n",
       "    <tr>\n",
       "      <th>50%</th>\n",
       "      <td>0.004520</td>\n",
       "    </tr>\n",
       "    <tr>\n",
       "      <th>75%</th>\n",
       "      <td>0.063650</td>\n",
       "    </tr>\n",
       "    <tr>\n",
       "      <th>max</th>\n",
       "      <td>0.372294</td>\n",
       "    </tr>\n",
       "  </tbody>\n",
       "</table>\n",
       "</div>"
      ],
      "text/plain": [
       "        WanKe1 - Avg[I SNEG All] (A)\n",
       "count                     660.000000\n",
       "mean                        0.000050\n",
       "std                         0.106471\n",
       "min                        -0.398747\n",
       "25%                        -0.063252\n",
       "50%                         0.004520\n",
       "75%                         0.063650\n",
       "max                         0.372294"
      ]
     },
     "execution_count": 85,
     "metadata": {},
     "output_type": "execute_result"
    }
   ],
   "source": [
    "((model.predict(X_test)-Y_test)).describe()"
   ]
  },
  {
   "cell_type": "code",
   "execution_count": 87,
   "metadata": {},
   "outputs": [],
   "source": [
    "c=Y_test.columns\n",
    "R= pd.DataFrame(model.predict(X_test),columns=['V_pred'])\n",
    "R.index = Y_test.index\n",
    "R= R.join(Y_test)\n",
    "R=  R*(MAX[c]-MIN[c]).values[0]+MIN[c].values[0]\n"
   ]
  },
  {
   "cell_type": "code",
   "execution_count": 88,
   "metadata": {},
   "outputs": [
    {
     "data": {
      "text/plain": [
       "<matplotlib.axes._subplots.AxesSubplot at 0x7f8958792a90>"
      ]
     },
     "execution_count": 88,
     "metadata": {},
     "output_type": "execute_result"
    },
    {
     "data": {
      "image/png": "[encoded data removed]",
      "text/plain": [
       "<Figure size 864x288 with 1 Axes>"
      ]
     },
     "metadata": {},
     "output_type": "display_data"
    }
   ],
   "source": [
    "R_show=R.iloc[200:300,:]\n",
    "\n",
    "import pylab\n",
    "pylab.rcParams['figure.figsize'] = (12.0, 4.0)\n",
    "\n",
    "R_show.plot(alpha =0.5,figsize = (12,4))"
   ]
  },
  {
   "cell_type": "code",
   "execution_count": 89,
   "metadata": {},
   "outputs": [],
   "source": [
    "R[\"diff\"]=(R[\"V_pred\"]-R[c[0]])\n",
    "R[\"diff_ptg\"]=(R[\"V_pred\"]-R[c[0]])/R[c[0]]"
   ]
  },
  {
   "cell_type": "code",
   "execution_count": 92,
   "metadata": {},
   "outputs": [
    {
     "data": {
      "text/plain": [
       "(-0.3564956658446603, 1.0255622053724205)"
      ]
     },
     "execution_count": 92,
     "metadata": {},
     "output_type": "execute_result"
    }
   ],
   "source": [
    "(R.diff_ptg.quantile(0.05),R.diff_ptg.quantile(0.95))"
   ]
  },
  {
   "cell_type": "code",
   "execution_count": 93,
   "metadata": {},
   "outputs": [
    {
     "data": {
      "text/html": [
       "<div>\n",
       "<style scoped>\n",
       "    .dataframe tbody tr th:only-of-type {\n",
       "        vertical-align: middle;\n",
       "    }\n",
       "\n",
       "    .dataframe tbody tr th {\n",
       "        vertical-align: top;\n",
       "    }\n",
       "\n",
       "    .dataframe thead th {\n",
       "        text-align: right;\n",
       "    }\n",
       "</style>\n",
       "<table border=\"1\" class=\"dataframe\">\n",
       "  <thead>\n",
       "    <tr style=\"text-align: right;\">\n",
       "      <th></th>\n",
       "      <th>V_pred</th>\n",
       "      <th>WanKe1 - Avg[I SNEG All] (A)</th>\n",
       "      <th>diff</th>\n",
       "      <th>diff_ptg</th>\n",
       "    </tr>\n",
       "  </thead>\n",
       "  <tbody>\n",
       "    <tr>\n",
       "      <th>count</th>\n",
       "      <td>660.000000</td>\n",
       "      <td>660.000000</td>\n",
       "      <td>660.000000</td>\n",
       "      <td>660.000000</td>\n",
       "    </tr>\n",
       "    <tr>\n",
       "      <th>mean</th>\n",
       "      <td>3.142797</td>\n",
       "      <td>3.142373</td>\n",
       "      <td>0.000422</td>\n",
       "      <td>0.119648</td>\n",
       "    </tr>\n",
       "    <tr>\n",
       "      <th>std</th>\n",
       "      <td>1.080688</td>\n",
       "      <td>1.329881</td>\n",
       "      <td>0.900789</td>\n",
       "      <td>0.495416</td>\n",
       "    </tr>\n",
       "    <tr>\n",
       "      <th>min</th>\n",
       "      <td>0.949121</td>\n",
       "      <td>0.471633</td>\n",
       "      <td>-3.373573</td>\n",
       "      <td>-0.630071</td>\n",
       "    </tr>\n",
       "    <tr>\n",
       "      <th>25%</th>\n",
       "      <td>2.425905</td>\n",
       "      <td>2.274424</td>\n",
       "      <td>-0.535144</td>\n",
       "      <td>-0.151529</td>\n",
       "    </tr>\n",
       "    <tr>\n",
       "      <th>50%</th>\n",
       "      <td>3.003441</td>\n",
       "      <td>3.011767</td>\n",
       "      <td>0.038237</td>\n",
       "      <td>0.011244</td>\n",
       "    </tr>\n",
       "    <tr>\n",
       "      <th>75%</th>\n",
       "      <td>3.476988</td>\n",
       "      <td>3.804335</td>\n",
       "      <td>0.538509</td>\n",
       "      <td>0.217272</td>\n",
       "    </tr>\n",
       "    <tr>\n",
       "      <th>max</th>\n",
       "      <td>7.324358</td>\n",
       "      <td>7.982428</td>\n",
       "      <td>3.149769</td>\n",
       "      <td>3.633747</td>\n",
       "    </tr>\n",
       "  </tbody>\n",
       "</table>\n",
       "</div>"
      ],
      "text/plain": [
       "           V_pred   WanKe1 - Avg[I SNEG All] (A)        diff    diff_ptg\n",
       "count  660.000000                     660.000000  660.000000  660.000000\n",
       "mean     3.142797                       3.142373    0.000422    0.119648\n",
       "std      1.080688                       1.329881    0.900789    0.495416\n",
       "min      0.949121                       0.471633   -3.373573   -0.630071\n",
       "25%      2.425905                       2.274424   -0.535144   -0.151529\n",
       "50%      3.003441                       3.011767    0.038237    0.011244\n",
       "75%      3.476988                       3.804335    0.538509    0.217272\n",
       "max      7.324358                       7.982428    3.149769    3.633747"
      ]
     },
     "execution_count": 93,
     "metadata": {},
     "output_type": "execute_result"
    }
   ],
   "source": [
    "R.describe()"
   ]
  },
  {
   "cell_type": "code",
   "execution_count": 94,
   "metadata": {},
   "outputs": [
    {
     "data": {
      "text/html": [
       "<div>\n",
       "<style scoped>\n",
       "    .dataframe tbody tr th:only-of-type {\n",
       "        vertical-align: middle;\n",
       "    }\n",
       "\n",
       "    .dataframe tbody tr th {\n",
       "        vertical-align: top;\n",
       "    }\n",
       "\n",
       "    .dataframe thead th {\n",
       "        text-align: right;\n",
       "    }\n",
       "</style>\n",
       "<table border=\"1\" class=\"dataframe\">\n",
       "  <thead>\n",
       "    <tr style=\"text-align: right;\">\n",
       "      <th></th>\n",
       "      <th>V_pred</th>\n",
       "      <th>WanKe1 - Avg[I SNEG All] (A)</th>\n",
       "      <th>diff</th>\n",
       "      <th>diff_ptg</th>\n",
       "    </tr>\n",
       "    <tr>\n",
       "      <th>时间</th>\n",
       "      <th></th>\n",
       "      <th></th>\n",
       "      <th></th>\n",
       "      <th></th>\n",
       "    </tr>\n",
       "  </thead>\n",
       "  <tbody>\n",
       "    <tr>\n",
       "      <th>2018-02-02 06:57:00</th>\n",
       "      <td>3.054255</td>\n",
       "      <td>0.868538</td>\n",
       "      <td>2.185717</td>\n",
       "      <td>2.516547</td>\n",
       "    </tr>\n",
       "    <tr>\n",
       "      <th>2018-02-01 14:48:00</th>\n",
       "      <td>2.061062</td>\n",
       "      <td>0.541388</td>\n",
       "      <td>1.519675</td>\n",
       "      <td>2.807000</td>\n",
       "    </tr>\n",
       "    <tr>\n",
       "      <th>2018-02-02 13:27:00</th>\n",
       "      <td>1.845370</td>\n",
       "      <td>0.471633</td>\n",
       "      <td>1.373737</td>\n",
       "      <td>2.912722</td>\n",
       "    </tr>\n",
       "    <tr>\n",
       "      <th>2018-02-04 16:36:00</th>\n",
       "      <td>4.157718</td>\n",
       "      <td>1.007949</td>\n",
       "      <td>3.149769</td>\n",
       "      <td>3.124930</td>\n",
       "    </tr>\n",
       "    <tr>\n",
       "      <th>2018-02-02 20:09:00</th>\n",
       "      <td>2.995199</td>\n",
       "      <td>0.657040</td>\n",
       "      <td>2.338159</td>\n",
       "      <td>3.558622</td>\n",
       "    </tr>\n",
       "    <tr>\n",
       "      <th>2018-02-05 16:33:00</th>\n",
       "      <td>2.922199</td>\n",
       "      <td>0.630634</td>\n",
       "      <td>2.291565</td>\n",
       "      <td>3.633747</td>\n",
       "    </tr>\n",
       "  </tbody>\n",
       "</table>\n",
       "</div>"
      ],
      "text/plain": [
       "                       V_pred   WanKe1 - Avg[I SNEG All] (A)      diff  \\\n",
       "时间                                                                       \n",
       "2018-02-02 06:57:00  3.054255                       0.868538  2.185717   \n",
       "2018-02-01 14:48:00  2.061062                       0.541388  1.519675   \n",
       "2018-02-02 13:27:00  1.845370                       0.471633  1.373737   \n",
       "2018-02-04 16:36:00  4.157718                       1.007949  3.149769   \n",
       "2018-02-02 20:09:00  2.995199                       0.657040  2.338159   \n",
       "2018-02-05 16:33:00  2.922199                       0.630634  2.291565   \n",
       "\n",
       "                     diff_ptg  \n",
       "时间                             \n",
       "2018-02-02 06:57:00  2.516547  \n",
       "2018-02-01 14:48:00  2.807000  \n",
       "2018-02-02 13:27:00  2.912722  \n",
       "2018-02-04 16:36:00  3.124930  \n",
       "2018-02-02 20:09:00  3.558622  \n",
       "2018-02-05 16:33:00  3.633747  "
      ]
     },
     "execution_count": 94,
     "metadata": {},
     "output_type": "execute_result"
    }
   ],
   "source": [
    "R.sort_values(\"diff_ptg\")[-6:]"
   ]
  },
  {
   "cell_type": "code",
   "execution_count": 96,
   "metadata": {},
   "outputs": [
    {
     "data": {
      "text/html": [
       "<div>\n",
       "<style scoped>\n",
       "    .dataframe tbody tr th:only-of-type {\n",
       "        vertical-align: middle;\n",
       "    }\n",
       "\n",
       "    .dataframe tbody tr th {\n",
       "        vertical-align: top;\n",
       "    }\n",
       "\n",
       "    .dataframe thead th {\n",
       "        text-align: right;\n",
       "    }\n",
       "</style>\n",
       "<table border=\"1\" class=\"dataframe\">\n",
       "  <thead>\n",
       "    <tr style=\"text-align: right;\">\n",
       "      <th></th>\n",
       "      <th>V_pred</th>\n",
       "      <th>WanKe1 - Avg[I SNEG All] (A)</th>\n",
       "      <th>diff</th>\n",
       "      <th>diff_ptg</th>\n",
       "    </tr>\n",
       "  </thead>\n",
       "  <tbody>\n",
       "    <tr>\n",
       "      <th>V_pred</th>\n",
       "      <td>1.000000</td>\n",
       "      <td>0.739309</td>\n",
       "      <td>0.108234</td>\n",
       "      <td>-0.035274</td>\n",
       "    </tr>\n",
       "    <tr>\n",
       "      <th>WanKe1 - Avg[I SNEG All] (A)</th>\n",
       "      <td>0.739309</td>\n",
       "      <td>1.000000</td>\n",
       "      <td>-0.589393</td>\n",
       "      <td>-0.570888</td>\n",
       "    </tr>\n",
       "    <tr>\n",
       "      <th>diff</th>\n",
       "      <td>0.108234</td>\n",
       "      <td>-0.589393</td>\n",
       "      <td>1.000000</td>\n",
       "      <td>0.800513</td>\n",
       "    </tr>\n",
       "    <tr>\n",
       "      <th>diff_ptg</th>\n",
       "      <td>-0.035274</td>\n",
       "      <td>-0.570888</td>\n",
       "      <td>0.800513</td>\n",
       "      <td>1.000000</td>\n",
       "    </tr>\n",
       "  </tbody>\n",
       "</table>\n",
       "</div>"
      ],
      "text/plain": [
       "                                 V_pred   WanKe1 - Avg[I SNEG All] (A)  \\\n",
       "V_pred                         1.000000                       0.739309   \n",
       " WanKe1 - Avg[I SNEG All] (A)  0.739309                       1.000000   \n",
       "diff                           0.108234                      -0.589393   \n",
       "diff_ptg                      -0.035274                      -0.570888   \n",
       "\n",
       "                                   diff  diff_ptg  \n",
       "V_pred                         0.108234 -0.035274  \n",
       " WanKe1 - Avg[I SNEG All] (A) -0.589393 -0.570888  \n",
       "diff                           1.000000  0.800513  \n",
       "diff_ptg                       0.800513  1.000000  "
      ]
     },
     "execution_count": 96,
     "metadata": {},
     "output_type": "execute_result"
    }
   ],
   "source": [
    "R.corr()"
   ]
  },
  {
   "cell_type": "code",
   "execution_count": 97,
   "metadata": {},
   "outputs": [
    {
     "data": {
      "text/plain": [
       " JiangChuan5 - Avg[I SNEG All] (A)   -0.420202\n",
       " JiangChuan1 - Avg[I SNEG All] (A)   -0.388346\n",
       " Changliu2 - Avg[I SNEG All] (A)     -0.171492\n",
       " JiangChuan3 - Avg[I SNEG All] (A)   -0.128385\n",
       " JiangChuan4 - Avg[I SNEG All] (A)   -0.052531\n",
       " JiangChuan2 - Avg[I SNEG All] (A)   -0.038618\n",
       " Changliu4 - Avg[I SNEG All] (A)     -0.023434\n",
       " QinZhou4 - Avg[I SNEG All] (A)      -0.017419\n",
       " Changliu1 - Avg[I SNEG All] (A)     -0.010145\n",
       " WanKe2 - Avg[I SNEG All] (A)         0.044177\n",
       " Changliu3 - Avg[I SNEG All] (A)      0.048629\n",
       " QinZhou3 - Avg[I SNEG All] (A)       0.084040\n",
       " KunYang3 - Avg[I SNEG All] (A)       0.137607\n",
       " KunYang1 - Avg[I SNEG All] (A)       0.221706\n",
       " WanKe1 - Avg[I SNEG All] (A)         1.000000\n",
       "Name:  WanKe1 - Avg[I SNEG All] (A), dtype: float64"
      ]
     },
     "execution_count": 97,
     "metadata": {},
     "output_type": "execute_result"
    }
   ],
   "source": [
    "train_data.corr()[c[0]].sort_values()"
   ]
  },
  {
   "cell_type": "code",
   "execution_count": 102,
   "metadata": {},
   "outputs": [],
   "source": [
    "model.save(\"model_h5/M_ISneg.h5\")"
   ]
  },
  {
   "cell_type": "code",
   "execution_count": 99,
   "metadata": {},
   "outputs": [
    {
     "data": {
      "text/html": [
       "<div>\n",
       "<style scoped>\n",
       "    .dataframe tbody tr th:only-of-type {\n",
       "        vertical-align: middle;\n",
       "    }\n",
       "\n",
       "    .dataframe tbody tr th {\n",
       "        vertical-align: top;\n",
       "    }\n",
       "\n",
       "    .dataframe thead th {\n",
       "        text-align: right;\n",
       "    }\n",
       "</style>\n",
       "<table border=\"1\" class=\"dataframe\">\n",
       "  <thead>\n",
       "    <tr style=\"text-align: right;\">\n",
       "      <th></th>\n",
       "      <th>WanKe1 - Avg[I SNEG All] (A)</th>\n",
       "    </tr>\n",
       "    <tr>\n",
       "      <th>时间</th>\n",
       "      <th></th>\n",
       "    </tr>\n",
       "  </thead>\n",
       "  <tbody>\n",
       "    <tr>\n",
       "      <th>2018-02-02 05:24:00</th>\n",
       "      <td>3.689721</td>\n",
       "    </tr>\n",
       "    <tr>\n",
       "      <th>2018-02-01 01:42:00</th>\n",
       "      <td>1.979478</td>\n",
       "    </tr>\n",
       "    <tr>\n",
       "      <th>2018-02-02 20:36:00</th>\n",
       "      <td>1.623919</td>\n",
       "    </tr>\n",
       "    <tr>\n",
       "      <th>2018-02-07 13:15:00</th>\n",
       "      <td>1.498672</td>\n",
       "    </tr>\n",
       "    <tr>\n",
       "      <th>2018-02-03 09:27:00</th>\n",
       "      <td>3.600340</td>\n",
       "    </tr>\n",
       "    <tr>\n",
       "      <th>2018-02-05 09:48:00</th>\n",
       "      <td>2.741348</td>\n",
       "    </tr>\n",
       "  </tbody>\n",
       "</table>\n",
       "</div>"
      ],
      "text/plain": [
       "                      WanKe1 - Avg[I SNEG All] (A)\n",
       "时间                                                \n",
       "2018-02-02 05:24:00                       3.689721\n",
       "2018-02-01 01:42:00                       1.979478\n",
       "2018-02-02 20:36:00                       1.623919\n",
       "2018-02-07 13:15:00                       1.498672\n",
       "2018-02-03 09:27:00                       3.600340\n",
       "2018-02-05 09:48:00                       2.741348"
      ]
     },
     "execution_count": 99,
     "metadata": {},
     "output_type": "execute_result"
    }
   ],
   "source": [
    "test[c][:6]"
   ]
  },
  {
   "cell_type": "code",
   "execution_count": 100,
   "metadata": {},
   "outputs": [
    {
     "data": {
      "text/html": [
       "<div>\n",
       "<style scoped>\n",
       "    .dataframe tbody tr th:only-of-type {\n",
       "        vertical-align: middle;\n",
       "    }\n",
       "\n",
       "    .dataframe tbody tr th {\n",
       "        vertical-align: top;\n",
       "    }\n",
       "\n",
       "    .dataframe thead th {\n",
       "        text-align: right;\n",
       "    }\n",
       "</style>\n",
       "<table border=\"1\" class=\"dataframe\">\n",
       "  <thead>\n",
       "    <tr style=\"text-align: right;\">\n",
       "      <th></th>\n",
       "      <th>WanKe1 - Avg[I SNEG All] (A)</th>\n",
       "    </tr>\n",
       "    <tr>\n",
       "      <th>时间</th>\n",
       "      <th></th>\n",
       "    </tr>\n",
       "  </thead>\n",
       "  <tbody>\n",
       "    <tr>\n",
       "      <th>2018-02-02 05:24:00</th>\n",
       "      <td>3.689721</td>\n",
       "    </tr>\n",
       "    <tr>\n",
       "      <th>2018-02-01 01:42:00</th>\n",
       "      <td>1.979478</td>\n",
       "    </tr>\n",
       "    <tr>\n",
       "      <th>2018-02-02 20:36:00</th>\n",
       "      <td>1.623919</td>\n",
       "    </tr>\n",
       "    <tr>\n",
       "      <th>2018-02-07 13:15:00</th>\n",
       "      <td>1.498672</td>\n",
       "    </tr>\n",
       "    <tr>\n",
       "      <th>2018-02-03 09:27:00</th>\n",
       "      <td>3.600340</td>\n",
       "    </tr>\n",
       "    <tr>\n",
       "      <th>2018-02-05 09:48:00</th>\n",
       "      <td>2.741348</td>\n",
       "    </tr>\n",
       "  </tbody>\n",
       "</table>\n",
       "</div>"
      ],
      "text/plain": [
       "                      WanKe1 - Avg[I SNEG All] (A)\n",
       "时间                                                \n",
       "2018-02-02 05:24:00                       3.689721\n",
       "2018-02-01 01:42:00                       1.979478\n",
       "2018-02-02 20:36:00                       1.623919\n",
       "2018-02-07 13:15:00                       1.498672\n",
       "2018-02-03 09:27:00                       3.600340\n",
       "2018-02-05 09:48:00                       2.741348"
      ]
     },
     "execution_count": 100,
     "metadata": {},
     "output_type": "execute_result"
    }
   ],
   "source": [
    "R[c][:6]"
   ]
  },
  {
   "cell_type": "code",
   "execution_count": 103,
   "metadata": {},
   "outputs": [
    {
     "data": {
      "text/plain": [
       "<matplotlib.axes._subplots.AxesSubplot at 0x7f8958706908>"
      ]
     },
     "execution_count": 103,
     "metadata": {},
     "output_type": "execute_result"
    },
    {
     "data": {
      "image/png": "[encoded data removed]",
      "text/plain": [
       "<Figure size 864x288 with 1 Axes>"
      ]
     },
     "metadata": {},
     "output_type": "display_data"
    }
   ],
   "source": [
    "R.diff_ptg.hist(bins=100)"
   ]
  },
  {
   "cell_type": "code",
   "execution_count": null,
   "metadata": {},
   "outputs": [],
   "source": []
  }
 ],
 "metadata": {
  "kernelspec": {
   "display_name": "Python 3",
   "language": "python",
   "name": "python3"
  },
  "language_info": {
   "codemirror_mode": {
    "name": "ipython",
    "version": 3
   },
   "file_extension": ".py",
   "mimetype": "text/x-python",
   "name": "python",
   "nbconvert_exporter": "python",
   "pygments_lexer": "ipython3",
   "version": "3.6.5"
  }
 },
 "nbformat": 4,
 "nbformat_minor": 2
}
