{
 "cells": [
  {
   "cell_type": "code",
   "execution_count": 1,
   "metadata": {},
   "outputs": [],
   "source": [
    "import numpy as np\n",
    "import pandas as pd\n",
    "import pathlib as pl\n",
    "from datetime import datetime\n",
    "import matplotlib.pyplot as plot\n",
    "from pandas import DataFrame, Series"
   ]
  },
  {
   "cell_type": "code",
   "execution_count": 2,
   "metadata": {},
   "outputs": [
    {
     "name": "stdout",
     "output_type": "stream",
     "text": [
      "Reading kVKunYang3.csv\n",
      "Reading kVWanKe1.csv\n",
      "Reading kVChangLiu3.csv\n",
      "Reading kVJiangChuan1.csv\n",
      "Reading kVChangLiu2.csv\n",
      "Reading kVQinZhou4.csv\n",
      "Reading kVChangLiu1.csv\n",
      "Reading kVJiangChuan4.csv\n",
      "Reading kVJiangChuan5.csv\n",
      "Reading kVQinZhou3.csv\n",
      "Reading kVKunYang1.csv\n",
      "Reading kVJiangChuan3.csv\n",
      "Reading kVJiangChuan2.csv\n",
      "Reading kVChangLiu4.csv\n",
      "Reading kVWanKe2.csv\n"
     ]
    }
   ],
   "source": [
    "# read from csv files\n",
    "\n",
    "datapath=pl.Path(\"../csvdata\")\n",
    "\n",
    "file_list=[]\n",
    "dfs=[]\n",
    "for x in datapath.glob(\"*[0-9].csv\"):\n",
    "    print(\"Reading \"+x.name)\n",
    "    f=pd.read_csv(x,index_col=0,na_values=\" \")\n",
    "    dfs.append(f)\n",
    "    file_list.append(x.name)"
   ]
  },
  {
   "cell_type": "code",
   "execution_count": 3,
   "metadata": {},
   "outputs": [],
   "source": [
    "cols = [\"Avg[V 有效值 AB]\",\n",
    "# \"Avg[V 总谐波畸变率 A]\",\n",
    " \"Avg[V 负序不平衡 Total]\",\n",
    " \"Avg[V SPOS All]\",\n",
    " \"Avg[V SNEG All]\",\n",
    " \"Avg[V SZERO All]\",\n",
    "#\"Pst A\",\n",
    " \"Avg[I 有效值 A]\",\n",
    " \"Avg[I 总谐波畸变率 A]\",\n",
    " \"Avg[I 负序不平衡 Total]\",\n",
    " \"Avg[I SPOS All]\",\n",
    " \"Avg[I SNEG All]\",\n",
    " \"Avg[I ZERO All]\",\n",
    "# \"Avg[P A]\",\n",
    "# \"Avg[Q A]\",\n",
    "# \"Avg[S A]\",\n",
    "# \"Avg[功率因数 A]\"\n",
    " ]"
   ]
  },
  {
   "cell_type": "code",
   "execution_count": 4,
   "metadata": {},
   "outputs": [
    {
     "name": "stdout",
     "output_type": "stream",
     "text": [
      " KunYang3 - Avg[I 负序不平衡 Total] (%)\n",
      " WanKe1 - Avg[I 负序不平衡 Total] (%)\n",
      " Changliu3 - Avg[I 负序不平衡 Total] (%)\n",
      " JiangChuan1 - Avg[I 负序不平衡 Total] (%)\n",
      " Changliu2 - Avg[I 负序不平衡 Total] (%)\n",
      " QinZhou4 - Avg[I 负序不平衡 Total] (%)\n",
      " Changliu1 - Avg[I 负序不平衡 Total] (%)\n",
      " JiangChuan4 - Avg[I 负序不平衡 Total] (%)\n",
      " JiangChuan5 - Avg[I 负序不平衡 Total] (%)\n",
      " QinZhou3 - Avg[I 负序不平衡 Total] (%)\n",
      " KunYang1 - Avg[I 负序不平衡 Total] (%)\n",
      " JiangChuan3 - Avg[I 负序不平衡 Total] (%)\n",
      " JiangChuan2 - Avg[I 负序不平衡 Total] (%)\n",
      " Changliu4 - Avg[I 负序不平衡 Total] (%)\n",
      " WanKe2 - Avg[I 负序不平衡 Total] (%)\n",
      "15\n"
     ]
    }
   ],
   "source": [
    "tr_data=DataFrame()\n",
    "i=0\n",
    "for df in dfs:\n",
    "    for c in df.columns:\n",
    "        if c.find(\"Avg[I 负序不平衡 Total]\")!=-1:\n",
    "            print (c)\n",
    "            tr_data[c]=df[c]\n",
    "            i+=1\n",
    "print(i)"
   ]
  },
  {
   "cell_type": "code",
   "execution_count": 5,
   "metadata": {},
   "outputs": [],
   "source": [
    "train_data=tr_data.dropna()"
   ]
  },
  {
   "cell_type": "code",
   "execution_count": 6,
   "metadata": {},
   "outputs": [
    {
     "data": {
      "text/plain": [
       "3299"
      ]
     },
     "execution_count": 6,
     "metadata": {},
     "output_type": "execute_result"
    }
   ],
   "source": [
    "len(train_data)"
   ]
  },
  {
   "cell_type": "code",
   "execution_count": 7,
   "metadata": {},
   "outputs": [],
   "source": [
    "train_data=train_data.dropna(axis=1)"
   ]
  },
  {
   "cell_type": "code",
   "execution_count": 8,
   "metadata": {},
   "outputs": [
    {
     "data": {
      "image/png": "[encoded data removed]",
      "text/plain": [
       "<Figure size 432x288 with 1 Axes>"
      ]
     },
     "metadata": {},
     "output_type": "display_data"
    }
   ],
   "source": [
    "corMat=DataFrame(train_data.corr())\n",
    "plot.pcolor(corMat)\n",
    "plot.show()"
   ]
  },
  {
   "cell_type": "code",
   "execution_count": 10,
   "metadata": {},
   "outputs": [
    {
     "data": {
      "text/html": [
       "<div>\n",
       "<style scoped>\n",
       "    .dataframe tbody tr th:only-of-type {\n",
       "        vertical-align: middle;\n",
       "    }\n",
       "\n",
       "    .dataframe tbody tr th {\n",
       "        vertical-align: top;\n",
       "    }\n",
       "\n",
       "    .dataframe thead th {\n",
       "        text-align: right;\n",
       "    }\n",
       "</style>\n",
       "<table border=\"1\" class=\"dataframe\">\n",
       "  <thead>\n",
       "    <tr style=\"text-align: right;\">\n",
       "      <th></th>\n",
       "      <th>KunYang3 - Avg[I 负序不平衡 Total] (%)</th>\n",
       "      <th>WanKe1 - Avg[I 负序不平衡 Total] (%)</th>\n",
       "      <th>Changliu3 - Avg[I 负序不平衡 Total] (%)</th>\n",
       "      <th>JiangChuan1 - Avg[I 负序不平衡 Total] (%)</th>\n",
       "      <th>Changliu2 - Avg[I 负序不平衡 Total] (%)</th>\n",
       "      <th>QinZhou4 - Avg[I 负序不平衡 Total] (%)</th>\n",
       "      <th>Changliu1 - Avg[I 负序不平衡 Total] (%)</th>\n",
       "      <th>JiangChuan4 - Avg[I 负序不平衡 Total] (%)</th>\n",
       "      <th>JiangChuan5 - Avg[I 负序不平衡 Total] (%)</th>\n",
       "      <th>QinZhou3 - Avg[I 负序不平衡 Total] (%)</th>\n",
       "      <th>KunYang1 - Avg[I 负序不平衡 Total] (%)</th>\n",
       "      <th>JiangChuan3 - Avg[I 负序不平衡 Total] (%)</th>\n",
       "      <th>JiangChuan2 - Avg[I 负序不平衡 Total] (%)</th>\n",
       "      <th>Changliu4 - Avg[I 负序不平衡 Total] (%)</th>\n",
       "      <th>WanKe2 - Avg[I 负序不平衡 Total] (%)</th>\n",
       "    </tr>\n",
       "  </thead>\n",
       "  <tbody>\n",
       "    <tr>\n",
       "      <th>count</th>\n",
       "      <td>3299.000000</td>\n",
       "      <td>3299.000000</td>\n",
       "      <td>3299.000000</td>\n",
       "      <td>3299.000000</td>\n",
       "      <td>3299.000000</td>\n",
       "      <td>3299.000000</td>\n",
       "      <td>3299.000000</td>\n",
       "      <td>3299.000000</td>\n",
       "      <td>3299.000000</td>\n",
       "      <td>3299.000000</td>\n",
       "      <td>3299.000000</td>\n",
       "      <td>3299.000000</td>\n",
       "      <td>3299.000000</td>\n",
       "      <td>3299.000000</td>\n",
       "      <td>3299.000000</td>\n",
       "    </tr>\n",
       "    <tr>\n",
       "      <th>mean</th>\n",
       "      <td>19.224677</td>\n",
       "      <td>3.779171</td>\n",
       "      <td>1.084412</td>\n",
       "      <td>200.638832</td>\n",
       "      <td>1.695689</td>\n",
       "      <td>0.567713</td>\n",
       "      <td>100.364533</td>\n",
       "      <td>1.742328</td>\n",
       "      <td>1.411486</td>\n",
       "      <td>8.243144</td>\n",
       "      <td>1.554529</td>\n",
       "      <td>49.219603</td>\n",
       "      <td>87.786918</td>\n",
       "      <td>100.459953</td>\n",
       "      <td>1.392548</td>\n",
       "    </tr>\n",
       "    <tr>\n",
       "      <th>std</th>\n",
       "      <td>3.972164</td>\n",
       "      <td>1.733927</td>\n",
       "      <td>0.147623</td>\n",
       "      <td>0.727210</td>\n",
       "      <td>0.287340</td>\n",
       "      <td>0.198998</td>\n",
       "      <td>1.917184</td>\n",
       "      <td>0.567589</td>\n",
       "      <td>0.416324</td>\n",
       "      <td>3.665272</td>\n",
       "      <td>0.267562</td>\n",
       "      <td>0.193442</td>\n",
       "      <td>14.450195</td>\n",
       "      <td>1.865026</td>\n",
       "      <td>0.654573</td>\n",
       "    </tr>\n",
       "    <tr>\n",
       "      <th>min</th>\n",
       "      <td>4.852007</td>\n",
       "      <td>0.329358</td>\n",
       "      <td>0.559139</td>\n",
       "      <td>198.628569</td>\n",
       "      <td>0.765976</td>\n",
       "      <td>0.114258</td>\n",
       "      <td>93.434632</td>\n",
       "      <td>0.382822</td>\n",
       "      <td>0.244278</td>\n",
       "      <td>0.946835</td>\n",
       "      <td>0.630680</td>\n",
       "      <td>48.476508</td>\n",
       "      <td>54.306340</td>\n",
       "      <td>94.175118</td>\n",
       "      <td>0.272772</td>\n",
       "    </tr>\n",
       "    <tr>\n",
       "      <th>25%</th>\n",
       "      <td>17.378040</td>\n",
       "      <td>2.318389</td>\n",
       "      <td>0.975620</td>\n",
       "      <td>200.092065</td>\n",
       "      <td>1.501456</td>\n",
       "      <td>0.416974</td>\n",
       "      <td>99.054965</td>\n",
       "      <td>1.318034</td>\n",
       "      <td>1.124630</td>\n",
       "      <td>5.294295</td>\n",
       "      <td>1.375381</td>\n",
       "      <td>49.094471</td>\n",
       "      <td>74.694124</td>\n",
       "      <td>99.195987</td>\n",
       "      <td>0.904742</td>\n",
       "    </tr>\n",
       "    <tr>\n",
       "      <th>50%</th>\n",
       "      <td>19.061561</td>\n",
       "      <td>3.678707</td>\n",
       "      <td>1.085691</td>\n",
       "      <td>200.720692</td>\n",
       "      <td>1.683107</td>\n",
       "      <td>0.555826</td>\n",
       "      <td>100.333285</td>\n",
       "      <td>1.755329</td>\n",
       "      <td>1.372867</td>\n",
       "      <td>7.828705</td>\n",
       "      <td>1.541075</td>\n",
       "      <td>49.207160</td>\n",
       "      <td>88.561422</td>\n",
       "      <td>100.427246</td>\n",
       "      <td>1.290172</td>\n",
       "    </tr>\n",
       "    <tr>\n",
       "      <th>75%</th>\n",
       "      <td>22.138485</td>\n",
       "      <td>5.209428</td>\n",
       "      <td>1.192004</td>\n",
       "      <td>201.125157</td>\n",
       "      <td>1.870918</td>\n",
       "      <td>0.697371</td>\n",
       "      <td>101.654446</td>\n",
       "      <td>2.120553</td>\n",
       "      <td>1.714908</td>\n",
       "      <td>10.688048</td>\n",
       "      <td>1.706074</td>\n",
       "      <td>49.335848</td>\n",
       "      <td>101.422518</td>\n",
       "      <td>101.713490</td>\n",
       "      <td>1.789954</td>\n",
       "    </tr>\n",
       "    <tr>\n",
       "      <th>max</th>\n",
       "      <td>33.005959</td>\n",
       "      <td>8.443799</td>\n",
       "      <td>1.543465</td>\n",
       "      <td>202.930689</td>\n",
       "      <td>2.740251</td>\n",
       "      <td>1.598020</td>\n",
       "      <td>107.435799</td>\n",
       "      <td>3.348174</td>\n",
       "      <td>3.218848</td>\n",
       "      <td>20.620212</td>\n",
       "      <td>2.753122</td>\n",
       "      <td>50.194001</td>\n",
       "      <td>117.739320</td>\n",
       "      <td>106.894231</td>\n",
       "      <td>5.243604</td>\n",
       "    </tr>\n",
       "  </tbody>\n",
       "</table>\n",
       "</div>"
      ],
      "text/plain": [
       "        KunYang3 - Avg[I 负序不平衡 Total] (%)   WanKe1 - Avg[I 负序不平衡 Total] (%)  \\\n",
       "count                         3299.000000                       3299.000000   \n",
       "mean                            19.224677                          3.779171   \n",
       "std                              3.972164                          1.733927   \n",
       "min                              4.852007                          0.329358   \n",
       "25%                             17.378040                          2.318389   \n",
       "50%                             19.061561                          3.678707   \n",
       "75%                             22.138485                          5.209428   \n",
       "max                             33.005959                          8.443799   \n",
       "\n",
       "        Changliu3 - Avg[I 负序不平衡 Total] (%)  \\\n",
       "count                          3299.000000   \n",
       "mean                              1.084412   \n",
       "std                               0.147623   \n",
       "min                               0.559139   \n",
       "25%                               0.975620   \n",
       "50%                               1.085691   \n",
       "75%                               1.192004   \n",
       "max                               1.543465   \n",
       "\n",
       "        JiangChuan1 - Avg[I 负序不平衡 Total] (%)  \\\n",
       "count                            3299.000000   \n",
       "mean                              200.638832   \n",
       "std                                 0.727210   \n",
       "min                               198.628569   \n",
       "25%                               200.092065   \n",
       "50%                               200.720692   \n",
       "75%                               201.125157   \n",
       "max                               202.930689   \n",
       "\n",
       "        Changliu2 - Avg[I 负序不平衡 Total] (%)  \\\n",
       "count                          3299.000000   \n",
       "mean                              1.695689   \n",
       "std                               0.287340   \n",
       "min                               0.765976   \n",
       "25%                               1.501456   \n",
       "50%                               1.683107   \n",
       "75%                               1.870918   \n",
       "max                               2.740251   \n",
       "\n",
       "        QinZhou4 - Avg[I 负序不平衡 Total] (%)  \\\n",
       "count                         3299.000000   \n",
       "mean                             0.567713   \n",
       "std                              0.198998   \n",
       "min                              0.114258   \n",
       "25%                              0.416974   \n",
       "50%                              0.555826   \n",
       "75%                              0.697371   \n",
       "max                              1.598020   \n",
       "\n",
       "        Changliu1 - Avg[I 负序不平衡 Total] (%)  \\\n",
       "count                          3299.000000   \n",
       "mean                            100.364533   \n",
       "std                               1.917184   \n",
       "min                              93.434632   \n",
       "25%                              99.054965   \n",
       "50%                             100.333285   \n",
       "75%                             101.654446   \n",
       "max                             107.435799   \n",
       "\n",
       "        JiangChuan4 - Avg[I 负序不平衡 Total] (%)  \\\n",
       "count                            3299.000000   \n",
       "mean                                1.742328   \n",
       "std                                 0.567589   \n",
       "min                                 0.382822   \n",
       "25%                                 1.318034   \n",
       "50%                                 1.755329   \n",
       "75%                                 2.120553   \n",
       "max                                 3.348174   \n",
       "\n",
       "        JiangChuan5 - Avg[I 负序不平衡 Total] (%)  \\\n",
       "count                            3299.000000   \n",
       "mean                                1.411486   \n",
       "std                                 0.416324   \n",
       "min                                 0.244278   \n",
       "25%                                 1.124630   \n",
       "50%                                 1.372867   \n",
       "75%                                 1.714908   \n",
       "max                                 3.218848   \n",
       "\n",
       "        QinZhou3 - Avg[I 负序不平衡 Total] (%)   KunYang1 - Avg[I 负序不平衡 Total] (%)  \\\n",
       "count                         3299.000000                         3299.000000   \n",
       "mean                             8.243144                            1.554529   \n",
       "std                              3.665272                            0.267562   \n",
       "min                              0.946835                            0.630680   \n",
       "25%                              5.294295                            1.375381   \n",
       "50%                              7.828705                            1.541075   \n",
       "75%                             10.688048                            1.706074   \n",
       "max                             20.620212                            2.753122   \n",
       "\n",
       "        JiangChuan3 - Avg[I 负序不平衡 Total] (%)  \\\n",
       "count                            3299.000000   \n",
       "mean                               49.219603   \n",
       "std                                 0.193442   \n",
       "min                                48.476508   \n",
       "25%                                49.094471   \n",
       "50%                                49.207160   \n",
       "75%                                49.335848   \n",
       "max                                50.194001   \n",
       "\n",
       "        JiangChuan2 - Avg[I 负序不平衡 Total] (%)  \\\n",
       "count                            3299.000000   \n",
       "mean                               87.786918   \n",
       "std                                14.450195   \n",
       "min                                54.306340   \n",
       "25%                                74.694124   \n",
       "50%                                88.561422   \n",
       "75%                               101.422518   \n",
       "max                               117.739320   \n",
       "\n",
       "        Changliu4 - Avg[I 负序不平衡 Total] (%)   WanKe2 - Avg[I 负序不平衡 Total] (%)  \n",
       "count                          3299.000000                       3299.000000  \n",
       "mean                            100.459953                          1.392548  \n",
       "std                               1.865026                          0.654573  \n",
       "min                              94.175118                          0.272772  \n",
       "25%                              99.195987                          0.904742  \n",
       "50%                             100.427246                          1.290172  \n",
       "75%                             101.713490                          1.789954  \n",
       "max                             106.894231                          5.243604  "
      ]
     },
     "execution_count": 10,
     "metadata": {},
     "output_type": "execute_result"
    }
   ],
   "source": [
    "train_data.describe()"
   ]
  },
  {
   "cell_type": "code",
   "execution_count": 11,
   "metadata": {},
   "outputs": [],
   "source": [
    "from sklearn.model_selection import train_test_split\n",
    "train,test= train_test_split(train_data,test_size=0.2,random_state=0)"
   ]
  },
  {
   "cell_type": "code",
   "execution_count": 12,
   "metadata": {},
   "outputs": [],
   "source": [
    "MAX= train.max()\n",
    "MIN = train.min()"
   ]
  },
  {
   "cell_type": "code",
   "execution_count": 13,
   "metadata": {},
   "outputs": [],
   "source": [
    "train_s=(train-MIN)/(MAX-MIN)\n",
    "test_s=(test-MIN)/(MAX-MIN)"
   ]
  },
  {
   "cell_type": "code",
   "execution_count": 14,
   "metadata": {},
   "outputs": [],
   "source": [
    "train_s=train_s.fillna(0)\n",
    "test_s=test_s.fillna(0)"
   ]
  },
  {
   "cell_type": "code",
   "execution_count": 15,
   "metadata": {},
   "outputs": [],
   "source": [
    "#  generate X_train,Y_train,X_test,Y_test for all target features\n",
    "X_train=train_s.copy();Y_train=DataFrame()\n",
    "\n",
    "for c in train_s.columns:\n",
    "    if c.find(\"WanKe1\") !=-1 :\n",
    "        Y_train[c]=train_s[c]\n",
    "        X_train=X_train.drop(c,axis=1)\n",
    "\n",
    "        \n",
    "X_test=test_s.copy();Y_test=DataFrame()\n",
    "\n",
    "for c in test_s.columns:\n",
    "    if c.find(\"WanKe1\") !=-1 :\n",
    "        Y_test[c]=test_s[c]\n",
    "        X_test=X_test.drop(c,axis=1)"
   ]
  },
  {
   "cell_type": "code",
   "execution_count": 17,
   "metadata": {},
   "outputs": [],
   "source": [
    "###### network from keras for SHDKY data simulation ###########\n",
    "from keras.models import Sequential\n",
    "from keras.layers import Dense, Activation,Input\n",
    "import keras\n",
    "\n",
    "\n",
    "model = Sequential()\n",
    "\n",
    "model.add(Dense(28, input_dim=14,kernel_initializer=\"normal\"))\n",
    "model.add(Activation('relu'))\n",
    "model.add(Dense(7, activation='relu',kernel_initializer=\"normal\"))\n",
    "model.add(Dense(1, activation='linear',kernel_initializer=\"normal\"))"
   ]
  },
  {
   "cell_type": "code",
   "execution_count": 81,
   "metadata": {},
   "outputs": [],
   "source": [
    "model.compile(loss='mean_squared_error', \n",
    "              optimizer=keras.optimizers.SGD(lr=0.05))"
   ]
  },
  {
   "cell_type": "code",
   "execution_count": 99,
   "metadata": {},
   "outputs": [
    {
     "name": "stdout",
     "output_type": "stream",
     "text": [
      "Train on 2111 samples, validate on 528 samples\n",
      "Epoch 1/30\n",
      " - 0s - loss: 0.0088 - val_loss: 0.0164\n",
      "Epoch 2/30\n",
      " - 0s - loss: 0.0088 - val_loss: 0.0165\n",
      "Epoch 3/30\n",
      " - 0s - loss: 0.0088 - val_loss: 0.0167\n",
      "Epoch 4/30\n",
      " - 0s - loss: 0.0088 - val_loss: 0.0164\n",
      "Epoch 5/30\n",
      " - 0s - loss: 0.0088 - val_loss: 0.0165\n",
      "Epoch 6/30\n",
      " - 0s - loss: 0.0088 - val_loss: 0.0164\n",
      "Epoch 7/30\n",
      " - 0s - loss: 0.0088 - val_loss: 0.0164\n",
      "Epoch 8/30\n",
      " - 0s - loss: 0.0088 - val_loss: 0.0164\n",
      "Epoch 9/30\n",
      " - 0s - loss: 0.0088 - val_loss: 0.0164\n",
      "Epoch 10/30\n",
      " - 0s - loss: 0.0088 - val_loss: 0.0164\n",
      "Epoch 11/30\n",
      " - 0s - loss: 0.0088 - val_loss: 0.0164\n",
      "Epoch 12/30\n",
      " - 0s - loss: 0.0088 - val_loss: 0.0163\n",
      "Epoch 13/30\n",
      " - 0s - loss: 0.0088 - val_loss: 0.0164\n",
      "Epoch 14/30\n",
      " - 0s - loss: 0.0088 - val_loss: 0.0164\n",
      "Epoch 15/30\n",
      " - 0s - loss: 0.0088 - val_loss: 0.0164\n",
      "Epoch 16/30\n",
      " - 0s - loss: 0.0088 - val_loss: 0.0165\n",
      "Epoch 17/30\n",
      " - 0s - loss: 0.0088 - val_loss: 0.0165\n",
      "Epoch 18/30\n",
      " - 0s - loss: 0.0088 - val_loss: 0.0164\n",
      "Epoch 19/30\n",
      " - 0s - loss: 0.0088 - val_loss: 0.0164\n",
      "Epoch 20/30\n",
      " - 0s - loss: 0.0088 - val_loss: 0.0164\n",
      "Epoch 21/30\n",
      " - 0s - loss: 0.0087 - val_loss: 0.0165\n",
      "Epoch 22/30\n",
      " - 0s - loss: 0.0088 - val_loss: 0.0164\n",
      "Epoch 23/30\n",
      " - 0s - loss: 0.0088 - val_loss: 0.0164\n",
      "Epoch 24/30\n",
      " - 0s - loss: 0.0088 - val_loss: 0.0163\n",
      "Epoch 25/30\n",
      " - 0s - loss: 0.0088 - val_loss: 0.0163\n",
      "Epoch 26/30\n",
      " - 0s - loss: 0.0088 - val_loss: 0.0165\n",
      "Epoch 27/30\n",
      " - 0s - loss: 0.0088 - val_loss: 0.0165\n",
      "Epoch 28/30\n",
      " - 0s - loss: 0.0088 - val_loss: 0.0164\n",
      "Epoch 29/30\n",
      " - 0s - loss: 0.0088 - val_loss: 0.0165\n",
      "Epoch 30/30\n",
      " - 0s - loss: 0.0088 - val_loss: 0.0165\n"
     ]
    },
    {
     "data": {
      "text/plain": [
       "<keras.callbacks.History at 0x7f901c741c50>"
      ]
     },
     "execution_count": 99,
     "metadata": {},
     "output_type": "execute_result"
    }
   ],
   "source": [
    "model.fit(X_train, Y_train, epochs=30,batch_size=30,\n",
    "          shuffle=True,verbose=2,validation_split=0.2) "
   ]
  },
  {
   "cell_type": "code",
   "execution_count": 100,
   "metadata": {},
   "outputs": [],
   "source": [
    "#((model.predict(X_test)-Y_test)/Y_test)"
   ]
  },
  {
   "cell_type": "code",
   "execution_count": 101,
   "metadata": {},
   "outputs": [
    {
     "data": {
      "text/html": [
       "<div>\n",
       "<style scoped>\n",
       "    .dataframe tbody tr th:only-of-type {\n",
       "        vertical-align: middle;\n",
       "    }\n",
       "\n",
       "    .dataframe tbody tr th {\n",
       "        vertical-align: top;\n",
       "    }\n",
       "\n",
       "    .dataframe thead th {\n",
       "        text-align: right;\n",
       "    }\n",
       "</style>\n",
       "<table border=\"1\" class=\"dataframe\">\n",
       "  <thead>\n",
       "    <tr style=\"text-align: right;\">\n",
       "      <th></th>\n",
       "      <th>WanKe1 - Avg[I 负序不平衡 Total] (%)</th>\n",
       "    </tr>\n",
       "  </thead>\n",
       "  <tbody>\n",
       "    <tr>\n",
       "      <th>count</th>\n",
       "      <td>660.000000</td>\n",
       "    </tr>\n",
       "    <tr>\n",
       "      <th>mean</th>\n",
       "      <td>-0.002124</td>\n",
       "    </tr>\n",
       "    <tr>\n",
       "      <th>std</th>\n",
       "      <td>0.128927</td>\n",
       "    </tr>\n",
       "    <tr>\n",
       "      <th>min</th>\n",
       "      <td>-0.631342</td>\n",
       "    </tr>\n",
       "    <tr>\n",
       "      <th>25%</th>\n",
       "      <td>-0.069542</td>\n",
       "    </tr>\n",
       "    <tr>\n",
       "      <th>50%</th>\n",
       "      <td>0.004140</td>\n",
       "    </tr>\n",
       "    <tr>\n",
       "      <th>75%</th>\n",
       "      <td>0.078403</td>\n",
       "    </tr>\n",
       "    <tr>\n",
       "      <th>max</th>\n",
       "      <td>0.385607</td>\n",
       "    </tr>\n",
       "  </tbody>\n",
       "</table>\n",
       "</div>"
      ],
      "text/plain": [
       "        WanKe1 - Avg[I 负序不平衡 Total] (%)\n",
       "count                        660.000000\n",
       "mean                          -0.002124\n",
       "std                            0.128927\n",
       "min                           -0.631342\n",
       "25%                           -0.069542\n",
       "50%                            0.004140\n",
       "75%                            0.078403\n",
       "max                            0.385607"
      ]
     },
     "execution_count": 101,
     "metadata": {},
     "output_type": "execute_result"
    }
   ],
   "source": [
    "((model.predict(X_test)-Y_test)).describe()"
   ]
  },
  {
   "cell_type": "code",
   "execution_count": 117,
   "metadata": {},
   "outputs": [],
   "source": [
    "c=Y_test.columns\n",
    "R= pd.DataFrame(model.predict(X_test),columns=['V_pred'])\n",
    "R.index = Y_test.index\n",
    "R= R.join(Y_test)\n",
    "#R=  R*(MAX[c]-MIN[c]).values[0]+MIN[c].values[0]\n",
    "R=  R*(MAX[c]-MIN[c]).values[0]+MIN[c].values[0]"
   ]
  },
  {
   "cell_type": "code",
   "execution_count": 118,
   "metadata": {},
   "outputs": [
    {
     "data": {
      "text/plain": [
       "<matplotlib.axes._subplots.AxesSubplot at 0x7f9011e63f28>"
      ]
     },
     "execution_count": 118,
     "metadata": {},
     "output_type": "execute_result"
    },
    {
     "data": {
      "image/png": "[encoded data removed]",
      "text/plain": [
       "<Figure size 864x288 with 1 Axes>"
      ]
     },
     "metadata": {},
     "output_type": "display_data"
    }
   ],
   "source": [
    "R_show=R.iloc[200:300,:]\n",
    "\n",
    "import pylab\n",
    "pylab.rcParams['figure.figsize'] = (12.0, 4.0)\n",
    "\n",
    "R_show.plot(alpha =0.5,figsize = (12,4))"
   ]
  },
  {
   "cell_type": "code",
   "execution_count": 122,
   "metadata": {},
   "outputs": [],
   "source": [
    "R[\"diff\"]=(R[\"V_pred\"]-R[c[0]])\n",
    "R[\"diff_ptg\"]=(R[\"V_pred\"]-R[c[0]])/R[c[0]]"
   ]
  },
  {
   "cell_type": "code",
   "execution_count": 123,
   "metadata": {},
   "outputs": [
    {
     "data": {
      "text/html": [
       "<div>\n",
       "<style scoped>\n",
       "    .dataframe tbody tr th:only-of-type {\n",
       "        vertical-align: middle;\n",
       "    }\n",
       "\n",
       "    .dataframe tbody tr th {\n",
       "        vertical-align: top;\n",
       "    }\n",
       "\n",
       "    .dataframe thead th {\n",
       "        text-align: right;\n",
       "    }\n",
       "</style>\n",
       "<table border=\"1\" class=\"dataframe\">\n",
       "  <thead>\n",
       "    <tr style=\"text-align: right;\">\n",
       "      <th></th>\n",
       "      <th>V_pred</th>\n",
       "      <th>WanKe1 - Avg[I 负序不平衡 Total] (%)</th>\n",
       "      <th>diff</th>\n",
       "      <th>diff_ptg</th>\n",
       "    </tr>\n",
       "  </thead>\n",
       "  <tbody>\n",
       "    <tr>\n",
       "      <th>count</th>\n",
       "      <td>660.000000</td>\n",
       "      <td>660.000000</td>\n",
       "      <td>660.000000</td>\n",
       "      <td>660.000000</td>\n",
       "    </tr>\n",
       "    <tr>\n",
       "      <th>mean</th>\n",
       "      <td>3.687092</td>\n",
       "      <td>3.704326</td>\n",
       "      <td>-0.017233</td>\n",
       "      <td>0.089303</td>\n",
       "    </tr>\n",
       "    <tr>\n",
       "      <th>std</th>\n",
       "      <td>1.617588</td>\n",
       "      <td>1.719066</td>\n",
       "      <td>1.046172</td>\n",
       "      <td>0.486159</td>\n",
       "    </tr>\n",
       "    <tr>\n",
       "      <th>min</th>\n",
       "      <td>-1.134185</td>\n",
       "      <td>0.515993</td>\n",
       "      <td>-5.122984</td>\n",
       "      <td>-2.428501</td>\n",
       "    </tr>\n",
       "    <tr>\n",
       "      <th>25%</th>\n",
       "      <td>2.432422</td>\n",
       "      <td>2.294426</td>\n",
       "      <td>-0.564291</td>\n",
       "      <td>-0.156303</td>\n",
       "    </tr>\n",
       "    <tr>\n",
       "      <th>50%</th>\n",
       "      <td>3.301285</td>\n",
       "      <td>3.497580</td>\n",
       "      <td>0.033597</td>\n",
       "      <td>0.009308</td>\n",
       "    </tr>\n",
       "    <tr>\n",
       "      <th>75%</th>\n",
       "      <td>5.147728</td>\n",
       "      <td>5.144908</td>\n",
       "      <td>0.636196</td>\n",
       "      <td>0.194187</td>\n",
       "    </tr>\n",
       "    <tr>\n",
       "      <th>max</th>\n",
       "      <td>7.585717</td>\n",
       "      <td>7.791148</td>\n",
       "      <td>3.128982</td>\n",
       "      <td>2.723914</td>\n",
       "    </tr>\n",
       "  </tbody>\n",
       "</table>\n",
       "</div>"
      ],
      "text/plain": [
       "           V_pred   WanKe1 - Avg[I 负序不平衡 Total] (%)        diff    diff_ptg\n",
       "count  660.000000                        660.000000  660.000000  660.000000\n",
       "mean     3.687092                          3.704326   -0.017233    0.089303\n",
       "std      1.617588                          1.719066    1.046172    0.486159\n",
       "min     -1.134185                          0.515993   -5.122984   -2.428501\n",
       "25%      2.432422                          2.294426   -0.564291   -0.156303\n",
       "50%      3.301285                          3.497580    0.033597    0.009308\n",
       "75%      5.147728                          5.144908    0.636196    0.194187\n",
       "max      7.585717                          7.791148    3.128982    2.723914"
      ]
     },
     "execution_count": 123,
     "metadata": {},
     "output_type": "execute_result"
    }
   ],
   "source": [
    "R.describe()"
   ]
  },
  {
   "cell_type": "code",
   "execution_count": 124,
   "metadata": {},
   "outputs": [
    {
     "data": {
      "text/plain": [
       "(-0.45867437559653856, 0.9902673070834623)"
      ]
     },
     "execution_count": 124,
     "metadata": {},
     "output_type": "execute_result"
    }
   ],
   "source": [
    "(R.diff_ptg.quantile(0.05),R.diff_ptg.quantile(0.95))"
   ]
  },
  {
   "cell_type": "code",
   "execution_count": 107,
   "metadata": {},
   "outputs": [
    {
     "data": {
      "text/html": [
       "<div>\n",
       "<style scoped>\n",
       "    .dataframe tbody tr th:only-of-type {\n",
       "        vertical-align: middle;\n",
       "    }\n",
       "\n",
       "    .dataframe tbody tr th {\n",
       "        vertical-align: top;\n",
       "    }\n",
       "\n",
       "    .dataframe thead th {\n",
       "        text-align: right;\n",
       "    }\n",
       "</style>\n",
       "<table border=\"1\" class=\"dataframe\">\n",
       "  <thead>\n",
       "    <tr style=\"text-align: right;\">\n",
       "      <th></th>\n",
       "      <th>V_pred</th>\n",
       "      <th>WanKe1 - Avg[I 负序不平衡 Total] (%)</th>\n",
       "      <th>diff</th>\n",
       "      <th>diff_ptg</th>\n",
       "    </tr>\n",
       "    <tr>\n",
       "      <th>时间</th>\n",
       "      <th></th>\n",
       "      <th></th>\n",
       "      <th></th>\n",
       "      <th></th>\n",
       "    </tr>\n",
       "  </thead>\n",
       "  <tbody>\n",
       "    <tr>\n",
       "      <th>2018-02-04 16:42:00</th>\n",
       "      <td>2.427131</td>\n",
       "      <td>0.784211</td>\n",
       "      <td>1.642920</td>\n",
       "      <td>2.094998</td>\n",
       "    </tr>\n",
       "    <tr>\n",
       "      <th>2018-02-03 17:42:00</th>\n",
       "      <td>2.931663</td>\n",
       "      <td>0.898064</td>\n",
       "      <td>2.033599</td>\n",
       "      <td>2.264424</td>\n",
       "    </tr>\n",
       "    <tr>\n",
       "      <th>2018-02-02 15:12:00</th>\n",
       "      <td>2.861458</td>\n",
       "      <td>0.860395</td>\n",
       "      <td>2.001063</td>\n",
       "      <td>2.325750</td>\n",
       "    </tr>\n",
       "    <tr>\n",
       "      <th>2018-02-05 16:33:00</th>\n",
       "      <td>2.365022</td>\n",
       "      <td>0.684188</td>\n",
       "      <td>1.680834</td>\n",
       "      <td>2.456683</td>\n",
       "    </tr>\n",
       "    <tr>\n",
       "      <th>2018-02-02 20:03:00</th>\n",
       "      <td>2.642648</td>\n",
       "      <td>0.719734</td>\n",
       "      <td>1.922914</td>\n",
       "      <td>2.671701</td>\n",
       "    </tr>\n",
       "    <tr>\n",
       "      <th>2018-02-03 12:12:00</th>\n",
       "      <td>2.389094</td>\n",
       "      <td>0.641554</td>\n",
       "      <td>1.747539</td>\n",
       "      <td>2.723914</td>\n",
       "    </tr>\n",
       "  </tbody>\n",
       "</table>\n",
       "</div>"
      ],
      "text/plain": [
       "                       V_pred   WanKe1 - Avg[I 负序不平衡 Total] (%)      diff  \\\n",
       "时间                                                                          \n",
       "2018-02-04 16:42:00  2.427131                          0.784211  1.642920   \n",
       "2018-02-03 17:42:00  2.931663                          0.898064  2.033599   \n",
       "2018-02-02 15:12:00  2.861458                          0.860395  2.001063   \n",
       "2018-02-05 16:33:00  2.365022                          0.684188  1.680834   \n",
       "2018-02-02 20:03:00  2.642648                          0.719734  1.922914   \n",
       "2018-02-03 12:12:00  2.389094                          0.641554  1.747539   \n",
       "\n",
       "                     diff_ptg  \n",
       "时间                             \n",
       "2018-02-04 16:42:00  2.094998  \n",
       "2018-02-03 17:42:00  2.264424  \n",
       "2018-02-02 15:12:00  2.325750  \n",
       "2018-02-05 16:33:00  2.456683  \n",
       "2018-02-02 20:03:00  2.671701  \n",
       "2018-02-03 12:12:00  2.723914  "
      ]
     },
     "execution_count": 107,
     "metadata": {},
     "output_type": "execute_result"
    }
   ],
   "source": [
    "R.sort_values(\"diff_ptg\")[-6:]"
   ]
  },
  {
   "cell_type": "code",
   "execution_count": 108,
   "metadata": {},
   "outputs": [
    {
     "data": {
      "text/html": [
       "<div>\n",
       "<style scoped>\n",
       "    .dataframe tbody tr th:only-of-type {\n",
       "        vertical-align: middle;\n",
       "    }\n",
       "\n",
       "    .dataframe tbody tr th {\n",
       "        vertical-align: top;\n",
       "    }\n",
       "\n",
       "    .dataframe thead th {\n",
       "        text-align: right;\n",
       "    }\n",
       "</style>\n",
       "<table border=\"1\" class=\"dataframe\">\n",
       "  <thead>\n",
       "    <tr style=\"text-align: right;\">\n",
       "      <th></th>\n",
       "      <th>V_pred</th>\n",
       "      <th>WanKe1 - Avg[I 负序不平衡 Total] (%)</th>\n",
       "    </tr>\n",
       "    <tr>\n",
       "      <th>时间</th>\n",
       "      <th></th>\n",
       "      <th></th>\n",
       "    </tr>\n",
       "  </thead>\n",
       "  <tbody>\n",
       "    <tr>\n",
       "      <th>2018-02-07 09:36:00</th>\n",
       "      <td>2.678915</td>\n",
       "      <td>2.767983</td>\n",
       "    </tr>\n",
       "    <tr>\n",
       "      <th>2018-02-03 00:30:00</th>\n",
       "      <td>5.905967</td>\n",
       "      <td>5.108078</td>\n",
       "    </tr>\n",
       "    <tr>\n",
       "      <th>2018-02-06 01:51:00</th>\n",
       "      <td>6.153933</td>\n",
       "      <td>7.601336</td>\n",
       "    </tr>\n",
       "    <tr>\n",
       "      <th>2018-02-03 10:45:00</th>\n",
       "      <td>4.342125</td>\n",
       "      <td>1.624058</td>\n",
       "    </tr>\n",
       "    <tr>\n",
       "      <th>2018-02-02 00:18:00</th>\n",
       "      <td>5.930494</td>\n",
       "      <td>7.183956</td>\n",
       "    </tr>\n",
       "    <tr>\n",
       "      <th>2018-02-01 01:33:00</th>\n",
       "      <td>3.962614</td>\n",
       "      <td>3.289466</td>\n",
       "    </tr>\n",
       "  </tbody>\n",
       "</table>\n",
       "</div>"
      ],
      "text/plain": [
       "                       V_pred   WanKe1 - Avg[I 负序不平衡 Total] (%)\n",
       "时间                                                             \n",
       "2018-02-07 09:36:00  2.678915                          2.767983\n",
       "2018-02-03 00:30:00  5.905967                          5.108078\n",
       "2018-02-06 01:51:00  6.153933                          7.601336\n",
       "2018-02-03 10:45:00  4.342125                          1.624058\n",
       "2018-02-02 00:18:00  5.930494                          7.183956\n",
       "2018-02-01 01:33:00  3.962614                          3.289466"
      ]
     },
     "execution_count": 108,
     "metadata": {},
     "output_type": "execute_result"
    }
   ],
   "source": [
    "R_show[:6]"
   ]
  },
  {
   "cell_type": "code",
   "execution_count": 121,
   "metadata": {},
   "outputs": [
    {
     "data": {
      "text/html": [
       "<div>\n",
       "<style scoped>\n",
       "    .dataframe tbody tr th:only-of-type {\n",
       "        vertical-align: middle;\n",
       "    }\n",
       "\n",
       "    .dataframe tbody tr th {\n",
       "        vertical-align: top;\n",
       "    }\n",
       "\n",
       "    .dataframe thead th {\n",
       "        text-align: right;\n",
       "    }\n",
       "</style>\n",
       "<table border=\"1\" class=\"dataframe\">\n",
       "  <thead>\n",
       "    <tr style=\"text-align: right;\">\n",
       "      <th></th>\n",
       "      <th>V_pred</th>\n",
       "      <th>WanKe1 - Avg[I 负序不平衡 Total] (%)</th>\n",
       "    </tr>\n",
       "  </thead>\n",
       "  <tbody>\n",
       "    <tr>\n",
       "      <th>V_pred</th>\n",
       "      <td>1.000000</td>\n",
       "      <td>0.805056</td>\n",
       "    </tr>\n",
       "    <tr>\n",
       "      <th>WanKe1 - Avg[I 负序不平衡 Total] (%)</th>\n",
       "      <td>0.805056</td>\n",
       "      <td>1.000000</td>\n",
       "    </tr>\n",
       "  </tbody>\n",
       "</table>\n",
       "</div>"
      ],
      "text/plain": [
       "                                    V_pred   WanKe1 - Avg[I 负序不平衡 Total] (%)\n",
       "V_pred                            1.000000                          0.805056\n",
       " WanKe1 - Avg[I 负序不平衡 Total] (%)  0.805056                          1.000000"
      ]
     },
     "execution_count": 121,
     "metadata": {},
     "output_type": "execute_result"
    }
   ],
   "source": [
    "R.corr()"
   ]
  },
  {
   "cell_type": "code",
   "execution_count": 111,
   "metadata": {},
   "outputs": [
    {
     "data": {
      "text/plain": [
       " JiangChuan5 - Avg[I 负序不平衡 Total] (%)   -0.409229\n",
       " QinZhou4 - Avg[I 负序不平衡 Total] (%)      -0.179083\n",
       " Changliu2 - Avg[I 负序不平衡 Total] (%)     -0.123094\n",
       " JiangChuan4 - Avg[I 负序不平衡 Total] (%)   -0.064831\n",
       " KunYang1 - Avg[I 负序不平衡 Total] (%)      -0.030313\n",
       " Changliu4 - Avg[I 负序不平衡 Total] (%)     -0.029080\n",
       " Changliu1 - Avg[I 负序不平衡 Total] (%)      0.024272\n",
       " JiangChuan2 - Avg[I 负序不平衡 Total] (%)    0.033689\n",
       " WanKe2 - Avg[I 负序不平衡 Total] (%)         0.060062\n",
       " JiangChuan3 - Avg[I 负序不平衡 Total] (%)    0.109773\n",
       " JiangChuan1 - Avg[I 负序不平衡 Total] (%)    0.204057\n",
       " Changliu3 - Avg[I 负序不平衡 Total] (%)      0.215931\n",
       " KunYang3 - Avg[I 负序不平衡 Total] (%)       0.444379\n",
       " QinZhou3 - Avg[I 负序不平衡 Total] (%)       0.539322\n",
       " WanKe1 - Avg[I 负序不平衡 Total] (%)         1.000000\n",
       "Name:  WanKe1 - Avg[I 负序不平衡 Total] (%), dtype: float64"
      ]
     },
     "execution_count": 111,
     "metadata": {},
     "output_type": "execute_result"
    }
   ],
   "source": [
    "train_data.corr()[c[0]].sort_values()"
   ]
  },
  {
   "cell_type": "code",
   "execution_count": 112,
   "metadata": {},
   "outputs": [],
   "source": [
    "model.save(\"model_h5/M_I负序不平.h5\")"
   ]
  },
  {
   "cell_type": "code",
   "execution_count": 113,
   "metadata": {},
   "outputs": [
    {
     "data": {
      "text/html": [
       "<div>\n",
       "<style scoped>\n",
       "    .dataframe tbody tr th:only-of-type {\n",
       "        vertical-align: middle;\n",
       "    }\n",
       "\n",
       "    .dataframe tbody tr th {\n",
       "        vertical-align: top;\n",
       "    }\n",
       "\n",
       "    .dataframe thead th {\n",
       "        text-align: right;\n",
       "    }\n",
       "</style>\n",
       "<table border=\"1\" class=\"dataframe\">\n",
       "  <thead>\n",
       "    <tr style=\"text-align: right;\">\n",
       "      <th></th>\n",
       "      <th>WanKe1 - Avg[I 负序不平衡 Total] (%)</th>\n",
       "    </tr>\n",
       "    <tr>\n",
       "      <th>时间</th>\n",
       "      <th></th>\n",
       "    </tr>\n",
       "  </thead>\n",
       "  <tbody>\n",
       "    <tr>\n",
       "      <th>2018-02-02 05:24:00</th>\n",
       "      <td>7.101728</td>\n",
       "    </tr>\n",
       "    <tr>\n",
       "      <th>2018-02-01 01:42:00</th>\n",
       "      <td>3.220777</td>\n",
       "    </tr>\n",
       "    <tr>\n",
       "      <th>2018-02-02 20:36:00</th>\n",
       "      <td>1.309139</td>\n",
       "    </tr>\n",
       "    <tr>\n",
       "      <th>2018-02-07 13:15:00</th>\n",
       "      <td>1.604875</td>\n",
       "    </tr>\n",
       "    <tr>\n",
       "      <th>2018-02-03 09:27:00</th>\n",
       "      <td>3.527084</td>\n",
       "    </tr>\n",
       "    <tr>\n",
       "      <th>2018-02-05 09:48:00</th>\n",
       "      <td>2.935686</td>\n",
       "    </tr>\n",
       "  </tbody>\n",
       "</table>\n",
       "</div>"
      ],
      "text/plain": [
       "                      WanKe1 - Avg[I 负序不平衡 Total] (%)\n",
       "时间                                                   \n",
       "2018-02-02 05:24:00                          7.101728\n",
       "2018-02-01 01:42:00                          3.220777\n",
       "2018-02-02 20:36:00                          1.309139\n",
       "2018-02-07 13:15:00                          1.604875\n",
       "2018-02-03 09:27:00                          3.527084\n",
       "2018-02-05 09:48:00                          2.935686"
      ]
     },
     "execution_count": 113,
     "metadata": {},
     "output_type": "execute_result"
    }
   ],
   "source": [
    "test[c][:6]"
   ]
  },
  {
   "cell_type": "code",
   "execution_count": 114,
   "metadata": {},
   "outputs": [
    {
     "data": {
      "text/html": [
       "<div>\n",
       "<style scoped>\n",
       "    .dataframe tbody tr th:only-of-type {\n",
       "        vertical-align: middle;\n",
       "    }\n",
       "\n",
       "    .dataframe tbody tr th {\n",
       "        vertical-align: top;\n",
       "    }\n",
       "\n",
       "    .dataframe thead th {\n",
       "        text-align: right;\n",
       "    }\n",
       "</style>\n",
       "<table border=\"1\" class=\"dataframe\">\n",
       "  <thead>\n",
       "    <tr style=\"text-align: right;\">\n",
       "      <th></th>\n",
       "      <th>WanKe1 - Avg[I 负序不平衡 Total] (%)</th>\n",
       "    </tr>\n",
       "    <tr>\n",
       "      <th>时间</th>\n",
       "      <th></th>\n",
       "    </tr>\n",
       "  </thead>\n",
       "  <tbody>\n",
       "    <tr>\n",
       "      <th>2018-02-02 05:24:00</th>\n",
       "      <td>7.101728</td>\n",
       "    </tr>\n",
       "    <tr>\n",
       "      <th>2018-02-01 01:42:00</th>\n",
       "      <td>3.220777</td>\n",
       "    </tr>\n",
       "    <tr>\n",
       "      <th>2018-02-02 20:36:00</th>\n",
       "      <td>1.309139</td>\n",
       "    </tr>\n",
       "    <tr>\n",
       "      <th>2018-02-07 13:15:00</th>\n",
       "      <td>1.604875</td>\n",
       "    </tr>\n",
       "    <tr>\n",
       "      <th>2018-02-03 09:27:00</th>\n",
       "      <td>3.527084</td>\n",
       "    </tr>\n",
       "    <tr>\n",
       "      <th>2018-02-05 09:48:00</th>\n",
       "      <td>2.935686</td>\n",
       "    </tr>\n",
       "  </tbody>\n",
       "</table>\n",
       "</div>"
      ],
      "text/plain": [
       "                      WanKe1 - Avg[I 负序不平衡 Total] (%)\n",
       "时间                                                   \n",
       "2018-02-02 05:24:00                          7.101728\n",
       "2018-02-01 01:42:00                          3.220777\n",
       "2018-02-02 20:36:00                          1.309139\n",
       "2018-02-07 13:15:00                          1.604875\n",
       "2018-02-03 09:27:00                          3.527084\n",
       "2018-02-05 09:48:00                          2.935686"
      ]
     },
     "execution_count": 114,
     "metadata": {},
     "output_type": "execute_result"
    }
   ],
   "source": [
    "R[c][:6]"
   ]
  },
  {
   "cell_type": "code",
   "execution_count": 125,
   "metadata": {},
   "outputs": [
    {
     "data": {
      "text/plain": [
       "<matplotlib.axes._subplots.AxesSubplot at 0x7f9011d827b8>"
      ]
     },
     "execution_count": 125,
     "metadata": {},
     "output_type": "execute_result"
    },
    {
     "data": {
      "image/png": "[encoded data removed]",
      "text/plain": [
       "<Figure size 864x288 with 1 Axes>"
      ]
     },
     "metadata": {},
     "output_type": "display_data"
    }
   ],
   "source": [
    "R.diff_ptg.hist(bins=100)"
   ]
  },
  {
   "cell_type": "code",
   "execution_count": null,
   "metadata": {},
   "outputs": [],
   "source": []
  }
 ],
 "metadata": {
  "kernelspec": {
   "display_name": "Python 3",
   "language": "python",
   "name": "python3"
  },
  "language_info": {
   "codemirror_mode": {
    "name": "ipython",
    "version": 3
   },
   "file_extension": ".py",
   "mimetype": "text/x-python",
   "name": "python",
   "nbconvert_exporter": "python",
   "pygments_lexer": "ipython3",
   "version": "3.6.5"
  }
 },
 "nbformat": 4,
 "nbformat_minor": 2
}
