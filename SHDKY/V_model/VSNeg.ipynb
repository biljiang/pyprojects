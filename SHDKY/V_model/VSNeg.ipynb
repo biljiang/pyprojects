{
 "cells": [
  {
   "cell_type": "code",
   "execution_count": 1,
   "metadata": {},
   "outputs": [],
   "source": [
    "import numpy as np\n",
    "import pandas as pd\n",
    "import pathlib as pl\n",
    "from datetime import datetime\n",
    "import matplotlib.pyplot as plot\n",
    "from pandas import DataFrame, Series"
   ]
  },
  {
   "cell_type": "code",
   "execution_count": 2,
   "metadata": {},
   "outputs": [
    {
     "name": "stdout",
     "output_type": "stream",
     "text": [
      "Reading kVKunYang3.csv\n",
      "Reading kVWanKe1.csv\n",
      "Reading kVChangLiu3.csv\n",
      "Reading kVJiangChuan1.csv\n",
      "Reading kVChangLiu2.csv\n",
      "Reading kVQinZhou4.csv\n",
      "Reading kVChangLiu1.csv\n",
      "Reading kVJiangChuan4.csv\n",
      "Reading kVJiangChuan5.csv\n",
      "Reading kVQinZhou3.csv\n",
      "Reading kVKunYang1.csv\n",
      "Reading kVJiangChuan3.csv\n",
      "Reading kVJiangChuan2.csv\n",
      "Reading kVChangLiu4.csv\n",
      "Reading kVWanKe2.csv\n"
     ]
    }
   ],
   "source": [
    "# read from csv files\n",
    "\n",
    "datapath=pl.Path(\"../csvdata\")\n",
    "\n",
    "file_list=[]\n",
    "dfs=[]\n",
    "for x in datapath.glob(\"*[0-9].csv\"):\n",
    "    print(\"Reading \"+x.name)\n",
    "    f=pd.read_csv(x,index_col=0,na_values=\" \")\n",
    "    dfs.append(f)\n",
    "    file_list.append(x.name)"
   ]
  },
  {
   "cell_type": "code",
   "execution_count": 3,
   "metadata": {},
   "outputs": [],
   "source": [
    "cols = [\"Avg[V 有效值 AB]\",\n",
    "# \"Avg[V 总谐波畸变率 A]\",\n",
    " \"Avg[V 负序不平衡 Total]\",\n",
    " \"Avg[V SPOS All]\",\n",
    " \"Avg[V SNEG All]\",\n",
    " \"Avg[V SZERO All]\",\n",
    "#\"Pst A\",\n",
    " \"Avg[I 有效值 A]\",\n",
    " \"Avg[I 总谐波畸变率 A]\",\n",
    " \"Avg[I 负序不平衡 Total]\",\n",
    " \"Avg[I SPOS All]\",\n",
    " \"Avg[I SNEG All]\",\n",
    " \"Avg[I ZERO All]\",\n",
    "# \"Avg[P A]\",\n",
    "# \"Avg[Q A]\",\n",
    "# \"Avg[S A]\",\n",
    "# \"Avg[功率因数 A]\"\n",
    " ]"
   ]
  },
  {
   "cell_type": "code",
   "execution_count": 4,
   "metadata": {},
   "outputs": [
    {
     "name": "stdout",
     "output_type": "stream",
     "text": [
      " KunYang3 - Avg[V SNEG All] (V)\n",
      " WanKe1 - Avg[V SNEG All] (V)\n",
      " Changliu3 - Avg[V SNEG All] (V)\n",
      " JiangChuan1 - Avg[V SNEG All] (V)\n",
      " Changliu2 - Avg[V SNEG All] (V)\n",
      " QinZhou4 - Avg[V SNEG All] (V)\n",
      " Changliu1 - Avg[V SNEG All] (V)\n",
      " JiangChuan4 - Avg[V SNEG All] (V)\n",
      " JiangChuan5 - Avg[V SNEG All] (V)\n",
      " QinZhou3 - Avg[V SNEG All] (V)\n",
      " KunYang1 - Avg[V SNEG All] (V)\n",
      " JiangChuan3 - Avg[V SNEG All] (V)\n",
      " JiangChuan2 - Avg[V SNEG All] (V)\n",
      " Changliu4 - Avg[V SNEG All] (V)\n",
      " WanKe2 - Avg[V SNEG All] (V)\n",
      "15\n"
     ]
    }
   ],
   "source": [
    "tr_data=DataFrame()\n",
    "i=0\n",
    "for df in dfs:\n",
    "    for c in df.columns:\n",
    "        if c.find(\"Avg[V SNEG All]\")!=-1:\n",
    "            print (c)\n",
    "            tr_data[c]=df[c]\n",
    "            i+=1\n",
    "print(i)"
   ]
  },
  {
   "cell_type": "code",
   "execution_count": 5,
   "metadata": {},
   "outputs": [],
   "source": [
    "train_data=tr_data.dropna()"
   ]
  },
  {
   "cell_type": "code",
   "execution_count": 6,
   "metadata": {},
   "outputs": [
    {
     "data": {
      "text/plain": [
       "3299"
      ]
     },
     "execution_count": 6,
     "metadata": {},
     "output_type": "execute_result"
    }
   ],
   "source": [
    "len(train_data)"
   ]
  },
  {
   "cell_type": "code",
   "execution_count": 7,
   "metadata": {},
   "outputs": [],
   "source": [
    "train_data=train_data.dropna(axis=1)"
   ]
  },
  {
   "cell_type": "code",
   "execution_count": 8,
   "metadata": {},
   "outputs": [
    {
     "data": {
      "image/png": "[encoded data removed]",
      "text/plain": [
       "<Figure size 432x288 with 1 Axes>"
      ]
     },
     "metadata": {},
     "output_type": "display_data"
    }
   ],
   "source": [
    "corMat=DataFrame(train_data.corr())\n",
    "plot.pcolor(corMat)\n",
    "plot.show()"
   ]
  },
  {
   "cell_type": "code",
   "execution_count": 9,
   "metadata": {},
   "outputs": [
    {
     "data": {
      "text/html": [
       "<div>\n",
       "<style scoped>\n",
       "    .dataframe tbody tr th:only-of-type {\n",
       "        vertical-align: middle;\n",
       "    }\n",
       "\n",
       "    .dataframe tbody tr th {\n",
       "        vertical-align: top;\n",
       "    }\n",
       "\n",
       "    .dataframe thead th {\n",
       "        text-align: right;\n",
       "    }\n",
       "</style>\n",
       "<table border=\"1\" class=\"dataframe\">\n",
       "  <thead>\n",
       "    <tr style=\"text-align: right;\">\n",
       "      <th></th>\n",
       "      <th>KunYang3 - Avg[V SNEG All] (V)</th>\n",
       "      <th>WanKe1 - Avg[V SNEG All] (V)</th>\n",
       "      <th>Changliu3 - Avg[V SNEG All] (V)</th>\n",
       "      <th>JiangChuan1 - Avg[V SNEG All] (V)</th>\n",
       "      <th>Changliu2 - Avg[V SNEG All] (V)</th>\n",
       "      <th>QinZhou4 - Avg[V SNEG All] (V)</th>\n",
       "      <th>Changliu1 - Avg[V SNEG All] (V)</th>\n",
       "      <th>JiangChuan4 - Avg[V SNEG All] (V)</th>\n",
       "      <th>JiangChuan5 - Avg[V SNEG All] (V)</th>\n",
       "      <th>QinZhou3 - Avg[V SNEG All] (V)</th>\n",
       "      <th>KunYang1 - Avg[V SNEG All] (V)</th>\n",
       "      <th>JiangChuan3 - Avg[V SNEG All] (V)</th>\n",
       "      <th>JiangChuan2 - Avg[V SNEG All] (V)</th>\n",
       "      <th>Changliu4 - Avg[V SNEG All] (V)</th>\n",
       "      <th>WanKe2 - Avg[V SNEG All] (V)</th>\n",
       "    </tr>\n",
       "  </thead>\n",
       "  <tbody>\n",
       "    <tr>\n",
       "      <th>count</th>\n",
       "      <td>3299.000000</td>\n",
       "      <td>3299.000000</td>\n",
       "      <td>3299.000000</td>\n",
       "      <td>3299.000000</td>\n",
       "      <td>3299.000000</td>\n",
       "      <td>3299.000000</td>\n",
       "      <td>3299.000000</td>\n",
       "      <td>3299.000000</td>\n",
       "      <td>3299.000000</td>\n",
       "      <td>3299.000000</td>\n",
       "      <td>3299.000000</td>\n",
       "      <td>3299.000000</td>\n",
       "      <td>3299.000000</td>\n",
       "      <td>3299.000000</td>\n",
       "      <td>3299.000000</td>\n",
       "    </tr>\n",
       "    <tr>\n",
       "      <th>mean</th>\n",
       "      <td>19.534207</td>\n",
       "      <td>11.421256</td>\n",
       "      <td>63.245622</td>\n",
       "      <td>74.797307</td>\n",
       "      <td>54.298989</td>\n",
       "      <td>7.486570</td>\n",
       "      <td>50.224348</td>\n",
       "      <td>27.766623</td>\n",
       "      <td>24.149889</td>\n",
       "      <td>9.356789</td>\n",
       "      <td>76.352067</td>\n",
       "      <td>85.496720</td>\n",
       "      <td>100.462447</td>\n",
       "      <td>57.844699</td>\n",
       "      <td>14.530042</td>\n",
       "    </tr>\n",
       "    <tr>\n",
       "      <th>std</th>\n",
       "      <td>2.267147</td>\n",
       "      <td>4.360179</td>\n",
       "      <td>29.131790</td>\n",
       "      <td>30.253648</td>\n",
       "      <td>27.221210</td>\n",
       "      <td>2.533809</td>\n",
       "      <td>24.892284</td>\n",
       "      <td>13.744019</td>\n",
       "      <td>11.356980</td>\n",
       "      <td>2.727240</td>\n",
       "      <td>19.457516</td>\n",
       "      <td>33.206633</td>\n",
       "      <td>30.094798</td>\n",
       "      <td>30.182571</td>\n",
       "      <td>3.707185</td>\n",
       "    </tr>\n",
       "    <tr>\n",
       "      <th>min</th>\n",
       "      <td>14.374767</td>\n",
       "      <td>2.240108</td>\n",
       "      <td>0.000000</td>\n",
       "      <td>0.000000</td>\n",
       "      <td>0.000000</td>\n",
       "      <td>0.000000</td>\n",
       "      <td>0.000000</td>\n",
       "      <td>0.000000</td>\n",
       "      <td>0.000000</td>\n",
       "      <td>0.262066</td>\n",
       "      <td>44.812057</td>\n",
       "      <td>0.169499</td>\n",
       "      <td>35.402489</td>\n",
       "      <td>0.000000</td>\n",
       "      <td>4.136919</td>\n",
       "    </tr>\n",
       "    <tr>\n",
       "      <th>25%</th>\n",
       "      <td>17.878675</td>\n",
       "      <td>7.846543</td>\n",
       "      <td>39.836603</td>\n",
       "      <td>51.379118</td>\n",
       "      <td>39.388020</td>\n",
       "      <td>5.611864</td>\n",
       "      <td>38.199074</td>\n",
       "      <td>17.331796</td>\n",
       "      <td>15.053297</td>\n",
       "      <td>7.523959</td>\n",
       "      <td>62.832397</td>\n",
       "      <td>60.245693</td>\n",
       "      <td>78.587364</td>\n",
       "      <td>38.986485</td>\n",
       "      <td>11.858337</td>\n",
       "    </tr>\n",
       "    <tr>\n",
       "      <th>50%</th>\n",
       "      <td>19.479208</td>\n",
       "      <td>11.176614</td>\n",
       "      <td>55.969151</td>\n",
       "      <td>78.195992</td>\n",
       "      <td>55.687466</td>\n",
       "      <td>7.430449</td>\n",
       "      <td>52.645889</td>\n",
       "      <td>27.223791</td>\n",
       "      <td>24.802559</td>\n",
       "      <td>9.220370</td>\n",
       "      <td>70.913254</td>\n",
       "      <td>84.454132</td>\n",
       "      <td>101.600677</td>\n",
       "      <td>55.703072</td>\n",
       "      <td>14.222418</td>\n",
       "    </tr>\n",
       "    <tr>\n",
       "      <th>75%</th>\n",
       "      <td>20.962277</td>\n",
       "      <td>14.633019</td>\n",
       "      <td>87.910545</td>\n",
       "      <td>89.356865</td>\n",
       "      <td>78.806824</td>\n",
       "      <td>9.109927</td>\n",
       "      <td>71.154514</td>\n",
       "      <td>37.019941</td>\n",
       "      <td>30.083537</td>\n",
       "      <td>11.171183</td>\n",
       "      <td>88.299004</td>\n",
       "      <td>110.230450</td>\n",
       "      <td>122.696426</td>\n",
       "      <td>83.587933</td>\n",
       "      <td>16.900082</td>\n",
       "    </tr>\n",
       "    <tr>\n",
       "      <th>max</th>\n",
       "      <td>31.574720</td>\n",
       "      <td>28.223137</td>\n",
       "      <td>139.560715</td>\n",
       "      <td>198.723419</td>\n",
       "      <td>118.754166</td>\n",
       "      <td>18.301594</td>\n",
       "      <td>111.406143</td>\n",
       "      <td>90.060379</td>\n",
       "      <td>65.948715</td>\n",
       "      <td>20.585041</td>\n",
       "      <td>231.126190</td>\n",
       "      <td>206.265701</td>\n",
       "      <td>193.032059</td>\n",
       "      <td>120.589485</td>\n",
       "      <td>31.047260</td>\n",
       "    </tr>\n",
       "  </tbody>\n",
       "</table>\n",
       "</div>"
      ],
      "text/plain": [
       "        KunYang3 - Avg[V SNEG All] (V)   WanKe1 - Avg[V SNEG All] (V)  \\\n",
       "count                      3299.000000                    3299.000000   \n",
       "mean                         19.534207                      11.421256   \n",
       "std                           2.267147                       4.360179   \n",
       "min                          14.374767                       2.240108   \n",
       "25%                          17.878675                       7.846543   \n",
       "50%                          19.479208                      11.176614   \n",
       "75%                          20.962277                      14.633019   \n",
       "max                          31.574720                      28.223137   \n",
       "\n",
       "        Changliu3 - Avg[V SNEG All] (V)   JiangChuan1 - Avg[V SNEG All] (V)  \\\n",
       "count                       3299.000000                         3299.000000   \n",
       "mean                          63.245622                           74.797307   \n",
       "std                           29.131790                           30.253648   \n",
       "min                            0.000000                            0.000000   \n",
       "25%                           39.836603                           51.379118   \n",
       "50%                           55.969151                           78.195992   \n",
       "75%                           87.910545                           89.356865   \n",
       "max                          139.560715                          198.723419   \n",
       "\n",
       "        Changliu2 - Avg[V SNEG All] (V)   QinZhou4 - Avg[V SNEG All] (V)  \\\n",
       "count                       3299.000000                      3299.000000   \n",
       "mean                          54.298989                         7.486570   \n",
       "std                           27.221210                         2.533809   \n",
       "min                            0.000000                         0.000000   \n",
       "25%                           39.388020                         5.611864   \n",
       "50%                           55.687466                         7.430449   \n",
       "75%                           78.806824                         9.109927   \n",
       "max                          118.754166                        18.301594   \n",
       "\n",
       "        Changliu1 - Avg[V SNEG All] (V)   JiangChuan4 - Avg[V SNEG All] (V)  \\\n",
       "count                       3299.000000                         3299.000000   \n",
       "mean                          50.224348                           27.766623   \n",
       "std                           24.892284                           13.744019   \n",
       "min                            0.000000                            0.000000   \n",
       "25%                           38.199074                           17.331796   \n",
       "50%                           52.645889                           27.223791   \n",
       "75%                           71.154514                           37.019941   \n",
       "max                          111.406143                           90.060379   \n",
       "\n",
       "        JiangChuan5 - Avg[V SNEG All] (V)   QinZhou3 - Avg[V SNEG All] (V)  \\\n",
       "count                         3299.000000                      3299.000000   \n",
       "mean                            24.149889                         9.356789   \n",
       "std                             11.356980                         2.727240   \n",
       "min                              0.000000                         0.262066   \n",
       "25%                             15.053297                         7.523959   \n",
       "50%                             24.802559                         9.220370   \n",
       "75%                             30.083537                        11.171183   \n",
       "max                             65.948715                        20.585041   \n",
       "\n",
       "        KunYang1 - Avg[V SNEG All] (V)   JiangChuan3 - Avg[V SNEG All] (V)  \\\n",
       "count                      3299.000000                         3299.000000   \n",
       "mean                         76.352067                           85.496720   \n",
       "std                          19.457516                           33.206633   \n",
       "min                          44.812057                            0.169499   \n",
       "25%                          62.832397                           60.245693   \n",
       "50%                          70.913254                           84.454132   \n",
       "75%                          88.299004                          110.230450   \n",
       "max                         231.126190                          206.265701   \n",
       "\n",
       "        JiangChuan2 - Avg[V SNEG All] (V)   Changliu4 - Avg[V SNEG All] (V)  \\\n",
       "count                         3299.000000                       3299.000000   \n",
       "mean                           100.462447                         57.844699   \n",
       "std                             30.094798                         30.182571   \n",
       "min                             35.402489                          0.000000   \n",
       "25%                             78.587364                         38.986485   \n",
       "50%                            101.600677                         55.703072   \n",
       "75%                            122.696426                         83.587933   \n",
       "max                            193.032059                        120.589485   \n",
       "\n",
       "        WanKe2 - Avg[V SNEG All] (V)  \n",
       "count                    3299.000000  \n",
       "mean                       14.530042  \n",
       "std                         3.707185  \n",
       "min                         4.136919  \n",
       "25%                        11.858337  \n",
       "50%                        14.222418  \n",
       "75%                        16.900082  \n",
       "max                        31.047260  "
      ]
     },
     "execution_count": 9,
     "metadata": {},
     "output_type": "execute_result"
    }
   ],
   "source": [
    "train_data.describe()"
   ]
  },
  {
   "cell_type": "code",
   "execution_count": 10,
   "metadata": {},
   "outputs": [],
   "source": [
    "from sklearn.model_selection import train_test_split\n",
    "train,test= train_test_split(train_data,test_size=0.2,random_state=0)"
   ]
  },
  {
   "cell_type": "code",
   "execution_count": 11,
   "metadata": {},
   "outputs": [],
   "source": [
    "MAX= train.max()\n",
    "MIN = train.min()"
   ]
  },
  {
   "cell_type": "code",
   "execution_count": 12,
   "metadata": {},
   "outputs": [],
   "source": [
    "train_s=(train-MIN)/(MAX-MIN)\n",
    "test_s=(test-MIN)/(MAX-MIN)"
   ]
  },
  {
   "cell_type": "code",
   "execution_count": 13,
   "metadata": {},
   "outputs": [],
   "source": [
    "train_s=train_s.fillna(0)\n",
    "test_s=test_s.fillna(0)"
   ]
  },
  {
   "cell_type": "code",
   "execution_count": 14,
   "metadata": {},
   "outputs": [],
   "source": [
    "#  generate X_train,Y_train,X_test,Y_test for all target features\n",
    "X_train=train_s.copy();Y_train=DataFrame()\n",
    "\n",
    "for c in train_s.columns:\n",
    "    if c.find(\"WanKe1\") !=-1 :\n",
    "        Y_train[c]=train_s[c]\n",
    "        X_train=X_train.drop(c,axis=1)\n",
    "\n",
    "        \n",
    "X_test=test_s.copy();Y_test=DataFrame()\n",
    "\n",
    "for c in test_s.columns:\n",
    "    if c.find(\"WanKe1\") !=-1 :\n",
    "        Y_test[c]=test_s[c]\n",
    "        X_test=X_test.drop(c,axis=1)"
   ]
  },
  {
   "cell_type": "code",
   "execution_count": 15,
   "metadata": {},
   "outputs": [
    {
     "name": "stderr",
     "output_type": "stream",
     "text": [
      "/home/techstar/anaconda3/lib/python3.6/site-packages/h5py/__init__.py:36: FutureWarning: Conversion of the second argument of issubdtype from `float` to `np.floating` is deprecated. In future, it will be treated as `np.float64 == np.dtype(float).type`.\n",
      "  from ._conv import register_converters as _register_converters\n",
      "Using TensorFlow backend.\n"
     ]
    }
   ],
   "source": [
    "###### network from keras for SHDKY data simulation ###########\n",
    "from keras.models import Sequential\n",
    "from keras.layers import Dense, Activation,Input\n",
    "import keras\n",
    "\n",
    "\n",
    "model = Sequential()\n",
    "\n",
    "model.add(Dense(14, input_dim=14,kernel_initializer=\"normal\"))\n",
    "model.add(Activation('relu'))\n",
    "model.add(Dense(7, activation='relu',kernel_initializer=\"normal\"))\n",
    "model.add(Dense(1, activation='linear',kernel_initializer=\"normal\"))"
   ]
  },
  {
   "cell_type": "code",
   "execution_count": 16,
   "metadata": {},
   "outputs": [],
   "source": [
    "model.compile(loss='mean_squared_error', \n",
    "              optimizer=keras.optimizers.SGD(lr=0.02))"
   ]
  },
  {
   "cell_type": "code",
   "execution_count": 150,
   "metadata": {},
   "outputs": [
    {
     "name": "stdout",
     "output_type": "stream",
     "text": [
      "Train on 2111 samples, validate on 528 samples\n",
      "Epoch 1/30\n",
      " - 0s - loss: 0.0066 - val_loss: 0.0076\n",
      "Epoch 2/30\n",
      " - 0s - loss: 0.0065 - val_loss: 0.0076\n",
      "Epoch 3/30\n",
      " - 0s - loss: 0.0066 - val_loss: 0.0075\n",
      "Epoch 4/30\n",
      " - 0s - loss: 0.0066 - val_loss: 0.0076\n",
      "Epoch 5/30\n",
      " - 0s - loss: 0.0066 - val_loss: 0.0075\n",
      "Epoch 6/30\n",
      " - 0s - loss: 0.0066 - val_loss: 0.0076\n",
      "Epoch 7/30\n",
      " - 0s - loss: 0.0066 - val_loss: 0.0075\n",
      "Epoch 8/30\n",
      " - 0s - loss: 0.0065 - val_loss: 0.0075\n",
      "Epoch 9/30\n",
      " - 0s - loss: 0.0066 - val_loss: 0.0075\n",
      "Epoch 10/30\n",
      " - 0s - loss: 0.0065 - val_loss: 0.0078\n",
      "Epoch 11/30\n",
      " - 0s - loss: 0.0066 - val_loss: 0.0075\n",
      "Epoch 12/30\n",
      " - 0s - loss: 0.0066 - val_loss: 0.0076\n",
      "Epoch 13/30\n",
      " - 0s - loss: 0.0065 - val_loss: 0.0075\n",
      "Epoch 14/30\n",
      " - 0s - loss: 0.0065 - val_loss: 0.0075\n",
      "Epoch 15/30\n",
      " - 0s - loss: 0.0065 - val_loss: 0.0076\n",
      "Epoch 16/30\n",
      " - 0s - loss: 0.0065 - val_loss: 0.0076\n",
      "Epoch 17/30\n",
      " - 0s - loss: 0.0066 - val_loss: 0.0075\n",
      "Epoch 18/30\n",
      " - 0s - loss: 0.0065 - val_loss: 0.0075\n",
      "Epoch 19/30\n",
      " - 0s - loss: 0.0065 - val_loss: 0.0076\n",
      "Epoch 20/30\n",
      " - 0s - loss: 0.0065 - val_loss: 0.0075\n",
      "Epoch 21/30\n",
      " - 0s - loss: 0.0065 - val_loss: 0.0076\n",
      "Epoch 22/30\n",
      " - 0s - loss: 0.0065 - val_loss: 0.0075\n",
      "Epoch 23/30\n",
      " - 0s - loss: 0.0065 - val_loss: 0.0075\n",
      "Epoch 24/30\n",
      " - 0s - loss: 0.0065 - val_loss: 0.0076\n",
      "Epoch 25/30\n",
      " - 0s - loss: 0.0065 - val_loss: 0.0076\n",
      "Epoch 26/30\n",
      " - 0s - loss: 0.0065 - val_loss: 0.0079\n",
      "Epoch 27/30\n",
      " - 0s - loss: 0.0066 - val_loss: 0.0076\n",
      "Epoch 28/30\n",
      " - 0s - loss: 0.0065 - val_loss: 0.0075\n",
      "Epoch 29/30\n",
      " - 0s - loss: 0.0065 - val_loss: 0.0077\n",
      "Epoch 30/30\n",
      " - 0s - loss: 0.0065 - val_loss: 0.0075\n"
     ]
    },
    {
     "data": {
      "text/plain": [
       "<keras.callbacks.History at 0x7f7c102d82e8>"
      ]
     },
     "execution_count": 150,
     "metadata": {},
     "output_type": "execute_result"
    }
   ],
   "source": [
    "model.fit(X_train, Y_train, epochs=30,batch_size=30,\n",
    "          shuffle=True,verbose=2,validation_split=0.2) "
   ]
  },
  {
   "cell_type": "code",
   "execution_count": 151,
   "metadata": {},
   "outputs": [],
   "source": [
    "#((model.predict(X_test)-Y_test)/Y_test)"
   ]
  },
  {
   "cell_type": "code",
   "execution_count": 152,
   "metadata": {},
   "outputs": [
    {
     "data": {
      "text/html": [
       "<div>\n",
       "<style scoped>\n",
       "    .dataframe tbody tr th:only-of-type {\n",
       "        vertical-align: middle;\n",
       "    }\n",
       "\n",
       "    .dataframe tbody tr th {\n",
       "        vertical-align: top;\n",
       "    }\n",
       "\n",
       "    .dataframe thead th {\n",
       "        text-align: right;\n",
       "    }\n",
       "</style>\n",
       "<table border=\"1\" class=\"dataframe\">\n",
       "  <thead>\n",
       "    <tr style=\"text-align: right;\">\n",
       "      <th></th>\n",
       "      <th>WanKe1 - Avg[V SNEG All] (V)</th>\n",
       "    </tr>\n",
       "  </thead>\n",
       "  <tbody>\n",
       "    <tr>\n",
       "      <th>count</th>\n",
       "      <td>660.000000</td>\n",
       "    </tr>\n",
       "    <tr>\n",
       "      <th>mean</th>\n",
       "      <td>-0.007189</td>\n",
       "    </tr>\n",
       "    <tr>\n",
       "      <th>std</th>\n",
       "      <td>0.093212</td>\n",
       "    </tr>\n",
       "    <tr>\n",
       "      <th>min</th>\n",
       "      <td>-0.378137</td>\n",
       "    </tr>\n",
       "    <tr>\n",
       "      <th>25%</th>\n",
       "      <td>-0.066627</td>\n",
       "    </tr>\n",
       "    <tr>\n",
       "      <th>50%</th>\n",
       "      <td>-0.006951</td>\n",
       "    </tr>\n",
       "    <tr>\n",
       "      <th>75%</th>\n",
       "      <td>0.058185</td>\n",
       "    </tr>\n",
       "    <tr>\n",
       "      <th>max</th>\n",
       "      <td>0.304407</td>\n",
       "    </tr>\n",
       "  </tbody>\n",
       "</table>\n",
       "</div>"
      ],
      "text/plain": [
       "        WanKe1 - Avg[V SNEG All] (V)\n",
       "count                     660.000000\n",
       "mean                       -0.007189\n",
       "std                         0.093212\n",
       "min                        -0.378137\n",
       "25%                        -0.066627\n",
       "50%                        -0.006951\n",
       "75%                         0.058185\n",
       "max                         0.304407"
      ]
     },
     "execution_count": 152,
     "metadata": {},
     "output_type": "execute_result"
    }
   ],
   "source": [
    "((model.predict(X_test)-Y_test)).describe()"
   ]
  },
  {
   "cell_type": "code",
   "execution_count": 153,
   "metadata": {},
   "outputs": [],
   "source": [
    "c=Y_test.columns\n",
    "R= pd.DataFrame(model.predict(X_test),columns=['V_pred'])\n",
    "R.index = Y_test.index\n",
    "R= R.join(Y_test)\n",
    "#R=  R*((MAX[c]-MIN[c])+MIN[c]).values[0]\n",
    "R=  R*(MAX[c]-MIN[c]).values[0]+MIN[c].values[0]"
   ]
  },
  {
   "cell_type": "code",
   "execution_count": 154,
   "metadata": {},
   "outputs": [
    {
     "data": {
      "text/plain": [
       "<matplotlib.axes._subplots.AxesSubplot at 0x7f7c102edcf8>"
      ]
     },
     "execution_count": 154,
     "metadata": {},
     "output_type": "execute_result"
    },
    {
     "data": {
      "image/png": "[encoded data removed]",
      "text/plain": [
       "<Figure size 864x288 with 1 Axes>"
      ]
     },
     "metadata": {},
     "output_type": "display_data"
    }
   ],
   "source": [
    "R_show=R.iloc[200:300,:]\n",
    "\n",
    "import pylab\n",
    "pylab.rcParams['figure.figsize'] = (12.0, 4.0)\n",
    "\n",
    "R_show.plot(alpha =0.5,figsize = (12,4))"
   ]
  },
  {
   "cell_type": "code",
   "execution_count": 155,
   "metadata": {},
   "outputs": [],
   "source": [
    "R[\"diff\"]=(R[\"V_pred\"]-R[c[0]])\n",
    "R[\"diff_ptg\"]=(R[\"V_pred\"]-R[c[0]])/R[c[0]]"
   ]
  },
  {
   "cell_type": "code",
   "execution_count": 156,
   "metadata": {},
   "outputs": [
    {
     "data": {
      "text/html": [
       "<div>\n",
       "<style scoped>\n",
       "    .dataframe tbody tr th:only-of-type {\n",
       "        vertical-align: middle;\n",
       "    }\n",
       "\n",
       "    .dataframe tbody tr th {\n",
       "        vertical-align: top;\n",
       "    }\n",
       "\n",
       "    .dataframe thead th {\n",
       "        text-align: right;\n",
       "    }\n",
       "</style>\n",
       "<table border=\"1\" class=\"dataframe\">\n",
       "  <thead>\n",
       "    <tr style=\"text-align: right;\">\n",
       "      <th></th>\n",
       "      <th>V_pred</th>\n",
       "      <th>WanKe1 - Avg[V SNEG All] (V)</th>\n",
       "      <th>diff</th>\n",
       "      <th>diff_ptg</th>\n",
       "    </tr>\n",
       "  </thead>\n",
       "  <tbody>\n",
       "    <tr>\n",
       "      <th>count</th>\n",
       "      <td>660.000000</td>\n",
       "      <td>660.000000</td>\n",
       "      <td>660.000000</td>\n",
       "      <td>660.000000</td>\n",
       "    </tr>\n",
       "    <tr>\n",
       "      <th>mean</th>\n",
       "      <td>11.330583</td>\n",
       "      <td>11.517383</td>\n",
       "      <td>-0.186795</td>\n",
       "      <td>0.035040</td>\n",
       "    </tr>\n",
       "    <tr>\n",
       "      <th>std</th>\n",
       "      <td>3.718954</td>\n",
       "      <td>4.415000</td>\n",
       "      <td>2.421925</td>\n",
       "      <td>0.256488</td>\n",
       "    </tr>\n",
       "    <tr>\n",
       "      <th>min</th>\n",
       "      <td>5.096892</td>\n",
       "      <td>2.662615</td>\n",
       "      <td>-9.825135</td>\n",
       "      <td>-0.479092</td>\n",
       "    </tr>\n",
       "    <tr>\n",
       "      <th>25%</th>\n",
       "      <td>8.130104</td>\n",
       "      <td>7.819715</td>\n",
       "      <td>-1.731175</td>\n",
       "      <td>-0.134030</td>\n",
       "    </tr>\n",
       "    <tr>\n",
       "      <th>50%</th>\n",
       "      <td>11.085290</td>\n",
       "      <td>11.101592</td>\n",
       "      <td>-0.180614</td>\n",
       "      <td>-0.018572</td>\n",
       "    </tr>\n",
       "    <tr>\n",
       "      <th>75%</th>\n",
       "      <td>13.865123</td>\n",
       "      <td>14.761485</td>\n",
       "      <td>1.511820</td>\n",
       "      <td>0.149168</td>\n",
       "    </tr>\n",
       "    <tr>\n",
       "      <th>max</th>\n",
       "      <td>24.023687</td>\n",
       "      <td>24.899691</td>\n",
       "      <td>7.909429</td>\n",
       "      <td>1.310836</td>\n",
       "    </tr>\n",
       "  </tbody>\n",
       "</table>\n",
       "</div>"
      ],
      "text/plain": [
       "           V_pred   WanKe1 - Avg[V SNEG All] (V)        diff    diff_ptg\n",
       "count  660.000000                     660.000000  660.000000  660.000000\n",
       "mean    11.330583                      11.517383   -0.186795    0.035040\n",
       "std      3.718954                       4.415000    2.421925    0.256488\n",
       "min      5.096892                       2.662615   -9.825135   -0.479092\n",
       "25%      8.130104                       7.819715   -1.731175   -0.134030\n",
       "50%     11.085290                      11.101592   -0.180614   -0.018572\n",
       "75%     13.865123                      14.761485    1.511820    0.149168\n",
       "max     24.023687                      24.899691    7.909429    1.310836"
      ]
     },
     "execution_count": 156,
     "metadata": {},
     "output_type": "execute_result"
    }
   ],
   "source": [
    "R.describe()"
   ]
  },
  {
   "cell_type": "code",
   "execution_count": 157,
   "metadata": {},
   "outputs": [
    {
     "data": {
      "text/plain": [
       "(-0.2843314988937808, 0.5417301794405024)"
      ]
     },
     "execution_count": 157,
     "metadata": {},
     "output_type": "execute_result"
    }
   ],
   "source": [
    "(R.diff_ptg.quantile(0.05),R.diff_ptg.quantile(0.95))"
   ]
  },
  {
   "cell_type": "code",
   "execution_count": 158,
   "metadata": {},
   "outputs": [
    {
     "data": {
      "text/html": [
       "<div>\n",
       "<style scoped>\n",
       "    .dataframe tbody tr th:only-of-type {\n",
       "        vertical-align: middle;\n",
       "    }\n",
       "\n",
       "    .dataframe tbody tr th {\n",
       "        vertical-align: top;\n",
       "    }\n",
       "\n",
       "    .dataframe thead th {\n",
       "        text-align: right;\n",
       "    }\n",
       "</style>\n",
       "<table border=\"1\" class=\"dataframe\">\n",
       "  <thead>\n",
       "    <tr style=\"text-align: right;\">\n",
       "      <th></th>\n",
       "      <th>V_pred</th>\n",
       "      <th>WanKe1 - Avg[V SNEG All] (V)</th>\n",
       "      <th>diff</th>\n",
       "      <th>diff_ptg</th>\n",
       "    </tr>\n",
       "    <tr>\n",
       "      <th>时间</th>\n",
       "      <th></th>\n",
       "      <th></th>\n",
       "      <th></th>\n",
       "      <th></th>\n",
       "    </tr>\n",
       "  </thead>\n",
       "  <tbody>\n",
       "    <tr>\n",
       "      <th>2018-02-04 23:54:00</th>\n",
       "      <td>6.219199</td>\n",
       "      <td>3.106630</td>\n",
       "      <td>3.112570</td>\n",
       "      <td>1.001912</td>\n",
       "    </tr>\n",
       "    <tr>\n",
       "      <th>2018-02-05 08:36:00</th>\n",
       "      <td>9.710583</td>\n",
       "      <td>4.845279</td>\n",
       "      <td>4.865304</td>\n",
       "      <td>1.004133</td>\n",
       "    </tr>\n",
       "    <tr>\n",
       "      <th>2018-02-07 23:12:00</th>\n",
       "      <td>14.897449</td>\n",
       "      <td>6.988021</td>\n",
       "      <td>7.909429</td>\n",
       "      <td>1.131855</td>\n",
       "    </tr>\n",
       "    <tr>\n",
       "      <th>2018-02-02 23:42:00</th>\n",
       "      <td>13.445404</td>\n",
       "      <td>6.195778</td>\n",
       "      <td>7.249626</td>\n",
       "      <td>1.170091</td>\n",
       "    </tr>\n",
       "    <tr>\n",
       "      <th>2018-02-02 05:06:00</th>\n",
       "      <td>5.871411</td>\n",
       "      <td>2.662615</td>\n",
       "      <td>3.208796</td>\n",
       "      <td>1.205130</td>\n",
       "    </tr>\n",
       "    <tr>\n",
       "      <th>2018-02-01 23:39:00</th>\n",
       "      <td>9.710581</td>\n",
       "      <td>4.202194</td>\n",
       "      <td>5.508387</td>\n",
       "      <td>1.310836</td>\n",
       "    </tr>\n",
       "  </tbody>\n",
       "</table>\n",
       "</div>"
      ],
      "text/plain": [
       "                        V_pred   WanKe1 - Avg[V SNEG All] (V)      diff  \\\n",
       "时间                                                                        \n",
       "2018-02-04 23:54:00   6.219199                       3.106630  3.112570   \n",
       "2018-02-05 08:36:00   9.710583                       4.845279  4.865304   \n",
       "2018-02-07 23:12:00  14.897449                       6.988021  7.909429   \n",
       "2018-02-02 23:42:00  13.445404                       6.195778  7.249626   \n",
       "2018-02-02 05:06:00   5.871411                       2.662615  3.208796   \n",
       "2018-02-01 23:39:00   9.710581                       4.202194  5.508387   \n",
       "\n",
       "                     diff_ptg  \n",
       "时间                             \n",
       "2018-02-04 23:54:00  1.001912  \n",
       "2018-02-05 08:36:00  1.004133  \n",
       "2018-02-07 23:12:00  1.131855  \n",
       "2018-02-02 23:42:00  1.170091  \n",
       "2018-02-02 05:06:00  1.205130  \n",
       "2018-02-01 23:39:00  1.310836  "
      ]
     },
     "execution_count": 158,
     "metadata": {},
     "output_type": "execute_result"
    }
   ],
   "source": [
    "R.sort_values(\"diff_ptg\")[-6:]"
   ]
  },
  {
   "cell_type": "code",
   "execution_count": 159,
   "metadata": {},
   "outputs": [
    {
     "data": {
      "text/html": [
       "<div>\n",
       "<style scoped>\n",
       "    .dataframe tbody tr th:only-of-type {\n",
       "        vertical-align: middle;\n",
       "    }\n",
       "\n",
       "    .dataframe tbody tr th {\n",
       "        vertical-align: top;\n",
       "    }\n",
       "\n",
       "    .dataframe thead th {\n",
       "        text-align: right;\n",
       "    }\n",
       "</style>\n",
       "<table border=\"1\" class=\"dataframe\">\n",
       "  <thead>\n",
       "    <tr style=\"text-align: right;\">\n",
       "      <th></th>\n",
       "      <th>V_pred</th>\n",
       "      <th>WanKe1 - Avg[V SNEG All] (V)</th>\n",
       "    </tr>\n",
       "    <tr>\n",
       "      <th>时间</th>\n",
       "      <th></th>\n",
       "      <th></th>\n",
       "    </tr>\n",
       "  </thead>\n",
       "  <tbody>\n",
       "    <tr>\n",
       "      <th>2018-02-07 09:36:00</th>\n",
       "      <td>13.504987</td>\n",
       "      <td>13.835214</td>\n",
       "    </tr>\n",
       "    <tr>\n",
       "      <th>2018-02-03 00:30:00</th>\n",
       "      <td>10.131296</td>\n",
       "      <td>6.236780</td>\n",
       "    </tr>\n",
       "    <tr>\n",
       "      <th>2018-02-06 01:51:00</th>\n",
       "      <td>6.119767</td>\n",
       "      <td>5.294836</td>\n",
       "    </tr>\n",
       "    <tr>\n",
       "      <th>2018-02-03 10:45:00</th>\n",
       "      <td>8.895084</td>\n",
       "      <td>10.784618</td>\n",
       "    </tr>\n",
       "    <tr>\n",
       "      <th>2018-02-02 00:18:00</th>\n",
       "      <td>6.942040</td>\n",
       "      <td>5.686869</td>\n",
       "    </tr>\n",
       "    <tr>\n",
       "      <th>2018-02-01 01:33:00</th>\n",
       "      <td>6.880324</td>\n",
       "      <td>6.903463</td>\n",
       "    </tr>\n",
       "  </tbody>\n",
       "</table>\n",
       "</div>"
      ],
      "text/plain": [
       "                        V_pred   WanKe1 - Avg[V SNEG All] (V)\n",
       "时间                                                           \n",
       "2018-02-07 09:36:00  13.504987                      13.835214\n",
       "2018-02-03 00:30:00  10.131296                       6.236780\n",
       "2018-02-06 01:51:00   6.119767                       5.294836\n",
       "2018-02-03 10:45:00   8.895084                      10.784618\n",
       "2018-02-02 00:18:00   6.942040                       5.686869\n",
       "2018-02-01 01:33:00   6.880324                       6.903463"
      ]
     },
     "execution_count": 159,
     "metadata": {},
     "output_type": "execute_result"
    }
   ],
   "source": [
    "R_show[:6]"
   ]
  },
  {
   "cell_type": "code",
   "execution_count": 160,
   "metadata": {},
   "outputs": [
    {
     "data": {
      "text/html": [
       "<div>\n",
       "<style scoped>\n",
       "    .dataframe tbody tr th:only-of-type {\n",
       "        vertical-align: middle;\n",
       "    }\n",
       "\n",
       "    .dataframe tbody tr th {\n",
       "        vertical-align: top;\n",
       "    }\n",
       "\n",
       "    .dataframe thead th {\n",
       "        text-align: right;\n",
       "    }\n",
       "</style>\n",
       "<table border=\"1\" class=\"dataframe\">\n",
       "  <thead>\n",
       "    <tr style=\"text-align: right;\">\n",
       "      <th></th>\n",
       "      <th>V_pred</th>\n",
       "      <th>WanKe1 - Avg[V SNEG All] (V)</th>\n",
       "      <th>diff</th>\n",
       "      <th>diff_ptg</th>\n",
       "    </tr>\n",
       "  </thead>\n",
       "  <tbody>\n",
       "    <tr>\n",
       "      <th>V_pred</th>\n",
       "      <td>1.000000</td>\n",
       "      <td>0.836129</td>\n",
       "      <td>0.011331</td>\n",
       "      <td>-0.030558</td>\n",
       "    </tr>\n",
       "    <tr>\n",
       "      <th>WanKe1 - Avg[V SNEG All] (V)</th>\n",
       "      <td>0.836129</td>\n",
       "      <td>1.000000</td>\n",
       "      <td>-0.539023</td>\n",
       "      <td>-0.522135</td>\n",
       "    </tr>\n",
       "    <tr>\n",
       "      <th>diff</th>\n",
       "      <td>0.011331</td>\n",
       "      <td>-0.539023</td>\n",
       "      <td>1.000000</td>\n",
       "      <td>0.904892</td>\n",
       "    </tr>\n",
       "    <tr>\n",
       "      <th>diff_ptg</th>\n",
       "      <td>-0.030558</td>\n",
       "      <td>-0.522135</td>\n",
       "      <td>0.904892</td>\n",
       "      <td>1.000000</td>\n",
       "    </tr>\n",
       "  </tbody>\n",
       "</table>\n",
       "</div>"
      ],
      "text/plain": [
       "                                 V_pred   WanKe1 - Avg[V SNEG All] (V)  \\\n",
       "V_pred                         1.000000                       0.836129   \n",
       " WanKe1 - Avg[V SNEG All] (V)  0.836129                       1.000000   \n",
       "diff                           0.011331                      -0.539023   \n",
       "diff_ptg                      -0.030558                      -0.522135   \n",
       "\n",
       "                                   diff  diff_ptg  \n",
       "V_pred                         0.011331 -0.030558  \n",
       " WanKe1 - Avg[V SNEG All] (V) -0.539023 -0.522135  \n",
       "diff                           1.000000  0.904892  \n",
       "diff_ptg                       0.904892  1.000000  "
      ]
     },
     "execution_count": 160,
     "metadata": {},
     "output_type": "execute_result"
    }
   ],
   "source": [
    "R.corr()"
   ]
  },
  {
   "cell_type": "code",
   "execution_count": 161,
   "metadata": {},
   "outputs": [
    {
     "data": {
      "text/plain": [
       " KunYang1 - Avg[V SNEG All] (V)       0.159590\n",
       " Changliu3 - Avg[V SNEG All] (V)      0.208336\n",
       " Changliu4 - Avg[V SNEG All] (V)      0.220416\n",
       " QinZhou3 - Avg[V SNEG All] (V)       0.226986\n",
       " Changliu2 - Avg[V SNEG All] (V)      0.270384\n",
       " JiangChuan4 - Avg[V SNEG All] (V)    0.291203\n",
       " JiangChuan2 - Avg[V SNEG All] (V)    0.335921\n",
       " Changliu1 - Avg[V SNEG All] (V)      0.336498\n",
       " JiangChuan5 - Avg[V SNEG All] (V)    0.392316\n",
       " QinZhou4 - Avg[V SNEG All] (V)       0.398225\n",
       " JiangChuan1 - Avg[V SNEG All] (V)    0.399910\n",
       " JiangChuan3 - Avg[V SNEG All] (V)    0.441371\n",
       " KunYang3 - Avg[V SNEG All] (V)       0.574816\n",
       " WanKe2 - Avg[V SNEG All] (V)         0.772951\n",
       " WanKe1 - Avg[V SNEG All] (V)         1.000000\n",
       "Name:  WanKe1 - Avg[V SNEG All] (V), dtype: float64"
      ]
     },
     "execution_count": 161,
     "metadata": {},
     "output_type": "execute_result"
    }
   ],
   "source": [
    "train_data.corr()[c[0]].sort_values()"
   ]
  },
  {
   "cell_type": "code",
   "execution_count": 163,
   "metadata": {},
   "outputs": [],
   "source": [
    "model.save(\"model_h5/M_VSneg.h5\")"
   ]
  },
  {
   "cell_type": "code",
   "execution_count": 165,
   "metadata": {},
   "outputs": [
    {
     "data": {
      "text/plain": [
       "<matplotlib.axes._subplots.AxesSubplot at 0x7f7c1017bd30>"
      ]
     },
     "execution_count": 165,
     "metadata": {},
     "output_type": "execute_result"
    },
    {
     "data": {
      "image/png": "[encoded data removed]",
      "text/plain": [
       "<Figure size 864x288 with 1 Axes>"
      ]
     },
     "metadata": {},
     "output_type": "display_data"
    }
   ],
   "source": [
    "R.diff_ptg.hist(bins=100)"
   ]
  },
  {
   "cell_type": "code",
   "execution_count": null,
   "metadata": {},
   "outputs": [],
   "source": []
  }
 ],
 "metadata": {
  "kernelspec": {
   "display_name": "Python 3",
   "language": "python",
   "name": "python3"
  },
  "language_info": {
   "codemirror_mode": {
    "name": "ipython",
    "version": 3
   },
   "file_extension": ".py",
   "mimetype": "text/x-python",
   "name": "python",
   "nbconvert_exporter": "python",
   "pygments_lexer": "ipython3",
   "version": "3.6.5"
  }
 },
 "nbformat": 4,
 "nbformat_minor": 2
}
