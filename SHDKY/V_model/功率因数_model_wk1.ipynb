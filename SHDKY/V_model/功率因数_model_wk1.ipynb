{
 "cells": [
  {
   "cell_type": "code",
   "execution_count": 1,
   "metadata": {},
   "outputs": [],
   "source": [
    "import numpy as np\n",
    "import pandas as pd\n",
    "import pathlib as pl\n",
    "from datetime import datetime\n",
    "import matplotlib.pyplot as plot\n",
    "from pandas import DataFrame, Series"
   ]
  },
  {
   "cell_type": "code",
   "execution_count": 2,
   "metadata": {},
   "outputs": [
    {
     "name": "stdout",
     "output_type": "stream",
     "text": [
      "Reading kVKunYang3.csv\n",
      "Reading kVWanKe1.csv\n",
      "Reading kVChangLiu3.csv\n",
      "Reading kVJiangChuan1.csv\n",
      "Reading kVChangLiu2.csv\n",
      "Reading kVQinZhou4.csv\n",
      "Reading kVChangLiu1.csv\n",
      "Reading kVJiangChuan4.csv\n",
      "Reading kVJiangChuan5.csv\n",
      "Reading kVQinZhou3.csv\n",
      "Reading kVKunYang1.csv\n",
      "Reading kVJiangChuan3.csv\n",
      "Reading kVJiangChuan2.csv\n",
      "Reading kVChangLiu4.csv\n",
      "Reading kVWanKe2.csv\n"
     ]
    }
   ],
   "source": [
    "# read from csv files\n",
    "\n",
    "datapath=pl.Path(\"../csvdata\")\n",
    "\n",
    "file_list=[]\n",
    "dfs=[]\n",
    "for x in datapath.glob(\"*[0-9].csv\"):\n",
    "    print(\"Reading \"+x.name)\n",
    "    f=pd.read_csv(x,index_col=0,na_values=\" \")\n",
    "    dfs.append(f)\n",
    "    file_list.append(x.name)"
   ]
  },
  {
   "cell_type": "code",
   "execution_count": 3,
   "metadata": {},
   "outputs": [],
   "source": [
    "cols = [\"Avg[V 有效值 AB]\",\n",
    "# \"Avg[V 总谐波畸变率 A]\",\n",
    " \"Avg[V 负序不平衡 Total]\",\n",
    " \"Avg[V SPOS All]\",\n",
    " \"Avg[V SNEG All]\",\n",
    " \"Avg[V SZERO All]\",\n",
    "#\"Pst A\",\n",
    " \"Avg[I 有效值 A]\",\n",
    " \"Avg[I 总谐波畸变率 A]\",\n",
    " \"Avg[I 负序不平衡 Total]\",\n",
    " \"Avg[I SPOS All]\",\n",
    " \"Avg[I SNEG All]\",\n",
    " \"Avg[I ZERO All]\",\n",
    "# \"Avg[P A]\",\n",
    "# \"Avg[Q A]\",\n",
    "# \"Avg[S A]\",\n",
    "# \"Avg[功率因数 A]\"\n",
    " ]"
   ]
  },
  {
   "cell_type": "code",
   "execution_count": 4,
   "metadata": {},
   "outputs": [
    {
     "name": "stdout",
     "output_type": "stream",
     "text": [
      " KunYang3 - Avg[功率因数 A]\n",
      " WanKe1 - Avg[功率因数 A]\n",
      " Changliu3 - Avg[功率因数 A]\n",
      " JiangChuan1 - Avg[功率因数 A]\n",
      " Changliu2 - Avg[功率因数 A]\n",
      " QinZhou4 - Avg[功率因数 A]\n",
      " Changliu1 - Avg[功率因数 A]\n",
      " JiangChuan4 - Avg[功率因数 A]\n",
      " JiangChuan5 - Avg[功率因数 A]\n",
      " QinZhou3 - Avg[功率因数 A]\n",
      " KunYang1 - Avg[功率因数 A]\n",
      " JiangChuan3 - Avg[功率因数 A]\n",
      " JiangChuan2 - Avg[功率因数 A]\n",
      " WanKe2 - Avg[功率因数 A]\n",
      "14\n"
     ]
    }
   ],
   "source": [
    "tr_data=DataFrame()\n",
    "i=0\n",
    "for df in dfs:\n",
    "    for c in df.columns:\n",
    "        if c.find(\"Avg[功率因数 A]\")!=-1:\n",
    "            print (c)\n",
    "            tr_data[c]=df[c]\n",
    "            i+=1\n",
    "print(i)"
   ]
  },
  {
   "cell_type": "code",
   "execution_count": 5,
   "metadata": {},
   "outputs": [],
   "source": [
    "train_data=tr_data.dropna()"
   ]
  },
  {
   "cell_type": "code",
   "execution_count": 6,
   "metadata": {},
   "outputs": [
    {
     "data": {
      "text/plain": [
       "4032"
      ]
     },
     "execution_count": 6,
     "metadata": {},
     "output_type": "execute_result"
    }
   ],
   "source": [
    "len(tr_data)"
   ]
  },
  {
   "cell_type": "code",
   "execution_count": 9,
   "metadata": {},
   "outputs": [],
   "source": [
    "train_data=train_data.dropna(axis=1)"
   ]
  },
  {
   "cell_type": "code",
   "execution_count": 10,
   "metadata": {},
   "outputs": [
    {
     "data": {
      "image/png": "[encoded data removed]",
      "text/plain": [
       "<Figure size 432x288 with 1 Axes>"
      ]
     },
     "metadata": {},
     "output_type": "display_data"
    }
   ],
   "source": [
    "corMat=DataFrame(train_data.corr())\n",
    "plot.pcolor(corMat)\n",
    "plot.show()"
   ]
  },
  {
   "cell_type": "code",
   "execution_count": 74,
   "metadata": {},
   "outputs": [
    {
     "data": {
      "text/html": [
       "<div>\n",
       "<style scoped>\n",
       "    .dataframe tbody tr th:only-of-type {\n",
       "        vertical-align: middle;\n",
       "    }\n",
       "\n",
       "    .dataframe tbody tr th {\n",
       "        vertical-align: top;\n",
       "    }\n",
       "\n",
       "    .dataframe thead th {\n",
       "        text-align: right;\n",
       "    }\n",
       "</style>\n",
       "<table border=\"1\" class=\"dataframe\">\n",
       "  <thead>\n",
       "    <tr style=\"text-align: right;\">\n",
       "      <th></th>\n",
       "      <th>KunYang3 - Avg[功率因数 A]</th>\n",
       "      <th>WanKe1 - Avg[功率因数 A]</th>\n",
       "      <th>Changliu3 - Avg[功率因数 A]</th>\n",
       "      <th>JiangChuan1 - Avg[功率因数 A]</th>\n",
       "      <th>Changliu2 - Avg[功率因数 A]</th>\n",
       "      <th>QinZhou4 - Avg[功率因数 A]</th>\n",
       "      <th>Changliu1 - Avg[功率因数 A]</th>\n",
       "      <th>JiangChuan4 - Avg[功率因数 A]</th>\n",
       "      <th>JiangChuan5 - Avg[功率因数 A]</th>\n",
       "      <th>QinZhou3 - Avg[功率因数 A]</th>\n",
       "      <th>KunYang1 - Avg[功率因数 A]</th>\n",
       "      <th>JiangChuan3 - Avg[功率因数 A]</th>\n",
       "      <th>JiangChuan2 - Avg[功率因数 A]</th>\n",
       "      <th>WanKe2 - Avg[功率因数 A]</th>\n",
       "    </tr>\n",
       "  </thead>\n",
       "  <tbody>\n",
       "    <tr>\n",
       "      <th>count</th>\n",
       "      <td>3299.000000</td>\n",
       "      <td>3299.000000</td>\n",
       "      <td>3299.000000</td>\n",
       "      <td>3299.000000</td>\n",
       "      <td>3299.000000</td>\n",
       "      <td>3299.000000</td>\n",
       "      <td>3299.0</td>\n",
       "      <td>3299.000000</td>\n",
       "      <td>3299.000000</td>\n",
       "      <td>3299.000000</td>\n",
       "      <td>3299.000000</td>\n",
       "      <td>3299.000000</td>\n",
       "      <td>3299.0</td>\n",
       "      <td>3299.000000</td>\n",
       "    </tr>\n",
       "    <tr>\n",
       "      <th>mean</th>\n",
       "      <td>-0.709038</td>\n",
       "      <td>0.996173</td>\n",
       "      <td>0.638047</td>\n",
       "      <td>0.955248</td>\n",
       "      <td>0.912925</td>\n",
       "      <td>0.994121</td>\n",
       "      <td>1.0</td>\n",
       "      <td>0.993675</td>\n",
       "      <td>0.934691</td>\n",
       "      <td>0.935357</td>\n",
       "      <td>0.938131</td>\n",
       "      <td>0.975255</td>\n",
       "      <td>1.0</td>\n",
       "      <td>0.999039</td>\n",
       "    </tr>\n",
       "    <tr>\n",
       "      <th>std</th>\n",
       "      <td>0.143988</td>\n",
       "      <td>0.001666</td>\n",
       "      <td>0.228561</td>\n",
       "      <td>0.020008</td>\n",
       "      <td>0.087640</td>\n",
       "      <td>0.001223</td>\n",
       "      <td>0.0</td>\n",
       "      <td>0.008004</td>\n",
       "      <td>0.016476</td>\n",
       "      <td>0.036540</td>\n",
       "      <td>0.028210</td>\n",
       "      <td>0.015421</td>\n",
       "      <td>0.0</td>\n",
       "      <td>0.000469</td>\n",
       "    </tr>\n",
       "    <tr>\n",
       "      <th>min</th>\n",
       "      <td>-0.987360</td>\n",
       "      <td>0.989772</td>\n",
       "      <td>0.183751</td>\n",
       "      <td>0.884498</td>\n",
       "      <td>0.601385</td>\n",
       "      <td>0.989841</td>\n",
       "      <td>1.0</td>\n",
       "      <td>0.958897</td>\n",
       "      <td>0.834045</td>\n",
       "      <td>0.859945</td>\n",
       "      <td>0.870377</td>\n",
       "      <td>0.927899</td>\n",
       "      <td>1.0</td>\n",
       "      <td>0.995879</td>\n",
       "    </tr>\n",
       "    <tr>\n",
       "      <th>25%</th>\n",
       "      <td>-0.751985</td>\n",
       "      <td>0.994999</td>\n",
       "      <td>0.518963</td>\n",
       "      <td>0.942303</td>\n",
       "      <td>0.923577</td>\n",
       "      <td>0.993300</td>\n",
       "      <td>1.0</td>\n",
       "      <td>0.991139</td>\n",
       "      <td>0.925511</td>\n",
       "      <td>0.900129</td>\n",
       "      <td>0.918142</td>\n",
       "      <td>0.963860</td>\n",
       "      <td>1.0</td>\n",
       "      <td>0.998844</td>\n",
       "    </tr>\n",
       "    <tr>\n",
       "      <th>50%</th>\n",
       "      <td>-0.710252</td>\n",
       "      <td>0.996641</td>\n",
       "      <td>0.741948</td>\n",
       "      <td>0.956329</td>\n",
       "      <td>0.947957</td>\n",
       "      <td>0.994194</td>\n",
       "      <td>1.0</td>\n",
       "      <td>0.997731</td>\n",
       "      <td>0.940180</td>\n",
       "      <td>0.938610</td>\n",
       "      <td>0.932561</td>\n",
       "      <td>0.977124</td>\n",
       "      <td>1.0</td>\n",
       "      <td>0.999149</td>\n",
       "    </tr>\n",
       "    <tr>\n",
       "      <th>75%</th>\n",
       "      <td>-0.587091</td>\n",
       "      <td>0.997489</td>\n",
       "      <td>0.788795</td>\n",
       "      <td>0.971710</td>\n",
       "      <td>0.962130</td>\n",
       "      <td>0.995025</td>\n",
       "      <td>1.0</td>\n",
       "      <td>0.998825</td>\n",
       "      <td>0.946259</td>\n",
       "      <td>0.972472</td>\n",
       "      <td>0.957700</td>\n",
       "      <td>0.986857</td>\n",
       "      <td>1.0</td>\n",
       "      <td>0.999355</td>\n",
       "    </tr>\n",
       "    <tr>\n",
       "      <th>max</th>\n",
       "      <td>-0.389309</td>\n",
       "      <td>0.999006</td>\n",
       "      <td>0.916800</td>\n",
       "      <td>0.996524</td>\n",
       "      <td>0.990298</td>\n",
       "      <td>0.997105</td>\n",
       "      <td>1.0</td>\n",
       "      <td>0.999552</td>\n",
       "      <td>0.961061</td>\n",
       "      <td>0.987950</td>\n",
       "      <td>0.999616</td>\n",
       "      <td>0.999845</td>\n",
       "      <td>1.0</td>\n",
       "      <td>0.999804</td>\n",
       "    </tr>\n",
       "  </tbody>\n",
       "</table>\n",
       "</div>"
      ],
      "text/plain": [
       "        KunYang3 - Avg[功率因数 A]   WanKe1 - Avg[功率因数 A]  \\\n",
       "count              3299.000000            3299.000000   \n",
       "mean                 -0.709038               0.996173   \n",
       "std                   0.143988               0.001666   \n",
       "min                  -0.987360               0.989772   \n",
       "25%                  -0.751985               0.994999   \n",
       "50%                  -0.710252               0.996641   \n",
       "75%                  -0.587091               0.997489   \n",
       "max                  -0.389309               0.999006   \n",
       "\n",
       "        Changliu3 - Avg[功率因数 A]   JiangChuan1 - Avg[功率因数 A]  \\\n",
       "count               3299.000000                 3299.000000   \n",
       "mean                   0.638047                    0.955248   \n",
       "std                    0.228561                    0.020008   \n",
       "min                    0.183751                    0.884498   \n",
       "25%                    0.518963                    0.942303   \n",
       "50%                    0.741948                    0.956329   \n",
       "75%                    0.788795                    0.971710   \n",
       "max                    0.916800                    0.996524   \n",
       "\n",
       "        Changliu2 - Avg[功率因数 A]   QinZhou4 - Avg[功率因数 A]  \\\n",
       "count               3299.000000              3299.000000   \n",
       "mean                   0.912925                 0.994121   \n",
       "std                    0.087640                 0.001223   \n",
       "min                    0.601385                 0.989841   \n",
       "25%                    0.923577                 0.993300   \n",
       "50%                    0.947957                 0.994194   \n",
       "75%                    0.962130                 0.995025   \n",
       "max                    0.990298                 0.997105   \n",
       "\n",
       "        Changliu1 - Avg[功率因数 A]   JiangChuan4 - Avg[功率因数 A]  \\\n",
       "count                    3299.0                 3299.000000   \n",
       "mean                        1.0                    0.993675   \n",
       "std                         0.0                    0.008004   \n",
       "min                         1.0                    0.958897   \n",
       "25%                         1.0                    0.991139   \n",
       "50%                         1.0                    0.997731   \n",
       "75%                         1.0                    0.998825   \n",
       "max                         1.0                    0.999552   \n",
       "\n",
       "        JiangChuan5 - Avg[功率因数 A]   QinZhou3 - Avg[功率因数 A]  \\\n",
       "count                 3299.000000              3299.000000   \n",
       "mean                     0.934691                 0.935357   \n",
       "std                      0.016476                 0.036540   \n",
       "min                      0.834045                 0.859945   \n",
       "25%                      0.925511                 0.900129   \n",
       "50%                      0.940180                 0.938610   \n",
       "75%                      0.946259                 0.972472   \n",
       "max                      0.961061                 0.987950   \n",
       "\n",
       "        KunYang1 - Avg[功率因数 A]   JiangChuan3 - Avg[功率因数 A]  \\\n",
       "count              3299.000000                 3299.000000   \n",
       "mean                  0.938131                    0.975255   \n",
       "std                   0.028210                    0.015421   \n",
       "min                   0.870377                    0.927899   \n",
       "25%                   0.918142                    0.963860   \n",
       "50%                   0.932561                    0.977124   \n",
       "75%                   0.957700                    0.986857   \n",
       "max                   0.999616                    0.999845   \n",
       "\n",
       "        JiangChuan2 - Avg[功率因数 A]   WanKe2 - Avg[功率因数 A]  \n",
       "count                      3299.0            3299.000000  \n",
       "mean                          1.0               0.999039  \n",
       "std                           0.0               0.000469  \n",
       "min                           1.0               0.995879  \n",
       "25%                           1.0               0.998844  \n",
       "50%                           1.0               0.999149  \n",
       "75%                           1.0               0.999355  \n",
       "max                           1.0               0.999804  "
      ]
     },
     "execution_count": 74,
     "metadata": {},
     "output_type": "execute_result"
    }
   ],
   "source": [
    "train_data.describe()"
   ]
  },
  {
   "cell_type": "code",
   "execution_count": 6,
   "metadata": {},
   "outputs": [],
   "source": [
    "from sklearn.model_selection import train_test_split\n",
    "train,test= train_test_split(train_data,test_size=0.2,random_state=0)"
   ]
  },
  {
   "cell_type": "code",
   "execution_count": 7,
   "metadata": {},
   "outputs": [],
   "source": [
    "MAX= train.max()\n",
    "MIN = train.min()"
   ]
  },
  {
   "cell_type": "code",
   "execution_count": 8,
   "metadata": {},
   "outputs": [],
   "source": [
    "train_s=(train-MIN)/(MAX-MIN)\n",
    "test_s=(test-MIN)/(MAX-MIN)"
   ]
  },
  {
   "cell_type": "code",
   "execution_count": 9,
   "metadata": {},
   "outputs": [],
   "source": [
    "train_s=train_s.fillna(0)\n",
    "test_s=test_s.fillna(0)"
   ]
  },
  {
   "cell_type": "code",
   "execution_count": 10,
   "metadata": {},
   "outputs": [],
   "source": [
    "#  generate X_train,Y_train,X_test,Y_test for all target features\n",
    "X_train=train_s.copy();Y_train=DataFrame()\n",
    "\n",
    "for c in train_s.columns:\n",
    "    if c.find(\"WanKe1\") !=-1 :\n",
    "        Y_train[c]=train_s[c]\n",
    "        X_train=X_train.drop(c,axis=1)\n",
    "\n",
    "        \n",
    "X_test=test_s.copy();Y_test=DataFrame()\n",
    "\n",
    "for c in test_s.columns:\n",
    "    if c.find(\"WanKe1\") !=-1 :\n",
    "        Y_test[c]=test_s[c]\n",
    "        X_test=X_test.drop(c,axis=1)"
   ]
  },
  {
   "cell_type": "code",
   "execution_count": 11,
   "metadata": {},
   "outputs": [
    {
     "name": "stderr",
     "output_type": "stream",
     "text": [
      "/home/techstar/anaconda3/lib/python3.6/site-packages/h5py/__init__.py:36: FutureWarning: Conversion of the second argument of issubdtype from `float` to `np.floating` is deprecated. In future, it will be treated as `np.float64 == np.dtype(float).type`.\n",
      "  from ._conv import register_converters as _register_converters\n",
      "Using TensorFlow backend.\n"
     ]
    }
   ],
   "source": [
    "###### network from keras for SHDKY data simulation ###########\n",
    "from keras.models import Sequential\n",
    "from keras.layers import Dense, Activation,Input\n",
    "import keras\n",
    "\n",
    "\n",
    "model = Sequential()\n",
    "\n",
    "model.add(Dense(13, input_dim=13,kernel_initializer=\"normal\"))\n",
    "model.add(Activation('relu'))\n",
    "model.add(Dense(7, activation='relu',kernel_initializer=\"normal\"))\n",
    "model.add(Dense(1, activation='linear',kernel_initializer=\"normal\"))"
   ]
  },
  {
   "cell_type": "code",
   "execution_count": 64,
   "metadata": {},
   "outputs": [],
   "source": [
    "model.compile(loss='mean_squared_error', \n",
    "              optimizer=keras.optimizers.SGD(lr=0.01))"
   ]
  },
  {
   "cell_type": "code",
   "execution_count": 66,
   "metadata": {},
   "outputs": [
    {
     "name": "stdout",
     "output_type": "stream",
     "text": [
      "Train on 2111 samples, validate on 528 samples\n",
      "Epoch 1/30\n",
      " - 0s - loss: 0.0098 - val_loss: 0.0124\n",
      "Epoch 2/30\n",
      " - 0s - loss: 0.0098 - val_loss: 0.0138\n",
      "Epoch 3/30\n",
      " - 0s - loss: 0.0099 - val_loss: 0.0124\n",
      "Epoch 4/30\n",
      " - 0s - loss: 0.0098 - val_loss: 0.0123\n",
      "Epoch 5/30\n",
      " - 0s - loss: 0.0098 - val_loss: 0.0131\n",
      "Epoch 6/30\n",
      " - 0s - loss: 0.0098 - val_loss: 0.0124\n",
      "Epoch 7/30\n",
      " - 0s - loss: 0.0098 - val_loss: 0.0125\n",
      "Epoch 8/30\n",
      " - 0s - loss: 0.0098 - val_loss: 0.0125\n",
      "Epoch 9/30\n",
      " - 0s - loss: 0.0098 - val_loss: 0.0124\n",
      "Epoch 10/30\n",
      " - 0s - loss: 0.0098 - val_loss: 0.0124\n",
      "Epoch 11/30\n",
      " - 0s - loss: 0.0099 - val_loss: 0.0124\n",
      "Epoch 12/30\n",
      " - 0s - loss: 0.0098 - val_loss: 0.0130\n",
      "Epoch 13/30\n",
      " - 0s - loss: 0.0099 - val_loss: 0.0124\n",
      "Epoch 14/30\n",
      " - 0s - loss: 0.0098 - val_loss: 0.0126\n",
      "Epoch 15/30\n",
      " - 0s - loss: 0.0098 - val_loss: 0.0124\n",
      "Epoch 16/30\n",
      " - 0s - loss: 0.0098 - val_loss: 0.0129\n",
      "Epoch 17/30\n",
      " - 0s - loss: 0.0099 - val_loss: 0.0129\n",
      "Epoch 18/30\n",
      " - 0s - loss: 0.0099 - val_loss: 0.0127\n",
      "Epoch 19/30\n",
      " - 0s - loss: 0.0098 - val_loss: 0.0123\n",
      "Epoch 20/30\n",
      " - 0s - loss: 0.0098 - val_loss: 0.0126\n",
      "Epoch 21/30\n",
      " - 0s - loss: 0.0098 - val_loss: 0.0124\n",
      "Epoch 22/30\n",
      " - 0s - loss: 0.0098 - val_loss: 0.0124\n",
      "Epoch 23/30\n",
      " - 0s - loss: 0.0098 - val_loss: 0.0123\n",
      "Epoch 24/30\n",
      " - 0s - loss: 0.0098 - val_loss: 0.0123\n",
      "Epoch 25/30\n",
      " - 0s - loss: 0.0099 - val_loss: 0.0123\n",
      "Epoch 26/30\n",
      " - 0s - loss: 0.0099 - val_loss: 0.0124\n",
      "Epoch 27/30\n",
      " - 0s - loss: 0.0098 - val_loss: 0.0125\n",
      "Epoch 28/30\n",
      " - 0s - loss: 0.0099 - val_loss: 0.0124\n",
      "Epoch 29/30\n",
      " - 0s - loss: 0.0098 - val_loss: 0.0127\n",
      "Epoch 30/30\n",
      " - 0s - loss: 0.0099 - val_loss: 0.0124\n"
     ]
    },
    {
     "data": {
      "text/plain": [
       "<keras.callbacks.History at 0x7f3d187b4a58>"
      ]
     },
     "execution_count": 66,
     "metadata": {},
     "output_type": "execute_result"
    }
   ],
   "source": [
    "model.fit(X_train, Y_train, epochs=30,batch_size=30,\n",
    "          shuffle=True,verbose=2,validation_split=0.2) "
   ]
  },
  {
   "cell_type": "code",
   "execution_count": 67,
   "metadata": {},
   "outputs": [],
   "source": [
    "#((model.predict(X_test)-Y_test)/Y_test)"
   ]
  },
  {
   "cell_type": "code",
   "execution_count": 77,
   "metadata": {},
   "outputs": [
    {
     "data": {
      "text/html": [
       "<div>\n",
       "<style scoped>\n",
       "    .dataframe tbody tr th:only-of-type {\n",
       "        vertical-align: middle;\n",
       "    }\n",
       "\n",
       "    .dataframe tbody tr th {\n",
       "        vertical-align: top;\n",
       "    }\n",
       "\n",
       "    .dataframe thead th {\n",
       "        text-align: right;\n",
       "    }\n",
       "</style>\n",
       "<table border=\"1\" class=\"dataframe\">\n",
       "  <thead>\n",
       "    <tr style=\"text-align: right;\">\n",
       "      <th></th>\n",
       "      <th>WanKe1 - Avg[功率因数 A]</th>\n",
       "    </tr>\n",
       "  </thead>\n",
       "  <tbody>\n",
       "    <tr>\n",
       "      <th>count</th>\n",
       "      <td>660.000000</td>\n",
       "    </tr>\n",
       "    <tr>\n",
       "      <th>mean</th>\n",
       "      <td>0.002686</td>\n",
       "    </tr>\n",
       "    <tr>\n",
       "      <th>std</th>\n",
       "      <td>0.106719</td>\n",
       "    </tr>\n",
       "    <tr>\n",
       "      <th>min</th>\n",
       "      <td>-0.268611</td>\n",
       "    </tr>\n",
       "    <tr>\n",
       "      <th>25%</th>\n",
       "      <td>-0.061901</td>\n",
       "    </tr>\n",
       "    <tr>\n",
       "      <th>50%</th>\n",
       "      <td>-0.005874</td>\n",
       "    </tr>\n",
       "    <tr>\n",
       "      <th>75%</th>\n",
       "      <td>0.056640</td>\n",
       "    </tr>\n",
       "    <tr>\n",
       "      <th>max</th>\n",
       "      <td>0.459673</td>\n",
       "    </tr>\n",
       "  </tbody>\n",
       "</table>\n",
       "</div>"
      ],
      "text/plain": [
       "        WanKe1 - Avg[功率因数 A]\n",
       "count             660.000000\n",
       "mean                0.002686\n",
       "std                 0.106719\n",
       "min                -0.268611\n",
       "25%                -0.061901\n",
       "50%                -0.005874\n",
       "75%                 0.056640\n",
       "max                 0.459673"
      ]
     },
     "execution_count": 77,
     "metadata": {},
     "output_type": "execute_result"
    }
   ],
   "source": [
    "((model.predict(X_test)-Y_test)).describe()"
   ]
  },
  {
   "cell_type": "code",
   "execution_count": 69,
   "metadata": {},
   "outputs": [],
   "source": [
    "c=Y_test.columns\n",
    "R= pd.DataFrame(model.predict(X_test),columns=['V_pred'])\n",
    "R.index = Y_test.index\n",
    "R= R.join(Y_test)\n",
    "#R=  R*((MAX[c]-MIN[c])+MIN[c]).values[0]\n",
    "R=  R*(MAX[c]-MIN[c]).values[0]+MIN[c].values[0]"
   ]
  },
  {
   "cell_type": "code",
   "execution_count": 70,
   "metadata": {},
   "outputs": [
    {
     "data": {
      "text/plain": [
       "<matplotlib.axes._subplots.AxesSubplot at 0x7f3d106fb278>"
      ]
     },
     "execution_count": 70,
     "metadata": {},
     "output_type": "execute_result"
    },
    {
     "data": {
      "image/png": "[encoded data removed]",
      "text/plain": [
       "<Figure size 864x288 with 1 Axes>"
      ]
     },
     "metadata": {},
     "output_type": "display_data"
    }
   ],
   "source": [
    "R_show=R.iloc[200:300,:]\n",
    "\n",
    "import pylab\n",
    "pylab.rcParams['figure.figsize'] = (12.0, 4.0)\n",
    "\n",
    "R_show.plot(alpha =0.5,figsize = (12,4))"
   ]
  },
  {
   "cell_type": "code",
   "execution_count": 71,
   "metadata": {},
   "outputs": [],
   "source": [
    "R[\"diff\"]=(R[\"V_pred\"]-R[c[0]])\n",
    "R[\"diff_ptg\"]=(R[\"V_pred\"]-R[c[0]])/R[c[0]]"
   ]
  },
  {
   "cell_type": "code",
   "execution_count": 72,
   "metadata": {},
   "outputs": [
    {
     "data": {
      "text/plain": [
       "(-0.0015228725690722567, 0.0017792305534030217)"
      ]
     },
     "execution_count": 72,
     "metadata": {},
     "output_type": "execute_result"
    }
   ],
   "source": [
    "(R.diff_ptg.quantile(0.05),R.diff_ptg.quantile(0.95))"
   ]
  },
  {
   "cell_type": "code",
   "execution_count": 73,
   "metadata": {},
   "outputs": [
    {
     "data": {
      "text/html": [
       "<div>\n",
       "<style scoped>\n",
       "    .dataframe tbody tr th:only-of-type {\n",
       "        vertical-align: middle;\n",
       "    }\n",
       "\n",
       "    .dataframe tbody tr th {\n",
       "        vertical-align: top;\n",
       "    }\n",
       "\n",
       "    .dataframe thead th {\n",
       "        text-align: right;\n",
       "    }\n",
       "</style>\n",
       "<table border=\"1\" class=\"dataframe\">\n",
       "  <thead>\n",
       "    <tr style=\"text-align: right;\">\n",
       "      <th></th>\n",
       "      <th>V_pred</th>\n",
       "      <th>WanKe1 - Avg[功率因数 A]</th>\n",
       "      <th>diff</th>\n",
       "      <th>diff_ptg</th>\n",
       "    </tr>\n",
       "  </thead>\n",
       "  <tbody>\n",
       "    <tr>\n",
       "      <th>count</th>\n",
       "      <td>660.000000</td>\n",
       "      <td>660.000000</td>\n",
       "      <td>660.000000</td>\n",
       "      <td>660.000000</td>\n",
       "    </tr>\n",
       "    <tr>\n",
       "      <th>mean</th>\n",
       "      <td>0.996116</td>\n",
       "      <td>0.996091</td>\n",
       "      <td>0.000025</td>\n",
       "      <td>0.000026</td>\n",
       "    </tr>\n",
       "    <tr>\n",
       "      <th>std</th>\n",
       "      <td>0.001409</td>\n",
       "      <td>0.001710</td>\n",
       "      <td>0.000985</td>\n",
       "      <td>0.000990</td>\n",
       "    </tr>\n",
       "    <tr>\n",
       "      <th>min</th>\n",
       "      <td>0.993926</td>\n",
       "      <td>0.990685</td>\n",
       "      <td>-0.002480</td>\n",
       "      <td>-0.002484</td>\n",
       "    </tr>\n",
       "    <tr>\n",
       "      <th>25%</th>\n",
       "      <td>0.994504</td>\n",
       "      <td>0.994876</td>\n",
       "      <td>-0.000572</td>\n",
       "      <td>-0.000573</td>\n",
       "    </tr>\n",
       "    <tr>\n",
       "      <th>50%</th>\n",
       "      <td>0.996515</td>\n",
       "      <td>0.996464</td>\n",
       "      <td>-0.000054</td>\n",
       "      <td>-0.000054</td>\n",
       "    </tr>\n",
       "    <tr>\n",
       "      <th>75%</th>\n",
       "      <td>0.997218</td>\n",
       "      <td>0.997464</td>\n",
       "      <td>0.000523</td>\n",
       "      <td>0.000526</td>\n",
       "    </tr>\n",
       "    <tr>\n",
       "      <th>max</th>\n",
       "      <td>0.999058</td>\n",
       "      <td>0.998937</td>\n",
       "      <td>0.004245</td>\n",
       "      <td>0.004276</td>\n",
       "    </tr>\n",
       "  </tbody>\n",
       "</table>\n",
       "</div>"
      ],
      "text/plain": [
       "           V_pred   WanKe1 - Avg[功率因数 A]        diff    diff_ptg\n",
       "count  660.000000             660.000000  660.000000  660.000000\n",
       "mean     0.996116               0.996091    0.000025    0.000026\n",
       "std      0.001409               0.001710    0.000985    0.000990\n",
       "min      0.993926               0.990685   -0.002480   -0.002484\n",
       "25%      0.994504               0.994876   -0.000572   -0.000573\n",
       "50%      0.996515               0.996464   -0.000054   -0.000054\n",
       "75%      0.997218               0.997464    0.000523    0.000526\n",
       "max      0.999058               0.998937    0.004245    0.004276"
      ]
     },
     "execution_count": 73,
     "metadata": {},
     "output_type": "execute_result"
    }
   ],
   "source": [
    "R.describe()"
   ]
  },
  {
   "cell_type": "code",
   "execution_count": 76,
   "metadata": {},
   "outputs": [
    {
     "data": {
      "text/html": [
       "<div>\n",
       "<style scoped>\n",
       "    .dataframe tbody tr th:only-of-type {\n",
       "        vertical-align: middle;\n",
       "    }\n",
       "\n",
       "    .dataframe tbody tr th {\n",
       "        vertical-align: top;\n",
       "    }\n",
       "\n",
       "    .dataframe thead th {\n",
       "        text-align: right;\n",
       "    }\n",
       "</style>\n",
       "<table border=\"1\" class=\"dataframe\">\n",
       "  <thead>\n",
       "    <tr style=\"text-align: right;\">\n",
       "      <th></th>\n",
       "      <th>V_pred</th>\n",
       "      <th>WanKe1 - Avg[功率因数 A]</th>\n",
       "      <th>diff</th>\n",
       "      <th>diff_ptg</th>\n",
       "    </tr>\n",
       "    <tr>\n",
       "      <th>时间</th>\n",
       "      <th></th>\n",
       "      <th></th>\n",
       "      <th></th>\n",
       "      <th></th>\n",
       "    </tr>\n",
       "  </thead>\n",
       "  <tbody>\n",
       "    <tr>\n",
       "      <th>2018-02-04 15:57:00</th>\n",
       "      <td>0.997703</td>\n",
       "      <td>0.994816</td>\n",
       "      <td>0.002888</td>\n",
       "      <td>0.002903</td>\n",
       "    </tr>\n",
       "    <tr>\n",
       "      <th>2018-02-04 16:36:00</th>\n",
       "      <td>0.996851</td>\n",
       "      <td>0.993950</td>\n",
       "      <td>0.002901</td>\n",
       "      <td>0.002918</td>\n",
       "    </tr>\n",
       "    <tr>\n",
       "      <th>2018-02-07 10:48:00</th>\n",
       "      <td>0.994253</td>\n",
       "      <td>0.991180</td>\n",
       "      <td>0.003073</td>\n",
       "      <td>0.003100</td>\n",
       "    </tr>\n",
       "    <tr>\n",
       "      <th>2018-02-05 15:15:00</th>\n",
       "      <td>0.993978</td>\n",
       "      <td>0.990685</td>\n",
       "      <td>0.003293</td>\n",
       "      <td>0.003324</td>\n",
       "    </tr>\n",
       "    <tr>\n",
       "      <th>2018-02-07 10:12:00</th>\n",
       "      <td>0.994798</td>\n",
       "      <td>0.991468</td>\n",
       "      <td>0.003330</td>\n",
       "      <td>0.003359</td>\n",
       "    </tr>\n",
       "    <tr>\n",
       "      <th>2018-02-07 09:36:00</th>\n",
       "      <td>0.996929</td>\n",
       "      <td>0.992684</td>\n",
       "      <td>0.004245</td>\n",
       "      <td>0.004276</td>\n",
       "    </tr>\n",
       "  </tbody>\n",
       "</table>\n",
       "</div>"
      ],
      "text/plain": [
       "                       V_pred   WanKe1 - Avg[功率因数 A]      diff  diff_ptg\n",
       "时间                                                                      \n",
       "2018-02-04 15:57:00  0.997703               0.994816  0.002888  0.002903\n",
       "2018-02-04 16:36:00  0.996851               0.993950  0.002901  0.002918\n",
       "2018-02-07 10:48:00  0.994253               0.991180  0.003073  0.003100\n",
       "2018-02-05 15:15:00  0.993978               0.990685  0.003293  0.003324\n",
       "2018-02-07 10:12:00  0.994798               0.991468  0.003330  0.003359\n",
       "2018-02-07 09:36:00  0.996929               0.992684  0.004245  0.004276"
      ]
     },
     "execution_count": 76,
     "metadata": {},
     "output_type": "execute_result"
    }
   ],
   "source": [
    "R.sort_values(\"diff_ptg\")[-6:]"
   ]
  },
  {
   "cell_type": "code",
   "execution_count": 75,
   "metadata": {},
   "outputs": [
    {
     "data": {
      "text/html": [
       "<div>\n",
       "<style scoped>\n",
       "    .dataframe tbody tr th:only-of-type {\n",
       "        vertical-align: middle;\n",
       "    }\n",
       "\n",
       "    .dataframe tbody tr th {\n",
       "        vertical-align: top;\n",
       "    }\n",
       "\n",
       "    .dataframe thead th {\n",
       "        text-align: right;\n",
       "    }\n",
       "</style>\n",
       "<table border=\"1\" class=\"dataframe\">\n",
       "  <thead>\n",
       "    <tr style=\"text-align: right;\">\n",
       "      <th></th>\n",
       "      <th>V_pred</th>\n",
       "      <th>WanKe1 - Avg[功率因数 A]</th>\n",
       "    </tr>\n",
       "    <tr>\n",
       "      <th>时间</th>\n",
       "      <th></th>\n",
       "      <th></th>\n",
       "    </tr>\n",
       "  </thead>\n",
       "  <tbody>\n",
       "    <tr>\n",
       "      <th>2018-02-07 09:36:00</th>\n",
       "      <td>0.996929</td>\n",
       "      <td>0.992684</td>\n",
       "    </tr>\n",
       "    <tr>\n",
       "      <th>2018-02-03 00:30:00</th>\n",
       "      <td>0.997498</td>\n",
       "      <td>0.997778</td>\n",
       "    </tr>\n",
       "    <tr>\n",
       "      <th>2018-02-06 01:51:00</th>\n",
       "      <td>0.996728</td>\n",
       "      <td>0.995744</td>\n",
       "    </tr>\n",
       "    <tr>\n",
       "      <th>2018-02-03 10:45:00</th>\n",
       "      <td>0.993960</td>\n",
       "      <td>0.992794</td>\n",
       "    </tr>\n",
       "    <tr>\n",
       "      <th>2018-02-02 00:18:00</th>\n",
       "      <td>0.997495</td>\n",
       "      <td>0.997157</td>\n",
       "    </tr>\n",
       "    <tr>\n",
       "      <th>2018-02-01 01:33:00</th>\n",
       "      <td>0.998113</td>\n",
       "      <td>0.997678</td>\n",
       "    </tr>\n",
       "  </tbody>\n",
       "</table>\n",
       "</div>"
      ],
      "text/plain": [
       "                       V_pred   WanKe1 - Avg[功率因数 A]\n",
       "时间                                                  \n",
       "2018-02-07 09:36:00  0.996929               0.992684\n",
       "2018-02-03 00:30:00  0.997498               0.997778\n",
       "2018-02-06 01:51:00  0.996728               0.995744\n",
       "2018-02-03 10:45:00  0.993960               0.992794\n",
       "2018-02-02 00:18:00  0.997495               0.997157\n",
       "2018-02-01 01:33:00  0.998113               0.997678"
      ]
     },
     "execution_count": 75,
     "metadata": {},
     "output_type": "execute_result"
    }
   ],
   "source": [
    "R_show[:6]"
   ]
  },
  {
   "cell_type": "code",
   "execution_count": 79,
   "metadata": {},
   "outputs": [
    {
     "data": {
      "text/html": [
       "<div>\n",
       "<style scoped>\n",
       "    .dataframe tbody tr th:only-of-type {\n",
       "        vertical-align: middle;\n",
       "    }\n",
       "\n",
       "    .dataframe tbody tr th {\n",
       "        vertical-align: top;\n",
       "    }\n",
       "\n",
       "    .dataframe thead th {\n",
       "        text-align: right;\n",
       "    }\n",
       "</style>\n",
       "<table border=\"1\" class=\"dataframe\">\n",
       "  <thead>\n",
       "    <tr style=\"text-align: right;\">\n",
       "      <th></th>\n",
       "      <th>V_pred</th>\n",
       "      <th>WanKe1 - Avg[功率因数 A]</th>\n",
       "      <th>diff</th>\n",
       "      <th>diff_ptg</th>\n",
       "    </tr>\n",
       "  </thead>\n",
       "  <tbody>\n",
       "    <tr>\n",
       "      <th>V_pred</th>\n",
       "      <td>1.000000</td>\n",
       "      <td>0.817258</td>\n",
       "      <td>0.012277</td>\n",
       "      <td>0.011802</td>\n",
       "    </tr>\n",
       "    <tr>\n",
       "      <th>WanKe1 - Avg[功率因数 A]</th>\n",
       "      <td>0.817258</td>\n",
       "      <td>1.000000</td>\n",
       "      <td>-0.566194</td>\n",
       "      <td>-0.566584</td>\n",
       "    </tr>\n",
       "    <tr>\n",
       "      <th>diff</th>\n",
       "      <td>0.012277</td>\n",
       "      <td>-0.566194</td>\n",
       "      <td>1.000000</td>\n",
       "      <td>0.999998</td>\n",
       "    </tr>\n",
       "    <tr>\n",
       "      <th>diff_ptg</th>\n",
       "      <td>0.011802</td>\n",
       "      <td>-0.566584</td>\n",
       "      <td>0.999998</td>\n",
       "      <td>1.000000</td>\n",
       "    </tr>\n",
       "  </tbody>\n",
       "</table>\n",
       "</div>"
      ],
      "text/plain": [
       "                         V_pred   WanKe1 - Avg[功率因数 A]      diff  diff_ptg\n",
       "V_pred                 1.000000               0.817258  0.012277  0.011802\n",
       " WanKe1 - Avg[功率因数 A]  0.817258               1.000000 -0.566194 -0.566584\n",
       "diff                   0.012277              -0.566194  1.000000  0.999998\n",
       "diff_ptg               0.011802              -0.566584  0.999998  1.000000"
      ]
     },
     "execution_count": 79,
     "metadata": {},
     "output_type": "execute_result"
    }
   ],
   "source": [
    "R.corr()"
   ]
  },
  {
   "cell_type": "code",
   "execution_count": 78,
   "metadata": {},
   "outputs": [
    {
     "data": {
      "text/plain": [
       " QinZhou3 - Avg[功率因数 A]      -0.545602\n",
       " JiangChuan1 - Avg[功率因数 A]   -0.339712\n",
       " Changliu3 - Avg[功率因数 A]     -0.284169\n",
       " Changliu2 - Avg[功率因数 A]     -0.262305\n",
       " WanKe2 - Avg[功率因数 A]        -0.071885\n",
       " KunYang3 - Avg[功率因数 A]       0.062324\n",
       " KunYang1 - Avg[功率因数 A]       0.129502\n",
       " JiangChuan3 - Avg[功率因数 A]    0.177761\n",
       " JiangChuan4 - Avg[功率因数 A]    0.408880\n",
       " QinZhou4 - Avg[功率因数 A]       0.457497\n",
       " JiangChuan5 - Avg[功率因数 A]    0.600756\n",
       " WanKe1 - Avg[功率因数 A]         1.000000\n",
       " Changliu1 - Avg[功率因数 A]           NaN\n",
       " JiangChuan2 - Avg[功率因数 A]         NaN\n",
       "Name:  WanKe1 - Avg[功率因数 A], dtype: float64"
      ]
     },
     "execution_count": 78,
     "metadata": {},
     "output_type": "execute_result"
    }
   ],
   "source": [
    "train_data.corr()[c[0]].sort_values()"
   ]
  },
  {
   "cell_type": "code",
   "execution_count": null,
   "metadata": {},
   "outputs": [],
   "source": []
  }
 ],
 "metadata": {
  "kernelspec": {
   "display_name": "Python 3",
   "language": "python",
   "name": "python3"
  },
  "language_info": {
   "codemirror_mode": {
    "name": "ipython",
    "version": 3
   },
   "file_extension": ".py",
   "mimetype": "text/x-python",
   "name": "python",
   "nbconvert_exporter": "python",
   "pygments_lexer": "ipython3",
   "version": "3.6.5"
  }
 },
 "nbformat": 4,
 "nbformat_minor": 2
}
