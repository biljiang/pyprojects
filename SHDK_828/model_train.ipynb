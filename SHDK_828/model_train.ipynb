{
 "cells": [
  {
   "cell_type": "code",
   "execution_count": 54,
   "metadata": {},
   "outputs": [],
   "source": [
    "import numpy as np\n",
    "import pandas as pd\n",
    "import pathlib as pl\n",
    "from datetime import datetime\n",
    "import matplotlib.pyplot as plot\n",
    "from pandas import DataFrame, Series"
   ]
  },
  {
   "cell_type": "code",
   "execution_count": 55,
   "metadata": {},
   "outputs": [],
   "source": [
    "train_data=pd.read_csv(\"train_data\",index_col=0)"
   ]
  },
  {
   "cell_type": "code",
   "execution_count": 56,
   "metadata": {},
   "outputs": [],
   "source": [
    "for c in train_data.columns:\n",
    "    if c.find(\"Changliu1\") !=-1 :\n",
    "        train_data=train_data.drop(c,axis=1)"
   ]
  },
  {
   "cell_type": "code",
   "execution_count": 57,
   "metadata": {},
   "outputs": [],
   "source": [
    "from sklearn.model_selection import train_test_split\n",
    "train,test= train_test_split(train_data,test_size=0.2,random_state=0)"
   ]
  },
  {
   "cell_type": "code",
   "execution_count": 58,
   "metadata": {},
   "outputs": [],
   "source": [
    "M= train.mean()\n",
    "Std = train.std()"
   ]
  },
  {
   "cell_type": "code",
   "execution_count": 59,
   "metadata": {},
   "outputs": [],
   "source": [
    "train_s=(train-M)/Std\n",
    "test_s=(test-M)/Std"
   ]
  },
  {
   "cell_type": "code",
   "execution_count": 60,
   "metadata": {},
   "outputs": [],
   "source": [
    "#  generate X_train,Y_train,X_test,Y_test for all target features\n",
    "X_train=train_s.copy();Y_train=DataFrame()\n",
    "\n",
    "for c in train_s.columns:\n",
    "    if c.find(\"WanKe1\") !=-1 :\n",
    "        Y_train[c]=train_s[c]\n",
    "        X_train=X_train.drop(c,axis=1)\n",
    "\n",
    "        \n",
    "X_test=test_s.copy();Y_test=DataFrame()\n",
    "\n",
    "for c in test_s.columns:\n",
    "    if c.find(\"WanKe1\") !=-1 :\n",
    "        Y_test[c]=test_s[c]\n",
    "        X_test=X_test.drop(c,axis=1)"
   ]
  },
  {
   "cell_type": "code",
   "execution_count": 61,
   "metadata": {},
   "outputs": [],
   "source": [
    "# generate X_Train,Y_train, X_test,Y_test for V (电压)\n",
    "X_V_train=DataFrame();X_V_test=DataFrame()\n",
    "\n",
    "for c in X_train.columns:\n",
    "    if c.find(\"V 有效值 AB\") !=-1 :\n",
    "        X_V_train[c]=X_train[c]\n",
    "        X_V_test[c]=X_test[c]\n",
    "\n",
    "        \n",
    "Y_V_train=DataFrame();Y_V_test=DataFrame()\n",
    "\n",
    "for c in Y_train.columns:\n",
    "    if c.find(\"V 有效值 AB\") !=-1 :\n",
    "        Y_V_train[c]=Y_train[c]\n",
    "        Y_V_test[c]=Y_test[c]"
   ]
  },
  {
   "cell_type": "code",
   "execution_count": 91,
   "metadata": {},
   "outputs": [
    {
     "data": {
      "text/plain": [
       "Index([' WanKe1 - Avg[V 有效值 AB] (V)', ' Changliu3 - Avg[V 有效值 AB] (V)',\n",
       "       ' HaiLu6 - Avg[V 有效值 AB] (V)', ' Changliu2 - Avg[V 有效值 AB] (V)',\n",
       "       ' HaiLu4 - Avg[V 有效值 AB] (V)', ' HaiLu3 - Avg[V 有效值 AB] (V)',\n",
       "       ' WanKe2 - Avg[V 有效值 AB] (V)', ' HaiLu1 - Avg[V 有效值 AB] (V)',\n",
       "       ' HaiLu2 - Avg[V 有效值 AB] (V)'],\n",
       "      dtype='object')"
      ]
     },
     "execution_count": 91,
     "metadata": {},
     "output_type": "execute_result"
    }
   ],
   "source": [
    "Y_V_train.join(X_V_train).columns"
   ]
  },
  {
   "cell_type": "code",
   "execution_count": 90,
   "metadata": {},
   "outputs": [
    {
     "data": {
      "image/png": "[encoded data removed]",
      "text/plain": [
       "<Figure size 432x288 with 1 Axes>"
      ]
     },
     "metadata": {},
     "output_type": "display_data"
    }
   ],
   "source": [
    "corMat=Y_V_train.join(X_V_train).corr()\n",
    "plot.pcolor(corMat)\n",
    "plot.show()"
   ]
  },
  {
   "cell_type": "code",
   "execution_count": 87,
   "metadata": {},
   "outputs": [
    {
     "data": {
      "text/html": [
       "<div>\n",
       "<style scoped>\n",
       "    .dataframe tbody tr th:only-of-type {\n",
       "        vertical-align: middle;\n",
       "    }\n",
       "\n",
       "    .dataframe tbody tr th {\n",
       "        vertical-align: top;\n",
       "    }\n",
       "\n",
       "    .dataframe thead th {\n",
       "        text-align: right;\n",
       "    }\n",
       "</style>\n",
       "<table border=\"1\" class=\"dataframe\">\n",
       "  <thead>\n",
       "    <tr style=\"text-align: right;\">\n",
       "      <th></th>\n",
       "      <th>WanKe1 - Avg[V 有效值 AB] (V)</th>\n",
       "      <th>Changliu3 - Avg[V 有效值 AB] (V)</th>\n",
       "      <th>HaiLu6 - Avg[V 有效值 AB] (V)</th>\n",
       "      <th>Changliu2 - Avg[V 有效值 AB] (V)</th>\n",
       "      <th>HaiLu4 - Avg[V 有效值 AB] (V)</th>\n",
       "      <th>HaiLu3 - Avg[V 有效值 AB] (V)</th>\n",
       "      <th>WanKe2 - Avg[V 有效值 AB] (V)</th>\n",
       "      <th>HaiLu1 - Avg[V 有效值 AB] (V)</th>\n",
       "      <th>HaiLu2 - Avg[V 有效值 AB] (V)</th>\n",
       "    </tr>\n",
       "  </thead>\n",
       "  <tbody>\n",
       "    <tr>\n",
       "      <th>WanKe1 - Avg[V 有效值 AB] (V)</th>\n",
       "      <td>1.000000</td>\n",
       "      <td>0.442460</td>\n",
       "      <td>0.077489</td>\n",
       "      <td>0.481576</td>\n",
       "      <td>0.190337</td>\n",
       "      <td>0.190528</td>\n",
       "      <td>0.341667</td>\n",
       "      <td>0.287081</td>\n",
       "      <td>0.077446</td>\n",
       "    </tr>\n",
       "    <tr>\n",
       "      <th>Changliu3 - Avg[V 有效值 AB] (V)</th>\n",
       "      <td>0.442460</td>\n",
       "      <td>1.000000</td>\n",
       "      <td>0.095313</td>\n",
       "      <td>0.802549</td>\n",
       "      <td>0.086275</td>\n",
       "      <td>0.085986</td>\n",
       "      <td>0.461219</td>\n",
       "      <td>0.306590</td>\n",
       "      <td>0.095192</td>\n",
       "    </tr>\n",
       "    <tr>\n",
       "      <th>HaiLu6 - Avg[V 有效值 AB] (V)</th>\n",
       "      <td>0.077489</td>\n",
       "      <td>0.095313</td>\n",
       "      <td>1.000000</td>\n",
       "      <td>0.016263</td>\n",
       "      <td>0.758975</td>\n",
       "      <td>0.758601</td>\n",
       "      <td>0.074894</td>\n",
       "      <td>0.492953</td>\n",
       "      <td>0.999991</td>\n",
       "    </tr>\n",
       "    <tr>\n",
       "      <th>Changliu2 - Avg[V 有效值 AB] (V)</th>\n",
       "      <td>0.481576</td>\n",
       "      <td>0.802549</td>\n",
       "      <td>0.016263</td>\n",
       "      <td>1.000000</td>\n",
       "      <td>0.103955</td>\n",
       "      <td>0.103742</td>\n",
       "      <td>0.368319</td>\n",
       "      <td>0.291768</td>\n",
       "      <td>0.016631</td>\n",
       "    </tr>\n",
       "    <tr>\n",
       "      <th>HaiLu4 - Avg[V 有效值 AB] (V)</th>\n",
       "      <td>0.190337</td>\n",
       "      <td>0.086275</td>\n",
       "      <td>0.758975</td>\n",
       "      <td>0.103955</td>\n",
       "      <td>1.000000</td>\n",
       "      <td>0.999986</td>\n",
       "      <td>0.099540</td>\n",
       "      <td>0.567103</td>\n",
       "      <td>0.759027</td>\n",
       "    </tr>\n",
       "    <tr>\n",
       "      <th>HaiLu3 - Avg[V 有效值 AB] (V)</th>\n",
       "      <td>0.190528</td>\n",
       "      <td>0.085986</td>\n",
       "      <td>0.758601</td>\n",
       "      <td>0.103742</td>\n",
       "      <td>0.999986</td>\n",
       "      <td>1.000000</td>\n",
       "      <td>0.099307</td>\n",
       "      <td>0.566808</td>\n",
       "      <td>0.758654</td>\n",
       "    </tr>\n",
       "    <tr>\n",
       "      <th>WanKe2 - Avg[V 有效值 AB] (V)</th>\n",
       "      <td>0.341667</td>\n",
       "      <td>0.461219</td>\n",
       "      <td>0.074894</td>\n",
       "      <td>0.368319</td>\n",
       "      <td>0.099540</td>\n",
       "      <td>0.099307</td>\n",
       "      <td>1.000000</td>\n",
       "      <td>0.274643</td>\n",
       "      <td>0.074879</td>\n",
       "    </tr>\n",
       "    <tr>\n",
       "      <th>HaiLu1 - Avg[V 有效值 AB] (V)</th>\n",
       "      <td>0.287081</td>\n",
       "      <td>0.306590</td>\n",
       "      <td>0.492953</td>\n",
       "      <td>0.291768</td>\n",
       "      <td>0.567103</td>\n",
       "      <td>0.566808</td>\n",
       "      <td>0.274643</td>\n",
       "      <td>1.000000</td>\n",
       "      <td>0.493076</td>\n",
       "    </tr>\n",
       "    <tr>\n",
       "      <th>HaiLu2 - Avg[V 有效值 AB] (V)</th>\n",
       "      <td>0.077446</td>\n",
       "      <td>0.095192</td>\n",
       "      <td>0.999991</td>\n",
       "      <td>0.016631</td>\n",
       "      <td>0.759027</td>\n",
       "      <td>0.758654</td>\n",
       "      <td>0.074879</td>\n",
       "      <td>0.493076</td>\n",
       "      <td>1.000000</td>\n",
       "    </tr>\n",
       "  </tbody>\n",
       "</table>\n",
       "</div>"
      ],
      "text/plain": [
       "                                 WanKe1 - Avg[V 有效值 AB] (V)  \\\n",
       " WanKe1 - Avg[V 有效值 AB] (V)                        1.000000   \n",
       " Changliu3 - Avg[V 有效值 AB] (V)                     0.442460   \n",
       " HaiLu6 - Avg[V 有效值 AB] (V)                        0.077489   \n",
       " Changliu2 - Avg[V 有效值 AB] (V)                     0.481576   \n",
       " HaiLu4 - Avg[V 有效值 AB] (V)                        0.190337   \n",
       " HaiLu3 - Avg[V 有效值 AB] (V)                        0.190528   \n",
       " WanKe2 - Avg[V 有效值 AB] (V)                        0.341667   \n",
       " HaiLu1 - Avg[V 有效值 AB] (V)                        0.287081   \n",
       " HaiLu2 - Avg[V 有效值 AB] (V)                        0.077446   \n",
       "\n",
       "                                 Changliu3 - Avg[V 有效值 AB] (V)  \\\n",
       " WanKe1 - Avg[V 有效值 AB] (V)                           0.442460   \n",
       " Changliu3 - Avg[V 有效值 AB] (V)                        1.000000   \n",
       " HaiLu6 - Avg[V 有效值 AB] (V)                           0.095313   \n",
       " Changliu2 - Avg[V 有效值 AB] (V)                        0.802549   \n",
       " HaiLu4 - Avg[V 有效值 AB] (V)                           0.086275   \n",
       " HaiLu3 - Avg[V 有效值 AB] (V)                           0.085986   \n",
       " WanKe2 - Avg[V 有效值 AB] (V)                           0.461219   \n",
       " HaiLu1 - Avg[V 有效值 AB] (V)                           0.306590   \n",
       " HaiLu2 - Avg[V 有效值 AB] (V)                           0.095192   \n",
       "\n",
       "                                 HaiLu6 - Avg[V 有效值 AB] (V)  \\\n",
       " WanKe1 - Avg[V 有效值 AB] (V)                        0.077489   \n",
       " Changliu3 - Avg[V 有效值 AB] (V)                     0.095313   \n",
       " HaiLu6 - Avg[V 有效值 AB] (V)                        1.000000   \n",
       " Changliu2 - Avg[V 有效值 AB] (V)                     0.016263   \n",
       " HaiLu4 - Avg[V 有效值 AB] (V)                        0.758975   \n",
       " HaiLu3 - Avg[V 有效值 AB] (V)                        0.758601   \n",
       " WanKe2 - Avg[V 有效值 AB] (V)                        0.074894   \n",
       " HaiLu1 - Avg[V 有效值 AB] (V)                        0.492953   \n",
       " HaiLu2 - Avg[V 有效值 AB] (V)                        0.999991   \n",
       "\n",
       "                                 Changliu2 - Avg[V 有效值 AB] (V)  \\\n",
       " WanKe1 - Avg[V 有效值 AB] (V)                           0.481576   \n",
       " Changliu3 - Avg[V 有效值 AB] (V)                        0.802549   \n",
       " HaiLu6 - Avg[V 有效值 AB] (V)                           0.016263   \n",
       " Changliu2 - Avg[V 有效值 AB] (V)                        1.000000   \n",
       " HaiLu4 - Avg[V 有效值 AB] (V)                           0.103955   \n",
       " HaiLu3 - Avg[V 有效值 AB] (V)                           0.103742   \n",
       " WanKe2 - Avg[V 有效值 AB] (V)                           0.368319   \n",
       " HaiLu1 - Avg[V 有效值 AB] (V)                           0.291768   \n",
       " HaiLu2 - Avg[V 有效值 AB] (V)                           0.016631   \n",
       "\n",
       "                                 HaiLu4 - Avg[V 有效值 AB] (V)  \\\n",
       " WanKe1 - Avg[V 有效值 AB] (V)                        0.190337   \n",
       " Changliu3 - Avg[V 有效值 AB] (V)                     0.086275   \n",
       " HaiLu6 - Avg[V 有效值 AB] (V)                        0.758975   \n",
       " Changliu2 - Avg[V 有效值 AB] (V)                     0.103955   \n",
       " HaiLu4 - Avg[V 有效值 AB] (V)                        1.000000   \n",
       " HaiLu3 - Avg[V 有效值 AB] (V)                        0.999986   \n",
       " WanKe2 - Avg[V 有效值 AB] (V)                        0.099540   \n",
       " HaiLu1 - Avg[V 有效值 AB] (V)                        0.567103   \n",
       " HaiLu2 - Avg[V 有效值 AB] (V)                        0.759027   \n",
       "\n",
       "                                 HaiLu3 - Avg[V 有效值 AB] (V)  \\\n",
       " WanKe1 - Avg[V 有效值 AB] (V)                        0.190528   \n",
       " Changliu3 - Avg[V 有效值 AB] (V)                     0.085986   \n",
       " HaiLu6 - Avg[V 有效值 AB] (V)                        0.758601   \n",
       " Changliu2 - Avg[V 有效值 AB] (V)                     0.103742   \n",
       " HaiLu4 - Avg[V 有效值 AB] (V)                        0.999986   \n",
       " HaiLu3 - Avg[V 有效值 AB] (V)                        1.000000   \n",
       " WanKe2 - Avg[V 有效值 AB] (V)                        0.099307   \n",
       " HaiLu1 - Avg[V 有效值 AB] (V)                        0.566808   \n",
       " HaiLu2 - Avg[V 有效值 AB] (V)                        0.758654   \n",
       "\n",
       "                                 WanKe2 - Avg[V 有效值 AB] (V)  \\\n",
       " WanKe1 - Avg[V 有效值 AB] (V)                        0.341667   \n",
       " Changliu3 - Avg[V 有效值 AB] (V)                     0.461219   \n",
       " HaiLu6 - Avg[V 有效值 AB] (V)                        0.074894   \n",
       " Changliu2 - Avg[V 有效值 AB] (V)                     0.368319   \n",
       " HaiLu4 - Avg[V 有效值 AB] (V)                        0.099540   \n",
       " HaiLu3 - Avg[V 有效值 AB] (V)                        0.099307   \n",
       " WanKe2 - Avg[V 有效值 AB] (V)                        1.000000   \n",
       " HaiLu1 - Avg[V 有效值 AB] (V)                        0.274643   \n",
       " HaiLu2 - Avg[V 有效值 AB] (V)                        0.074879   \n",
       "\n",
       "                                 HaiLu1 - Avg[V 有效值 AB] (V)  \\\n",
       " WanKe1 - Avg[V 有效值 AB] (V)                        0.287081   \n",
       " Changliu3 - Avg[V 有效值 AB] (V)                     0.306590   \n",
       " HaiLu6 - Avg[V 有效值 AB] (V)                        0.492953   \n",
       " Changliu2 - Avg[V 有效值 AB] (V)                     0.291768   \n",
       " HaiLu4 - Avg[V 有效值 AB] (V)                        0.567103   \n",
       " HaiLu3 - Avg[V 有效值 AB] (V)                        0.566808   \n",
       " WanKe2 - Avg[V 有效值 AB] (V)                        0.274643   \n",
       " HaiLu1 - Avg[V 有效值 AB] (V)                        1.000000   \n",
       " HaiLu2 - Avg[V 有效值 AB] (V)                        0.493076   \n",
       "\n",
       "                                 HaiLu2 - Avg[V 有效值 AB] (V)  \n",
       " WanKe1 - Avg[V 有效值 AB] (V)                        0.077446  \n",
       " Changliu3 - Avg[V 有效值 AB] (V)                     0.095192  \n",
       " HaiLu6 - Avg[V 有效值 AB] (V)                        0.999991  \n",
       " Changliu2 - Avg[V 有效值 AB] (V)                     0.016631  \n",
       " HaiLu4 - Avg[V 有效值 AB] (V)                        0.759027  \n",
       " HaiLu3 - Avg[V 有效值 AB] (V)                        0.758654  \n",
       " WanKe2 - Avg[V 有效值 AB] (V)                        0.074879  \n",
       " HaiLu1 - Avg[V 有效值 AB] (V)                        0.493076  \n",
       " HaiLu2 - Avg[V 有效值 AB] (V)                        1.000000  "
      ]
     },
     "execution_count": 87,
     "metadata": {},
     "output_type": "execute_result"
    }
   ],
   "source": [
    "Y_V_train.join(X_V_train).corr()"
   ]
  },
  {
   "cell_type": "code",
   "execution_count": 66,
   "metadata": {},
   "outputs": [
    {
     "name": "stderr",
     "output_type": "stream",
     "text": [
      "/home/techstar/anaconda3/lib/python3.6/site-packages/ipykernel_launcher.py:9: UserWarning: Update your `Dense` call to the Keras 2 API: `Dense(8, input_dim=8, kernel_initializer=\"normal\")`\n",
      "  if __name__ == '__main__':\n",
      "/home/techstar/anaconda3/lib/python3.6/site-packages/ipykernel_launcher.py:11: UserWarning: Update your `Dense` call to the Keras 2 API: `Dense(4, activation=\"tanh\", kernel_initializer=\"normal\")`\n",
      "  # This is added back by InteractiveShellApp.init_path()\n",
      "/home/techstar/anaconda3/lib/python3.6/site-packages/ipykernel_launcher.py:12: UserWarning: Update your `Dense` call to the Keras 2 API: `Dense(1, activation=\"linear\", kernel_initializer=\"normal\")`\n",
      "  if sys.path[0] == '':\n"
     ]
    }
   ],
   "source": [
    "###### network from keras for SHDKY data simulation ###########\n",
    "from keras.models import Sequential\n",
    "from keras.layers import Dense, Activation,Input\n",
    "import keras\n",
    "\n",
    "\n",
    "model = Sequential()\n",
    "\n",
    "model.add(Dense(8, input_dim=8,init=\"normal\"))\n",
    "model.add(Activation('tanh'))\n",
    "model.add(Dense(4, activation='tanh',init=\"normal\"))\n",
    "model.add(Dense(1, activation='linear',init=\"normal\"))\n",
    "\n",
    " \n"
   ]
  },
  {
   "cell_type": "code",
   "execution_count": 72,
   "metadata": {},
   "outputs": [],
   "source": [
    "model.compile(loss='mean_squared_error', \n",
    "              optimizer=keras.optimizers.SGD(lr=0.1))"
   ]
  },
  {
   "cell_type": "code",
   "execution_count": 80,
   "metadata": {},
   "outputs": [
    {
     "name": "stdout",
     "output_type": "stream",
     "text": [
      "Train on 3604 samples, validate on 901 samples\n",
      "Epoch 1/30\n",
      " - 0s - loss: 0.5744 - val_loss: 0.6867\n",
      "Epoch 2/30\n",
      " - 0s - loss: 0.5754 - val_loss: 0.6349\n",
      "Epoch 3/30\n",
      " - 0s - loss: 0.5774 - val_loss: 0.6368\n",
      "Epoch 4/30\n",
      " - 0s - loss: 0.5778 - val_loss: 0.6703\n",
      "Epoch 5/30\n",
      " - 0s - loss: 0.5746 - val_loss: 0.6263\n",
      "Epoch 6/30\n",
      " - 0s - loss: 0.5794 - val_loss: 0.6496\n",
      "Epoch 7/30\n",
      " - 0s - loss: 0.5749 - val_loss: 0.8442\n",
      "Epoch 8/30\n",
      " - 0s - loss: 0.5730 - val_loss: 0.6240\n",
      "Epoch 9/30\n",
      " - 0s - loss: 0.5791 - val_loss: 0.6230\n",
      "Epoch 10/30\n",
      " - 0s - loss: 0.5727 - val_loss: 0.6210\n",
      "Epoch 11/30\n",
      " - 0s - loss: 0.5757 - val_loss: 0.7065\n",
      "Epoch 12/30\n",
      " - 0s - loss: 0.5771 - val_loss: 0.7336\n",
      "Epoch 13/30\n",
      " - 0s - loss: 0.5792 - val_loss: 0.6409\n",
      "Epoch 14/30\n",
      " - 0s - loss: 0.5768 - val_loss: 0.7213\n",
      "Epoch 15/30\n",
      " - 0s - loss: 0.5799 - val_loss: 0.6383\n",
      "Epoch 16/30\n",
      " - 0s - loss: 0.5747 - val_loss: 0.6290\n",
      "Epoch 17/30\n",
      " - 0s - loss: 0.5803 - val_loss: 0.5944\n",
      "Epoch 18/30\n",
      " - 0s - loss: 0.5726 - val_loss: 0.6304\n",
      "Epoch 19/30\n",
      " - 0s - loss: 0.5755 - val_loss: 0.6733\n",
      "Epoch 20/30\n",
      " - 0s - loss: 0.5800 - val_loss: 0.8116\n",
      "Epoch 21/30\n",
      " - 0s - loss: 0.5782 - val_loss: 0.7001\n",
      "Epoch 22/30\n",
      " - 0s - loss: 0.5728 - val_loss: 0.7021\n",
      "Epoch 23/30\n",
      " - 0s - loss: 0.5725 - val_loss: 0.6122\n",
      "Epoch 24/30\n",
      " - 0s - loss: 0.5770 - val_loss: 0.6368\n",
      "Epoch 25/30\n",
      " - 0s - loss: 0.5707 - val_loss: 0.6626\n",
      "Epoch 26/30\n",
      " - 0s - loss: 0.5779 - val_loss: 0.5916\n",
      "Epoch 27/30\n",
      " - 0s - loss: 0.5801 - val_loss: 0.6030\n",
      "Epoch 28/30\n",
      " - 0s - loss: 0.5740 - val_loss: 0.6846\n",
      "Epoch 29/30\n",
      " - 0s - loss: 0.5786 - val_loss: 0.6434\n",
      "Epoch 30/30\n",
      " - 0s - loss: 0.5766 - val_loss: 0.6828\n"
     ]
    },
    {
     "data": {
      "text/plain": [
       "<keras.callbacks.History at 0x7f1dff6c3048>"
      ]
     },
     "execution_count": 80,
     "metadata": {},
     "output_type": "execute_result"
    }
   ],
   "source": [
    "model.fit(X_V_train, Y_V_train, epochs=30,batch_size=10,\n",
    "          shuffle=True,verbose=2,validation_split=0.2)  "
   ]
  },
  {
   "cell_type": "code",
   "execution_count": 79,
   "metadata": {},
   "outputs": [],
   "source": [
    "model.save('DKY_model.h5')"
   ]
  },
  {
   "cell_type": "code",
   "execution_count": 91,
   "metadata": {},
   "outputs": [
    {
     "data": {
      "text/plain": [
       "array([[-0.49494356,  1.1170049 , -0.97719705, -0.12205136, -0.16045463,\n",
       "        -0.7424904 ,  0.83261055,  0.22483322, -0.7435924 , -0.24469027,\n",
       "        -0.7064649 ],\n",
       "       [-1.0067978 , -1.8673248 , -0.17362826, -1.5255585 ,  1.133533  ,\n",
       "         1.3855218 , -1.0005417 ,  0.18668044,  1.4077426 ,  1.6005887 ,\n",
       "         1.4167452 ],\n",
       "       [-0.6497011 ,  0.19420743, -0.60350037, -0.429364  , -1.1857891 ,\n",
       "         0.5402818 , -0.9286323 ,  1.8343341 ,  0.60492027,  3.1751049 ,\n",
       "         0.5381354 ],\n",
       "       [-0.39426726, -0.30574906, -0.34341267, -0.550851  ,  0.80078113,\n",
       "        -0.41850218,  0.2366662 ,  0.1787472 , -0.41768274,  0.01919517,\n",
       "        -0.4616772 ],\n",
       "       [ 1.857753  ,  0.9037559 ,  1.5062586 ,  2.1039927 ,  1.759483  ,\n",
       "         1.5938673 ,  0.21926588, -0.549211  ,  1.5782735 ,  0.35443863,\n",
       "         1.7666526 ],\n",
       "       [-0.95232385,  0.8839773 , -1.2952105 , -0.5931699 ,  0.6493107 ,\n",
       "         1.5827546 , -1.0436041 , -0.21463059,  1.5616275 ,  1.0191056 ,\n",
       "         1.4680831 ],\n",
       "       [ 1.9356974 ,  1.4874249 ,  1.082351  ,  2.131827  , -0.7721414 ,\n",
       "        -0.6114876 , -0.30993193,  1.4672306 , -0.653672  ,  0.86328053,\n",
       "        -0.43299067],\n",
       "       [-0.43239778, -0.7079979 , -0.45110452, -0.9440135 ,  1.0465086 ,\n",
       "        -0.25479046,  0.10123193,  1.2156916 , -0.3233678 ,  1.0933663 ,\n",
       "        -0.08994853],\n",
       "       [-1.3545965 ,  0.08075131, -1.341216  , -1.2144423 ,  0.17014885,\n",
       "        -1.3011789 ,  4.3305235 ,  3.2892418 , -1.3543266 ,  0.7856488 ,\n",
       "        -1.1130265 ],\n",
       "       [ 1.4360564 ,  1.299317  ,  0.4892249 ,  1.421948  ,  0.76235014,\n",
       "        -0.56437624,  0.23545414,  0.9968859 , -0.60009336,  0.52563214,\n",
       "        -0.55929804]], dtype=float32)"
      ]
     },
     "execution_count": 91,
     "metadata": {},
     "output_type": "execute_result"
    }
   ],
   "source": [
    "model.predict(X_test)[:10]"
   ]
  },
  {
   "cell_type": "code",
   "execution_count": 92,
   "metadata": {},
   "outputs": [
    {
     "data": {
      "text/plain": [
       " WanKe1 - Avg[V 有效值 AB] (V)         0.022571\n",
       " WanKe1 - Avg[V 负序不平衡 Total] (%)   -0.001249\n",
       " WanKe1 - Avg[V SPOS All] (V)       0.000669\n",
       " WanKe1 - Avg[V SNEG All] (V)      -0.001143\n",
       " WanKe1 - Avg[V SZERO All] (V)      0.003791\n",
       " WanKe1 - Avg[I 有效值 A] (A)         -0.021357\n",
       " WanKe1 - Avg[I 总谐波畸变率 A] (%)      -1.203894\n",
       " WanKe1 - Avg[I 负序不平衡 Total] (%)    0.116459\n",
       " WanKe1 - Avg[I SPOS All] (A)      -0.022345\n",
       " WanKe1 - Avg[I SNEG All] (A)      -0.030446\n",
       " WanKe1 - Avg[I ZERO All] (A)      -0.000088\n",
       "dtype: float64"
      ]
     },
     "execution_count": 92,
     "metadata": {},
     "output_type": "execute_result"
    }
   ],
   "source": [
    "((model.predict(X_test)-Y_test)/Y_test).mean()"
   ]
  },
  {
   "cell_type": "code",
   "execution_count": 94,
   "metadata": {},
   "outputs": [],
   "source": [
    "Y_true=Y_test*Std+M "
   ]
  },
  {
   "cell_type": "code",
   "execution_count": 97,
   "metadata": {},
   "outputs": [
    {
     "data": {
      "text/plain": [
       "(1127, 11)"
      ]
     },
     "execution_count": 97,
     "metadata": {},
     "output_type": "execute_result"
    }
   ],
   "source": [
    "model.predict(X_test).shape"
   ]
  },
  {
   "cell_type": "code",
   "execution_count": 98,
   "metadata": {},
   "outputs": [
    {
     "data": {
      "text/plain": [
       "99"
      ]
     },
     "execution_count": 98,
     "metadata": {},
     "output_type": "execute_result"
    }
   ],
   "source": [
    "len(Std)"
   ]
  },
  {
   "cell_type": "code",
   "execution_count": 99,
   "metadata": {},
   "outputs": [
    {
     "data": {
      "text/plain": [
       "99"
      ]
     },
     "execution_count": 99,
     "metadata": {},
     "output_type": "execute_result"
    }
   ],
   "source": [
    "len(M)"
   ]
  },
  {
   "cell_type": "code",
   "execution_count": null,
   "metadata": {},
   "outputs": [],
   "source": []
  }
 ],
 "metadata": {
  "kernelspec": {
   "display_name": "Python 3",
   "language": "python",
   "name": "python3"
  },
  "language_info": {
   "codemirror_mode": {
    "name": "ipython",
    "version": 3
   },
   "file_extension": ".py",
   "mimetype": "text/x-python",
   "name": "python",
   "nbconvert_exporter": "python",
   "pygments_lexer": "ipython3",
   "version": "3.6.5"
  }
 },
 "nbformat": 4,
 "nbformat_minor": 2
}
