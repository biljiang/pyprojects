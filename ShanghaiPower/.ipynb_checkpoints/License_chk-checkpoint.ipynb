{
 "cells": [
  {
   "cell_type": "code",
   "execution_count": 1,
   "metadata": {},
   "outputs": [],
   "source": [
    "import json\n",
    "import rsa\n",
    "from binascii import b2a_hex, a2b_hex\n",
    "from Crypto.Cipher import AES"
   ]
  },
  {
   "cell_type": "code",
   "execution_count": 2,
   "metadata": {},
   "outputs": [],
   "source": [
    "class rsacrypt():\n",
    "    def __init__(self, pubkey, prikey):\n",
    "        self.pubkey = pubkey\n",
    "        self.prikey = prikey\n",
    "\n",
    "    def encrypt(self, text):\n",
    "        self.ciphertext = rsa.encrypt(text.encode(), self.pubkey)\n",
    "        # 因为rsa加密时候得到的字符串不一定是ascii字符集的，输出到终端或者保存时候可能存在问题\n",
    "        # 所以这里统一把加密后的字符串转化为16进制字符串\n",
    "        return b2a_hex(self.ciphertext)\n",
    "\n",
    "    def decrypt(self, text):\n",
    "        decrypt_text = rsa.decrypt(a2b_hex(text), self.prikey)\n",
    "        return decrypt_text\n",
    "    "
   ]
  },
  {
   "cell_type": "code",
   "execution_count": 3,
   "metadata": {},
   "outputs": [],
   "source": [
    "class rsadecrypt():\n",
    "    def __init__(self, prikey):\n",
    "        self.prikey = prikey\n",
    "\n",
    "    def decrypt(self, text):\n",
    "        # 因为rsa加密时候得到的字符串不一定是ascii字符集的，输出到终端或者保存时候可能存在问题\n",
    "        # 所以这里统一把加密后的字符串转化为16进制字符串        \n",
    "        decrypt_text = rsa.decrypt(a2b_hex(text), self.prikey)\n",
    "        return decrypt_text"
   ]
  },
  {
   "cell_type": "code",
   "execution_count": 4,
   "metadata": {},
   "outputs": [],
   "source": [
    "with open('public.pem','r') as f:\n",
    "    pubkey = rsa.PublicKey.load_pkcs1(f.read().encode())\n",
    "\n",
    "with open('private.pem','r') as f:\n",
    "    prikey = rsa.PrivateKey.load_pkcs1(f.read().encode())  "
   ]
  },
  {
   "cell_type": "code",
   "execution_count": 5,
   "metadata": {},
   "outputs": [],
   "source": [
    "lic = {'Company':'Shanghai Power',\n",
    "       'Producer':'AVARUN.COM',\n",
    "       'License Number':'avarun201800001',\n",
    "       'Agreement file':'Attached',\n",
    "       'Expiration':'2018-12-31'\n",
    "       }\n",
    "    \n",
    "lic_json_str = json.dumps(lic)"
   ]
  },
  {
   "cell_type": "code",
   "execution_count": 18,
   "metadata": {},
   "outputs": [],
   "source": [
    "rs_en_obj = rsacrypt(pubkey,prikey)\n",
    "ency_text = rs_en_obj.encrypt(lic_json_str)"
   ]
  },
  {
   "cell_type": "code",
   "execution_count": 19,
   "metadata": {},
   "outputs": [
    {
     "name": "stdout",
     "output_type": "stream",
     "text": [
      "2e25d9bbbe0654cdf34084e7d62135e9ea5ce19b4e6fee22ec4d61d7dd91da05eb980f2dea396babc9b54f0f99fd1789aaf57632a77f1ff74b952da8ae420c54c7c6a97ebe3a28092074f4951a02993d08a3ceec4be2c206d68171f37c054315a03a974f0191b200aff9dbde6d40ccf884bdac412b1d832d07831f86ca2ddb21c06f2831923224dc2abdafb927001a1866a064211d85a4fb550fd7f123cb00592cb16f0b8569e34edb08f9300e48c19a42c50f0c4149b1adf696860688beb89674855ac9c1d6005f6d42271e591f25db7edcdf30547a7b813989925a2c94d6125caaa6d38453ab9f8fc80ae0776e80f85f39c65e652e5e55d57c3402e1b07956\n",
      "{\"Company\": \"Shanghai Power\", \"Producer\": \"AVARUN.COM\", \"License Number\": \"avarun201800001\", \"Agreement file\": \"Attached\", \"Expiration\": \"2018-12-31\"}\n"
     ]
    }
   ],
   "source": [
    "print(ency_text.decode())\n",
    "print(rs_en_obj.decrypt(ency_text).decode())"
   ]
  },
  {
   "cell_type": "code",
   "execution_count": 32,
   "metadata": {},
   "outputs": [],
   "source": [
    "rs_de_obj = rsadecrypt (prikey)\n",
    "lic_str = rs_de_obj.decrypt(ency_text).decode()"
   ]
  },
  {
   "cell_type": "code",
   "execution_count": 33,
   "metadata": {},
   "outputs": [
    {
     "name": "stdout",
     "output_type": "stream",
     "text": [
      "{\"Company\": \"Shanghai Power\", \"Producer\": \"AVARUN.COM\", \"License Number\": \"avarun201800001\", \"Agreement file\": \"Attached\", \"Expiration\": \"2018-12-31\"}\n"
     ]
    }
   ],
   "source": [
    "print(lic_str)"
   ]
  },
  {
   "cell_type": "code",
   "execution_count": 35,
   "metadata": {},
   "outputs": [
    {
     "name": "stdout",
     "output_type": "stream",
     "text": [
      "2ea1a6b90eb955637b0887920d3df8259fdc52e81606e043a68c114a75667ca8e8ffb6d7908858176778aed012cd5c04273067d79f5c8edc081e6c60104e321a1f865425e83066220992735c35ec6b50d1d23309e006a126ae957c5d8cc0e75ff35a5cc799f2768e9818d34726b35b53f24d6fcd8f4ac7d05f668bbceece8d8ed217988ab477d4e45b7dbf8cc742b8dafe9d3f6e2526022050d103a957d311d9e63e807de7c2c07375a0e7d734e9a8020c08b246c80ff87f17d90f4b0ac43872283b143443ab4cdbdba5405223e1ce1e1eebe70f4fda1006f9d2f240b7a485b2742d58e550ae612e71f6942cfc404806089d03ca0db79d703348b986defbbbc4\n"
     ]
    }
   ],
   "source": [
    "ency_text = rs_en_obj.encrypt(lic_json_str)\n",
    "print(ency_text.decode())"
   ]
  },
  {
   "cell_type": "code",
   "execution_count": 34,
   "metadata": {},
   "outputs": [
    {
     "name": "stdout",
     "output_type": "stream",
     "text": [
      "4599e1eac35d551ff319f49de797c6a0c1a05ce34bda1b51d4e761fd216920e90f9378edbeacba4ad723959e3e9fc04b0337e7dc0041a156d65d2592177a7f49af6218cb10388e861c09560e244997e8d2e0c5e6564c8c44bf0be1e9d47f8f204a0c5930a5f7eb0741c22484a07976ca6e0bd65d01d0ba47764d7e4d10e968ac00a68e77389ac2c73fca8c6d71d03dc69c3bcec0ba44b8ed372033652077b66a83419eca2967d00c4899731e97e4431081950906e58d129ac9406f5c43730ed4414619498709d75e412b6476cb20d21f6e737e6939e90e02df5b0ff53ef03518d93e237362e0e1ff733a81913a2483b737b885ae18243d6aa0e97720f4e77e24\n"
     ]
    }
   ],
   "source": [
    "ency_text_1 = rs_en_obj.encrypt(lic_json_str)\n",
    "print(ency_text.decode())"
   ]
  },
  {
   "cell_type": "code",
   "execution_count": 14,
   "metadata": {},
   "outputs": [],
   "source": [
    "# 私钥签名\n",
    "signature = rsa.sign(lic_json_str.encode(), prikey, 'SHA-256')"
   ]
  },
  {
   "cell_type": "code",
   "execution_count": 15,
   "metadata": {},
   "outputs": [
    {
     "name": "stdout",
     "output_type": "stream",
     "text": [
      "b'71b92586eb52affbec63609e0cb9fb04b72a3bf674406e79b269bf2e589363c9a1cef751e36421fd3924838a35b86db5c4acb3a1e1da2efa050b6f13dbaa2f62275f41da4c4c8b0c59396a34f9e71fdaf41c618a41775629fd3dfae9bb82b7037ce67c3ecde0afa9d3696e298a36e8ebe17855b151bc12fb28e535c45799bd5d170d34f7daea811885b872f95c674077a79b2c0ad0a2c2ed3f703e0719f1a385598c0d2dea73428faf5293b537953313c50187d623b8215c6721075f99af1076c0b106966b61e7c8e204e28e1c85d0dd8016bedc8684b49ab29c17e0a78eddddbdebfe4551dca96c81ec2ea3fa8d1a22da64f16da986baaa66a36b17cb1b89a8'\n"
     ]
    }
   ],
   "source": [
    "print(b2a_hex(signature))"
   ]
  },
  {
   "cell_type": "code",
   "execution_count": 16,
   "metadata": {},
   "outputs": [
    {
     "data": {
      "text/plain": [
       "True"
      ]
     },
     "execution_count": 16,
     "metadata": {},
     "output_type": "execute_result"
    }
   ],
   "source": [
    "rsa.verify(lic_json_str.encode(), signature, pubkey)"
   ]
  },
  {
   "cell_type": "code",
   "execution_count": 17,
   "metadata": {},
   "outputs": [],
   "source": [
    "import hashlib"
   ]
  },
  {
   "cell_type": "code",
   "execution_count": 18,
   "metadata": {},
   "outputs": [],
   "source": [
    "str = \"20181131\""
   ]
  },
  {
   "cell_type": "code",
   "execution_count": 21,
   "metadata": {},
   "outputs": [
    {
     "data": {
      "text/plain": [
       "'9a34b000f6e6cd01709274b03f321eeaee065126'"
      ]
     },
     "execution_count": 21,
     "metadata": {},
     "output_type": "execute_result"
    }
   ],
   "source": [
    "hashlib.sha1(lic_json_str.encode()).hexdigest()"
   ]
  },
  {
   "cell_type": "code",
   "execution_count": 22,
   "metadata": {},
   "outputs": [
    {
     "data": {
      "text/plain": [
       "'7ce72f158a6bb151ab36b88614ae40c3cf385226fe9a2ede6217c5db21745032'"
      ]
     },
     "execution_count": 22,
     "metadata": {},
     "output_type": "execute_result"
    }
   ],
   "source": [
    "hashlib.sha256(lic_json_str.encode()).hexdigest()"
   ]
  },
  {
   "cell_type": "code",
   "execution_count": null,
   "metadata": {},
   "outputs": [],
   "source": []
  }
 ],
 "metadata": {
  "kernelspec": {
   "display_name": "Python 3",
   "language": "python",
   "name": "python3"
  },
  "language_info": {
   "codemirror_mode": {
    "name": "ipython",
    "version": 3
   },
   "file_extension": ".py",
   "mimetype": "text/x-python",
   "name": "python",
   "nbconvert_exporter": "python",
   "pygments_lexer": "ipython3",
   "version": "3.6.5"
  }
 },
 "nbformat": 4,
 "nbformat_minor": 2
}
