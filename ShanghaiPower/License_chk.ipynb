{
 "cells": [
  {
   "cell_type": "code",
   "execution_count": 5,
   "metadata": {},
   "outputs": [],
   "source": [
    "import json\n",
    "import rsa\n",
    "from binascii import b2a_hex, a2b_hex\n",
    "from Crypto.Cipher import AES"
   ]
  },
  {
   "cell_type": "code",
   "execution_count": 2,
   "metadata": {},
   "outputs": [],
   "source": [
    "class rsacrypt():\n",
    "    def __init__(self, pubkey, prikey):\n",
    "        self.pubkey = pubkey\n",
    "        self.prikey = prikey\n",
    "\n",
    "    def encrypt(self, text):\n",
    "        self.ciphertext = rsa.encrypt(text.encode(), self.pubkey)\n",
    "        # 因为rsa加密时候得到的字符串不一定是ascii字符集的，输出到终端或者保存时候可能存在问题\n",
    "        # 所以这里统一把加密后的字符串转化为16进制字符串\n",
    "        return b2a_hex(self.ciphertext)\n",
    "\n",
    "    def decrypt(self, text):\n",
    "        decrypt_text = rsa.decrypt(a2b_hex(text), self.prikey)\n",
    "        return decrypt_text\n",
    "    "
   ]
  },
  {
   "cell_type": "code",
   "execution_count": 3,
   "metadata": {},
   "outputs": [],
   "source": [
    "class rsadecrypt():\n",
    "    def __init__(self, prikey):\n",
    "        self.prikey = prikey\n",
    "\n",
    "    def decrypt(self, text):\n",
    "        # 因为rsa加密时候得到的字符串不一定是ascii字符集的，输出到终端或者保存时候可能存在问题\n",
    "        # 所以这里统一把加密后的字符串转化为16进制字符串        \n",
    "        decrypt_text = rsa.decrypt(a2b_hex(text), self.prikey)\n",
    "        return decrypt_text"
   ]
  },
  {
   "cell_type": "code",
   "execution_count": 29,
   "metadata": {},
   "outputs": [],
   "source": [
    "with open('public.pem','r') as f:\n",
    "    pubkey = rsa.PublicKey.load_pkcs1(f.read().encode())\n",
    "\n",
    "with open('private.pem','r') as f:\n",
    "    prikey = rsa.PrivateKey.load_pkcs1(f.read().encode())  "
   ]
  },
  {
   "cell_type": "code",
   "execution_count": 6,
   "metadata": {},
   "outputs": [],
   "source": [
    "lic = {'Company':'Shanghai Power',\n",
    "       'Producer':'AVARUN.COM',\n",
    "       'License Number':'avarun201800001',\n",
    "       'Agreement file':'Attached',\n",
    "       'Expiration':'2018-10-31'\n",
    "       }\n",
    "    \n",
    "lic_json_str = json.dumps(lic)"
   ]
  },
  {
   "cell_type": "code",
   "execution_count": 7,
   "metadata": {},
   "outputs": [],
   "source": [
    "rs_en_obj = rsacrypt(pubkey,prikey)\n",
    "ency_text = rs_en_obj.encrypt(lic_json_str)"
   ]
  },
  {
   "cell_type": "code",
   "execution_count": 8,
   "metadata": {},
   "outputs": [
    {
     "name": "stdout",
     "output_type": "stream",
     "text": [
      "2805713f64a5326e8d9d6bc50764944e3453d96ca8925dbfdbdf695ddccf9dd6c27aea7e11f12e48889039f9df93d7eb34fe94a2319f78778ba430e08faa1b066f4798632d547d8b7e0810aceff8f2c3709d7efa679cc01fad790d0ed2c3e45b7df97dcc44c7cdaee90d0910a254401248cb681cecbdca19801eddb851eafeeafafd4c61a6942978fdce7bee751cfc9a6cb9ffd1c8d4852470bbe7740f3698c8a2dbe78ec800f267f927d1001dfdd0c4ddf6268db2cd87bd970d12a0050671a8a21274128549270f1ef2e8292301987481670e766b21230d59111901fc93e5877c5dd16422dcd0b629751c20d1098fc28874a0b7b2c40dbb6b64a661913d5e8d\n",
      "{\"Company\": \"Shanghai Power\", \"Producer\": \"AVARUN.COM\", \"License Number\": \"avarun201800001\", \"Agreement file\": \"Attached\", \"Expiration\": \"2018-10-31\"}\n"
     ]
    }
   ],
   "source": [
    "print(ency_text.decode())\n",
    "print(rs_en_obj.decrypt(ency_text).decode())"
   ]
  },
  {
   "cell_type": "code",
   "execution_count": 11,
   "metadata": {},
   "outputs": [],
   "source": [
    "rs_de_obj = rsadecrypt (prikey)\n",
    "lic_str = rs_de_obj.decrypt(ency_text).decode()"
   ]
  },
  {
   "cell_type": "code",
   "execution_count": 12,
   "metadata": {},
   "outputs": [
    {
     "name": "stdout",
     "output_type": "stream",
     "text": [
      "{\"Company\": \"Shanghai Power\", \"Producer\": \"AVARUN.COM\", \"License Number\": \"avarun201800001\", \"Agreement file\": \"Attached\", \"Expiration\": \"2018-12-31\"}\n"
     ]
    }
   ],
   "source": [
    "print(lic_str)"
   ]
  },
  {
   "cell_type": "code",
   "execution_count": 35,
   "metadata": {},
   "outputs": [
    {
     "name": "stdout",
     "output_type": "stream",
     "text": [
      "2ea1a6b90eb955637b0887920d3df8259fdc52e81606e043a68c114a75667ca8e8ffb6d7908858176778aed012cd5c04273067d79f5c8edc081e6c60104e321a1f865425e83066220992735c35ec6b50d1d23309e006a126ae957c5d8cc0e75ff35a5cc799f2768e9818d34726b35b53f24d6fcd8f4ac7d05f668bbceece8d8ed217988ab477d4e45b7dbf8cc742b8dafe9d3f6e2526022050d103a957d311d9e63e807de7c2c07375a0e7d734e9a8020c08b246c80ff87f17d90f4b0ac43872283b143443ab4cdbdba5405223e1ce1e1eebe70f4fda1006f9d2f240b7a485b2742d58e550ae612e71f6942cfc404806089d03ca0db79d703348b986defbbbc4\n"
     ]
    }
   ],
   "source": [
    "ency_text = rs_en_obj.encrypt(lic_json_str)\n",
    "print(ency_text.decode())"
   ]
  },
  {
   "cell_type": "code",
   "execution_count": 34,
   "metadata": {},
   "outputs": [
    {
     "name": "stdout",
     "output_type": "stream",
     "text": [
      "4599e1eac35d551ff319f49de797c6a0c1a05ce34bda1b51d4e761fd216920e90f9378edbeacba4ad723959e3e9fc04b0337e7dc0041a156d65d2592177a7f49af6218cb10388e861c09560e244997e8d2e0c5e6564c8c44bf0be1e9d47f8f204a0c5930a5f7eb0741c22484a07976ca6e0bd65d01d0ba47764d7e4d10e968ac00a68e77389ac2c73fca8c6d71d03dc69c3bcec0ba44b8ed372033652077b66a83419eca2967d00c4899731e97e4431081950906e58d129ac9406f5c43730ed4414619498709d75e412b6476cb20d21f6e737e6939e90e02df5b0ff53ef03518d93e237362e0e1ff733a81913a2483b737b885ae18243d6aa0e97720f4e77e24\n"
     ]
    }
   ],
   "source": [
    "ency_text_1 = rs_en_obj.encrypt(lic_json_str)\n",
    "print(ency_text.decode())"
   ]
  },
  {
   "cell_type": "code",
   "execution_count": 14,
   "metadata": {},
   "outputs": [],
   "source": [
    "# 私钥签名\n",
    "signature = rsa.sign(lic_json_str.encode(), prikey, 'SHA-256')"
   ]
  },
  {
   "cell_type": "code",
   "execution_count": 15,
   "metadata": {},
   "outputs": [
    {
     "name": "stdout",
     "output_type": "stream",
     "text": [
      "b'71b92586eb52affbec63609e0cb9fb04b72a3bf674406e79b269bf2e589363c9a1cef751e36421fd3924838a35b86db5c4acb3a1e1da2efa050b6f13dbaa2f62275f41da4c4c8b0c59396a34f9e71fdaf41c618a41775629fd3dfae9bb82b7037ce67c3ecde0afa9d3696e298a36e8ebe17855b151bc12fb28e535c45799bd5d170d34f7daea811885b872f95c674077a79b2c0ad0a2c2ed3f703e0719f1a385598c0d2dea73428faf5293b537953313c50187d623b8215c6721075f99af1076c0b106966b61e7c8e204e28e1c85d0dd8016bedc8684b49ab29c17e0a78eddddbdebfe4551dca96c81ec2ea3fa8d1a22da64f16da986baaa66a36b17cb1b89a8'\n"
     ]
    }
   ],
   "source": [
    "print(b2a_hex(signature))"
   ]
  },
  {
   "cell_type": "code",
   "execution_count": 16,
   "metadata": {},
   "outputs": [
    {
     "data": {
      "text/plain": [
       "True"
      ]
     },
     "execution_count": 16,
     "metadata": {},
     "output_type": "execute_result"
    }
   ],
   "source": [
    "rsa.verify(lic_json_str.encode(), signature, pubkey)"
   ]
  },
  {
   "cell_type": "code",
   "execution_count": 17,
   "metadata": {},
   "outputs": [],
   "source": [
    "import hashlib"
   ]
  },
  {
   "cell_type": "code",
   "execution_count": 31,
   "metadata": {},
   "outputs": [],
   "source": [
    "str = \"20181131\""
   ]
  },
  {
   "cell_type": "code",
   "execution_count": 21,
   "metadata": {},
   "outputs": [
    {
     "data": {
      "text/plain": [
       "'9a34b000f6e6cd01709274b03f321eeaee065126'"
      ]
     },
     "execution_count": 21,
     "metadata": {},
     "output_type": "execute_result"
    }
   ],
   "source": [
    "hashlib.sha1(lic_json_str.encode()).hexdigest()"
   ]
  },
  {
   "cell_type": "code",
   "execution_count": 22,
   "metadata": {},
   "outputs": [
    {
     "data": {
      "text/plain": [
       "'7ce72f158a6bb151ab36b88614ae40c3cf385226fe9a2ede6217c5db21745032'"
      ]
     },
     "execution_count": 22,
     "metadata": {},
     "output_type": "execute_result"
    }
   ],
   "source": [
    "hashlib.sha256(lic_json_str.encode()).hexdigest()"
   ]
  },
  {
   "cell_type": "code",
   "execution_count": 14,
   "metadata": {},
   "outputs": [
    {
     "data": {
      "text/plain": [
       "'49bdfa644e62a3c66115da3a62bb5171d2b14c5e64b243adc6f939566f1e22445378f7454c8559c55d5e820666af0827be0a1b93638db2029afdcf0e313aa4533530003e7004add62e3bd28d1b5a26448bd064d4c3e6d7f4c09729cefa21224d21485ea7155c9c86df085d9f1fe5fb61a495b7e6d779ad1e050274ddfd69c050e0b17a3d992786c3f53512f2478f16fc383e2b7a95eac77eca73c0d65c90d3639162b38776ec7cbed7656d75a5c0cf11d13825bc62d75ab2e3c18b942ba9b2c3db7e92ce590fa8b9718c0db86b8093044236a522751b80a0976adcb93f70a487dbaafa1704003c3f6efcbe20577863398fe304b4ae7bab792ad40b7bd2cad95e'"
      ]
     },
     "execution_count": 14,
     "metadata": {},
     "output_type": "execute_result"
    }
   ],
   "source": [
    "ency_text.decode()"
   ]
  },
  {
   "cell_type": "code",
   "execution_count": 9,
   "metadata": {},
   "outputs": [],
   "source": [
    "with open('ency.lic','w+') as f:\n",
    "    f.write(ency_text.decode())"
   ]
  },
  {
   "cell_type": "code",
   "execution_count": 17,
   "metadata": {},
   "outputs": [],
   "source": [
    "with open('ency.lic','r') as f:\n",
    "    ency_lic= f.read()"
   ]
  },
  {
   "cell_type": "code",
   "execution_count": 19,
   "metadata": {},
   "outputs": [
    {
     "data": {
      "text/plain": [
       "b'49bdfa644e62a3c66115da3a62bb5171d2b14c5e64b243adc6f939566f1e22445378f7454c8559c55d5e820666af0827be0a1b93638db2029afdcf0e313aa4533530003e7004add62e3bd28d1b5a26448bd064d4c3e6d7f4c09729cefa21224d21485ea7155c9c86df085d9f1fe5fb61a495b7e6d779ad1e050274ddfd69c050e0b17a3d992786c3f53512f2478f16fc383e2b7a95eac77eca73c0d65c90d3639162b38776ec7cbed7656d75a5c0cf11d13825bc62d75ab2e3c18b942ba9b2c3db7e92ce590fa8b9718c0db86b8093044236a522751b80a0976adcb93f70a487dbaafa1704003c3f6efcbe20577863398fe304b4ae7bab792ad40b7bd2cad95e'"
      ]
     },
     "execution_count": 19,
     "metadata": {},
     "output_type": "execute_result"
    }
   ],
   "source": [
    "ency_lic.encode()"
   ]
  },
  {
   "cell_type": "code",
   "execution_count": 25,
   "metadata": {},
   "outputs": [],
   "source": [
    "rs_de_obj = rsadecrypt (prikey)\n",
    "lic_str = rs_de_obj.decrypt(ency_lic.encode()).decode()"
   ]
  },
  {
   "cell_type": "code",
   "execution_count": 26,
   "metadata": {},
   "outputs": [
    {
     "data": {
      "text/plain": [
       "'{\"Company\": \"Shanghai Power\", \"Producer\": \"AVARUN.COM\", \"License Number\": \"avarun201800001\", \"Agreement file\": \"Attached\", \"Expiration\": \"2018-12-31\"}'"
      ]
     },
     "execution_count": 26,
     "metadata": {},
     "output_type": "execute_result"
    }
   ],
   "source": [
    "lic_str"
   ]
  },
  {
   "cell_type": "code",
   "execution_count": 27,
   "metadata": {},
   "outputs": [],
   "source": [
    "lic = json.loads(lic_str)"
   ]
  },
  {
   "cell_type": "code",
   "execution_count": 29,
   "metadata": {},
   "outputs": [
    {
     "data": {
      "text/plain": [
       "'2018-12-31'"
      ]
     },
     "execution_count": 29,
     "metadata": {},
     "output_type": "execute_result"
    }
   ],
   "source": [
    "lic[\"Expiration\"]"
   ]
  },
  {
   "cell_type": "code",
   "execution_count": 16,
   "metadata": {},
   "outputs": [
    {
     "data": {
      "text/plain": [
       "\u001b[0;31mType:\u001b[0m        module\n",
       "\u001b[0;31mString form:\u001b[0m <module 'rsa' from '/home/techstar/anaconda3/lib/python3.6/site-packages/rsa/__init__.py'>\n",
       "\u001b[0;31mFile:\u001b[0m        ~/anaconda3/lib/python3.6/site-packages/rsa/__init__.py\n",
       "\u001b[0;31mDocstring:\u001b[0m  \n",
       "RSA module\n",
       "\n",
       "Module for calculating large primes, and RSA encryption, decryption, signing\n",
       "and verification. Includes generating public and private keys.\n",
       "\n",
       "WARNING: this implementation does not use random padding, compression of the\n",
       "cleartext input to prevent repetitions, or other common security improvements.\n",
       "Use with care.\n"
      ]
     },
     "metadata": {},
     "output_type": "display_data"
    }
   ],
   "source": [
    "rsa?"
   ]
  },
  {
   "cell_type": "code",
   "execution_count": 17,
   "metadata": {},
   "outputs": [],
   "source": [
    "import Crypto as cry"
   ]
  },
  {
   "cell_type": "code",
   "execution_count": 28,
   "metadata": {},
   "outputs": [],
   "source": [
    "with open('pub.key','r') as f:\n",
    "    pub=rsa.PublicKey.load_pkcs1_openssl_pem(f.read().encode())"
   ]
  },
  {
   "cell_type": "code",
   "execution_count": 30,
   "metadata": {},
   "outputs": [
    {
     "data": {
      "text/plain": [
       "True"
      ]
     },
     "execution_count": 30,
     "metadata": {},
     "output_type": "execute_result"
    }
   ],
   "source": [
    "pub ==pubkey"
   ]
  },
  {
   "cell_type": "code",
   "execution_count": 45,
   "metadata": {},
   "outputs": [],
   "source": [
    "en_str =rsa.sign(str.encode(),prikey,'SHA-1')"
   ]
  },
  {
   "cell_type": "code",
   "execution_count": 48,
   "metadata": {},
   "outputs": [
    {
     "data": {
      "text/plain": [
       "True"
      ]
     },
     "execution_count": 48,
     "metadata": {},
     "output_type": "execute_result"
    }
   ],
   "source": [
    "rsa.verify(str.encode(),en_str,pub)"
   ]
  },
  {
   "cell_type": "code",
   "execution_count": 53,
   "metadata": {},
   "outputs": [
    {
     "data": {
      "text/plain": [
       "\u001b[0;31mSignature:\u001b[0m \u001b[0mprikey\u001b[0m\u001b[0;34m.\u001b[0m\u001b[0munblind\u001b[0m\u001b[0;34m(\u001b[0m\u001b[0mblinded\u001b[0m\u001b[0;34m,\u001b[0m \u001b[0mr\u001b[0m\u001b[0;34m)\u001b[0m\u001b[0;34m\u001b[0m\u001b[0m\n",
       "\u001b[0;31mDocstring:\u001b[0m\n",
       "Performs blinding on the message using random number 'r'.\n",
       "\n",
       ":param blinded: the blinded message, as integer, to unblind.\n",
       ":param r: the random number to unblind with.\n",
       ":return: the original message.\n",
       "\n",
       "The blinding is such that message = unblind(decrypt(blind(encrypt(message))).\n",
       "\n",
       "See https://en.wikipedia.org/wiki/Blinding_%28cryptography%29\n",
       "\u001b[0;31mFile:\u001b[0m      ~/anaconda3/lib/python3.6/site-packages/rsa/key.py\n",
       "\u001b[0;31mType:\u001b[0m      method\n"
      ]
     },
     "metadata": {},
     "output_type": "display_data"
    }
   ],
   "source": [
    "prikey.unblind?"
   ]
  },
  {
   "cell_type": "code",
   "execution_count": null,
   "metadata": {},
   "outputs": [],
   "source": []
  }
 ],
 "metadata": {
  "kernelspec": {
   "display_name": "Python 3",
   "language": "python",
   "name": "python3"
  },
  "language_info": {
   "codemirror_mode": {
    "name": "ipython",
    "version": 3
   },
   "file_extension": ".py",
   "mimetype": "text/x-python",
   "name": "python",
   "nbconvert_exporter": "python",
   "pygments_lexer": "ipython3",
   "version": "3.6.5"
  }
 },
 "nbformat": 4,
 "nbformat_minor": 2
}
