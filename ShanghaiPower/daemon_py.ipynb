{
 "cells": [
  {
   "cell_type": "code",
   "execution_count": 1,
   "metadata": {},
   "outputs": [
    {
     "name": "stdout",
     "output_type": "stream",
     "text": [
      "Process (2138) start...\n",
      "I am child process (2138) and my parent is 1966.\n",
      "I (2153) just created a child process (0).\n"
     ]
    }
   ],
   "source": [
    "import os\n",
    "\n",
    "print('Process (%s) start...' % os.getpid())\n",
    "# Only works on Unix/Linux/Mac:\n",
    "pid = os.fork()\n",
    "if pid :\n",
    "    print('I am child process (%s) and my parent is %s.' % (os.getpid(), os.getppid()))\n",
    "else:\n",
    "    print('I (%s) just created a child process (%s).' % (os.getpid(), pid))"
   ]
  },
  {
   "cell_type": "code",
   "execution_count": 4,
   "metadata": {},
   "outputs": [
    {
     "data": {
      "text/plain": [
       "2029"
      ]
     },
     "execution_count": 4,
     "metadata": {},
     "output_type": "execute_result"
    }
   ],
   "source": [
    "pid"
   ]
  },
  {
   "cell_type": "code",
   "execution_count": 5,
   "metadata": {},
   "outputs": [
    {
     "data": {
      "text/plain": [
       "2001"
      ]
     },
     "execution_count": 5,
     "metadata": {},
     "output_type": "execute_result"
    }
   ],
   "source": [
    "os.getpid()"
   ]
  },
  {
   "cell_type": "code",
   "execution_count": 6,
   "metadata": {},
   "outputs": [
    {
     "data": {
      "text/plain": [
       "1966"
      ]
     },
     "execution_count": 6,
     "metadata": {},
     "output_type": "execute_result"
    }
   ],
   "source": [
    "os.getppid()"
   ]
  },
  {
   "cell_type": "code",
   "execution_count": 10,
   "metadata": {},
   "outputs": [
    {
     "name": "stdout",
     "output_type": "stream",
     "text": [
      "Process (2595) start...\n",
      "I (2595) just created a child process (3053).\n",
      "I am child process (3053) and my parent is 2595.\n",
      "Run task (3053)...\n",
      "Task (3053) runs 42.81 seconds.\n"
     ]
    }
   ],
   "source": [
    "import os, time, random\n",
    "print('Process (%s) start...' % os.getpid())\n",
    "# Only works on Unix/Linux/Mac:\n",
    "pid = os.fork()\n",
    "if pid ==0 :\n",
    "    print('I am child process (%s) and my parent is %s.' % (os.getpid(), os.getppid()))\n",
    "    print('Run task (%s)...' % os.getpid())\n",
    "    start = time.time()\n",
    "    time.sleep(random.random() * 50)\n",
    "    end = time.time()\n",
    "    print('Task (%s) runs %0.2f seconds.' % (os.getpid(), (end - start)))    \n",
    "else:\n",
    "    print('I (%s) just created a child process (%s).' % (os.getpid(), pid))"
   ]
  },
  {
   "cell_type": "code",
   "execution_count": 11,
   "metadata": {},
   "outputs": [
    {
     "name": "stdout",
     "output_type": "stream",
     "text": [
      "Parent process 2595.\n",
      "Run task 5 (3100)...\n",
      "Run task 6 (3096)...\n",
      "Run task 4 (3098)...\n",
      "Run task 2 (3095)...\n",
      "Run task 11 (3104)...\n",
      "Run task 8 (3101)...\n",
      "Run task 3 (3097)...\n",
      "Run task 10 (3102)...\n",
      "Run task 7 (3099)...\n",
      "Run task 9 (3103)...\n",
      "Run task 0 (3093)...\n",
      "Run task 1 (3094)...\n",
      "Waiting for all subprocesses done...\n",
      "Task 11 runs 0.73 seconds.\n",
      "Task 6 runs 3.29 seconds.\n",
      "Task 4 runs 3.52 seconds.\n",
      "Task 3 runs 4.46 seconds.\n",
      "Task 8 runs 5.50 seconds.\n",
      "Task 0 runs 5.61 seconds.\n",
      "Task 2 runs 5.92 seconds.\n",
      "Task 1 runs 6.25 seconds.\n",
      "Task 10 runs 7.51 seconds.\n",
      "Task 9 runs 8.22 seconds.\n",
      "Task 5 runs 8.73 seconds.\n",
      "Task 7 runs 9.20 seconds.\n",
      "All subprocesses done.\n"
     ]
    }
   ],
   "source": [
    "from multiprocessing import Pool\n",
    "import os, time, random\n",
    "\n",
    "def long_time_task(name):\n",
    "    print('Run task %s (%s)...' % (name, os.getpid()))\n",
    "    start = time.time()\n",
    "    time.sleep(random.random() * 10)\n",
    "    end = time.time()\n",
    "    print('Task %s runs %0.2f seconds.' % (name, (end - start)))\n",
    "\n",
    "if __name__=='__main__':\n",
    "    print('Parent process %s.' % os.getpid())\n",
    "    p = Pool(12)\n",
    "    for i in range(12):\n",
    "        p.apply_async(long_time_task, args=(i,))\n",
    "    print('Waiting for all subprocesses done...')\n",
    "    p.close()\n",
    "    p.join()\n",
    "    print('All subprocesses done.')"
   ]
  },
  {
   "cell_type": "code",
   "execution_count": null,
   "metadata": {},
   "outputs": [],
   "source": []
  }
 ],
 "metadata": {
  "kernelspec": {
   "display_name": "Python 3",
   "language": "python",
   "name": "python3"
  },
  "language_info": {
   "codemirror_mode": {
    "name": "ipython",
    "version": 3
   },
   "file_extension": ".py",
   "mimetype": "text/x-python",
   "name": "python",
   "nbconvert_exporter": "python",
   "pygments_lexer": "ipython3",
   "version": "3.6.5"
  }
 },
 "nbformat": 4,
 "nbformat_minor": 2
}
