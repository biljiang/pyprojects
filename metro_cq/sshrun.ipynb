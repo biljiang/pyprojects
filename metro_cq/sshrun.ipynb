{
 "cells": [
  {
   "cell_type": "code",
   "execution_count": 2,
   "metadata": {},
   "outputs": [],
   "source": [
    "import paramiko"
   ]
  },
  {
   "cell_type": "code",
   "execution_count": 6,
   "metadata": {},
   "outputs": [
    {
     "name": "stdout",
     "output_type": "stream",
     "text": [
      "something wrong\n",
      "None\n"
     ]
    },
    {
     "name": "stderr",
     "output_type": "stream",
     "text": [
      "/home/techstar/anaconda3/lib/python3.6/site-packages/paramiko/rsakey.py:129: CryptographyDeprecationWarning: signer and verifier have been deprecated. Please use sign and verify instead.\n",
      "  algorithm=hashes.SHA1(),\n"
     ]
    }
   ],
   "source": [
    "def ssh(sys_ip,username,password,cmds):\n",
    "    try:\n",
    "        #创建ssh客户端\n",
    "        client = paramiko.SSHClient()\n",
    "        #第一次ssh远程时会提示输入yes或者no\n",
    "        client.set_missing_host_key_policy(paramiko.AutoAddPolicy())\n",
    "        #密码方式远程连接\n",
    "        client.connect(sys_ip, 22, username=username, password=password, timeout=20)\n",
    "        #互信方式远程连接\n",
    "        #key_file = paramiko.RSAKey.from_private_key_file(\"/root/.ssh/id_rsa\")\n",
    "        #ssh.connect(sys_ip, 22, username=username, pkey=key_file, timeout=20)\n",
    "        #执行命令\n",
    "        stdin, stdout, stderr = ssh.exec_command(cmds[key])\n",
    "        #获取命令执行结果,返回的数据是一个list\n",
    "        result = stdout.readlines()\n",
    "        return result\n",
    "    except :\n",
    "        print (\"something wrong\")\n",
    "    finally:\n",
    "        client.close()\n",
    " \n",
    "if __name__==\"__main__\":\n",
    "    sys_ip = \"192.168.0.93\"\n",
    "    username = \"root\"\n",
    "    password = \"tech@123\"\n",
    "    cmds = \"pwd\"\n",
    "    print (ssh(sys_ip,username,password,cmds))"
   ]
  },
  {
   "cell_type": "code",
   "execution_count": 1,
   "metadata": {},
   "outputs": [
    {
     "name": "stderr",
     "output_type": "stream",
     "text": [
      "/home/techstar/anaconda3/lib/python3.6/site-packages/paramiko/rsakey.py:129: CryptographyDeprecationWarning: signer and verifier have been deprecated. Please use sign and verify instead.\n",
      "  algorithm=hashes.SHA1(),\n"
     ]
    }
   ],
   "source": [
    "# vim remote_run.py\n",
    "import paramiko as pmk\n",
    "\n",
    "pmk.util.log_to_file(\"paramiko.log\")\n",
    "# 新建一个ssh客户端对象\n",
    "myclient = pmk.SSHClient()\n",
    "# 设置成默认自动接受密钥\n",
    "myclient.set_missing_host_key_policy(pmk.AutoAddPolicy())\n",
    "# 连接远程主机\n",
    "myclient.connect(\"m3\", port=22, username=\"root\", password=\"tech@123\")#,allow_agent=False,look_for_keys=False)\n",
    "# 在远程机执行shell命令\n",
    "#stdin, stdout, stderr = myclient.exec_command(\"ls -l\")\n",
    "stdin, stdout, stderr = myclient.exec_command(\"cat /root/metro_cq/sr_input.json | /root/dist/psg_pred/psg_pred\")\n",
    "# 读返回结果\n",
    "for x in stdout.readlines():\n",
    "    print(x)\n",
    "# 在远程机执行python脚本命令\n",
    "#stdin, stdout, stderr = client.exec_command(\"python /home/test.py\")"
   ]
  },
  {
   "cell_type": "code",
   "execution_count": 112,
   "metadata": {},
   "outputs": [
    {
     "name": "stdout",
     "output_type": "stream",
     "text": [
      "['Using TensorFlow backend.\\n']\n"
     ]
    }
   ],
   "source": [
    "print (stderr.readlines())"
   ]
  },
  {
   "cell_type": "code",
   "execution_count": 113,
   "metadata": {},
   "outputs": [],
   "source": [
    "import json\n",
    "import pathlib as pl\n",
    "import pandas as pd\n",
    "filepath = pl.Path(\"/home/techstar/data/pyprojects/metro_cq/sr_input.json\")\n",
    "with open(filepath) as f:\n",
    "    s = json.load(f)\n",
    "#df = pd.read_json(filepath)\n",
    "#df.index = pd.to_datetime(df.index)\n",
    "#s = df.to_json()"
   ]
  },
  {
   "cell_type": "code",
   "execution_count": 117,
   "metadata": {},
   "outputs": [],
   "source": [
    "stdin, stdout, stderr = myclient.exec_command(\"/root/dist/psg_pred/psg_pred\")"
   ]
  },
  {
   "cell_type": "code",
   "execution_count": 118,
   "metadata": {},
   "outputs": [],
   "source": [
    "#stdin.writelines(json.dumps(s)+'\\n')\n",
    "stdin.write(json.dumps(s)+'\\n')"
   ]
  },
  {
   "cell_type": "code",
   "execution_count": 119,
   "metadata": {},
   "outputs": [
    {
     "name": "stdout",
     "output_type": "stream",
     "text": [
      "{\"count\":{\"1485151200000\":9078.7204216421,\"1485153000000\":28649.1180133224,\"1485154800000\":52810.6570286155,\"1485156600000\":92179.8734776974,\"1485158400000\":113196.7406284809,\"1485160200000\":79422.8592684269,\"1485162000000\":52820.0892390013,\"1485163800000\":41569.4340910316,\"1485165600000\":37205.9484556317,\"1485167400000\":35253.0573762655,\"1485169200000\":32262.4113897085,\"1485171000000\":30902.4685614705,\"1485172800000\":32709.8529547453,\"1485174600000\":34683.3268737793,\"1485176400000\":37207.3648493886,\"1485178200000\":37146.8730326891,\"1485180000000\":37186.0738128424,\"1485181800000\":36594.6287443042,\"1485183600000\":38022.4508547187,\"1485185400000\":40699.6745923758,\"1485187200000\":44970.2510461211,\"1485189000000\":51484.3361943364,\"1485190800000\":66571.0022222996,\"1485192600000\":94628.9154868126,\"1485194400000\":86844.9014165401,\"1485196200000\":55998.747610569,\"1485198000000\":37771.7734606266,\"1485199800000\":27987.3375386298,\"1485201600000\":26326.3346628845,\"1485203400000\":24555.891068548,\"1485205200000\":25368.5747589767,\"1485207000000\":21563.6256023645,\"1485208800000\":17437.2366444468,\"1485210600000\":4121.796612151,\"1485212400000\":-458.71296243,\"1485214200000\":-733.7101063728}}\n",
      "\n"
     ]
    }
   ],
   "source": [
    "for x in stdout.readlines():\n",
    "    print(x)"
   ]
  },
  {
   "cell_type": "code",
   "execution_count": 6,
   "metadata": {},
   "outputs": [
    {
     "name": "stdout",
     "output_type": "stream",
     "text": [
      "Dec  2 08:01:01 m3 systemd: Starting Session 39438 of user root.\n",
      "\n",
      "Dec  2 09:01:01 m3 systemd: Started Session 39439 of user root.\n",
      "\n",
      "Dec  2 09:01:01 m3 systemd: Starting Session 39439 of user root.\n",
      "\n",
      "Dec  2 09:12:01 m3 systemd: Starting Cleanup of Temporary Directories...\n",
      "\n",
      "Dec  2 09:12:01 m3 systemd: Started Cleanup of Temporary Directories.\n",
      "\n",
      "Dec  2 10:01:01 m3 systemd: Started Session 39440 of user root.\n",
      "\n",
      "Dec  2 10:01:01 m3 systemd: Starting Session 39440 of user root.\n",
      "\n",
      "Dec  2 10:33:32 m3 systemd: Started Session 39441 of user root.\n",
      "\n",
      "Dec  2 10:33:32 m3 systemd-logind: New session 39441 of user root.\n",
      "\n",
      "Dec  2 10:33:32 m3 systemd: Starting Session 39441 of user root.\n",
      "\n"
     ]
    }
   ],
   "source": [
    "stdin, stdout, stderr = myclient.exec_command(\"tail /var/log/messages\")\n",
    "# 读返回结果\n",
    "for x in stdout.readlines():\n",
    "    print(x)\n",
    "for x in stderr.readlines():\n",
    "    print(x)"
   ]
  },
  {
   "cell_type": "code",
   "execution_count": 106,
   "metadata": {},
   "outputs": [
    {
     "name": "stdout",
     "output_type": "stream",
     "text": [
      "{\"count\":{\"1485151200000\":9078.7204216421,\"1485153000000\":28649.1180133224,\"1485154800000\":52810.6570286155,\"1485156600000\":92179.8734776974,\"1485158400000\":113196.7406284809,\"1485160200000\":79422.8592684269,\"1485162000000\":52820.0892390013,\"1485163800000\":41569.4340910316,\"1485165600000\":37205.9484556317,\"1485167400000\":35253.0573762655,\"1485169200000\":32262.4113897085,\"1485171000000\":30902.4685614705,\"1485172800000\":32709.8529547453,\"1485174600000\":34683.3268737793,\"1485176400000\":37207.3648493886,\"1485178200000\":37146.8730326891,\"1485180000000\":37186.0738128424,\"1485181800000\":36594.6287443042,\"1485183600000\":38022.4508547187,\"1485185400000\":40699.6745923758,\"1485187200000\":44970.2510461211,\"1485189000000\":51484.3361943364,\"1485190800000\":66571.0022222996,\"1485192600000\":94628.9154868126,\"1485194400000\":86844.9014165401,\"1485196200000\":55998.747610569,\"1485198000000\":37771.7734606266,\"1485199800000\":27987.3375386298,\"1485201600000\":26326.3346628845,\"1485203400000\":24555.891068548,\"1485205200000\":25368.5747589767,\"1485207000000\":21563.6256023645,\"1485208800000\":17437.2366444468,\"1485210600000\":4121.796612151,\"1485212400000\":-458.71296243,\"1485214200000\":-733.7101063728}}\n",
      "\n"
     ]
    }
   ],
   "source": [
    "stdin, stdout, stderr = myclient.exec_command(\"cat /root/metro_cq/sr_input.json | /root/dist/psg_pred/psg_pred\")\n",
    "# 读返回结果\n",
    "for x in stdout.readlines():\n",
    "    print(x)"
   ]
  },
  {
   "cell_type": "code",
   "execution_count": null,
   "metadata": {},
   "outputs": [],
   "source": []
  },
  {
   "cell_type": "code",
   "execution_count": 9,
   "metadata": {},
   "outputs": [],
   "source": [
    "myclient.close()"
   ]
  },
  {
   "cell_type": "code",
   "execution_count": 84,
   "metadata": {},
   "outputs": [
    {
     "name": "stdout",
     "output_type": "stream",
     "text": [
      "{\"count\": {\"1484546400000\": 9120, \"1484548200000\": 27253, \"1484550000000\": 52049, \"1484551800000\": 90725, \"1484553600000\": 111189, \"1484555400000\": 81708, \"1484557200000\": 57157, \"1484559000000\": 48194, \"1484560800000\": 44295, \"1484562600000\": 40870, \"1484564400000\": 39219, \"1484566200000\": 37168, \"1484568000000\": 38305, \"1484569800000\": 38766, \"1484571600000\": 43148, \"1484573400000\": 44113, \"1484575200000\": 43719, \"1484577000000\": 43027, \"1484578800000\": 42343, \"1484580600000\": 43742, \"1484582400000\": 46219, \"1484584200000\": 50455, \"1484586000000\": 65468, \"1484587800000\": 92737, \"1484589600000\": 86278, \"1484591400000\": 57406, \"1484593200000\": 41785, \"1484595000000\": 34219, \"1484596800000\": 29956, \"1484598600000\": 27692, \"1484600400000\": 27025, \"1484602200000\": 23674, \"1484604000000\": 18139, \"1484605800000\": 4678, \"1484607600000\": 836, \"1484609400000\": 110, \"1484632800000\": 8100, \"1484634600000\": 24433, \"1484636400000\": 48071, \"1484638200000\": 87879, \"1484640000000\": 108764, \"1484641800000\": 80095, \"1484643600000\": 57299, \"1484645400000\": 48431, \"1484647200000\": 44371, \"1484649000000\": 41636, \"1484650800000\": 38902, \"1484652600000\": 36575, \"1484654400000\": 38521, \"1484656200000\": 40557, \"1484658000000\": 44568, \"1484659800000\": 45486, \"1484661600000\": 45277, \"1484663400000\": 43979, \"1484665200000\": 43903, \"1484667000000\": 45854, \"1484668800000\": 47971, \"1484670600000\": 53674, \"1484672400000\": 68704, \"1484674200000\": 94442, \"1484676000000\": 87137, \"1484677800000\": 55431, \"1484679600000\": 41248, \"1484681400000\": 32488, \"1484683200000\": 30048, \"1484685000000\": 28303, \"1484686800000\": 27740, \"1484688600000\": 24068, \"1484690400000\": 18145, \"1484692200000\": 5382, \"1484694000000\": 826, \"1484695800000\": 101, \"1484719200000\": 8014, \"1484721000000\": 24562, \"1484722800000\": 47473, \"1484724600000\": 84590, \"1484726400000\": 106763, \"1484728200000\": 79206, \"1484730000000\": 54093, \"1484731800000\": 47099, \"1484733600000\": 44589, \"1484735400000\": 42791, \"1484737200000\": 40774, \"1484739000000\": 38098, \"1484740800000\": 38347, \"1484742600000\": 39581, \"1484744400000\": 44661, \"1484746200000\": 45660, \"1484748000000\": 45042, \"1484749800000\": 42541, \"1484751600000\": 43404, \"1484753400000\": 45060, \"1484755200000\": 47152, \"1484757000000\": 52202, \"1484758800000\": 67437, \"1484760600000\": 92540, \"1484762400000\": 86151, \"1484764200000\": 56001, \"1484766000000\": 41715, \"1484767800000\": 35068, \"1484769600000\": 32608, \"1484771400000\": 29538, \"1484773200000\": 29136, \"1484775000000\": 26571, \"1484776800000\": 19911, \"1484778600000\": 5459, \"1484780400000\": 893, \"1484782200000\": 90, \"1484805600000\": 7550, \"1484807400000\": 23254, \"1484809200000\": 45655, \"1484811000000\": 84286, \"1484812800000\": 105532, \"1484814600000\": 79575, \"1484816400000\": 56062, \"1484818200000\": 49716, \"1484820000000\": 45360, \"1484821800000\": 43047, \"1484823600000\": 40764, \"1484825400000\": 37326, \"1484827200000\": 38365, \"1484829000000\": 39542, \"1484830800000\": 44360, \"1484832600000\": 45732, \"1484834400000\": 44192, \"1484836200000\": 43503, \"1484838000000\": 44644, \"1484839800000\": 46263, \"1484841600000\": 47912, \"1484843400000\": 52079, \"1484845200000\": 67162, \"1484847000000\": 90731, \"1484848800000\": 84199, \"1484850600000\": 54261, \"1484852400000\": 40594, \"1484854200000\": 33900, \"1484856000000\": 31915, \"1484857800000\": 30009, \"1484859600000\": 29447, \"1484861400000\": 26624, \"1484863200000\": 20095, \"1484865000000\": 5746, \"1484866800000\": 954, \"1484868600000\": 112, \"1484892000000\": 7427, \"1484893800000\": 22490, \"1484895600000\": 44659, \"1484897400000\": 82247, \"1484899200000\": 103539, \"1484901000000\": 78572, \"1484902800000\": 56513, \"1484904600000\": 49404, \"1484906400000\": 46371, \"1484908200000\": 43691, \"1484910000000\": 42617, \"1484911800000\": 39293, \"1484913600000\": 40299, \"1484915400000\": 42179, \"1484917200000\": 44767, \"1484919000000\": 46561, \"1484920800000\": 46784, \"1484922600000\": 45708, \"1484924400000\": 47125, \"1484926200000\": 48706, \"1484928000000\": 50745, \"1484929800000\": 55422, \"1484931600000\": 69620, \"1484933400000\": 90321, \"1484935200000\": 82388, \"1484937000000\": 52862, \"1484938800000\": 40110, \"1484940600000\": 34324, \"1484942400000\": 32901, \"1484944200000\": 31880, \"1484946000000\": 30316, \"1484947800000\": 28948, \"1484949600000\": 22779, \"1484951400000\": 7150, \"1484953200000\": 1084, \"1484955000000\": 108}}\n"
     ]
    }
   ],
   "source": [
    "print(json.dumps(s))"
   ]
  },
  {
   "cell_type": "code",
   "execution_count": 8,
   "metadata": {},
   "outputs": [
    {
     "data": {
      "text/plain": [
       "\u001b[0;31mSignature:\u001b[0m \u001b[0mmyclient\u001b[0m\u001b[0;34m.\u001b[0m\u001b[0mexec_command\u001b[0m\u001b[0;34m(\u001b[0m\u001b[0mcommand\u001b[0m\u001b[0;34m,\u001b[0m \u001b[0mbufsize\u001b[0m\u001b[0;34m=\u001b[0m\u001b[0;34m-\u001b[0m\u001b[0;36m1\u001b[0m\u001b[0;34m,\u001b[0m \u001b[0mtimeout\u001b[0m\u001b[0;34m=\u001b[0m\u001b[0;32mNone\u001b[0m\u001b[0;34m,\u001b[0m \u001b[0mget_pty\u001b[0m\u001b[0;34m=\u001b[0m\u001b[0;32mFalse\u001b[0m\u001b[0;34m,\u001b[0m \u001b[0menvironment\u001b[0m\u001b[0;34m=\u001b[0m\u001b[0;32mNone\u001b[0m\u001b[0;34m)\u001b[0m\u001b[0;34m\u001b[0m\u001b[0m\n",
       "\u001b[0;31mDocstring:\u001b[0m\n",
       "Execute a command on the SSH server.  A new `.Channel` is opened and\n",
       "the requested command is executed.  The command's input and output\n",
       "streams are returned as Python ``file``-like objects representing\n",
       "stdin, stdout, and stderr.\n",
       "\n",
       ":param str command: the command to execute\n",
       ":param int bufsize:\n",
       "    interpreted the same way as by the built-in ``file()`` function in\n",
       "    Python\n",
       ":param int timeout:\n",
       "    set command's channel timeout. See `Channel.settimeout`.settimeout\n",
       ":param dict environment:\n",
       "    a dict of shell environment variables, to be merged into the\n",
       "    default environment that the remote command executes within.\n",
       "\n",
       "    .. warning::\n",
       "        Servers may silently reject some environment variables; see the\n",
       "        warning in `.Channel.set_environment_variable` for details.\n",
       "\n",
       ":return:\n",
       "    the stdin, stdout, and stderr of the executing command, as a\n",
       "    3-tuple\n",
       "\n",
       ":raises SSHException: if the server fails to execute the command\n",
       "\u001b[0;31mFile:\u001b[0m      ~/anaconda3/lib/python3.6/site-packages/paramiko/client.py\n",
       "\u001b[0;31mType:\u001b[0m      method\n"
      ]
     },
     "metadata": {},
     "output_type": "display_data"
    }
   ],
   "source": [
    "myclient.exec_command?"
   ]
  },
  {
   "cell_type": "code",
   "execution_count": null,
   "metadata": {},
   "outputs": [],
   "source": []
  }
 ],
 "metadata": {
  "kernelspec": {
   "display_name": "Python 3",
   "language": "python",
   "name": "python3"
  },
  "language_info": {
   "codemirror_mode": {
    "name": "ipython",
    "version": 3
   },
   "file_extension": ".py",
   "mimetype": "text/x-python",
   "name": "python",
   "nbconvert_exporter": "python",
   "pygments_lexer": "ipython3",
   "version": "3.6.5"
  }
 },
 "nbformat": 4,
 "nbformat_minor": 2
}
